{
 "cells": [
  {
   "cell_type": "markdown",
   "metadata": {},
   "source": [
    "## Simpson's Paradox"
   ]
  },
  {
   "cell_type": "markdown",
   "metadata": {},
   "source": [
    "In groups A and B:  \n",
    "mean A < mean B,  \n",
    "but in subgroups    \n",
    "  mean Ax > mean Bx and mean Ay > mean By\n",
    "\n",
    "See [Wikipedia](https://en.wikipedia.org/wiki/Simpson%27s_paradox) for more examples."
   ]
  },
  {
   "cell_type": "markdown",
   "metadata": {},
   "source": [
    "todo: fix description\n",
    "\n",
    "Suppose there is an A/B test of two versions of an app.  \n",
    "Each version gets 1000 users.  \n",
    "The versions are compared by mean value of a certain conversion and questions of uncertainty in conversion estimates (or confidence intervals and statistical significance) are put aside.    \n",
    "\n",
    "Mean conversion rate in group B is higher than A.  \n",
    "Does it mean that version B is better than A? No!  \n",
    "\n",
    "Suppose there are two segments of users in each group (Al, Ar and Bl, Br) that differ in their overall activity and their conversion rate.  \n",
    "For example, they came from different advertising campaigns.  \n",
    "It is possible that conversion rate in group B is higher than A, but conversion rates in subgroups of B are worse than A:\n",
    "\n",
    "$$\n",
    "p_A < p_B\n",
    "\\\\\n",
    "p_{Al} > p_{Bl}\n",
    "\\\\\n",
    "p_{Ar} > p_{Br}.\n",
    "$$  "
   ]
  },
  {
   "cell_type": "markdown",
   "metadata": {},
   "source": [
    "<table>\n",
    "<tr>\n",
    "<td> <img src=\"simpsons_paradox_example1.png\" alt=\"pa<pb, pal<pbl, par<pbr\" style=\"width: 550px;\"/> </td>\n",
    "<td> <img src=\"simpsons_paradox_example2.png\" alt=\"pa<pb, pal>pbl, par>pbr\" style=\"width: 550px;\"/> </td>\n",
    "</tr>\n",
    "</table>\n",
    "</center>"
   ]
  },
  {
   "cell_type": "markdown",
   "metadata": {},
   "source": [
    "An interpretation is following: the segment $r$ is more active than $l$ independent of the version A or B of the app.   \n",
    "Due to uneven traffic distribution group B might get more users of the active segment $r$.  \n",
    "In result, even though version B performs worse for each segment, overall mean in the group B is better than in the A.  "
   ]
  },
  {
   "cell_type": "markdown",
   "metadata": {},
   "source": [
    "From practical standpoint, in A/B tests it is necessary to ensure even distribution and compare tested version for major user segments.  \n",
    "An open question - is there any systematic way to do this regarding each possible segment?"
   ]
  },
  {
   "cell_type": "markdown",
   "metadata": {},
   "source": [
    "### Animation"
   ]
  },
  {
   "cell_type": "code",
   "execution_count": 1,
   "metadata": {},
   "outputs": [],
   "source": [
    "import pandas as pd\n",
    "import numpy as np\n",
    "np.random.seed(7)\n",
    "\n",
    "import scipy.stats as stats\n",
    "import plotly.graph_objects as go\n",
    "from plotly.subplots import make_subplots"
   ]
  },
  {
   "cell_type": "code",
   "execution_count": 16,
   "metadata": {},
   "outputs": [],
   "source": [
    "p_a = 0.45\n",
    "n_a = 1000\n",
    "p_b = 0.55\n",
    "n_b = 1000\n",
    "\n",
    "# key frames\n",
    "# p_ar = 0.47, n_ar = 500, p_br = 0.57, n_br = 500\n",
    "# p_ar = 0.60, n_ar = 500, p_br = 0.57, n_br = 500\n",
    "# p_ar = 0.60, n_ar = 500, p_br = 0.57, n_br = 900\n",
    "# p_ar = 0.60, n_ar = 200, p_br = 0.57, n_br = 900\n",
    "# p_ar = 0.47, n_ar = 200, p_br = 0.57, n_br = 900\n",
    "# p_ar = 0.47, n_ar = 200, p_br = 0.57, n_br = 500\n",
    "# p_ar = 0.47, n_ar = 500, p_br = 0.57, n_br = 500\n",
    "\n",
    "frames = []\n",
    "frames = frames + [(p_ar, 500, 0.57, 500) for p_ar in np.arange(0.47, 0.60, 0.0101)]\n",
    "frames = frames + [(0.60, 500, 0.57, 500)] * 3\n",
    "frames = frames + [(0.60, 500, 0.57, n_br) for n_br in np.arange(500, 901, 20)]\n",
    "frames = frames + [(0.60, 500, 0.57, 900)] * 3\n",
    "frames = frames + [(0.60, n_ar, 0.57, 900) for n_ar in np.arange(500, 199, -20)]\n",
    "frames = frames + [(0.60, 200, 0.57, 900)] * 30\n",
    "frames = frames + [(p_ar, 200, 0.57, 900) for p_ar in np.arange(0.6, 0.47, -0.0101)]\n",
    "frames = frames + [(0.47, 200, 0.57, 900)] * 3\n",
    "frames = frames + [(0.47, 200, 0.57, n_br) for n_br in np.arange(900, 499, -19)]\n",
    "frames = frames + [(0.47, 200, 0.57, 500)] * 3\n",
    "frames = frames + [(0.47, n_ar, 0.57, 500) for n_ar in np.arange(200, 501, 20)]\n",
    "\n",
    "frames = [(p_ar, n_ar, (p_a * n_a - p_ar * n_ar) / (n_a - n_ar), n_a - n_ar,\n",
    "           p_br, n_br, (p_b * n_b - p_br * n_br) / (n_b - n_br), n_b - n_br) \n",
    "           for (p_ar, n_ar, p_br, n_br) in frames]\n",
    "\n",
    "#display(frames[0:5])\n",
    "#print('...')\n",
    "#display(frames[-5:-1])"
   ]
  },
  {
   "cell_type": "code",
   "execution_count": 17,
   "metadata": {},
   "outputs": [
    {
     "data": {
      "application/vnd.plotly.v1+json": {
       "config": {
        "plotlyServerURL": "https://plot.ly"
       },
       "data": [
        {
         "marker": {
          "color": "red"
         },
         "name": "A, Al, Ar",
         "type": "bar",
         "visible": true,
         "width": 0.01,
         "x": [
          0.45
         ],
         "xaxis": "x",
         "y": [
          450
         ],
         "yaxis": "y"
        },
        {
         "marker": {
          "color": "blue"
         },
         "name": "B, Bl, Br",
         "type": "bar",
         "visible": true,
         "width": 0.01,
         "x": [
          0.55
         ],
         "xaxis": "x",
         "y": [
          550
         ],
         "yaxis": "y"
        },
        {
         "marker": {
          "color": "whitesmoke"
         },
         "name": "Not Converted",
         "type": "bar",
         "visible": true,
         "width": 0.01,
         "x": [
          0.45
         ],
         "xaxis": "x",
         "y": [
          550
         ],
         "yaxis": "y"
        },
        {
         "marker": {
          "color": "whitesmoke"
         },
         "name": "Not Converted",
         "showlegend": false,
         "type": "bar",
         "visible": true,
         "width": 0.01,
         "x": [
          0.55
         ],
         "xaxis": "x",
         "y": [
          449.99999999999994
         ],
         "yaxis": "y"
        },
        {
         "marker": {
          "color": "red"
         },
         "name": "Ar",
         "showlegend": false,
         "type": "bar",
         "width": 0.005,
         "x": [
          0.47
         ],
         "xaxis": "x2",
         "y": [
          235
         ],
         "yaxis": "y2"
        },
        {
         "marker": {
          "color": "whitesmoke"
         },
         "name": "Not Converted",
         "showlegend": false,
         "type": "bar",
         "width": 0.005,
         "x": [
          0.47
         ],
         "xaxis": "x2",
         "y": [
          265
         ],
         "yaxis": "y2"
        },
        {
         "marker": {
          "color": "red"
         },
         "name": "Al",
         "showlegend": false,
         "type": "bar",
         "width": 0.005,
         "x": [
          0.43
         ],
         "xaxis": "x2",
         "y": [
          215
         ],
         "yaxis": "y2"
        },
        {
         "marker": {
          "color": "whitesmoke"
         },
         "name": "Not Converted",
         "showlegend": false,
         "type": "bar",
         "width": 0.005,
         "x": [
          0.43
         ],
         "xaxis": "x2",
         "y": [
          285.00000000000006
         ],
         "yaxis": "y2"
        },
        {
         "marker": {
          "color": "blue"
         },
         "name": "Br",
         "showlegend": false,
         "type": "bar",
         "width": 0.005,
         "x": [
          0.57
         ],
         "xaxis": "x2",
         "y": [
          285
         ],
         "yaxis": "y2"
        },
        {
         "marker": {
          "color": "whitesmoke"
         },
         "name": "Not Converted",
         "showlegend": false,
         "type": "bar",
         "width": 0.005,
         "x": [
          0.57
         ],
         "xaxis": "x2",
         "y": [
          215.00000000000003
         ],
         "yaxis": "y2"
        },
        {
         "marker": {
          "color": "blue"
         },
         "name": "Bl",
         "showlegend": false,
         "type": "bar",
         "width": 0.005,
         "x": [
          0.53
         ],
         "xaxis": "x2",
         "y": [
          265
         ],
         "yaxis": "y2"
        },
        {
         "marker": {
          "color": "whitesmoke"
         },
         "name": "Not Converted",
         "showlegend": false,
         "type": "bar",
         "width": 0.005,
         "x": [
          0.53
         ],
         "xaxis": "x2",
         "y": [
          235
         ],
         "yaxis": "y2"
        }
       ],
       "frames": [
        {
         "data": [
          {
           "type": "bar",
           "visible": true
          },
          {
           "type": "bar",
           "visible": true
          },
          {
           "type": "bar",
           "visible": true
          },
          {
           "type": "bar",
           "visible": true
          },
          {
           "type": "bar",
           "x": [
            0.47
           ],
           "y": [
            235
           ]
          },
          {
           "type": "bar",
           "x": [
            0.47
           ],
           "y": [
            265
           ]
          },
          {
           "type": "bar",
           "x": [
            0.43
           ],
           "y": [
            215
           ]
          },
          {
           "type": "bar",
           "x": [
            0.43
           ],
           "y": [
            285.00000000000006
           ]
          },
          {
           "type": "bar",
           "x": [
            0.57
           ],
           "y": [
            285
           ]
          },
          {
           "type": "bar",
           "x": [
            0.57
           ],
           "y": [
            215.00000000000003
           ]
          },
          {
           "type": "bar",
           "x": [
            0.53
           ],
           "y": [
            265
           ]
          },
          {
           "type": "bar",
           "x": [
            0.53
           ],
           "y": [
            235
           ]
          }
         ],
         "layout": {
          "annotations": [
           {
            "align": "center",
            "showarrow": false,
            "text": "p<sub>A</sub> < p<sub>B</sub>",
            "x": 0.94,
            "xref": "x2",
            "y": 850,
            "yref": "y2"
           },
           {
            "align": "center",
            "font": {
             "color": "darkslategrey"
            },
            "showarrow": false,
            "text": "p<sub>Ar</sub> < p<sub>Br</sub>",
            "x": 0.94,
            "xref": "x2",
            "y": 750,
            "yref": "y2"
           },
           {
            "align": "center",
            "font": {
             "color": "darkslategrey"
            },
            "showarrow": false,
            "text": "p<sub>Al</sub> < p<sub>Bl</sub>",
            "x": 0.94,
            "xref": "x2",
            "y": 650,
            "yref": "y2"
           }
          ]
         },
         "traces": [
          0,
          1,
          2,
          3,
          4,
          5,
          6,
          7,
          8,
          9,
          10,
          11
         ]
        },
        {
         "data": [
          {
           "type": "bar",
           "visible": true
          },
          {
           "type": "bar",
           "visible": true
          },
          {
           "type": "bar",
           "visible": true
          },
          {
           "type": "bar",
           "visible": true
          },
          {
           "type": "bar",
           "x": [
            0.48009999999999997
           ],
           "y": [
            240.04999999999998
           ]
          },
          {
           "type": "bar",
           "x": [
            0.48009999999999997
           ],
           "y": [
            259.95
           ]
          },
          {
           "type": "bar",
           "x": [
            0.41990000000000005
           ],
           "y": [
            209.95000000000002
           ]
          },
          {
           "type": "bar",
           "x": [
            0.41990000000000005
           ],
           "y": [
            290.04999999999995
           ]
          },
          {
           "type": "bar",
           "x": [
            0.57
           ],
           "y": [
            285
           ]
          },
          {
           "type": "bar",
           "x": [
            0.57
           ],
           "y": [
            215.00000000000003
           ]
          },
          {
           "type": "bar",
           "x": [
            0.53
           ],
           "y": [
            265
           ]
          },
          {
           "type": "bar",
           "x": [
            0.53
           ],
           "y": [
            235
           ]
          }
         ],
         "layout": {
          "annotations": [
           {
            "align": "center",
            "showarrow": false,
            "text": "p<sub>A</sub> < p<sub>B</sub>",
            "x": 0.94,
            "xref": "x2",
            "y": 850,
            "yref": "y2"
           },
           {
            "align": "center",
            "font": {
             "color": "darkslategrey"
            },
            "showarrow": false,
            "text": "p<sub>Ar</sub> < p<sub>Br</sub>",
            "x": 0.94,
            "xref": "x2",
            "y": 750,
            "yref": "y2"
           },
           {
            "align": "center",
            "font": {
             "color": "darkslategrey"
            },
            "showarrow": false,
            "text": "p<sub>Al</sub> < p<sub>Bl</sub>",
            "x": 0.94,
            "xref": "x2",
            "y": 650,
            "yref": "y2"
           }
          ]
         },
         "traces": [
          0,
          1,
          2,
          3,
          4,
          5,
          6,
          7,
          8,
          9,
          10,
          11
         ]
        },
        {
         "data": [
          {
           "type": "bar",
           "visible": true
          },
          {
           "type": "bar",
           "visible": true
          },
          {
           "type": "bar",
           "visible": true
          },
          {
           "type": "bar",
           "visible": true
          },
          {
           "type": "bar",
           "x": [
            0.49019999999999997
           ],
           "y": [
            245.1
           ]
          },
          {
           "type": "bar",
           "x": [
            0.49019999999999997
           ],
           "y": [
            254.9
           ]
          },
          {
           "type": "bar",
           "x": [
            0.4098
           ],
           "y": [
            204.9
           ]
          },
          {
           "type": "bar",
           "x": [
            0.4098
           ],
           "y": [
            295.1
           ]
          },
          {
           "type": "bar",
           "x": [
            0.57
           ],
           "y": [
            285
           ]
          },
          {
           "type": "bar",
           "x": [
            0.57
           ],
           "y": [
            215.00000000000003
           ]
          },
          {
           "type": "bar",
           "x": [
            0.53
           ],
           "y": [
            265
           ]
          },
          {
           "type": "bar",
           "x": [
            0.53
           ],
           "y": [
            235
           ]
          }
         ],
         "layout": {
          "annotations": [
           {
            "align": "center",
            "showarrow": false,
            "text": "p<sub>A</sub> < p<sub>B</sub>",
            "x": 0.94,
            "xref": "x2",
            "y": 850,
            "yref": "y2"
           },
           {
            "align": "center",
            "font": {
             "color": "darkslategrey"
            },
            "showarrow": false,
            "text": "p<sub>Ar</sub> < p<sub>Br</sub>",
            "x": 0.94,
            "xref": "x2",
            "y": 750,
            "yref": "y2"
           },
           {
            "align": "center",
            "font": {
             "color": "darkslategrey"
            },
            "showarrow": false,
            "text": "p<sub>Al</sub> < p<sub>Bl</sub>",
            "x": 0.94,
            "xref": "x2",
            "y": 650,
            "yref": "y2"
           }
          ]
         },
         "traces": [
          0,
          1,
          2,
          3,
          4,
          5,
          6,
          7,
          8,
          9,
          10,
          11
         ]
        },
        {
         "data": [
          {
           "type": "bar",
           "visible": true
          },
          {
           "type": "bar",
           "visible": true
          },
          {
           "type": "bar",
           "visible": true
          },
          {
           "type": "bar",
           "visible": true
          },
          {
           "type": "bar",
           "x": [
            0.5003
           ],
           "y": [
            250.14999999999998
           ]
          },
          {
           "type": "bar",
           "x": [
            0.5003
           ],
           "y": [
            249.85000000000002
           ]
          },
          {
           "type": "bar",
           "x": [
            0.39970000000000006
           ],
           "y": [
            199.85000000000002
           ]
          },
          {
           "type": "bar",
           "x": [
            0.39970000000000006
           ],
           "y": [
            300.15
           ]
          },
          {
           "type": "bar",
           "x": [
            0.57
           ],
           "y": [
            285
           ]
          },
          {
           "type": "bar",
           "x": [
            0.57
           ],
           "y": [
            215.00000000000003
           ]
          },
          {
           "type": "bar",
           "x": [
            0.53
           ],
           "y": [
            265
           ]
          },
          {
           "type": "bar",
           "x": [
            0.53
           ],
           "y": [
            235
           ]
          }
         ],
         "layout": {
          "annotations": [
           {
            "align": "center",
            "showarrow": false,
            "text": "p<sub>A</sub> < p<sub>B</sub>",
            "x": 0.94,
            "xref": "x2",
            "y": 850,
            "yref": "y2"
           },
           {
            "align": "center",
            "font": {
             "color": "darkslategrey"
            },
            "showarrow": false,
            "text": "p<sub>Ar</sub> < p<sub>Br</sub>",
            "x": 0.94,
            "xref": "x2",
            "y": 750,
            "yref": "y2"
           },
           {
            "align": "center",
            "font": {
             "color": "darkslategrey"
            },
            "showarrow": false,
            "text": "p<sub>Al</sub> < p<sub>Bl</sub>",
            "x": 0.94,
            "xref": "x2",
            "y": 650,
            "yref": "y2"
           }
          ]
         },
         "traces": [
          0,
          1,
          2,
          3,
          4,
          5,
          6,
          7,
          8,
          9,
          10,
          11
         ]
        },
        {
         "data": [
          {
           "type": "bar",
           "visible": true
          },
          {
           "type": "bar",
           "visible": true
          },
          {
           "type": "bar",
           "visible": true
          },
          {
           "type": "bar",
           "visible": true
          },
          {
           "type": "bar",
           "x": [
            0.5104
           ],
           "y": [
            255.2
           ]
          },
          {
           "type": "bar",
           "x": [
            0.5104
           ],
           "y": [
            244.8
           ]
          },
          {
           "type": "bar",
           "x": [
            0.3896
           ],
           "y": [
            194.8
           ]
          },
          {
           "type": "bar",
           "x": [
            0.3896
           ],
           "y": [
            305.20000000000005
           ]
          },
          {
           "type": "bar",
           "x": [
            0.57
           ],
           "y": [
            285
           ]
          },
          {
           "type": "bar",
           "x": [
            0.57
           ],
           "y": [
            215.00000000000003
           ]
          },
          {
           "type": "bar",
           "x": [
            0.53
           ],
           "y": [
            265
           ]
          },
          {
           "type": "bar",
           "x": [
            0.53
           ],
           "y": [
            235
           ]
          }
         ],
         "layout": {
          "annotations": [
           {
            "align": "center",
            "showarrow": false,
            "text": "p<sub>A</sub> < p<sub>B</sub>",
            "x": 0.94,
            "xref": "x2",
            "y": 850,
            "yref": "y2"
           },
           {
            "align": "center",
            "font": {
             "color": "darkslategrey"
            },
            "showarrow": false,
            "text": "p<sub>Ar</sub> < p<sub>Br</sub>",
            "x": 0.94,
            "xref": "x2",
            "y": 750,
            "yref": "y2"
           },
           {
            "align": "center",
            "font": {
             "color": "darkslategrey"
            },
            "showarrow": false,
            "text": "p<sub>Al</sub> < p<sub>Bl</sub>",
            "x": 0.94,
            "xref": "x2",
            "y": 650,
            "yref": "y2"
           }
          ]
         },
         "traces": [
          0,
          1,
          2,
          3,
          4,
          5,
          6,
          7,
          8,
          9,
          10,
          11
         ]
        },
        {
         "data": [
          {
           "type": "bar",
           "visible": true
          },
          {
           "type": "bar",
           "visible": true
          },
          {
           "type": "bar",
           "visible": true
          },
          {
           "type": "bar",
           "visible": true
          },
          {
           "type": "bar",
           "x": [
            0.5205
           ],
           "y": [
            260.25
           ]
          },
          {
           "type": "bar",
           "x": [
            0.5205
           ],
           "y": [
            239.75000000000003
           ]
          },
          {
           "type": "bar",
           "x": [
            0.3795
           ],
           "y": [
            189.75
           ]
          },
          {
           "type": "bar",
           "x": [
            0.3795
           ],
           "y": [
            310.25
           ]
          },
          {
           "type": "bar",
           "x": [
            0.57
           ],
           "y": [
            285
           ]
          },
          {
           "type": "bar",
           "x": [
            0.57
           ],
           "y": [
            215.00000000000003
           ]
          },
          {
           "type": "bar",
           "x": [
            0.53
           ],
           "y": [
            265
           ]
          },
          {
           "type": "bar",
           "x": [
            0.53
           ],
           "y": [
            235
           ]
          }
         ],
         "layout": {
          "annotations": [
           {
            "align": "center",
            "showarrow": false,
            "text": "p<sub>A</sub> < p<sub>B</sub>",
            "x": 0.94,
            "xref": "x2",
            "y": 850,
            "yref": "y2"
           },
           {
            "align": "center",
            "font": {
             "color": "darkslategrey"
            },
            "showarrow": false,
            "text": "p<sub>Ar</sub> < p<sub>Br</sub>",
            "x": 0.94,
            "xref": "x2",
            "y": 750,
            "yref": "y2"
           },
           {
            "align": "center",
            "font": {
             "color": "darkslategrey"
            },
            "showarrow": false,
            "text": "p<sub>Al</sub> < p<sub>Bl</sub>",
            "x": 0.94,
            "xref": "x2",
            "y": 650,
            "yref": "y2"
           }
          ]
         },
         "traces": [
          0,
          1,
          2,
          3,
          4,
          5,
          6,
          7,
          8,
          9,
          10,
          11
         ]
        },
        {
         "data": [
          {
           "type": "bar",
           "visible": true
          },
          {
           "type": "bar",
           "visible": true
          },
          {
           "type": "bar",
           "visible": true
          },
          {
           "type": "bar",
           "visible": true
          },
          {
           "type": "bar",
           "x": [
            0.5306
           ],
           "y": [
            265.29999999999995
           ]
          },
          {
           "type": "bar",
           "x": [
            0.5306
           ],
           "y": [
            234.70000000000002
           ]
          },
          {
           "type": "bar",
           "x": [
            0.3694000000000001
           ],
           "y": [
            184.70000000000005
           ]
          },
          {
           "type": "bar",
           "x": [
            0.3694000000000001
           ],
           "y": [
            315.2999999999999
           ]
          },
          {
           "type": "bar",
           "x": [
            0.57
           ],
           "y": [
            285
           ]
          },
          {
           "type": "bar",
           "x": [
            0.57
           ],
           "y": [
            215.00000000000003
           ]
          },
          {
           "type": "bar",
           "x": [
            0.53
           ],
           "y": [
            265
           ]
          },
          {
           "type": "bar",
           "x": [
            0.53
           ],
           "y": [
            235
           ]
          }
         ],
         "layout": {
          "annotations": [
           {
            "align": "center",
            "showarrow": false,
            "text": "p<sub>A</sub> < p<sub>B</sub>",
            "x": 0.94,
            "xref": "x2",
            "y": 850,
            "yref": "y2"
           },
           {
            "align": "center",
            "font": {
             "color": "darkslategrey"
            },
            "showarrow": false,
            "text": "p<sub>Ar</sub> < p<sub>Br</sub>",
            "x": 0.94,
            "xref": "x2",
            "y": 750,
            "yref": "y2"
           },
           {
            "align": "center",
            "font": {
             "color": "darkslategrey"
            },
            "showarrow": false,
            "text": "p<sub>Al</sub> < p<sub>Bl</sub>",
            "x": 0.94,
            "xref": "x2",
            "y": 650,
            "yref": "y2"
           }
          ]
         },
         "traces": [
          0,
          1,
          2,
          3,
          4,
          5,
          6,
          7,
          8,
          9,
          10,
          11
         ]
        },
        {
         "data": [
          {
           "type": "bar",
           "visible": true
          },
          {
           "type": "bar",
           "visible": true
          },
          {
           "type": "bar",
           "visible": true
          },
          {
           "type": "bar",
           "visible": true
          },
          {
           "type": "bar",
           "x": [
            0.5407
           ],
           "y": [
            270.34999999999997
           ]
          },
          {
           "type": "bar",
           "x": [
            0.5407
           ],
           "y": [
            229.65000000000003
           ]
          },
          {
           "type": "bar",
           "x": [
            0.35930000000000006
           ],
           "y": [
            179.65000000000003
           ]
          },
          {
           "type": "bar",
           "x": [
            0.35930000000000006
           ],
           "y": [
            320.34999999999997
           ]
          },
          {
           "type": "bar",
           "x": [
            0.57
           ],
           "y": [
            285
           ]
          },
          {
           "type": "bar",
           "x": [
            0.57
           ],
           "y": [
            215.00000000000003
           ]
          },
          {
           "type": "bar",
           "x": [
            0.53
           ],
           "y": [
            265
           ]
          },
          {
           "type": "bar",
           "x": [
            0.53
           ],
           "y": [
            235
           ]
          }
         ],
         "layout": {
          "annotations": [
           {
            "align": "center",
            "showarrow": false,
            "text": "p<sub>A</sub> < p<sub>B</sub>",
            "x": 0.94,
            "xref": "x2",
            "y": 850,
            "yref": "y2"
           },
           {
            "align": "center",
            "font": {
             "color": "darkslategrey"
            },
            "showarrow": false,
            "text": "p<sub>Ar</sub> < p<sub>Br</sub>",
            "x": 0.94,
            "xref": "x2",
            "y": 750,
            "yref": "y2"
           },
           {
            "align": "center",
            "font": {
             "color": "darkslategrey"
            },
            "showarrow": false,
            "text": "p<sub>Al</sub> < p<sub>Bl</sub>",
            "x": 0.94,
            "xref": "x2",
            "y": 650,
            "yref": "y2"
           }
          ]
         },
         "traces": [
          0,
          1,
          2,
          3,
          4,
          5,
          6,
          7,
          8,
          9,
          10,
          11
         ]
        },
        {
         "data": [
          {
           "type": "bar",
           "visible": true
          },
          {
           "type": "bar",
           "visible": true
          },
          {
           "type": "bar",
           "visible": true
          },
          {
           "type": "bar",
           "visible": true
          },
          {
           "type": "bar",
           "x": [
            0.5508
           ],
           "y": [
            275.4
           ]
          },
          {
           "type": "bar",
           "x": [
            0.5508
           ],
           "y": [
            224.60000000000002
           ]
          },
          {
           "type": "bar",
           "x": [
            0.34920000000000007
           ],
           "y": [
            174.60000000000002
           ]
          },
          {
           "type": "bar",
           "x": [
            0.34920000000000007
           ],
           "y": [
            325.4
           ]
          },
          {
           "type": "bar",
           "x": [
            0.57
           ],
           "y": [
            285
           ]
          },
          {
           "type": "bar",
           "x": [
            0.57
           ],
           "y": [
            215.00000000000003
           ]
          },
          {
           "type": "bar",
           "x": [
            0.53
           ],
           "y": [
            265
           ]
          },
          {
           "type": "bar",
           "x": [
            0.53
           ],
           "y": [
            235
           ]
          }
         ],
         "layout": {
          "annotations": [
           {
            "align": "center",
            "showarrow": false,
            "text": "p<sub>A</sub> < p<sub>B</sub>",
            "x": 0.94,
            "xref": "x2",
            "y": 850,
            "yref": "y2"
           },
           {
            "align": "center",
            "font": {
             "color": "darkslategrey"
            },
            "showarrow": false,
            "text": "p<sub>Ar</sub> < p<sub>Br</sub>",
            "x": 0.94,
            "xref": "x2",
            "y": 750,
            "yref": "y2"
           },
           {
            "align": "center",
            "font": {
             "color": "darkslategrey"
            },
            "showarrow": false,
            "text": "p<sub>Al</sub> < p<sub>Bl</sub>",
            "x": 0.94,
            "xref": "x2",
            "y": 650,
            "yref": "y2"
           }
          ]
         },
         "traces": [
          0,
          1,
          2,
          3,
          4,
          5,
          6,
          7,
          8,
          9,
          10,
          11
         ]
        },
        {
         "data": [
          {
           "type": "bar",
           "visible": true
          },
          {
           "type": "bar",
           "visible": true
          },
          {
           "type": "bar",
           "visible": true
          },
          {
           "type": "bar",
           "visible": true
          },
          {
           "type": "bar",
           "x": [
            0.5609
           ],
           "y": [
            280.45
           ]
          },
          {
           "type": "bar",
           "x": [
            0.5609
           ],
           "y": [
            219.55
           ]
          },
          {
           "type": "bar",
           "x": [
            0.3391
           ],
           "y": [
            169.55
           ]
          },
          {
           "type": "bar",
           "x": [
            0.3391
           ],
           "y": [
            330.45000000000005
           ]
          },
          {
           "type": "bar",
           "x": [
            0.57
           ],
           "y": [
            285
           ]
          },
          {
           "type": "bar",
           "x": [
            0.57
           ],
           "y": [
            215.00000000000003
           ]
          },
          {
           "type": "bar",
           "x": [
            0.53
           ],
           "y": [
            265
           ]
          },
          {
           "type": "bar",
           "x": [
            0.53
           ],
           "y": [
            235
           ]
          }
         ],
         "layout": {
          "annotations": [
           {
            "align": "center",
            "showarrow": false,
            "text": "p<sub>A</sub> < p<sub>B</sub>",
            "x": 0.94,
            "xref": "x2",
            "y": 850,
            "yref": "y2"
           },
           {
            "align": "center",
            "font": {
             "color": "darkslategrey"
            },
            "showarrow": false,
            "text": "p<sub>Ar</sub> < p<sub>Br</sub>",
            "x": 0.94,
            "xref": "x2",
            "y": 750,
            "yref": "y2"
           },
           {
            "align": "center",
            "font": {
             "color": "darkslategrey"
            },
            "showarrow": false,
            "text": "p<sub>Al</sub> < p<sub>Bl</sub>",
            "x": 0.94,
            "xref": "x2",
            "y": 650,
            "yref": "y2"
           }
          ]
         },
         "traces": [
          0,
          1,
          2,
          3,
          4,
          5,
          6,
          7,
          8,
          9,
          10,
          11
         ]
        },
        {
         "data": [
          {
           "type": "bar",
           "visible": true
          },
          {
           "type": "bar",
           "visible": true
          },
          {
           "type": "bar",
           "visible": true
          },
          {
           "type": "bar",
           "visible": true
          },
          {
           "type": "bar",
           "x": [
            0.571
           ],
           "y": [
            285.5
           ]
          },
          {
           "type": "bar",
           "x": [
            0.571
           ],
           "y": [
            214.50000000000003
           ]
          },
          {
           "type": "bar",
           "x": [
            0.329
           ],
           "y": [
            164.5
           ]
          },
          {
           "type": "bar",
           "x": [
            0.329
           ],
           "y": [
            335.5
           ]
          },
          {
           "type": "bar",
           "x": [
            0.57
           ],
           "y": [
            285
           ]
          },
          {
           "type": "bar",
           "x": [
            0.57
           ],
           "y": [
            215.00000000000003
           ]
          },
          {
           "type": "bar",
           "x": [
            0.53
           ],
           "y": [
            265
           ]
          },
          {
           "type": "bar",
           "x": [
            0.53
           ],
           "y": [
            235
           ]
          }
         ],
         "layout": {
          "annotations": [
           {
            "align": "center",
            "showarrow": false,
            "text": "p<sub>A</sub> < p<sub>B</sub>",
            "x": 0.94,
            "xref": "x2",
            "y": 850,
            "yref": "y2"
           },
           {
            "align": "center",
            "font": {
             "color": "red"
            },
            "showarrow": false,
            "text": "p<sub>Ar</sub> > p<sub>Br</sub>",
            "x": 0.94,
            "xref": "x2",
            "y": 750,
            "yref": "y2"
           },
           {
            "align": "center",
            "font": {
             "color": "darkslategrey"
            },
            "showarrow": false,
            "text": "p<sub>Al</sub> < p<sub>Bl</sub>",
            "x": 0.94,
            "xref": "x2",
            "y": 650,
            "yref": "y2"
           }
          ]
         },
         "traces": [
          0,
          1,
          2,
          3,
          4,
          5,
          6,
          7,
          8,
          9,
          10,
          11
         ]
        },
        {
         "data": [
          {
           "type": "bar",
           "visible": true
          },
          {
           "type": "bar",
           "visible": true
          },
          {
           "type": "bar",
           "visible": true
          },
          {
           "type": "bar",
           "visible": true
          },
          {
           "type": "bar",
           "x": [
            0.5811
           ],
           "y": [
            290.54999999999995
           ]
          },
          {
           "type": "bar",
           "x": [
            0.5811
           ],
           "y": [
            209.45000000000002
           ]
          },
          {
           "type": "bar",
           "x": [
            0.3189000000000001
           ],
           "y": [
            159.45000000000005
           ]
          },
          {
           "type": "bar",
           "x": [
            0.3189000000000001
           ],
           "y": [
            340.54999999999995
           ]
          },
          {
           "type": "bar",
           "x": [
            0.57
           ],
           "y": [
            285
           ]
          },
          {
           "type": "bar",
           "x": [
            0.57
           ],
           "y": [
            215.00000000000003
           ]
          },
          {
           "type": "bar",
           "x": [
            0.53
           ],
           "y": [
            265
           ]
          },
          {
           "type": "bar",
           "x": [
            0.53
           ],
           "y": [
            235
           ]
          }
         ],
         "layout": {
          "annotations": [
           {
            "align": "center",
            "showarrow": false,
            "text": "p<sub>A</sub> < p<sub>B</sub>",
            "x": 0.94,
            "xref": "x2",
            "y": 850,
            "yref": "y2"
           },
           {
            "align": "center",
            "font": {
             "color": "red"
            },
            "showarrow": false,
            "text": "p<sub>Ar</sub> > p<sub>Br</sub>",
            "x": 0.94,
            "xref": "x2",
            "y": 750,
            "yref": "y2"
           },
           {
            "align": "center",
            "font": {
             "color": "darkslategrey"
            },
            "showarrow": false,
            "text": "p<sub>Al</sub> < p<sub>Bl</sub>",
            "x": 0.94,
            "xref": "x2",
            "y": 650,
            "yref": "y2"
           }
          ]
         },
         "traces": [
          0,
          1,
          2,
          3,
          4,
          5,
          6,
          7,
          8,
          9,
          10,
          11
         ]
        },
        {
         "data": [
          {
           "type": "bar",
           "visible": true
          },
          {
           "type": "bar",
           "visible": true
          },
          {
           "type": "bar",
           "visible": true
          },
          {
           "type": "bar",
           "visible": true
          },
          {
           "type": "bar",
           "x": [
            0.5912
           ],
           "y": [
            295.59999999999997
           ]
          },
          {
           "type": "bar",
           "x": [
            0.5912
           ],
           "y": [
            204.40000000000003
           ]
          },
          {
           "type": "bar",
           "x": [
            0.3088000000000001
           ],
           "y": [
            154.40000000000003
           ]
          },
          {
           "type": "bar",
           "x": [
            0.3088000000000001
           ],
           "y": [
            345.59999999999997
           ]
          },
          {
           "type": "bar",
           "x": [
            0.57
           ],
           "y": [
            285
           ]
          },
          {
           "type": "bar",
           "x": [
            0.57
           ],
           "y": [
            215.00000000000003
           ]
          },
          {
           "type": "bar",
           "x": [
            0.53
           ],
           "y": [
            265
           ]
          },
          {
           "type": "bar",
           "x": [
            0.53
           ],
           "y": [
            235
           ]
          }
         ],
         "layout": {
          "annotations": [
           {
            "align": "center",
            "showarrow": false,
            "text": "p<sub>A</sub> < p<sub>B</sub>",
            "x": 0.94,
            "xref": "x2",
            "y": 850,
            "yref": "y2"
           },
           {
            "align": "center",
            "font": {
             "color": "red"
            },
            "showarrow": false,
            "text": "p<sub>Ar</sub> > p<sub>Br</sub>",
            "x": 0.94,
            "xref": "x2",
            "y": 750,
            "yref": "y2"
           },
           {
            "align": "center",
            "font": {
             "color": "darkslategrey"
            },
            "showarrow": false,
            "text": "p<sub>Al</sub> < p<sub>Bl</sub>",
            "x": 0.94,
            "xref": "x2",
            "y": 650,
            "yref": "y2"
           }
          ]
         },
         "traces": [
          0,
          1,
          2,
          3,
          4,
          5,
          6,
          7,
          8,
          9,
          10,
          11
         ]
        },
        {
         "data": [
          {
           "type": "bar",
           "visible": true
          },
          {
           "type": "bar",
           "visible": true
          },
          {
           "type": "bar",
           "visible": true
          },
          {
           "type": "bar",
           "visible": true
          },
          {
           "type": "bar",
           "x": [
            0.6
           ],
           "y": [
            300
           ]
          },
          {
           "type": "bar",
           "x": [
            0.6
           ],
           "y": [
            200
           ]
          },
          {
           "type": "bar",
           "x": [
            0.3
           ],
           "y": [
            150
           ]
          },
          {
           "type": "bar",
           "x": [
            0.3
           ],
           "y": [
            350
           ]
          },
          {
           "type": "bar",
           "x": [
            0.57
           ],
           "y": [
            285
           ]
          },
          {
           "type": "bar",
           "x": [
            0.57
           ],
           "y": [
            215.00000000000003
           ]
          },
          {
           "type": "bar",
           "x": [
            0.53
           ],
           "y": [
            265
           ]
          },
          {
           "type": "bar",
           "x": [
            0.53
           ],
           "y": [
            235
           ]
          }
         ],
         "layout": {
          "annotations": [
           {
            "align": "center",
            "showarrow": false,
            "text": "p<sub>A</sub> < p<sub>B</sub>",
            "x": 0.94,
            "xref": "x2",
            "y": 850,
            "yref": "y2"
           },
           {
            "align": "center",
            "font": {
             "color": "red"
            },
            "showarrow": false,
            "text": "p<sub>Ar</sub> > p<sub>Br</sub>",
            "x": 0.94,
            "xref": "x2",
            "y": 750,
            "yref": "y2"
           },
           {
            "align": "center",
            "font": {
             "color": "darkslategrey"
            },
            "showarrow": false,
            "text": "p<sub>Al</sub> < p<sub>Bl</sub>",
            "x": 0.94,
            "xref": "x2",
            "y": 650,
            "yref": "y2"
           }
          ]
         },
         "traces": [
          0,
          1,
          2,
          3,
          4,
          5,
          6,
          7,
          8,
          9,
          10,
          11
         ]
        },
        {
         "data": [
          {
           "type": "bar",
           "visible": true
          },
          {
           "type": "bar",
           "visible": true
          },
          {
           "type": "bar",
           "visible": true
          },
          {
           "type": "bar",
           "visible": true
          },
          {
           "type": "bar",
           "x": [
            0.6
           ],
           "y": [
            300
           ]
          },
          {
           "type": "bar",
           "x": [
            0.6
           ],
           "y": [
            200
           ]
          },
          {
           "type": "bar",
           "x": [
            0.3
           ],
           "y": [
            150
           ]
          },
          {
           "type": "bar",
           "x": [
            0.3
           ],
           "y": [
            350
           ]
          },
          {
           "type": "bar",
           "x": [
            0.57
           ],
           "y": [
            285
           ]
          },
          {
           "type": "bar",
           "x": [
            0.57
           ],
           "y": [
            215.00000000000003
           ]
          },
          {
           "type": "bar",
           "x": [
            0.53
           ],
           "y": [
            265
           ]
          },
          {
           "type": "bar",
           "x": [
            0.53
           ],
           "y": [
            235
           ]
          }
         ],
         "layout": {
          "annotations": [
           {
            "align": "center",
            "showarrow": false,
            "text": "p<sub>A</sub> < p<sub>B</sub>",
            "x": 0.94,
            "xref": "x2",
            "y": 850,
            "yref": "y2"
           },
           {
            "align": "center",
            "font": {
             "color": "red"
            },
            "showarrow": false,
            "text": "p<sub>Ar</sub> > p<sub>Br</sub>",
            "x": 0.94,
            "xref": "x2",
            "y": 750,
            "yref": "y2"
           },
           {
            "align": "center",
            "font": {
             "color": "darkslategrey"
            },
            "showarrow": false,
            "text": "p<sub>Al</sub> < p<sub>Bl</sub>",
            "x": 0.94,
            "xref": "x2",
            "y": 650,
            "yref": "y2"
           }
          ]
         },
         "traces": [
          0,
          1,
          2,
          3,
          4,
          5,
          6,
          7,
          8,
          9,
          10,
          11
         ]
        },
        {
         "data": [
          {
           "type": "bar",
           "visible": true
          },
          {
           "type": "bar",
           "visible": true
          },
          {
           "type": "bar",
           "visible": true
          },
          {
           "type": "bar",
           "visible": true
          },
          {
           "type": "bar",
           "x": [
            0.6
           ],
           "y": [
            300
           ]
          },
          {
           "type": "bar",
           "x": [
            0.6
           ],
           "y": [
            200
           ]
          },
          {
           "type": "bar",
           "x": [
            0.3
           ],
           "y": [
            150
           ]
          },
          {
           "type": "bar",
           "x": [
            0.3
           ],
           "y": [
            350
           ]
          },
          {
           "type": "bar",
           "x": [
            0.57
           ],
           "y": [
            285
           ]
          },
          {
           "type": "bar",
           "x": [
            0.57
           ],
           "y": [
            215.00000000000003
           ]
          },
          {
           "type": "bar",
           "x": [
            0.53
           ],
           "y": [
            265
           ]
          },
          {
           "type": "bar",
           "x": [
            0.53
           ],
           "y": [
            235
           ]
          }
         ],
         "layout": {
          "annotations": [
           {
            "align": "center",
            "showarrow": false,
            "text": "p<sub>A</sub> < p<sub>B</sub>",
            "x": 0.94,
            "xref": "x2",
            "y": 850,
            "yref": "y2"
           },
           {
            "align": "center",
            "font": {
             "color": "red"
            },
            "showarrow": false,
            "text": "p<sub>Ar</sub> > p<sub>Br</sub>",
            "x": 0.94,
            "xref": "x2",
            "y": 750,
            "yref": "y2"
           },
           {
            "align": "center",
            "font": {
             "color": "darkslategrey"
            },
            "showarrow": false,
            "text": "p<sub>Al</sub> < p<sub>Bl</sub>",
            "x": 0.94,
            "xref": "x2",
            "y": 650,
            "yref": "y2"
           }
          ]
         },
         "traces": [
          0,
          1,
          2,
          3,
          4,
          5,
          6,
          7,
          8,
          9,
          10,
          11
         ]
        },
        {
         "data": [
          {
           "type": "bar",
           "visible": true
          },
          {
           "type": "bar",
           "visible": true
          },
          {
           "type": "bar",
           "visible": true
          },
          {
           "type": "bar",
           "visible": true
          },
          {
           "type": "bar",
           "x": [
            0.6
           ],
           "y": [
            300
           ]
          },
          {
           "type": "bar",
           "x": [
            0.6
           ],
           "y": [
            200
           ]
          },
          {
           "type": "bar",
           "x": [
            0.3
           ],
           "y": [
            150
           ]
          },
          {
           "type": "bar",
           "x": [
            0.3
           ],
           "y": [
            350
           ]
          },
          {
           "type": "bar",
           "x": [
            0.57
           ],
           "y": [
            285
           ]
          },
          {
           "type": "bar",
           "x": [
            0.57
           ],
           "y": [
            215.00000000000003
           ]
          },
          {
           "type": "bar",
           "x": [
            0.53
           ],
           "y": [
            265
           ]
          },
          {
           "type": "bar",
           "x": [
            0.53
           ],
           "y": [
            235
           ]
          }
         ],
         "layout": {
          "annotations": [
           {
            "align": "center",
            "showarrow": false,
            "text": "p<sub>A</sub> < p<sub>B</sub>",
            "x": 0.94,
            "xref": "x2",
            "y": 850,
            "yref": "y2"
           },
           {
            "align": "center",
            "font": {
             "color": "red"
            },
            "showarrow": false,
            "text": "p<sub>Ar</sub> > p<sub>Br</sub>",
            "x": 0.94,
            "xref": "x2",
            "y": 750,
            "yref": "y2"
           },
           {
            "align": "center",
            "font": {
             "color": "darkslategrey"
            },
            "showarrow": false,
            "text": "p<sub>Al</sub> < p<sub>Bl</sub>",
            "x": 0.94,
            "xref": "x2",
            "y": 650,
            "yref": "y2"
           }
          ]
         },
         "traces": [
          0,
          1,
          2,
          3,
          4,
          5,
          6,
          7,
          8,
          9,
          10,
          11
         ]
        },
        {
         "data": [
          {
           "type": "bar",
           "visible": true
          },
          {
           "type": "bar",
           "visible": true
          },
          {
           "type": "bar",
           "visible": true
          },
          {
           "type": "bar",
           "visible": true
          },
          {
           "type": "bar",
           "x": [
            0.6
           ],
           "y": [
            300
           ]
          },
          {
           "type": "bar",
           "x": [
            0.6
           ],
           "y": [
            200
           ]
          },
          {
           "type": "bar",
           "x": [
            0.3
           ],
           "y": [
            150
           ]
          },
          {
           "type": "bar",
           "x": [
            0.3
           ],
           "y": [
            350
           ]
          },
          {
           "type": "bar",
           "x": [
            0.57
           ],
           "y": [
            296.4
           ]
          },
          {
           "type": "bar",
           "x": [
            0.57
           ],
           "y": [
            223.60000000000002
           ]
          },
          {
           "type": "bar",
           "x": [
            0.5283333333333334
           ],
           "y": [
            253.60000000000005
           ]
          },
          {
           "type": "bar",
           "x": [
            0.5283333333333334
           ],
           "y": [
            226.39999999999995
           ]
          }
         ],
         "layout": {
          "annotations": [
           {
            "align": "center",
            "showarrow": false,
            "text": "p<sub>A</sub> < p<sub>B</sub>",
            "x": 0.94,
            "xref": "x2",
            "y": 850,
            "yref": "y2"
           },
           {
            "align": "center",
            "font": {
             "color": "red"
            },
            "showarrow": false,
            "text": "p<sub>Ar</sub> > p<sub>Br</sub>",
            "x": 0.94,
            "xref": "x2",
            "y": 750,
            "yref": "y2"
           },
           {
            "align": "center",
            "font": {
             "color": "darkslategrey"
            },
            "showarrow": false,
            "text": "p<sub>Al</sub> < p<sub>Bl</sub>",
            "x": 0.94,
            "xref": "x2",
            "y": 650,
            "yref": "y2"
           }
          ]
         },
         "traces": [
          0,
          1,
          2,
          3,
          4,
          5,
          6,
          7,
          8,
          9,
          10,
          11
         ]
        },
        {
         "data": [
          {
           "type": "bar",
           "visible": true
          },
          {
           "type": "bar",
           "visible": true
          },
          {
           "type": "bar",
           "visible": true
          },
          {
           "type": "bar",
           "visible": true
          },
          {
           "type": "bar",
           "x": [
            0.6
           ],
           "y": [
            300
           ]
          },
          {
           "type": "bar",
           "x": [
            0.6
           ],
           "y": [
            200
           ]
          },
          {
           "type": "bar",
           "x": [
            0.3
           ],
           "y": [
            150
           ]
          },
          {
           "type": "bar",
           "x": [
            0.3
           ],
           "y": [
            350
           ]
          },
          {
           "type": "bar",
           "x": [
            0.57
           ],
           "y": [
            307.79999999999995
           ]
          },
          {
           "type": "bar",
           "x": [
            0.57
           ],
           "y": [
            232.20000000000002
           ]
          },
          {
           "type": "bar",
           "x": [
            0.5265217391304349
           ],
           "y": [
            242.20000000000005
           ]
          },
          {
           "type": "bar",
           "x": [
            0.5265217391304349
           ],
           "y": [
            217.79999999999995
           ]
          }
         ],
         "layout": {
          "annotations": [
           {
            "align": "center",
            "showarrow": false,
            "text": "p<sub>A</sub> < p<sub>B</sub>",
            "x": 0.94,
            "xref": "x2",
            "y": 850,
            "yref": "y2"
           },
           {
            "align": "center",
            "font": {
             "color": "red"
            },
            "showarrow": false,
            "text": "p<sub>Ar</sub> > p<sub>Br</sub>",
            "x": 0.94,
            "xref": "x2",
            "y": 750,
            "yref": "y2"
           },
           {
            "align": "center",
            "font": {
             "color": "darkslategrey"
            },
            "showarrow": false,
            "text": "p<sub>Al</sub> < p<sub>Bl</sub>",
            "x": 0.94,
            "xref": "x2",
            "y": 650,
            "yref": "y2"
           }
          ]
         },
         "traces": [
          0,
          1,
          2,
          3,
          4,
          5,
          6,
          7,
          8,
          9,
          10,
          11
         ]
        },
        {
         "data": [
          {
           "type": "bar",
           "visible": true
          },
          {
           "type": "bar",
           "visible": true
          },
          {
           "type": "bar",
           "visible": true
          },
          {
           "type": "bar",
           "visible": true
          },
          {
           "type": "bar",
           "x": [
            0.6
           ],
           "y": [
            300
           ]
          },
          {
           "type": "bar",
           "x": [
            0.6
           ],
           "y": [
            200
           ]
          },
          {
           "type": "bar",
           "x": [
            0.3
           ],
           "y": [
            150
           ]
          },
          {
           "type": "bar",
           "x": [
            0.3
           ],
           "y": [
            350
           ]
          },
          {
           "type": "bar",
           "x": [
            0.57
           ],
           "y": [
            319.2
           ]
          },
          {
           "type": "bar",
           "x": [
            0.57
           ],
           "y": [
            240.80000000000004
           ]
          },
          {
           "type": "bar",
           "x": [
            0.5245454545454545
           ],
           "y": [
            230.79999999999998
           ]
          },
          {
           "type": "bar",
           "x": [
            0.5245454545454545
           ],
           "y": [
            209.20000000000002
           ]
          }
         ],
         "layout": {
          "annotations": [
           {
            "align": "center",
            "showarrow": false,
            "text": "p<sub>A</sub> < p<sub>B</sub>",
            "x": 0.94,
            "xref": "x2",
            "y": 850,
            "yref": "y2"
           },
           {
            "align": "center",
            "font": {
             "color": "red"
            },
            "showarrow": false,
            "text": "p<sub>Ar</sub> > p<sub>Br</sub>",
            "x": 0.94,
            "xref": "x2",
            "y": 750,
            "yref": "y2"
           },
           {
            "align": "center",
            "font": {
             "color": "darkslategrey"
            },
            "showarrow": false,
            "text": "p<sub>Al</sub> < p<sub>Bl</sub>",
            "x": 0.94,
            "xref": "x2",
            "y": 650,
            "yref": "y2"
           }
          ]
         },
         "traces": [
          0,
          1,
          2,
          3,
          4,
          5,
          6,
          7,
          8,
          9,
          10,
          11
         ]
        },
        {
         "data": [
          {
           "type": "bar",
           "visible": true
          },
          {
           "type": "bar",
           "visible": true
          },
          {
           "type": "bar",
           "visible": true
          },
          {
           "type": "bar",
           "visible": true
          },
          {
           "type": "bar",
           "x": [
            0.6
           ],
           "y": [
            300
           ]
          },
          {
           "type": "bar",
           "x": [
            0.6
           ],
           "y": [
            200
           ]
          },
          {
           "type": "bar",
           "x": [
            0.3
           ],
           "y": [
            150
           ]
          },
          {
           "type": "bar",
           "x": [
            0.3
           ],
           "y": [
            350
           ]
          },
          {
           "type": "bar",
           "x": [
            0.57
           ],
           "y": [
            330.59999999999997
           ]
          },
          {
           "type": "bar",
           "x": [
            0.57
           ],
           "y": [
            249.40000000000003
           ]
          },
          {
           "type": "bar",
           "x": [
            0.5223809523809525
           ],
           "y": [
            219.40000000000006
           ]
          },
          {
           "type": "bar",
           "x": [
            0.5223809523809525
           ],
           "y": [
            200.59999999999994
           ]
          }
         ],
         "layout": {
          "annotations": [
           {
            "align": "center",
            "showarrow": false,
            "text": "p<sub>A</sub> < p<sub>B</sub>",
            "x": 0.94,
            "xref": "x2",
            "y": 850,
            "yref": "y2"
           },
           {
            "align": "center",
            "font": {
             "color": "red"
            },
            "showarrow": false,
            "text": "p<sub>Ar</sub> > p<sub>Br</sub>",
            "x": 0.94,
            "xref": "x2",
            "y": 750,
            "yref": "y2"
           },
           {
            "align": "center",
            "font": {
             "color": "darkslategrey"
            },
            "showarrow": false,
            "text": "p<sub>Al</sub> < p<sub>Bl</sub>",
            "x": 0.94,
            "xref": "x2",
            "y": 650,
            "yref": "y2"
           }
          ]
         },
         "traces": [
          0,
          1,
          2,
          3,
          4,
          5,
          6,
          7,
          8,
          9,
          10,
          11
         ]
        },
        {
         "data": [
          {
           "type": "bar",
           "visible": true
          },
          {
           "type": "bar",
           "visible": true
          },
          {
           "type": "bar",
           "visible": true
          },
          {
           "type": "bar",
           "visible": true
          },
          {
           "type": "bar",
           "x": [
            0.6
           ],
           "y": [
            300
           ]
          },
          {
           "type": "bar",
           "x": [
            0.6
           ],
           "y": [
            200
           ]
          },
          {
           "type": "bar",
           "x": [
            0.3
           ],
           "y": [
            150
           ]
          },
          {
           "type": "bar",
           "x": [
            0.3
           ],
           "y": [
            350
           ]
          },
          {
           "type": "bar",
           "x": [
            0.57
           ],
           "y": [
            341.99999999999994
           ]
          },
          {
           "type": "bar",
           "x": [
            0.57
           ],
           "y": [
            258.00000000000006
           ]
          },
          {
           "type": "bar",
           "x": [
            0.5200000000000001
           ],
           "y": [
            208.00000000000006
           ]
          },
          {
           "type": "bar",
           "x": [
            0.5200000000000001
           ],
           "y": [
            191.99999999999994
           ]
          }
         ],
         "layout": {
          "annotations": [
           {
            "align": "center",
            "showarrow": false,
            "text": "p<sub>A</sub> < p<sub>B</sub>",
            "x": 0.94,
            "xref": "x2",
            "y": 850,
            "yref": "y2"
           },
           {
            "align": "center",
            "font": {
             "color": "red"
            },
            "showarrow": false,
            "text": "p<sub>Ar</sub> > p<sub>Br</sub>",
            "x": 0.94,
            "xref": "x2",
            "y": 750,
            "yref": "y2"
           },
           {
            "align": "center",
            "font": {
             "color": "darkslategrey"
            },
            "showarrow": false,
            "text": "p<sub>Al</sub> < p<sub>Bl</sub>",
            "x": 0.94,
            "xref": "x2",
            "y": 650,
            "yref": "y2"
           }
          ]
         },
         "traces": [
          0,
          1,
          2,
          3,
          4,
          5,
          6,
          7,
          8,
          9,
          10,
          11
         ]
        },
        {
         "data": [
          {
           "type": "bar",
           "visible": true
          },
          {
           "type": "bar",
           "visible": true
          },
          {
           "type": "bar",
           "visible": true
          },
          {
           "type": "bar",
           "visible": true
          },
          {
           "type": "bar",
           "x": [
            0.6
           ],
           "y": [
            300
           ]
          },
          {
           "type": "bar",
           "x": [
            0.6
           ],
           "y": [
            200
           ]
          },
          {
           "type": "bar",
           "x": [
            0.3
           ],
           "y": [
            150
           ]
          },
          {
           "type": "bar",
           "x": [
            0.3
           ],
           "y": [
            350
           ]
          },
          {
           "type": "bar",
           "x": [
            0.57
           ],
           "y": [
            353.4
           ]
          },
          {
           "type": "bar",
           "x": [
            0.57
           ],
           "y": [
            266.6
           ]
          },
          {
           "type": "bar",
           "x": [
            0.5173684210526316
           ],
           "y": [
            196.6
           ]
          },
          {
           "type": "bar",
           "x": [
            0.5173684210526316
           ],
           "y": [
            183.4
           ]
          }
         ],
         "layout": {
          "annotations": [
           {
            "align": "center",
            "showarrow": false,
            "text": "p<sub>A</sub> < p<sub>B</sub>",
            "x": 0.94,
            "xref": "x2",
            "y": 850,
            "yref": "y2"
           },
           {
            "align": "center",
            "font": {
             "color": "red"
            },
            "showarrow": false,
            "text": "p<sub>Ar</sub> > p<sub>Br</sub>",
            "x": 0.94,
            "xref": "x2",
            "y": 750,
            "yref": "y2"
           },
           {
            "align": "center",
            "font": {
             "color": "darkslategrey"
            },
            "showarrow": false,
            "text": "p<sub>Al</sub> < p<sub>Bl</sub>",
            "x": 0.94,
            "xref": "x2",
            "y": 650,
            "yref": "y2"
           }
          ]
         },
         "traces": [
          0,
          1,
          2,
          3,
          4,
          5,
          6,
          7,
          8,
          9,
          10,
          11
         ]
        },
        {
         "data": [
          {
           "type": "bar",
           "visible": true
          },
          {
           "type": "bar",
           "visible": true
          },
          {
           "type": "bar",
           "visible": true
          },
          {
           "type": "bar",
           "visible": true
          },
          {
           "type": "bar",
           "x": [
            0.6
           ],
           "y": [
            300
           ]
          },
          {
           "type": "bar",
           "x": [
            0.6
           ],
           "y": [
            200
           ]
          },
          {
           "type": "bar",
           "x": [
            0.3
           ],
           "y": [
            150
           ]
          },
          {
           "type": "bar",
           "x": [
            0.3
           ],
           "y": [
            350
           ]
          },
          {
           "type": "bar",
           "x": [
            0.57
           ],
           "y": [
            364.79999999999995
           ]
          },
          {
           "type": "bar",
           "x": [
            0.57
           ],
           "y": [
            275.20000000000005
           ]
          },
          {
           "type": "bar",
           "x": [
            0.5144444444444446
           ],
           "y": [
            185.20000000000005
           ]
          },
          {
           "type": "bar",
           "x": [
            0.5144444444444446
           ],
           "y": [
            174.79999999999995
           ]
          }
         ],
         "layout": {
          "annotations": [
           {
            "align": "center",
            "showarrow": false,
            "text": "p<sub>A</sub> < p<sub>B</sub>",
            "x": 0.94,
            "xref": "x2",
            "y": 850,
            "yref": "y2"
           },
           {
            "align": "center",
            "font": {
             "color": "red"
            },
            "showarrow": false,
            "text": "p<sub>Ar</sub> > p<sub>Br</sub>",
            "x": 0.94,
            "xref": "x2",
            "y": 750,
            "yref": "y2"
           },
           {
            "align": "center",
            "font": {
             "color": "darkslategrey"
            },
            "showarrow": false,
            "text": "p<sub>Al</sub> < p<sub>Bl</sub>",
            "x": 0.94,
            "xref": "x2",
            "y": 650,
            "yref": "y2"
           }
          ]
         },
         "traces": [
          0,
          1,
          2,
          3,
          4,
          5,
          6,
          7,
          8,
          9,
          10,
          11
         ]
        },
        {
         "data": [
          {
           "type": "bar",
           "visible": true
          },
          {
           "type": "bar",
           "visible": true
          },
          {
           "type": "bar",
           "visible": true
          },
          {
           "type": "bar",
           "visible": true
          },
          {
           "type": "bar",
           "x": [
            0.6
           ],
           "y": [
            300
           ]
          },
          {
           "type": "bar",
           "x": [
            0.6
           ],
           "y": [
            200
           ]
          },
          {
           "type": "bar",
           "x": [
            0.3
           ],
           "y": [
            150
           ]
          },
          {
           "type": "bar",
           "x": [
            0.3
           ],
           "y": [
            350
           ]
          },
          {
           "type": "bar",
           "x": [
            0.57
           ],
           "y": [
            376.2
           ]
          },
          {
           "type": "bar",
           "x": [
            0.57
           ],
           "y": [
            283.8
           ]
          },
          {
           "type": "bar",
           "x": [
            0.5111764705882353
           ],
           "y": [
            173.8
           ]
          },
          {
           "type": "bar",
           "x": [
            0.5111764705882353
           ],
           "y": [
            166.2
           ]
          }
         ],
         "layout": {
          "annotations": [
           {
            "align": "center",
            "showarrow": false,
            "text": "p<sub>A</sub> < p<sub>B</sub>",
            "x": 0.94,
            "xref": "x2",
            "y": 850,
            "yref": "y2"
           },
           {
            "align": "center",
            "font": {
             "color": "red"
            },
            "showarrow": false,
            "text": "p<sub>Ar</sub> > p<sub>Br</sub>",
            "x": 0.94,
            "xref": "x2",
            "y": 750,
            "yref": "y2"
           },
           {
            "align": "center",
            "font": {
             "color": "darkslategrey"
            },
            "showarrow": false,
            "text": "p<sub>Al</sub> < p<sub>Bl</sub>",
            "x": 0.94,
            "xref": "x2",
            "y": 650,
            "yref": "y2"
           }
          ]
         },
         "traces": [
          0,
          1,
          2,
          3,
          4,
          5,
          6,
          7,
          8,
          9,
          10,
          11
         ]
        },
        {
         "data": [
          {
           "type": "bar",
           "visible": true
          },
          {
           "type": "bar",
           "visible": true
          },
          {
           "type": "bar",
           "visible": true
          },
          {
           "type": "bar",
           "visible": true
          },
          {
           "type": "bar",
           "x": [
            0.6
           ],
           "y": [
            300
           ]
          },
          {
           "type": "bar",
           "x": [
            0.6
           ],
           "y": [
            200
           ]
          },
          {
           "type": "bar",
           "x": [
            0.3
           ],
           "y": [
            150
           ]
          },
          {
           "type": "bar",
           "x": [
            0.3
           ],
           "y": [
            350
           ]
          },
          {
           "type": "bar",
           "x": [
            0.57
           ],
           "y": [
            387.59999999999997
           ]
          },
          {
           "type": "bar",
           "x": [
            0.57
           ],
           "y": [
            292.40000000000003
           ]
          },
          {
           "type": "bar",
           "x": [
            0.5075000000000001
           ],
           "y": [
            162.40000000000003
           ]
          },
          {
           "type": "bar",
           "x": [
            0.5075000000000001
           ],
           "y": [
            157.59999999999997
           ]
          }
         ],
         "layout": {
          "annotations": [
           {
            "align": "center",
            "showarrow": false,
            "text": "p<sub>A</sub> < p<sub>B</sub>",
            "x": 0.94,
            "xref": "x2",
            "y": 850,
            "yref": "y2"
           },
           {
            "align": "center",
            "font": {
             "color": "red"
            },
            "showarrow": false,
            "text": "p<sub>Ar</sub> > p<sub>Br</sub>",
            "x": 0.94,
            "xref": "x2",
            "y": 750,
            "yref": "y2"
           },
           {
            "align": "center",
            "font": {
             "color": "darkslategrey"
            },
            "showarrow": false,
            "text": "p<sub>Al</sub> < p<sub>Bl</sub>",
            "x": 0.94,
            "xref": "x2",
            "y": 650,
            "yref": "y2"
           }
          ]
         },
         "traces": [
          0,
          1,
          2,
          3,
          4,
          5,
          6,
          7,
          8,
          9,
          10,
          11
         ]
        },
        {
         "data": [
          {
           "type": "bar",
           "visible": true
          },
          {
           "type": "bar",
           "visible": true
          },
          {
           "type": "bar",
           "visible": true
          },
          {
           "type": "bar",
           "visible": true
          },
          {
           "type": "bar",
           "x": [
            0.6
           ],
           "y": [
            300
           ]
          },
          {
           "type": "bar",
           "x": [
            0.6
           ],
           "y": [
            200
           ]
          },
          {
           "type": "bar",
           "x": [
            0.3
           ],
           "y": [
            150
           ]
          },
          {
           "type": "bar",
           "x": [
            0.3
           ],
           "y": [
            350
           ]
          },
          {
           "type": "bar",
           "x": [
            0.57
           ],
           "y": [
            398.99999999999994
           ]
          },
          {
           "type": "bar",
           "x": [
            0.57
           ],
           "y": [
            301.00000000000006
           ]
          },
          {
           "type": "bar",
           "x": [
            0.5033333333333335
           ],
           "y": [
            151.00000000000006
           ]
          },
          {
           "type": "bar",
           "x": [
            0.5033333333333335
           ],
           "y": [
            148.99999999999994
           ]
          }
         ],
         "layout": {
          "annotations": [
           {
            "align": "center",
            "showarrow": false,
            "text": "p<sub>A</sub> < p<sub>B</sub>",
            "x": 0.94,
            "xref": "x2",
            "y": 850,
            "yref": "y2"
           },
           {
            "align": "center",
            "font": {
             "color": "red"
            },
            "showarrow": false,
            "text": "p<sub>Ar</sub> > p<sub>Br</sub>",
            "x": 0.94,
            "xref": "x2",
            "y": 750,
            "yref": "y2"
           },
           {
            "align": "center",
            "font": {
             "color": "darkslategrey"
            },
            "showarrow": false,
            "text": "p<sub>Al</sub> < p<sub>Bl</sub>",
            "x": 0.94,
            "xref": "x2",
            "y": 650,
            "yref": "y2"
           }
          ]
         },
         "traces": [
          0,
          1,
          2,
          3,
          4,
          5,
          6,
          7,
          8,
          9,
          10,
          11
         ]
        },
        {
         "data": [
          {
           "type": "bar",
           "visible": true
          },
          {
           "type": "bar",
           "visible": true
          },
          {
           "type": "bar",
           "visible": true
          },
          {
           "type": "bar",
           "visible": true
          },
          {
           "type": "bar",
           "x": [
            0.6
           ],
           "y": [
            300
           ]
          },
          {
           "type": "bar",
           "x": [
            0.6
           ],
           "y": [
            200
           ]
          },
          {
           "type": "bar",
           "x": [
            0.3
           ],
           "y": [
            150
           ]
          },
          {
           "type": "bar",
           "x": [
            0.3
           ],
           "y": [
            350
           ]
          },
          {
           "type": "bar",
           "x": [
            0.57
           ],
           "y": [
            410.4
           ]
          },
          {
           "type": "bar",
           "x": [
            0.57
           ],
           "y": [
            309.6
           ]
          },
          {
           "type": "bar",
           "x": [
            0.49857142857142867
           ],
           "y": [
            139.60000000000002
           ]
          },
          {
           "type": "bar",
           "x": [
            0.49857142857142867
           ],
           "y": [
            140.39999999999998
           ]
          }
         ],
         "layout": {
          "annotations": [
           {
            "align": "center",
            "showarrow": false,
            "text": "p<sub>A</sub> < p<sub>B</sub>",
            "x": 0.94,
            "xref": "x2",
            "y": 850,
            "yref": "y2"
           },
           {
            "align": "center",
            "font": {
             "color": "red"
            },
            "showarrow": false,
            "text": "p<sub>Ar</sub> > p<sub>Br</sub>",
            "x": 0.94,
            "xref": "x2",
            "y": 750,
            "yref": "y2"
           },
           {
            "align": "center",
            "font": {
             "color": "darkslategrey"
            },
            "showarrow": false,
            "text": "p<sub>Al</sub> < p<sub>Bl</sub>",
            "x": 0.94,
            "xref": "x2",
            "y": 650,
            "yref": "y2"
           }
          ]
         },
         "traces": [
          0,
          1,
          2,
          3,
          4,
          5,
          6,
          7,
          8,
          9,
          10,
          11
         ]
        },
        {
         "data": [
          {
           "type": "bar",
           "visible": true
          },
          {
           "type": "bar",
           "visible": true
          },
          {
           "type": "bar",
           "visible": true
          },
          {
           "type": "bar",
           "visible": true
          },
          {
           "type": "bar",
           "x": [
            0.6
           ],
           "y": [
            300
           ]
          },
          {
           "type": "bar",
           "x": [
            0.6
           ],
           "y": [
            200
           ]
          },
          {
           "type": "bar",
           "x": [
            0.3
           ],
           "y": [
            150
           ]
          },
          {
           "type": "bar",
           "x": [
            0.3
           ],
           "y": [
            350
           ]
          },
          {
           "type": "bar",
           "x": [
            0.57
           ],
           "y": [
            421.79999999999995
           ]
          },
          {
           "type": "bar",
           "x": [
            0.57
           ],
           "y": [
            318.20000000000005
           ]
          },
          {
           "type": "bar",
           "x": [
            0.49307692307692325
           ],
           "y": [
            128.20000000000005
           ]
          },
          {
           "type": "bar",
           "x": [
            0.49307692307692325
           ],
           "y": [
            131.79999999999998
           ]
          }
         ],
         "layout": {
          "annotations": [
           {
            "align": "center",
            "showarrow": false,
            "text": "p<sub>A</sub> < p<sub>B</sub>",
            "x": 0.94,
            "xref": "x2",
            "y": 850,
            "yref": "y2"
           },
           {
            "align": "center",
            "font": {
             "color": "red"
            },
            "showarrow": false,
            "text": "p<sub>Ar</sub> > p<sub>Br</sub>",
            "x": 0.94,
            "xref": "x2",
            "y": 750,
            "yref": "y2"
           },
           {
            "align": "center",
            "font": {
             "color": "darkslategrey"
            },
            "showarrow": false,
            "text": "p<sub>Al</sub> < p<sub>Bl</sub>",
            "x": 0.94,
            "xref": "x2",
            "y": 650,
            "yref": "y2"
           }
          ]
         },
         "traces": [
          0,
          1,
          2,
          3,
          4,
          5,
          6,
          7,
          8,
          9,
          10,
          11
         ]
        },
        {
         "data": [
          {
           "type": "bar",
           "visible": true
          },
          {
           "type": "bar",
           "visible": true
          },
          {
           "type": "bar",
           "visible": true
          },
          {
           "type": "bar",
           "visible": true
          },
          {
           "type": "bar",
           "x": [
            0.6
           ],
           "y": [
            300
           ]
          },
          {
           "type": "bar",
           "x": [
            0.6
           ],
           "y": [
            200
           ]
          },
          {
           "type": "bar",
           "x": [
            0.3
           ],
           "y": [
            150
           ]
          },
          {
           "type": "bar",
           "x": [
            0.3
           ],
           "y": [
            350
           ]
          },
          {
           "type": "bar",
           "x": [
            0.57
           ],
           "y": [
            433.2
           ]
          },
          {
           "type": "bar",
           "x": [
            0.57
           ],
           "y": [
            326.8
           ]
          },
          {
           "type": "bar",
           "x": [
            0.4866666666666667
           ],
           "y": [
            116.80000000000001
           ]
          },
          {
           "type": "bar",
           "x": [
            0.4866666666666667
           ],
           "y": [
            123.19999999999999
           ]
          }
         ],
         "layout": {
          "annotations": [
           {
            "align": "center",
            "showarrow": false,
            "text": "p<sub>A</sub> < p<sub>B</sub>",
            "x": 0.94,
            "xref": "x2",
            "y": 850,
            "yref": "y2"
           },
           {
            "align": "center",
            "font": {
             "color": "red"
            },
            "showarrow": false,
            "text": "p<sub>Ar</sub> > p<sub>Br</sub>",
            "x": 0.94,
            "xref": "x2",
            "y": 750,
            "yref": "y2"
           },
           {
            "align": "center",
            "font": {
             "color": "darkslategrey"
            },
            "showarrow": false,
            "text": "p<sub>Al</sub> < p<sub>Bl</sub>",
            "x": 0.94,
            "xref": "x2",
            "y": 650,
            "yref": "y2"
           }
          ]
         },
         "traces": [
          0,
          1,
          2,
          3,
          4,
          5,
          6,
          7,
          8,
          9,
          10,
          11
         ]
        },
        {
         "data": [
          {
           "type": "bar",
           "visible": true
          },
          {
           "type": "bar",
           "visible": true
          },
          {
           "type": "bar",
           "visible": true
          },
          {
           "type": "bar",
           "visible": true
          },
          {
           "type": "bar",
           "x": [
            0.6
           ],
           "y": [
            300
           ]
          },
          {
           "type": "bar",
           "x": [
            0.6
           ],
           "y": [
            200
           ]
          },
          {
           "type": "bar",
           "x": [
            0.3
           ],
           "y": [
            150
           ]
          },
          {
           "type": "bar",
           "x": [
            0.3
           ],
           "y": [
            350
           ]
          },
          {
           "type": "bar",
           "x": [
            0.57
           ],
           "y": [
            444.59999999999997
           ]
          },
          {
           "type": "bar",
           "x": [
            0.57
           ],
           "y": [
            335.40000000000003
           ]
          },
          {
           "type": "bar",
           "x": [
            0.47909090909090923
           ],
           "y": [
            105.40000000000003
           ]
          },
          {
           "type": "bar",
           "x": [
            0.47909090909090923
           ],
           "y": [
            114.59999999999997
           ]
          }
         ],
         "layout": {
          "annotations": [
           {
            "align": "center",
            "showarrow": false,
            "text": "p<sub>A</sub> < p<sub>B</sub>",
            "x": 0.94,
            "xref": "x2",
            "y": 850,
            "yref": "y2"
           },
           {
            "align": "center",
            "font": {
             "color": "red"
            },
            "showarrow": false,
            "text": "p<sub>Ar</sub> > p<sub>Br</sub>",
            "x": 0.94,
            "xref": "x2",
            "y": 750,
            "yref": "y2"
           },
           {
            "align": "center",
            "font": {
             "color": "darkslategrey"
            },
            "showarrow": false,
            "text": "p<sub>Al</sub> < p<sub>Bl</sub>",
            "x": 0.94,
            "xref": "x2",
            "y": 650,
            "yref": "y2"
           }
          ]
         },
         "traces": [
          0,
          1,
          2,
          3,
          4,
          5,
          6,
          7,
          8,
          9,
          10,
          11
         ]
        },
        {
         "data": [
          {
           "type": "bar",
           "visible": true
          },
          {
           "type": "bar",
           "visible": true
          },
          {
           "type": "bar",
           "visible": true
          },
          {
           "type": "bar",
           "visible": true
          },
          {
           "type": "bar",
           "x": [
            0.6
           ],
           "y": [
            300
           ]
          },
          {
           "type": "bar",
           "x": [
            0.6
           ],
           "y": [
            200
           ]
          },
          {
           "type": "bar",
           "x": [
            0.3
           ],
           "y": [
            150
           ]
          },
          {
           "type": "bar",
           "x": [
            0.3
           ],
           "y": [
            350
           ]
          },
          {
           "type": "bar",
           "x": [
            0.57
           ],
           "y": [
            455.99999999999994
           ]
          },
          {
           "type": "bar",
           "x": [
            0.57
           ],
           "y": [
            344.00000000000006
           ]
          },
          {
           "type": "bar",
           "x": [
            0.4700000000000003
           ],
           "y": [
            94.00000000000006
           ]
          },
          {
           "type": "bar",
           "x": [
            0.4700000000000003
           ],
           "y": [
            105.99999999999994
           ]
          }
         ],
         "layout": {
          "annotations": [
           {
            "align": "center",
            "showarrow": false,
            "text": "p<sub>A</sub> < p<sub>B</sub>",
            "x": 0.94,
            "xref": "x2",
            "y": 850,
            "yref": "y2"
           },
           {
            "align": "center",
            "font": {
             "color": "red"
            },
            "showarrow": false,
            "text": "p<sub>Ar</sub> > p<sub>Br</sub>",
            "x": 0.94,
            "xref": "x2",
            "y": 750,
            "yref": "y2"
           },
           {
            "align": "center",
            "font": {
             "color": "darkslategrey"
            },
            "showarrow": false,
            "text": "p<sub>Al</sub> < p<sub>Bl</sub>",
            "x": 0.94,
            "xref": "x2",
            "y": 650,
            "yref": "y2"
           }
          ]
         },
         "traces": [
          0,
          1,
          2,
          3,
          4,
          5,
          6,
          7,
          8,
          9,
          10,
          11
         ]
        },
        {
         "data": [
          {
           "type": "bar",
           "visible": true
          },
          {
           "type": "bar",
           "visible": true
          },
          {
           "type": "bar",
           "visible": true
          },
          {
           "type": "bar",
           "visible": true
          },
          {
           "type": "bar",
           "x": [
            0.6
           ],
           "y": [
            300
           ]
          },
          {
           "type": "bar",
           "x": [
            0.6
           ],
           "y": [
            200
           ]
          },
          {
           "type": "bar",
           "x": [
            0.3
           ],
           "y": [
            150
           ]
          },
          {
           "type": "bar",
           "x": [
            0.3
           ],
           "y": [
            350
           ]
          },
          {
           "type": "bar",
           "x": [
            0.57
           ],
           "y": [
            467.4
           ]
          },
          {
           "type": "bar",
           "x": [
            0.57
           ],
           "y": [
            352.6
           ]
          },
          {
           "type": "bar",
           "x": [
            0.458888888888889
           ],
           "y": [
            82.60000000000002
           ]
          },
          {
           "type": "bar",
           "x": [
            0.458888888888889
           ],
           "y": [
            97.39999999999998
           ]
          }
         ],
         "layout": {
          "annotations": [
           {
            "align": "center",
            "showarrow": false,
            "text": "p<sub>A</sub> < p<sub>B</sub>",
            "x": 0.94,
            "xref": "x2",
            "y": 850,
            "yref": "y2"
           },
           {
            "align": "center",
            "font": {
             "color": "red"
            },
            "showarrow": false,
            "text": "p<sub>Ar</sub> > p<sub>Br</sub>",
            "x": 0.94,
            "xref": "x2",
            "y": 750,
            "yref": "y2"
           },
           {
            "align": "center",
            "font": {
             "color": "darkslategrey"
            },
            "showarrow": false,
            "text": "p<sub>Al</sub> < p<sub>Bl</sub>",
            "x": 0.94,
            "xref": "x2",
            "y": 650,
            "yref": "y2"
           }
          ]
         },
         "traces": [
          0,
          1,
          2,
          3,
          4,
          5,
          6,
          7,
          8,
          9,
          10,
          11
         ]
        },
        {
         "data": [
          {
           "type": "bar",
           "visible": true
          },
          {
           "type": "bar",
           "visible": true
          },
          {
           "type": "bar",
           "visible": true
          },
          {
           "type": "bar",
           "visible": true
          },
          {
           "type": "bar",
           "x": [
            0.6
           ],
           "y": [
            300
           ]
          },
          {
           "type": "bar",
           "x": [
            0.6
           ],
           "y": [
            200
           ]
          },
          {
           "type": "bar",
           "x": [
            0.3
           ],
           "y": [
            150
           ]
          },
          {
           "type": "bar",
           "x": [
            0.3
           ],
           "y": [
            350
           ]
          },
          {
           "type": "bar",
           "x": [
            0.57
           ],
           "y": [
            478.79999999999995
           ]
          },
          {
           "type": "bar",
           "x": [
            0.57
           ],
           "y": [
            361.20000000000005
           ]
          },
          {
           "type": "bar",
           "x": [
            0.4450000000000003
           ],
           "y": [
            71.20000000000005
           ]
          },
          {
           "type": "bar",
           "x": [
            0.4450000000000003
           ],
           "y": [
            88.79999999999995
           ]
          }
         ],
         "layout": {
          "annotations": [
           {
            "align": "center",
            "showarrow": false,
            "text": "p<sub>A</sub> < p<sub>B</sub>",
            "x": 0.94,
            "xref": "x2",
            "y": 850,
            "yref": "y2"
           },
           {
            "align": "center",
            "font": {
             "color": "red"
            },
            "showarrow": false,
            "text": "p<sub>Ar</sub> > p<sub>Br</sub>",
            "x": 0.94,
            "xref": "x2",
            "y": 750,
            "yref": "y2"
           },
           {
            "align": "center",
            "font": {
             "color": "darkslategrey"
            },
            "showarrow": false,
            "text": "p<sub>Al</sub> < p<sub>Bl</sub>",
            "x": 0.94,
            "xref": "x2",
            "y": 650,
            "yref": "y2"
           }
          ]
         },
         "traces": [
          0,
          1,
          2,
          3,
          4,
          5,
          6,
          7,
          8,
          9,
          10,
          11
         ]
        },
        {
         "data": [
          {
           "type": "bar",
           "visible": true
          },
          {
           "type": "bar",
           "visible": true
          },
          {
           "type": "bar",
           "visible": true
          },
          {
           "type": "bar",
           "visible": true
          },
          {
           "type": "bar",
           "x": [
            0.6
           ],
           "y": [
            300
           ]
          },
          {
           "type": "bar",
           "x": [
            0.6
           ],
           "y": [
            200
           ]
          },
          {
           "type": "bar",
           "x": [
            0.3
           ],
           "y": [
            150
           ]
          },
          {
           "type": "bar",
           "x": [
            0.3
           ],
           "y": [
            350
           ]
          },
          {
           "type": "bar",
           "x": [
            0.57
           ],
           "y": [
            490.19999999999993
           ]
          },
          {
           "type": "bar",
           "x": [
            0.57
           ],
           "y": [
            369.80000000000007
           ]
          },
          {
           "type": "bar",
           "x": [
            0.42714285714285766
           ],
           "y": [
            59.800000000000075
           ]
          },
          {
           "type": "bar",
           "x": [
            0.42714285714285766
           ],
           "y": [
            80.19999999999992
           ]
          }
         ],
         "layout": {
          "annotations": [
           {
            "align": "center",
            "showarrow": false,
            "text": "p<sub>A</sub> < p<sub>B</sub>",
            "x": 0.94,
            "xref": "x2",
            "y": 850,
            "yref": "y2"
           },
           {
            "align": "center",
            "font": {
             "color": "red"
            },
            "showarrow": false,
            "text": "p<sub>Ar</sub> > p<sub>Br</sub>",
            "x": 0.94,
            "xref": "x2",
            "y": 750,
            "yref": "y2"
           },
           {
            "align": "center",
            "font": {
             "color": "darkslategrey"
            },
            "showarrow": false,
            "text": "p<sub>Al</sub> < p<sub>Bl</sub>",
            "x": 0.94,
            "xref": "x2",
            "y": 650,
            "yref": "y2"
           }
          ]
         },
         "traces": [
          0,
          1,
          2,
          3,
          4,
          5,
          6,
          7,
          8,
          9,
          10,
          11
         ]
        },
        {
         "data": [
          {
           "type": "bar",
           "visible": true
          },
          {
           "type": "bar",
           "visible": true
          },
          {
           "type": "bar",
           "visible": true
          },
          {
           "type": "bar",
           "visible": true
          },
          {
           "type": "bar",
           "x": [
            0.6
           ],
           "y": [
            300
           ]
          },
          {
           "type": "bar",
           "x": [
            0.6
           ],
           "y": [
            200
           ]
          },
          {
           "type": "bar",
           "x": [
            0.3
           ],
           "y": [
            150
           ]
          },
          {
           "type": "bar",
           "x": [
            0.3
           ],
           "y": [
            350
           ]
          },
          {
           "type": "bar",
           "x": [
            0.57
           ],
           "y": [
            501.59999999999997
           ]
          },
          {
           "type": "bar",
           "x": [
            0.57
           ],
           "y": [
            378.40000000000003
           ]
          },
          {
           "type": "bar",
           "x": [
            0.4033333333333336
           ],
           "y": [
            48.400000000000034
           ]
          },
          {
           "type": "bar",
           "x": [
            0.4033333333333336
           ],
           "y": [
            71.59999999999998
           ]
          }
         ],
         "layout": {
          "annotations": [
           {
            "align": "center",
            "showarrow": false,
            "text": "p<sub>A</sub> < p<sub>B</sub>",
            "x": 0.94,
            "xref": "x2",
            "y": 850,
            "yref": "y2"
           },
           {
            "align": "center",
            "font": {
             "color": "red"
            },
            "showarrow": false,
            "text": "p<sub>Ar</sub> > p<sub>Br</sub>",
            "x": 0.94,
            "xref": "x2",
            "y": 750,
            "yref": "y2"
           },
           {
            "align": "center",
            "font": {
             "color": "darkslategrey"
            },
            "showarrow": false,
            "text": "p<sub>Al</sub> < p<sub>Bl</sub>",
            "x": 0.94,
            "xref": "x2",
            "y": 650,
            "yref": "y2"
           }
          ]
         },
         "traces": [
          0,
          1,
          2,
          3,
          4,
          5,
          6,
          7,
          8,
          9,
          10,
          11
         ]
        },
        {
         "data": [
          {
           "type": "bar",
           "visible": true
          },
          {
           "type": "bar",
           "visible": true
          },
          {
           "type": "bar",
           "visible": true
          },
          {
           "type": "bar",
           "visible": true
          },
          {
           "type": "bar",
           "x": [
            0.6
           ],
           "y": [
            300
           ]
          },
          {
           "type": "bar",
           "x": [
            0.6
           ],
           "y": [
            200
           ]
          },
          {
           "type": "bar",
           "x": [
            0.3
           ],
           "y": [
            150
           ]
          },
          {
           "type": "bar",
           "x": [
            0.3
           ],
           "y": [
            350
           ]
          },
          {
           "type": "bar",
           "x": [
            0.57
           ],
           "y": [
            513
           ]
          },
          {
           "type": "bar",
           "x": [
            0.57
           ],
           "y": [
            387.00000000000006
           ]
          },
          {
           "type": "bar",
           "x": [
            0.37
           ],
           "y": [
            37
           ]
          },
          {
           "type": "bar",
           "x": [
            0.37
           ],
           "y": [
            63
           ]
          }
         ],
         "layout": {
          "annotations": [
           {
            "align": "center",
            "showarrow": false,
            "text": "p<sub>A</sub> < p<sub>B</sub>",
            "x": 0.94,
            "xref": "x2",
            "y": 850,
            "yref": "y2"
           },
           {
            "align": "center",
            "font": {
             "color": "red"
            },
            "showarrow": false,
            "text": "p<sub>Ar</sub> > p<sub>Br</sub>",
            "x": 0.94,
            "xref": "x2",
            "y": 750,
            "yref": "y2"
           },
           {
            "align": "center",
            "font": {
             "color": "darkslategrey"
            },
            "showarrow": false,
            "text": "p<sub>Al</sub> < p<sub>Bl</sub>",
            "x": 0.94,
            "xref": "x2",
            "y": 650,
            "yref": "y2"
           }
          ]
         },
         "traces": [
          0,
          1,
          2,
          3,
          4,
          5,
          6,
          7,
          8,
          9,
          10,
          11
         ]
        },
        {
         "data": [
          {
           "type": "bar",
           "visible": true
          },
          {
           "type": "bar",
           "visible": true
          },
          {
           "type": "bar",
           "visible": true
          },
          {
           "type": "bar",
           "visible": true
          },
          {
           "type": "bar",
           "x": [
            0.6
           ],
           "y": [
            300
           ]
          },
          {
           "type": "bar",
           "x": [
            0.6
           ],
           "y": [
            200
           ]
          },
          {
           "type": "bar",
           "x": [
            0.3
           ],
           "y": [
            150
           ]
          },
          {
           "type": "bar",
           "x": [
            0.3
           ],
           "y": [
            350
           ]
          },
          {
           "type": "bar",
           "x": [
            0.57
           ],
           "y": [
            513
           ]
          },
          {
           "type": "bar",
           "x": [
            0.57
           ],
           "y": [
            387.00000000000006
           ]
          },
          {
           "type": "bar",
           "x": [
            0.37
           ],
           "y": [
            37
           ]
          },
          {
           "type": "bar",
           "x": [
            0.37
           ],
           "y": [
            63
           ]
          }
         ],
         "layout": {
          "annotations": [
           {
            "align": "center",
            "showarrow": false,
            "text": "p<sub>A</sub> < p<sub>B</sub>",
            "x": 0.94,
            "xref": "x2",
            "y": 850,
            "yref": "y2"
           },
           {
            "align": "center",
            "font": {
             "color": "red"
            },
            "showarrow": false,
            "text": "p<sub>Ar</sub> > p<sub>Br</sub>",
            "x": 0.94,
            "xref": "x2",
            "y": 750,
            "yref": "y2"
           },
           {
            "align": "center",
            "font": {
             "color": "darkslategrey"
            },
            "showarrow": false,
            "text": "p<sub>Al</sub> < p<sub>Bl</sub>",
            "x": 0.94,
            "xref": "x2",
            "y": 650,
            "yref": "y2"
           }
          ]
         },
         "traces": [
          0,
          1,
          2,
          3,
          4,
          5,
          6,
          7,
          8,
          9,
          10,
          11
         ]
        },
        {
         "data": [
          {
           "type": "bar",
           "visible": true
          },
          {
           "type": "bar",
           "visible": true
          },
          {
           "type": "bar",
           "visible": true
          },
          {
           "type": "bar",
           "visible": true
          },
          {
           "type": "bar",
           "x": [
            0.6
           ],
           "y": [
            300
           ]
          },
          {
           "type": "bar",
           "x": [
            0.6
           ],
           "y": [
            200
           ]
          },
          {
           "type": "bar",
           "x": [
            0.3
           ],
           "y": [
            150
           ]
          },
          {
           "type": "bar",
           "x": [
            0.3
           ],
           "y": [
            350
           ]
          },
          {
           "type": "bar",
           "x": [
            0.57
           ],
           "y": [
            513
           ]
          },
          {
           "type": "bar",
           "x": [
            0.57
           ],
           "y": [
            387.00000000000006
           ]
          },
          {
           "type": "bar",
           "x": [
            0.37
           ],
           "y": [
            37
           ]
          },
          {
           "type": "bar",
           "x": [
            0.37
           ],
           "y": [
            63
           ]
          }
         ],
         "layout": {
          "annotations": [
           {
            "align": "center",
            "showarrow": false,
            "text": "p<sub>A</sub> < p<sub>B</sub>",
            "x": 0.94,
            "xref": "x2",
            "y": 850,
            "yref": "y2"
           },
           {
            "align": "center",
            "font": {
             "color": "red"
            },
            "showarrow": false,
            "text": "p<sub>Ar</sub> > p<sub>Br</sub>",
            "x": 0.94,
            "xref": "x2",
            "y": 750,
            "yref": "y2"
           },
           {
            "align": "center",
            "font": {
             "color": "darkslategrey"
            },
            "showarrow": false,
            "text": "p<sub>Al</sub> < p<sub>Bl</sub>",
            "x": 0.94,
            "xref": "x2",
            "y": 650,
            "yref": "y2"
           }
          ]
         },
         "traces": [
          0,
          1,
          2,
          3,
          4,
          5,
          6,
          7,
          8,
          9,
          10,
          11
         ]
        },
        {
         "data": [
          {
           "type": "bar",
           "visible": true
          },
          {
           "type": "bar",
           "visible": true
          },
          {
           "type": "bar",
           "visible": true
          },
          {
           "type": "bar",
           "visible": true
          },
          {
           "type": "bar",
           "x": [
            0.6
           ],
           "y": [
            300
           ]
          },
          {
           "type": "bar",
           "x": [
            0.6
           ],
           "y": [
            200
           ]
          },
          {
           "type": "bar",
           "x": [
            0.3
           ],
           "y": [
            150
           ]
          },
          {
           "type": "bar",
           "x": [
            0.3
           ],
           "y": [
            350
           ]
          },
          {
           "type": "bar",
           "x": [
            0.57
           ],
           "y": [
            513
           ]
          },
          {
           "type": "bar",
           "x": [
            0.57
           ],
           "y": [
            387.00000000000006
           ]
          },
          {
           "type": "bar",
           "x": [
            0.37
           ],
           "y": [
            37
           ]
          },
          {
           "type": "bar",
           "x": [
            0.37
           ],
           "y": [
            63
           ]
          }
         ],
         "layout": {
          "annotations": [
           {
            "align": "center",
            "showarrow": false,
            "text": "p<sub>A</sub> < p<sub>B</sub>",
            "x": 0.94,
            "xref": "x2",
            "y": 850,
            "yref": "y2"
           },
           {
            "align": "center",
            "font": {
             "color": "red"
            },
            "showarrow": false,
            "text": "p<sub>Ar</sub> > p<sub>Br</sub>",
            "x": 0.94,
            "xref": "x2",
            "y": 750,
            "yref": "y2"
           },
           {
            "align": "center",
            "font": {
             "color": "darkslategrey"
            },
            "showarrow": false,
            "text": "p<sub>Al</sub> < p<sub>Bl</sub>",
            "x": 0.94,
            "xref": "x2",
            "y": 650,
            "yref": "y2"
           }
          ]
         },
         "traces": [
          0,
          1,
          2,
          3,
          4,
          5,
          6,
          7,
          8,
          9,
          10,
          11
         ]
        },
        {
         "data": [
          {
           "type": "bar",
           "visible": true
          },
          {
           "type": "bar",
           "visible": true
          },
          {
           "type": "bar",
           "visible": true
          },
          {
           "type": "bar",
           "visible": true
          },
          {
           "type": "bar",
           "x": [
            0.6
           ],
           "y": [
            300
           ]
          },
          {
           "type": "bar",
           "x": [
            0.6
           ],
           "y": [
            200
           ]
          },
          {
           "type": "bar",
           "x": [
            0.3
           ],
           "y": [
            150
           ]
          },
          {
           "type": "bar",
           "x": [
            0.3
           ],
           "y": [
            350
           ]
          },
          {
           "type": "bar",
           "x": [
            0.57
           ],
           "y": [
            513
           ]
          },
          {
           "type": "bar",
           "x": [
            0.57
           ],
           "y": [
            387.00000000000006
           ]
          },
          {
           "type": "bar",
           "x": [
            0.37
           ],
           "y": [
            37
           ]
          },
          {
           "type": "bar",
           "x": [
            0.37
           ],
           "y": [
            63
           ]
          }
         ],
         "layout": {
          "annotations": [
           {
            "align": "center",
            "showarrow": false,
            "text": "p<sub>A</sub> < p<sub>B</sub>",
            "x": 0.94,
            "xref": "x2",
            "y": 850,
            "yref": "y2"
           },
           {
            "align": "center",
            "font": {
             "color": "red"
            },
            "showarrow": false,
            "text": "p<sub>Ar</sub> > p<sub>Br</sub>",
            "x": 0.94,
            "xref": "x2",
            "y": 750,
            "yref": "y2"
           },
           {
            "align": "center",
            "font": {
             "color": "darkslategrey"
            },
            "showarrow": false,
            "text": "p<sub>Al</sub> < p<sub>Bl</sub>",
            "x": 0.94,
            "xref": "x2",
            "y": 650,
            "yref": "y2"
           }
          ]
         },
         "traces": [
          0,
          1,
          2,
          3,
          4,
          5,
          6,
          7,
          8,
          9,
          10,
          11
         ]
        },
        {
         "data": [
          {
           "type": "bar",
           "visible": true
          },
          {
           "type": "bar",
           "visible": true
          },
          {
           "type": "bar",
           "visible": true
          },
          {
           "type": "bar",
           "visible": true
          },
          {
           "type": "bar",
           "x": [
            0.6
           ],
           "y": [
            288
           ]
          },
          {
           "type": "bar",
           "x": [
            0.6
           ],
           "y": [
            192
           ]
          },
          {
           "type": "bar",
           "x": [
            0.31153846153846154
           ],
           "y": [
            162
           ]
          },
          {
           "type": "bar",
           "x": [
            0.31153846153846154
           ],
           "y": [
            358
           ]
          },
          {
           "type": "bar",
           "x": [
            0.57
           ],
           "y": [
            513
           ]
          },
          {
           "type": "bar",
           "x": [
            0.57
           ],
           "y": [
            387.00000000000006
           ]
          },
          {
           "type": "bar",
           "x": [
            0.37
           ],
           "y": [
            37
           ]
          },
          {
           "type": "bar",
           "x": [
            0.37
           ],
           "y": [
            63
           ]
          }
         ],
         "layout": {
          "annotations": [
           {
            "align": "center",
            "showarrow": false,
            "text": "p<sub>A</sub> < p<sub>B</sub>",
            "x": 0.94,
            "xref": "x2",
            "y": 850,
            "yref": "y2"
           },
           {
            "align": "center",
            "font": {
             "color": "red"
            },
            "showarrow": false,
            "text": "p<sub>Ar</sub> > p<sub>Br</sub>",
            "x": 0.94,
            "xref": "x2",
            "y": 750,
            "yref": "y2"
           },
           {
            "align": "center",
            "font": {
             "color": "darkslategrey"
            },
            "showarrow": false,
            "text": "p<sub>Al</sub> < p<sub>Bl</sub>",
            "x": 0.94,
            "xref": "x2",
            "y": 650,
            "yref": "y2"
           }
          ]
         },
         "traces": [
          0,
          1,
          2,
          3,
          4,
          5,
          6,
          7,
          8,
          9,
          10,
          11
         ]
        },
        {
         "data": [
          {
           "type": "bar",
           "visible": true
          },
          {
           "type": "bar",
           "visible": true
          },
          {
           "type": "bar",
           "visible": true
          },
          {
           "type": "bar",
           "visible": true
          },
          {
           "type": "bar",
           "x": [
            0.6
           ],
           "y": [
            276
           ]
          },
          {
           "type": "bar",
           "x": [
            0.6
           ],
           "y": [
            184
           ]
          },
          {
           "type": "bar",
           "x": [
            0.32222222222222224
           ],
           "y": [
            174
           ]
          },
          {
           "type": "bar",
           "x": [
            0.32222222222222224
           ],
           "y": [
            366
           ]
          },
          {
           "type": "bar",
           "x": [
            0.57
           ],
           "y": [
            513
           ]
          },
          {
           "type": "bar",
           "x": [
            0.57
           ],
           "y": [
            387.00000000000006
           ]
          },
          {
           "type": "bar",
           "x": [
            0.37
           ],
           "y": [
            37
           ]
          },
          {
           "type": "bar",
           "x": [
            0.37
           ],
           "y": [
            63
           ]
          }
         ],
         "layout": {
          "annotations": [
           {
            "align": "center",
            "showarrow": false,
            "text": "p<sub>A</sub> < p<sub>B</sub>",
            "x": 0.94,
            "xref": "x2",
            "y": 850,
            "yref": "y2"
           },
           {
            "align": "center",
            "font": {
             "color": "red"
            },
            "showarrow": false,
            "text": "p<sub>Ar</sub> > p<sub>Br</sub>",
            "x": 0.94,
            "xref": "x2",
            "y": 750,
            "yref": "y2"
           },
           {
            "align": "center",
            "font": {
             "color": "darkslategrey"
            },
            "showarrow": false,
            "text": "p<sub>Al</sub> < p<sub>Bl</sub>",
            "x": 0.94,
            "xref": "x2",
            "y": 650,
            "yref": "y2"
           }
          ]
         },
         "traces": [
          0,
          1,
          2,
          3,
          4,
          5,
          6,
          7,
          8,
          9,
          10,
          11
         ]
        },
        {
         "data": [
          {
           "type": "bar",
           "visible": true
          },
          {
           "type": "bar",
           "visible": true
          },
          {
           "type": "bar",
           "visible": true
          },
          {
           "type": "bar",
           "visible": true
          },
          {
           "type": "bar",
           "x": [
            0.6
           ],
           "y": [
            264
           ]
          },
          {
           "type": "bar",
           "x": [
            0.6
           ],
           "y": [
            176
           ]
          },
          {
           "type": "bar",
           "x": [
            0.33214285714285713
           ],
           "y": [
            186
           ]
          },
          {
           "type": "bar",
           "x": [
            0.33214285714285713
           ],
           "y": [
            374.00000000000006
           ]
          },
          {
           "type": "bar",
           "x": [
            0.57
           ],
           "y": [
            513
           ]
          },
          {
           "type": "bar",
           "x": [
            0.57
           ],
           "y": [
            387.00000000000006
           ]
          },
          {
           "type": "bar",
           "x": [
            0.37
           ],
           "y": [
            37
           ]
          },
          {
           "type": "bar",
           "x": [
            0.37
           ],
           "y": [
            63
           ]
          }
         ],
         "layout": {
          "annotations": [
           {
            "align": "center",
            "showarrow": false,
            "text": "p<sub>A</sub> < p<sub>B</sub>",
            "x": 0.94,
            "xref": "x2",
            "y": 850,
            "yref": "y2"
           },
           {
            "align": "center",
            "font": {
             "color": "red"
            },
            "showarrow": false,
            "text": "p<sub>Ar</sub> > p<sub>Br</sub>",
            "x": 0.94,
            "xref": "x2",
            "y": 750,
            "yref": "y2"
           },
           {
            "align": "center",
            "font": {
             "color": "darkslategrey"
            },
            "showarrow": false,
            "text": "p<sub>Al</sub> < p<sub>Bl</sub>",
            "x": 0.94,
            "xref": "x2",
            "y": 650,
            "yref": "y2"
           }
          ]
         },
         "traces": [
          0,
          1,
          2,
          3,
          4,
          5,
          6,
          7,
          8,
          9,
          10,
          11
         ]
        },
        {
         "data": [
          {
           "type": "bar",
           "visible": true
          },
          {
           "type": "bar",
           "visible": true
          },
          {
           "type": "bar",
           "visible": true
          },
          {
           "type": "bar",
           "visible": true
          },
          {
           "type": "bar",
           "x": [
            0.6
           ],
           "y": [
            252
           ]
          },
          {
           "type": "bar",
           "x": [
            0.6
           ],
           "y": [
            168
           ]
          },
          {
           "type": "bar",
           "x": [
            0.3413793103448276
           ],
           "y": [
            198
           ]
          },
          {
           "type": "bar",
           "x": [
            0.3413793103448276
           ],
           "y": [
            382
           ]
          },
          {
           "type": "bar",
           "x": [
            0.57
           ],
           "y": [
            513
           ]
          },
          {
           "type": "bar",
           "x": [
            0.57
           ],
           "y": [
            387.00000000000006
           ]
          },
          {
           "type": "bar",
           "x": [
            0.37
           ],
           "y": [
            37
           ]
          },
          {
           "type": "bar",
           "x": [
            0.37
           ],
           "y": [
            63
           ]
          }
         ],
         "layout": {
          "annotations": [
           {
            "align": "center",
            "showarrow": false,
            "text": "p<sub>A</sub> < p<sub>B</sub>",
            "x": 0.94,
            "xref": "x2",
            "y": 850,
            "yref": "y2"
           },
           {
            "align": "center",
            "font": {
             "color": "red"
            },
            "showarrow": false,
            "text": "p<sub>Ar</sub> > p<sub>Br</sub>",
            "x": 0.94,
            "xref": "x2",
            "y": 750,
            "yref": "y2"
           },
           {
            "align": "center",
            "font": {
             "color": "darkslategrey"
            },
            "showarrow": false,
            "text": "p<sub>Al</sub> < p<sub>Bl</sub>",
            "x": 0.94,
            "xref": "x2",
            "y": 650,
            "yref": "y2"
           }
          ]
         },
         "traces": [
          0,
          1,
          2,
          3,
          4,
          5,
          6,
          7,
          8,
          9,
          10,
          11
         ]
        },
        {
         "data": [
          {
           "type": "bar",
           "visible": true
          },
          {
           "type": "bar",
           "visible": true
          },
          {
           "type": "bar",
           "visible": true
          },
          {
           "type": "bar",
           "visible": true
          },
          {
           "type": "bar",
           "x": [
            0.6
           ],
           "y": [
            240
           ]
          },
          {
           "type": "bar",
           "x": [
            0.6
           ],
           "y": [
            160
           ]
          },
          {
           "type": "bar",
           "x": [
            0.35
           ],
           "y": [
            210
           ]
          },
          {
           "type": "bar",
           "x": [
            0.35
           ],
           "y": [
            390
           ]
          },
          {
           "type": "bar",
           "x": [
            0.57
           ],
           "y": [
            513
           ]
          },
          {
           "type": "bar",
           "x": [
            0.57
           ],
           "y": [
            387.00000000000006
           ]
          },
          {
           "type": "bar",
           "x": [
            0.37
           ],
           "y": [
            37
           ]
          },
          {
           "type": "bar",
           "x": [
            0.37
           ],
           "y": [
            63
           ]
          }
         ],
         "layout": {
          "annotations": [
           {
            "align": "center",
            "showarrow": false,
            "text": "p<sub>A</sub> < p<sub>B</sub>",
            "x": 0.94,
            "xref": "x2",
            "y": 850,
            "yref": "y2"
           },
           {
            "align": "center",
            "font": {
             "color": "red"
            },
            "showarrow": false,
            "text": "p<sub>Ar</sub> > p<sub>Br</sub>",
            "x": 0.94,
            "xref": "x2",
            "y": 750,
            "yref": "y2"
           },
           {
            "align": "center",
            "font": {
             "color": "darkslategrey"
            },
            "showarrow": false,
            "text": "p<sub>Al</sub> < p<sub>Bl</sub>",
            "x": 0.94,
            "xref": "x2",
            "y": 650,
            "yref": "y2"
           }
          ]
         },
         "traces": [
          0,
          1,
          2,
          3,
          4,
          5,
          6,
          7,
          8,
          9,
          10,
          11
         ]
        },
        {
         "data": [
          {
           "type": "bar",
           "visible": true
          },
          {
           "type": "bar",
           "visible": true
          },
          {
           "type": "bar",
           "visible": true
          },
          {
           "type": "bar",
           "visible": true
          },
          {
           "type": "bar",
           "x": [
            0.6
           ],
           "y": [
            228
           ]
          },
          {
           "type": "bar",
           "x": [
            0.6
           ],
           "y": [
            152
           ]
          },
          {
           "type": "bar",
           "x": [
            0.3580645161290323
           ],
           "y": [
            222.00000000000003
           ]
          },
          {
           "type": "bar",
           "x": [
            0.3580645161290323
           ],
           "y": [
            397.99999999999994
           ]
          },
          {
           "type": "bar",
           "x": [
            0.57
           ],
           "y": [
            513
           ]
          },
          {
           "type": "bar",
           "x": [
            0.57
           ],
           "y": [
            387.00000000000006
           ]
          },
          {
           "type": "bar",
           "x": [
            0.37
           ],
           "y": [
            37
           ]
          },
          {
           "type": "bar",
           "x": [
            0.37
           ],
           "y": [
            63
           ]
          }
         ],
         "layout": {
          "annotations": [
           {
            "align": "center",
            "showarrow": false,
            "text": "p<sub>A</sub> < p<sub>B</sub>",
            "x": 0.94,
            "xref": "x2",
            "y": 850,
            "yref": "y2"
           },
           {
            "align": "center",
            "font": {
             "color": "red"
            },
            "showarrow": false,
            "text": "p<sub>Ar</sub> > p<sub>Br</sub>",
            "x": 0.94,
            "xref": "x2",
            "y": 750,
            "yref": "y2"
           },
           {
            "align": "center",
            "font": {
             "color": "darkslategrey"
            },
            "showarrow": false,
            "text": "p<sub>Al</sub> < p<sub>Bl</sub>",
            "x": 0.94,
            "xref": "x2",
            "y": 650,
            "yref": "y2"
           }
          ]
         },
         "traces": [
          0,
          1,
          2,
          3,
          4,
          5,
          6,
          7,
          8,
          9,
          10,
          11
         ]
        },
        {
         "data": [
          {
           "type": "bar",
           "visible": true
          },
          {
           "type": "bar",
           "visible": true
          },
          {
           "type": "bar",
           "visible": true
          },
          {
           "type": "bar",
           "visible": true
          },
          {
           "type": "bar",
           "x": [
            0.6
           ],
           "y": [
            216
           ]
          },
          {
           "type": "bar",
           "x": [
            0.6
           ],
           "y": [
            144
           ]
          },
          {
           "type": "bar",
           "x": [
            0.365625
           ],
           "y": [
            234
           ]
          },
          {
           "type": "bar",
           "x": [
            0.365625
           ],
           "y": [
            406
           ]
          },
          {
           "type": "bar",
           "x": [
            0.57
           ],
           "y": [
            513
           ]
          },
          {
           "type": "bar",
           "x": [
            0.57
           ],
           "y": [
            387.00000000000006
           ]
          },
          {
           "type": "bar",
           "x": [
            0.37
           ],
           "y": [
            37
           ]
          },
          {
           "type": "bar",
           "x": [
            0.37
           ],
           "y": [
            63
           ]
          }
         ],
         "layout": {
          "annotations": [
           {
            "align": "center",
            "showarrow": false,
            "text": "p<sub>A</sub> < p<sub>B</sub>",
            "x": 0.94,
            "xref": "x2",
            "y": 850,
            "yref": "y2"
           },
           {
            "align": "center",
            "font": {
             "color": "red"
            },
            "showarrow": false,
            "text": "p<sub>Ar</sub> > p<sub>Br</sub>",
            "x": 0.94,
            "xref": "x2",
            "y": 750,
            "yref": "y2"
           },
           {
            "align": "center",
            "font": {
             "color": "darkslategrey"
            },
            "showarrow": false,
            "text": "p<sub>Al</sub> < p<sub>Bl</sub>",
            "x": 0.94,
            "xref": "x2",
            "y": 650,
            "yref": "y2"
           }
          ]
         },
         "traces": [
          0,
          1,
          2,
          3,
          4,
          5,
          6,
          7,
          8,
          9,
          10,
          11
         ]
        },
        {
         "data": [
          {
           "type": "bar",
           "visible": true
          },
          {
           "type": "bar",
           "visible": true
          },
          {
           "type": "bar",
           "visible": true
          },
          {
           "type": "bar",
           "visible": true
          },
          {
           "type": "bar",
           "x": [
            0.6
           ],
           "y": [
            204
           ]
          },
          {
           "type": "bar",
           "x": [
            0.6
           ],
           "y": [
            136
           ]
          },
          {
           "type": "bar",
           "x": [
            0.37272727272727274
           ],
           "y": [
            246
           ]
          },
          {
           "type": "bar",
           "x": [
            0.37272727272727274
           ],
           "y": [
            413.99999999999994
           ]
          },
          {
           "type": "bar",
           "x": [
            0.57
           ],
           "y": [
            513
           ]
          },
          {
           "type": "bar",
           "x": [
            0.57
           ],
           "y": [
            387.00000000000006
           ]
          },
          {
           "type": "bar",
           "x": [
            0.37
           ],
           "y": [
            37
           ]
          },
          {
           "type": "bar",
           "x": [
            0.37
           ],
           "y": [
            63
           ]
          }
         ],
         "layout": {
          "annotations": [
           {
            "align": "center",
            "showarrow": false,
            "text": "p<sub>A</sub> < p<sub>B</sub>",
            "x": 0.94,
            "xref": "x2",
            "y": 850,
            "yref": "y2"
           },
           {
            "align": "center",
            "font": {
             "color": "red"
            },
            "showarrow": false,
            "text": "p<sub>Ar</sub> > p<sub>Br</sub>",
            "x": 0.94,
            "xref": "x2",
            "y": 750,
            "yref": "y2"
           },
           {
            "align": "center",
            "font": {
             "color": "red"
            },
            "showarrow": false,
            "text": "p<sub>Al</sub> > p<sub>Bl</sub>",
            "x": 0.94,
            "xref": "x2",
            "y": 650,
            "yref": "y2"
           }
          ]
         },
         "traces": [
          0,
          1,
          2,
          3,
          4,
          5,
          6,
          7,
          8,
          9,
          10,
          11
         ]
        },
        {
         "data": [
          {
           "type": "bar",
           "visible": true
          },
          {
           "type": "bar",
           "visible": true
          },
          {
           "type": "bar",
           "visible": true
          },
          {
           "type": "bar",
           "visible": true
          },
          {
           "type": "bar",
           "x": [
            0.6
           ],
           "y": [
            192
           ]
          },
          {
           "type": "bar",
           "x": [
            0.6
           ],
           "y": [
            128
           ]
          },
          {
           "type": "bar",
           "x": [
            0.37941176470588234
           ],
           "y": [
            258
           ]
          },
          {
           "type": "bar",
           "x": [
            0.37941176470588234
           ],
           "y": [
            422
           ]
          },
          {
           "type": "bar",
           "x": [
            0.57
           ],
           "y": [
            513
           ]
          },
          {
           "type": "bar",
           "x": [
            0.57
           ],
           "y": [
            387.00000000000006
           ]
          },
          {
           "type": "bar",
           "x": [
            0.37
           ],
           "y": [
            37
           ]
          },
          {
           "type": "bar",
           "x": [
            0.37
           ],
           "y": [
            63
           ]
          }
         ],
         "layout": {
          "annotations": [
           {
            "align": "center",
            "showarrow": false,
            "text": "p<sub>A</sub> < p<sub>B</sub>",
            "x": 0.94,
            "xref": "x2",
            "y": 850,
            "yref": "y2"
           },
           {
            "align": "center",
            "font": {
             "color": "red"
            },
            "showarrow": false,
            "text": "p<sub>Ar</sub> > p<sub>Br</sub>",
            "x": 0.94,
            "xref": "x2",
            "y": 750,
            "yref": "y2"
           },
           {
            "align": "center",
            "font": {
             "color": "red"
            },
            "showarrow": false,
            "text": "p<sub>Al</sub> > p<sub>Bl</sub>",
            "x": 0.94,
            "xref": "x2",
            "y": 650,
            "yref": "y2"
           }
          ]
         },
         "traces": [
          0,
          1,
          2,
          3,
          4,
          5,
          6,
          7,
          8,
          9,
          10,
          11
         ]
        },
        {
         "data": [
          {
           "type": "bar",
           "visible": true
          },
          {
           "type": "bar",
           "visible": true
          },
          {
           "type": "bar",
           "visible": true
          },
          {
           "type": "bar",
           "visible": true
          },
          {
           "type": "bar",
           "x": [
            0.6
           ],
           "y": [
            180
           ]
          },
          {
           "type": "bar",
           "x": [
            0.6
           ],
           "y": [
            120
           ]
          },
          {
           "type": "bar",
           "x": [
            0.38571428571428573
           ],
           "y": [
            270
           ]
          },
          {
           "type": "bar",
           "x": [
            0.38571428571428573
           ],
           "y": [
            430
           ]
          },
          {
           "type": "bar",
           "x": [
            0.57
           ],
           "y": [
            513
           ]
          },
          {
           "type": "bar",
           "x": [
            0.57
           ],
           "y": [
            387.00000000000006
           ]
          },
          {
           "type": "bar",
           "x": [
            0.37
           ],
           "y": [
            37
           ]
          },
          {
           "type": "bar",
           "x": [
            0.37
           ],
           "y": [
            63
           ]
          }
         ],
         "layout": {
          "annotations": [
           {
            "align": "center",
            "showarrow": false,
            "text": "p<sub>A</sub> < p<sub>B</sub>",
            "x": 0.94,
            "xref": "x2",
            "y": 850,
            "yref": "y2"
           },
           {
            "align": "center",
            "font": {
             "color": "red"
            },
            "showarrow": false,
            "text": "p<sub>Ar</sub> > p<sub>Br</sub>",
            "x": 0.94,
            "xref": "x2",
            "y": 750,
            "yref": "y2"
           },
           {
            "align": "center",
            "font": {
             "color": "red"
            },
            "showarrow": false,
            "text": "p<sub>Al</sub> > p<sub>Bl</sub>",
            "x": 0.94,
            "xref": "x2",
            "y": 650,
            "yref": "y2"
           }
          ]
         },
         "traces": [
          0,
          1,
          2,
          3,
          4,
          5,
          6,
          7,
          8,
          9,
          10,
          11
         ]
        },
        {
         "data": [
          {
           "type": "bar",
           "visible": true
          },
          {
           "type": "bar",
           "visible": true
          },
          {
           "type": "bar",
           "visible": true
          },
          {
           "type": "bar",
           "visible": true
          },
          {
           "type": "bar",
           "x": [
            0.6
           ],
           "y": [
            168
           ]
          },
          {
           "type": "bar",
           "x": [
            0.6
           ],
           "y": [
            112
           ]
          },
          {
           "type": "bar",
           "x": [
            0.39166666666666666
           ],
           "y": [
            282
           ]
          },
          {
           "type": "bar",
           "x": [
            0.39166666666666666
           ],
           "y": [
            438.00000000000006
           ]
          },
          {
           "type": "bar",
           "x": [
            0.57
           ],
           "y": [
            513
           ]
          },
          {
           "type": "bar",
           "x": [
            0.57
           ],
           "y": [
            387.00000000000006
           ]
          },
          {
           "type": "bar",
           "x": [
            0.37
           ],
           "y": [
            37
           ]
          },
          {
           "type": "bar",
           "x": [
            0.37
           ],
           "y": [
            63
           ]
          }
         ],
         "layout": {
          "annotations": [
           {
            "align": "center",
            "showarrow": false,
            "text": "p<sub>A</sub> < p<sub>B</sub>",
            "x": 0.94,
            "xref": "x2",
            "y": 850,
            "yref": "y2"
           },
           {
            "align": "center",
            "font": {
             "color": "red"
            },
            "showarrow": false,
            "text": "p<sub>Ar</sub> > p<sub>Br</sub>",
            "x": 0.94,
            "xref": "x2",
            "y": 750,
            "yref": "y2"
           },
           {
            "align": "center",
            "font": {
             "color": "red"
            },
            "showarrow": false,
            "text": "p<sub>Al</sub> > p<sub>Bl</sub>",
            "x": 0.94,
            "xref": "x2",
            "y": 650,
            "yref": "y2"
           }
          ]
         },
         "traces": [
          0,
          1,
          2,
          3,
          4,
          5,
          6,
          7,
          8,
          9,
          10,
          11
         ]
        },
        {
         "data": [
          {
           "type": "bar",
           "visible": true
          },
          {
           "type": "bar",
           "visible": true
          },
          {
           "type": "bar",
           "visible": true
          },
          {
           "type": "bar",
           "visible": true
          },
          {
           "type": "bar",
           "x": [
            0.6
           ],
           "y": [
            156
           ]
          },
          {
           "type": "bar",
           "x": [
            0.6
           ],
           "y": [
            104
           ]
          },
          {
           "type": "bar",
           "x": [
            0.3972972972972973
           ],
           "y": [
            294
           ]
          },
          {
           "type": "bar",
           "x": [
            0.3972972972972973
           ],
           "y": [
            446.00000000000006
           ]
          },
          {
           "type": "bar",
           "x": [
            0.57
           ],
           "y": [
            513
           ]
          },
          {
           "type": "bar",
           "x": [
            0.57
           ],
           "y": [
            387.00000000000006
           ]
          },
          {
           "type": "bar",
           "x": [
            0.37
           ],
           "y": [
            37
           ]
          },
          {
           "type": "bar",
           "x": [
            0.37
           ],
           "y": [
            63
           ]
          }
         ],
         "layout": {
          "annotations": [
           {
            "align": "center",
            "showarrow": false,
            "text": "p<sub>A</sub> < p<sub>B</sub>",
            "x": 0.94,
            "xref": "x2",
            "y": 850,
            "yref": "y2"
           },
           {
            "align": "center",
            "font": {
             "color": "red"
            },
            "showarrow": false,
            "text": "p<sub>Ar</sub> > p<sub>Br</sub>",
            "x": 0.94,
            "xref": "x2",
            "y": 750,
            "yref": "y2"
           },
           {
            "align": "center",
            "font": {
             "color": "red"
            },
            "showarrow": false,
            "text": "p<sub>Al</sub> > p<sub>Bl</sub>",
            "x": 0.94,
            "xref": "x2",
            "y": 650,
            "yref": "y2"
           }
          ]
         },
         "traces": [
          0,
          1,
          2,
          3,
          4,
          5,
          6,
          7,
          8,
          9,
          10,
          11
         ]
        },
        {
         "data": [
          {
           "type": "bar",
           "visible": true
          },
          {
           "type": "bar",
           "visible": true
          },
          {
           "type": "bar",
           "visible": true
          },
          {
           "type": "bar",
           "visible": true
          },
          {
           "type": "bar",
           "x": [
            0.6
           ],
           "y": [
            144
           ]
          },
          {
           "type": "bar",
           "x": [
            0.6
           ],
           "y": [
            96
           ]
          },
          {
           "type": "bar",
           "x": [
            0.4026315789473684
           ],
           "y": [
            306
           ]
          },
          {
           "type": "bar",
           "x": [
            0.4026315789473684
           ],
           "y": [
            454
           ]
          },
          {
           "type": "bar",
           "x": [
            0.57
           ],
           "y": [
            513
           ]
          },
          {
           "type": "bar",
           "x": [
            0.57
           ],
           "y": [
            387.00000000000006
           ]
          },
          {
           "type": "bar",
           "x": [
            0.37
           ],
           "y": [
            37
           ]
          },
          {
           "type": "bar",
           "x": [
            0.37
           ],
           "y": [
            63
           ]
          }
         ],
         "layout": {
          "annotations": [
           {
            "align": "center",
            "showarrow": false,
            "text": "p<sub>A</sub> < p<sub>B</sub>",
            "x": 0.94,
            "xref": "x2",
            "y": 850,
            "yref": "y2"
           },
           {
            "align": "center",
            "font": {
             "color": "red"
            },
            "showarrow": false,
            "text": "p<sub>Ar</sub> > p<sub>Br</sub>",
            "x": 0.94,
            "xref": "x2",
            "y": 750,
            "yref": "y2"
           },
           {
            "align": "center",
            "font": {
             "color": "red"
            },
            "showarrow": false,
            "text": "p<sub>Al</sub> > p<sub>Bl</sub>",
            "x": 0.94,
            "xref": "x2",
            "y": 650,
            "yref": "y2"
           }
          ]
         },
         "traces": [
          0,
          1,
          2,
          3,
          4,
          5,
          6,
          7,
          8,
          9,
          10,
          11
         ]
        },
        {
         "data": [
          {
           "type": "bar",
           "visible": true
          },
          {
           "type": "bar",
           "visible": true
          },
          {
           "type": "bar",
           "visible": true
          },
          {
           "type": "bar",
           "visible": true
          },
          {
           "type": "bar",
           "x": [
            0.6
           ],
           "y": [
            132
           ]
          },
          {
           "type": "bar",
           "x": [
            0.6
           ],
           "y": [
            88
           ]
          },
          {
           "type": "bar",
           "x": [
            0.4076923076923077
           ],
           "y": [
            318
           ]
          },
          {
           "type": "bar",
           "x": [
            0.4076923076923077
           ],
           "y": [
            462
           ]
          },
          {
           "type": "bar",
           "x": [
            0.57
           ],
           "y": [
            513
           ]
          },
          {
           "type": "bar",
           "x": [
            0.57
           ],
           "y": [
            387.00000000000006
           ]
          },
          {
           "type": "bar",
           "x": [
            0.37
           ],
           "y": [
            37
           ]
          },
          {
           "type": "bar",
           "x": [
            0.37
           ],
           "y": [
            63
           ]
          }
         ],
         "layout": {
          "annotations": [
           {
            "align": "center",
            "showarrow": false,
            "text": "p<sub>A</sub> < p<sub>B</sub>",
            "x": 0.94,
            "xref": "x2",
            "y": 850,
            "yref": "y2"
           },
           {
            "align": "center",
            "font": {
             "color": "red"
            },
            "showarrow": false,
            "text": "p<sub>Ar</sub> > p<sub>Br</sub>",
            "x": 0.94,
            "xref": "x2",
            "y": 750,
            "yref": "y2"
           },
           {
            "align": "center",
            "font": {
             "color": "red"
            },
            "showarrow": false,
            "text": "p<sub>Al</sub> > p<sub>Bl</sub>",
            "x": 0.94,
            "xref": "x2",
            "y": 650,
            "yref": "y2"
           }
          ]
         },
         "traces": [
          0,
          1,
          2,
          3,
          4,
          5,
          6,
          7,
          8,
          9,
          10,
          11
         ]
        },
        {
         "data": [
          {
           "type": "bar",
           "visible": true
          },
          {
           "type": "bar",
           "visible": true
          },
          {
           "type": "bar",
           "visible": true
          },
          {
           "type": "bar",
           "visible": true
          },
          {
           "type": "bar",
           "x": [
            0.6
           ],
           "y": [
            120
           ]
          },
          {
           "type": "bar",
           "x": [
            0.6
           ],
           "y": [
            80
           ]
          },
          {
           "type": "bar",
           "x": [
            0.4125
           ],
           "y": [
            330
           ]
          },
          {
           "type": "bar",
           "x": [
            0.4125
           ],
           "y": [
            470
           ]
          },
          {
           "type": "bar",
           "x": [
            0.57
           ],
           "y": [
            513
           ]
          },
          {
           "type": "bar",
           "x": [
            0.57
           ],
           "y": [
            387.00000000000006
           ]
          },
          {
           "type": "bar",
           "x": [
            0.37
           ],
           "y": [
            37
           ]
          },
          {
           "type": "bar",
           "x": [
            0.37
           ],
           "y": [
            63
           ]
          }
         ],
         "layout": {
          "annotations": [
           {
            "align": "center",
            "showarrow": false,
            "text": "p<sub>A</sub> < p<sub>B</sub>",
            "x": 0.94,
            "xref": "x2",
            "y": 850,
            "yref": "y2"
           },
           {
            "align": "center",
            "font": {
             "color": "red"
            },
            "showarrow": false,
            "text": "p<sub>Ar</sub> > p<sub>Br</sub>",
            "x": 0.94,
            "xref": "x2",
            "y": 750,
            "yref": "y2"
           },
           {
            "align": "center",
            "font": {
             "color": "red"
            },
            "showarrow": false,
            "text": "p<sub>Al</sub> > p<sub>Bl</sub>",
            "x": 0.94,
            "xref": "x2",
            "y": 650,
            "yref": "y2"
           }
          ]
         },
         "traces": [
          0,
          1,
          2,
          3,
          4,
          5,
          6,
          7,
          8,
          9,
          10,
          11
         ]
        },
        {
         "data": [
          {
           "type": "bar",
           "visible": true
          },
          {
           "type": "bar",
           "visible": true
          },
          {
           "type": "bar",
           "visible": true
          },
          {
           "type": "bar",
           "visible": true
          },
          {
           "type": "bar",
           "x": [
            0.6
           ],
           "y": [
            120
           ]
          },
          {
           "type": "bar",
           "x": [
            0.6
           ],
           "y": [
            80
           ]
          },
          {
           "type": "bar",
           "x": [
            0.4125
           ],
           "y": [
            330
           ]
          },
          {
           "type": "bar",
           "x": [
            0.4125
           ],
           "y": [
            470
           ]
          },
          {
           "type": "bar",
           "x": [
            0.57
           ],
           "y": [
            513
           ]
          },
          {
           "type": "bar",
           "x": [
            0.57
           ],
           "y": [
            387.00000000000006
           ]
          },
          {
           "type": "bar",
           "x": [
            0.37
           ],
           "y": [
            37
           ]
          },
          {
           "type": "bar",
           "x": [
            0.37
           ],
           "y": [
            63
           ]
          }
         ],
         "layout": {
          "annotations": [
           {
            "align": "center",
            "showarrow": false,
            "text": "p<sub>A</sub> < p<sub>B</sub>",
            "x": 0.94,
            "xref": "x2",
            "y": 850,
            "yref": "y2"
           },
           {
            "align": "center",
            "font": {
             "color": "red"
            },
            "showarrow": false,
            "text": "p<sub>Ar</sub> > p<sub>Br</sub>",
            "x": 0.94,
            "xref": "x2",
            "y": 750,
            "yref": "y2"
           },
           {
            "align": "center",
            "font": {
             "color": "red"
            },
            "showarrow": false,
            "text": "p<sub>Al</sub> > p<sub>Bl</sub>",
            "x": 0.94,
            "xref": "x2",
            "y": 650,
            "yref": "y2"
           }
          ]
         },
         "traces": [
          0,
          1,
          2,
          3,
          4,
          5,
          6,
          7,
          8,
          9,
          10,
          11
         ]
        },
        {
         "data": [
          {
           "type": "bar",
           "visible": true
          },
          {
           "type": "bar",
           "visible": true
          },
          {
           "type": "bar",
           "visible": true
          },
          {
           "type": "bar",
           "visible": true
          },
          {
           "type": "bar",
           "x": [
            0.6
           ],
           "y": [
            120
           ]
          },
          {
           "type": "bar",
           "x": [
            0.6
           ],
           "y": [
            80
           ]
          },
          {
           "type": "bar",
           "x": [
            0.4125
           ],
           "y": [
            330
           ]
          },
          {
           "type": "bar",
           "x": [
            0.4125
           ],
           "y": [
            470
           ]
          },
          {
           "type": "bar",
           "x": [
            0.57
           ],
           "y": [
            513
           ]
          },
          {
           "type": "bar",
           "x": [
            0.57
           ],
           "y": [
            387.00000000000006
           ]
          },
          {
           "type": "bar",
           "x": [
            0.37
           ],
           "y": [
            37
           ]
          },
          {
           "type": "bar",
           "x": [
            0.37
           ],
           "y": [
            63
           ]
          }
         ],
         "layout": {
          "annotations": [
           {
            "align": "center",
            "showarrow": false,
            "text": "p<sub>A</sub> < p<sub>B</sub>",
            "x": 0.94,
            "xref": "x2",
            "y": 850,
            "yref": "y2"
           },
           {
            "align": "center",
            "font": {
             "color": "red"
            },
            "showarrow": false,
            "text": "p<sub>Ar</sub> > p<sub>Br</sub>",
            "x": 0.94,
            "xref": "x2",
            "y": 750,
            "yref": "y2"
           },
           {
            "align": "center",
            "font": {
             "color": "red"
            },
            "showarrow": false,
            "text": "p<sub>Al</sub> > p<sub>Bl</sub>",
            "x": 0.94,
            "xref": "x2",
            "y": 650,
            "yref": "y2"
           }
          ]
         },
         "traces": [
          0,
          1,
          2,
          3,
          4,
          5,
          6,
          7,
          8,
          9,
          10,
          11
         ]
        },
        {
         "data": [
          {
           "type": "bar",
           "visible": true
          },
          {
           "type": "bar",
           "visible": true
          },
          {
           "type": "bar",
           "visible": true
          },
          {
           "type": "bar",
           "visible": true
          },
          {
           "type": "bar",
           "x": [
            0.6
           ],
           "y": [
            120
           ]
          },
          {
           "type": "bar",
           "x": [
            0.6
           ],
           "y": [
            80
           ]
          },
          {
           "type": "bar",
           "x": [
            0.4125
           ],
           "y": [
            330
           ]
          },
          {
           "type": "bar",
           "x": [
            0.4125
           ],
           "y": [
            470
           ]
          },
          {
           "type": "bar",
           "x": [
            0.57
           ],
           "y": [
            513
           ]
          },
          {
           "type": "bar",
           "x": [
            0.57
           ],
           "y": [
            387.00000000000006
           ]
          },
          {
           "type": "bar",
           "x": [
            0.37
           ],
           "y": [
            37
           ]
          },
          {
           "type": "bar",
           "x": [
            0.37
           ],
           "y": [
            63
           ]
          }
         ],
         "layout": {
          "annotations": [
           {
            "align": "center",
            "showarrow": false,
            "text": "p<sub>A</sub> < p<sub>B</sub>",
            "x": 0.94,
            "xref": "x2",
            "y": 850,
            "yref": "y2"
           },
           {
            "align": "center",
            "font": {
             "color": "red"
            },
            "showarrow": false,
            "text": "p<sub>Ar</sub> > p<sub>Br</sub>",
            "x": 0.94,
            "xref": "x2",
            "y": 750,
            "yref": "y2"
           },
           {
            "align": "center",
            "font": {
             "color": "red"
            },
            "showarrow": false,
            "text": "p<sub>Al</sub> > p<sub>Bl</sub>",
            "x": 0.94,
            "xref": "x2",
            "y": 650,
            "yref": "y2"
           }
          ]
         },
         "traces": [
          0,
          1,
          2,
          3,
          4,
          5,
          6,
          7,
          8,
          9,
          10,
          11
         ]
        },
        {
         "data": [
          {
           "type": "bar",
           "visible": true
          },
          {
           "type": "bar",
           "visible": true
          },
          {
           "type": "bar",
           "visible": true
          },
          {
           "type": "bar",
           "visible": true
          },
          {
           "type": "bar",
           "x": [
            0.6
           ],
           "y": [
            120
           ]
          },
          {
           "type": "bar",
           "x": [
            0.6
           ],
           "y": [
            80
           ]
          },
          {
           "type": "bar",
           "x": [
            0.4125
           ],
           "y": [
            330
           ]
          },
          {
           "type": "bar",
           "x": [
            0.4125
           ],
           "y": [
            470
           ]
          },
          {
           "type": "bar",
           "x": [
            0.57
           ],
           "y": [
            513
           ]
          },
          {
           "type": "bar",
           "x": [
            0.57
           ],
           "y": [
            387.00000000000006
           ]
          },
          {
           "type": "bar",
           "x": [
            0.37
           ],
           "y": [
            37
           ]
          },
          {
           "type": "bar",
           "x": [
            0.37
           ],
           "y": [
            63
           ]
          }
         ],
         "layout": {
          "annotations": [
           {
            "align": "center",
            "showarrow": false,
            "text": "p<sub>A</sub> < p<sub>B</sub>",
            "x": 0.94,
            "xref": "x2",
            "y": 850,
            "yref": "y2"
           },
           {
            "align": "center",
            "font": {
             "color": "red"
            },
            "showarrow": false,
            "text": "p<sub>Ar</sub> > p<sub>Br</sub>",
            "x": 0.94,
            "xref": "x2",
            "y": 750,
            "yref": "y2"
           },
           {
            "align": "center",
            "font": {
             "color": "red"
            },
            "showarrow": false,
            "text": "p<sub>Al</sub> > p<sub>Bl</sub>",
            "x": 0.94,
            "xref": "x2",
            "y": 650,
            "yref": "y2"
           }
          ]
         },
         "traces": [
          0,
          1,
          2,
          3,
          4,
          5,
          6,
          7,
          8,
          9,
          10,
          11
         ]
        },
        {
         "data": [
          {
           "type": "bar",
           "visible": true
          },
          {
           "type": "bar",
           "visible": true
          },
          {
           "type": "bar",
           "visible": true
          },
          {
           "type": "bar",
           "visible": true
          },
          {
           "type": "bar",
           "x": [
            0.6
           ],
           "y": [
            120
           ]
          },
          {
           "type": "bar",
           "x": [
            0.6
           ],
           "y": [
            80
           ]
          },
          {
           "type": "bar",
           "x": [
            0.4125
           ],
           "y": [
            330
           ]
          },
          {
           "type": "bar",
           "x": [
            0.4125
           ],
           "y": [
            470
           ]
          },
          {
           "type": "bar",
           "x": [
            0.57
           ],
           "y": [
            513
           ]
          },
          {
           "type": "bar",
           "x": [
            0.57
           ],
           "y": [
            387.00000000000006
           ]
          },
          {
           "type": "bar",
           "x": [
            0.37
           ],
           "y": [
            37
           ]
          },
          {
           "type": "bar",
           "x": [
            0.37
           ],
           "y": [
            63
           ]
          }
         ],
         "layout": {
          "annotations": [
           {
            "align": "center",
            "showarrow": false,
            "text": "p<sub>A</sub> < p<sub>B</sub>",
            "x": 0.94,
            "xref": "x2",
            "y": 850,
            "yref": "y2"
           },
           {
            "align": "center",
            "font": {
             "color": "red"
            },
            "showarrow": false,
            "text": "p<sub>Ar</sub> > p<sub>Br</sub>",
            "x": 0.94,
            "xref": "x2",
            "y": 750,
            "yref": "y2"
           },
           {
            "align": "center",
            "font": {
             "color": "red"
            },
            "showarrow": false,
            "text": "p<sub>Al</sub> > p<sub>Bl</sub>",
            "x": 0.94,
            "xref": "x2",
            "y": 650,
            "yref": "y2"
           }
          ]
         },
         "traces": [
          0,
          1,
          2,
          3,
          4,
          5,
          6,
          7,
          8,
          9,
          10,
          11
         ]
        },
        {
         "data": [
          {
           "type": "bar",
           "visible": true
          },
          {
           "type": "bar",
           "visible": true
          },
          {
           "type": "bar",
           "visible": true
          },
          {
           "type": "bar",
           "visible": true
          },
          {
           "type": "bar",
           "x": [
            0.6
           ],
           "y": [
            120
           ]
          },
          {
           "type": "bar",
           "x": [
            0.6
           ],
           "y": [
            80
           ]
          },
          {
           "type": "bar",
           "x": [
            0.4125
           ],
           "y": [
            330
           ]
          },
          {
           "type": "bar",
           "x": [
            0.4125
           ],
           "y": [
            470
           ]
          },
          {
           "type": "bar",
           "x": [
            0.57
           ],
           "y": [
            513
           ]
          },
          {
           "type": "bar",
           "x": [
            0.57
           ],
           "y": [
            387.00000000000006
           ]
          },
          {
           "type": "bar",
           "x": [
            0.37
           ],
           "y": [
            37
           ]
          },
          {
           "type": "bar",
           "x": [
            0.37
           ],
           "y": [
            63
           ]
          }
         ],
         "layout": {
          "annotations": [
           {
            "align": "center",
            "showarrow": false,
            "text": "p<sub>A</sub> < p<sub>B</sub>",
            "x": 0.94,
            "xref": "x2",
            "y": 850,
            "yref": "y2"
           },
           {
            "align": "center",
            "font": {
             "color": "red"
            },
            "showarrow": false,
            "text": "p<sub>Ar</sub> > p<sub>Br</sub>",
            "x": 0.94,
            "xref": "x2",
            "y": 750,
            "yref": "y2"
           },
           {
            "align": "center",
            "font": {
             "color": "red"
            },
            "showarrow": false,
            "text": "p<sub>Al</sub> > p<sub>Bl</sub>",
            "x": 0.94,
            "xref": "x2",
            "y": 650,
            "yref": "y2"
           }
          ]
         },
         "traces": [
          0,
          1,
          2,
          3,
          4,
          5,
          6,
          7,
          8,
          9,
          10,
          11
         ]
        },
        {
         "data": [
          {
           "type": "bar",
           "visible": true
          },
          {
           "type": "bar",
           "visible": true
          },
          {
           "type": "bar",
           "visible": true
          },
          {
           "type": "bar",
           "visible": true
          },
          {
           "type": "bar",
           "x": [
            0.6
           ],
           "y": [
            120
           ]
          },
          {
           "type": "bar",
           "x": [
            0.6
           ],
           "y": [
            80
           ]
          },
          {
           "type": "bar",
           "x": [
            0.4125
           ],
           "y": [
            330
           ]
          },
          {
           "type": "bar",
           "x": [
            0.4125
           ],
           "y": [
            470
           ]
          },
          {
           "type": "bar",
           "x": [
            0.57
           ],
           "y": [
            513
           ]
          },
          {
           "type": "bar",
           "x": [
            0.57
           ],
           "y": [
            387.00000000000006
           ]
          },
          {
           "type": "bar",
           "x": [
            0.37
           ],
           "y": [
            37
           ]
          },
          {
           "type": "bar",
           "x": [
            0.37
           ],
           "y": [
            63
           ]
          }
         ],
         "layout": {
          "annotations": [
           {
            "align": "center",
            "showarrow": false,
            "text": "p<sub>A</sub> < p<sub>B</sub>",
            "x": 0.94,
            "xref": "x2",
            "y": 850,
            "yref": "y2"
           },
           {
            "align": "center",
            "font": {
             "color": "red"
            },
            "showarrow": false,
            "text": "p<sub>Ar</sub> > p<sub>Br</sub>",
            "x": 0.94,
            "xref": "x2",
            "y": 750,
            "yref": "y2"
           },
           {
            "align": "center",
            "font": {
             "color": "red"
            },
            "showarrow": false,
            "text": "p<sub>Al</sub> > p<sub>Bl</sub>",
            "x": 0.94,
            "xref": "x2",
            "y": 650,
            "yref": "y2"
           }
          ]
         },
         "traces": [
          0,
          1,
          2,
          3,
          4,
          5,
          6,
          7,
          8,
          9,
          10,
          11
         ]
        },
        {
         "data": [
          {
           "type": "bar",
           "visible": true
          },
          {
           "type": "bar",
           "visible": true
          },
          {
           "type": "bar",
           "visible": true
          },
          {
           "type": "bar",
           "visible": true
          },
          {
           "type": "bar",
           "x": [
            0.6
           ],
           "y": [
            120
           ]
          },
          {
           "type": "bar",
           "x": [
            0.6
           ],
           "y": [
            80
           ]
          },
          {
           "type": "bar",
           "x": [
            0.4125
           ],
           "y": [
            330
           ]
          },
          {
           "type": "bar",
           "x": [
            0.4125
           ],
           "y": [
            470
           ]
          },
          {
           "type": "bar",
           "x": [
            0.57
           ],
           "y": [
            513
           ]
          },
          {
           "type": "bar",
           "x": [
            0.57
           ],
           "y": [
            387.00000000000006
           ]
          },
          {
           "type": "bar",
           "x": [
            0.37
           ],
           "y": [
            37
           ]
          },
          {
           "type": "bar",
           "x": [
            0.37
           ],
           "y": [
            63
           ]
          }
         ],
         "layout": {
          "annotations": [
           {
            "align": "center",
            "showarrow": false,
            "text": "p<sub>A</sub> < p<sub>B</sub>",
            "x": 0.94,
            "xref": "x2",
            "y": 850,
            "yref": "y2"
           },
           {
            "align": "center",
            "font": {
             "color": "red"
            },
            "showarrow": false,
            "text": "p<sub>Ar</sub> > p<sub>Br</sub>",
            "x": 0.94,
            "xref": "x2",
            "y": 750,
            "yref": "y2"
           },
           {
            "align": "center",
            "font": {
             "color": "red"
            },
            "showarrow": false,
            "text": "p<sub>Al</sub> > p<sub>Bl</sub>",
            "x": 0.94,
            "xref": "x2",
            "y": 650,
            "yref": "y2"
           }
          ]
         },
         "traces": [
          0,
          1,
          2,
          3,
          4,
          5,
          6,
          7,
          8,
          9,
          10,
          11
         ]
        },
        {
         "data": [
          {
           "type": "bar",
           "visible": true
          },
          {
           "type": "bar",
           "visible": true
          },
          {
           "type": "bar",
           "visible": true
          },
          {
           "type": "bar",
           "visible": true
          },
          {
           "type": "bar",
           "x": [
            0.6
           ],
           "y": [
            120
           ]
          },
          {
           "type": "bar",
           "x": [
            0.6
           ],
           "y": [
            80
           ]
          },
          {
           "type": "bar",
           "x": [
            0.4125
           ],
           "y": [
            330
           ]
          },
          {
           "type": "bar",
           "x": [
            0.4125
           ],
           "y": [
            470
           ]
          },
          {
           "type": "bar",
           "x": [
            0.57
           ],
           "y": [
            513
           ]
          },
          {
           "type": "bar",
           "x": [
            0.57
           ],
           "y": [
            387.00000000000006
           ]
          },
          {
           "type": "bar",
           "x": [
            0.37
           ],
           "y": [
            37
           ]
          },
          {
           "type": "bar",
           "x": [
            0.37
           ],
           "y": [
            63
           ]
          }
         ],
         "layout": {
          "annotations": [
           {
            "align": "center",
            "showarrow": false,
            "text": "p<sub>A</sub> < p<sub>B</sub>",
            "x": 0.94,
            "xref": "x2",
            "y": 850,
            "yref": "y2"
           },
           {
            "align": "center",
            "font": {
             "color": "red"
            },
            "showarrow": false,
            "text": "p<sub>Ar</sub> > p<sub>Br</sub>",
            "x": 0.94,
            "xref": "x2",
            "y": 750,
            "yref": "y2"
           },
           {
            "align": "center",
            "font": {
             "color": "red"
            },
            "showarrow": false,
            "text": "p<sub>Al</sub> > p<sub>Bl</sub>",
            "x": 0.94,
            "xref": "x2",
            "y": 650,
            "yref": "y2"
           }
          ]
         },
         "traces": [
          0,
          1,
          2,
          3,
          4,
          5,
          6,
          7,
          8,
          9,
          10,
          11
         ]
        },
        {
         "data": [
          {
           "type": "bar",
           "visible": true
          },
          {
           "type": "bar",
           "visible": true
          },
          {
           "type": "bar",
           "visible": true
          },
          {
           "type": "bar",
           "visible": true
          },
          {
           "type": "bar",
           "x": [
            0.6
           ],
           "y": [
            120
           ]
          },
          {
           "type": "bar",
           "x": [
            0.6
           ],
           "y": [
            80
           ]
          },
          {
           "type": "bar",
           "x": [
            0.4125
           ],
           "y": [
            330
           ]
          },
          {
           "type": "bar",
           "x": [
            0.4125
           ],
           "y": [
            470
           ]
          },
          {
           "type": "bar",
           "x": [
            0.57
           ],
           "y": [
            513
           ]
          },
          {
           "type": "bar",
           "x": [
            0.57
           ],
           "y": [
            387.00000000000006
           ]
          },
          {
           "type": "bar",
           "x": [
            0.37
           ],
           "y": [
            37
           ]
          },
          {
           "type": "bar",
           "x": [
            0.37
           ],
           "y": [
            63
           ]
          }
         ],
         "layout": {
          "annotations": [
           {
            "align": "center",
            "showarrow": false,
            "text": "p<sub>A</sub> < p<sub>B</sub>",
            "x": 0.94,
            "xref": "x2",
            "y": 850,
            "yref": "y2"
           },
           {
            "align": "center",
            "font": {
             "color": "red"
            },
            "showarrow": false,
            "text": "p<sub>Ar</sub> > p<sub>Br</sub>",
            "x": 0.94,
            "xref": "x2",
            "y": 750,
            "yref": "y2"
           },
           {
            "align": "center",
            "font": {
             "color": "red"
            },
            "showarrow": false,
            "text": "p<sub>Al</sub> > p<sub>Bl</sub>",
            "x": 0.94,
            "xref": "x2",
            "y": 650,
            "yref": "y2"
           }
          ]
         },
         "traces": [
          0,
          1,
          2,
          3,
          4,
          5,
          6,
          7,
          8,
          9,
          10,
          11
         ]
        },
        {
         "data": [
          {
           "type": "bar",
           "visible": true
          },
          {
           "type": "bar",
           "visible": true
          },
          {
           "type": "bar",
           "visible": true
          },
          {
           "type": "bar",
           "visible": true
          },
          {
           "type": "bar",
           "x": [
            0.6
           ],
           "y": [
            120
           ]
          },
          {
           "type": "bar",
           "x": [
            0.6
           ],
           "y": [
            80
           ]
          },
          {
           "type": "bar",
           "x": [
            0.4125
           ],
           "y": [
            330
           ]
          },
          {
           "type": "bar",
           "x": [
            0.4125
           ],
           "y": [
            470
           ]
          },
          {
           "type": "bar",
           "x": [
            0.57
           ],
           "y": [
            513
           ]
          },
          {
           "type": "bar",
           "x": [
            0.57
           ],
           "y": [
            387.00000000000006
           ]
          },
          {
           "type": "bar",
           "x": [
            0.37
           ],
           "y": [
            37
           ]
          },
          {
           "type": "bar",
           "x": [
            0.37
           ],
           "y": [
            63
           ]
          }
         ],
         "layout": {
          "annotations": [
           {
            "align": "center",
            "showarrow": false,
            "text": "p<sub>A</sub> < p<sub>B</sub>",
            "x": 0.94,
            "xref": "x2",
            "y": 850,
            "yref": "y2"
           },
           {
            "align": "center",
            "font": {
             "color": "red"
            },
            "showarrow": false,
            "text": "p<sub>Ar</sub> > p<sub>Br</sub>",
            "x": 0.94,
            "xref": "x2",
            "y": 750,
            "yref": "y2"
           },
           {
            "align": "center",
            "font": {
             "color": "red"
            },
            "showarrow": false,
            "text": "p<sub>Al</sub> > p<sub>Bl</sub>",
            "x": 0.94,
            "xref": "x2",
            "y": 650,
            "yref": "y2"
           }
          ]
         },
         "traces": [
          0,
          1,
          2,
          3,
          4,
          5,
          6,
          7,
          8,
          9,
          10,
          11
         ]
        },
        {
         "data": [
          {
           "type": "bar",
           "visible": true
          },
          {
           "type": "bar",
           "visible": true
          },
          {
           "type": "bar",
           "visible": true
          },
          {
           "type": "bar",
           "visible": true
          },
          {
           "type": "bar",
           "x": [
            0.6
           ],
           "y": [
            120
           ]
          },
          {
           "type": "bar",
           "x": [
            0.6
           ],
           "y": [
            80
           ]
          },
          {
           "type": "bar",
           "x": [
            0.4125
           ],
           "y": [
            330
           ]
          },
          {
           "type": "bar",
           "x": [
            0.4125
           ],
           "y": [
            470
           ]
          },
          {
           "type": "bar",
           "x": [
            0.57
           ],
           "y": [
            513
           ]
          },
          {
           "type": "bar",
           "x": [
            0.57
           ],
           "y": [
            387.00000000000006
           ]
          },
          {
           "type": "bar",
           "x": [
            0.37
           ],
           "y": [
            37
           ]
          },
          {
           "type": "bar",
           "x": [
            0.37
           ],
           "y": [
            63
           ]
          }
         ],
         "layout": {
          "annotations": [
           {
            "align": "center",
            "showarrow": false,
            "text": "p<sub>A</sub> < p<sub>B</sub>",
            "x": 0.94,
            "xref": "x2",
            "y": 850,
            "yref": "y2"
           },
           {
            "align": "center",
            "font": {
             "color": "red"
            },
            "showarrow": false,
            "text": "p<sub>Ar</sub> > p<sub>Br</sub>",
            "x": 0.94,
            "xref": "x2",
            "y": 750,
            "yref": "y2"
           },
           {
            "align": "center",
            "font": {
             "color": "red"
            },
            "showarrow": false,
            "text": "p<sub>Al</sub> > p<sub>Bl</sub>",
            "x": 0.94,
            "xref": "x2",
            "y": 650,
            "yref": "y2"
           }
          ]
         },
         "traces": [
          0,
          1,
          2,
          3,
          4,
          5,
          6,
          7,
          8,
          9,
          10,
          11
         ]
        },
        {
         "data": [
          {
           "type": "bar",
           "visible": true
          },
          {
           "type": "bar",
           "visible": true
          },
          {
           "type": "bar",
           "visible": true
          },
          {
           "type": "bar",
           "visible": true
          },
          {
           "type": "bar",
           "x": [
            0.6
           ],
           "y": [
            120
           ]
          },
          {
           "type": "bar",
           "x": [
            0.6
           ],
           "y": [
            80
           ]
          },
          {
           "type": "bar",
           "x": [
            0.4125
           ],
           "y": [
            330
           ]
          },
          {
           "type": "bar",
           "x": [
            0.4125
           ],
           "y": [
            470
           ]
          },
          {
           "type": "bar",
           "x": [
            0.57
           ],
           "y": [
            513
           ]
          },
          {
           "type": "bar",
           "x": [
            0.57
           ],
           "y": [
            387.00000000000006
           ]
          },
          {
           "type": "bar",
           "x": [
            0.37
           ],
           "y": [
            37
           ]
          },
          {
           "type": "bar",
           "x": [
            0.37
           ],
           "y": [
            63
           ]
          }
         ],
         "layout": {
          "annotations": [
           {
            "align": "center",
            "showarrow": false,
            "text": "p<sub>A</sub> < p<sub>B</sub>",
            "x": 0.94,
            "xref": "x2",
            "y": 850,
            "yref": "y2"
           },
           {
            "align": "center",
            "font": {
             "color": "red"
            },
            "showarrow": false,
            "text": "p<sub>Ar</sub> > p<sub>Br</sub>",
            "x": 0.94,
            "xref": "x2",
            "y": 750,
            "yref": "y2"
           },
           {
            "align": "center",
            "font": {
             "color": "red"
            },
            "showarrow": false,
            "text": "p<sub>Al</sub> > p<sub>Bl</sub>",
            "x": 0.94,
            "xref": "x2",
            "y": 650,
            "yref": "y2"
           }
          ]
         },
         "traces": [
          0,
          1,
          2,
          3,
          4,
          5,
          6,
          7,
          8,
          9,
          10,
          11
         ]
        },
        {
         "data": [
          {
           "type": "bar",
           "visible": true
          },
          {
           "type": "bar",
           "visible": true
          },
          {
           "type": "bar",
           "visible": true
          },
          {
           "type": "bar",
           "visible": true
          },
          {
           "type": "bar",
           "x": [
            0.6
           ],
           "y": [
            120
           ]
          },
          {
           "type": "bar",
           "x": [
            0.6
           ],
           "y": [
            80
           ]
          },
          {
           "type": "bar",
           "x": [
            0.4125
           ],
           "y": [
            330
           ]
          },
          {
           "type": "bar",
           "x": [
            0.4125
           ],
           "y": [
            470
           ]
          },
          {
           "type": "bar",
           "x": [
            0.57
           ],
           "y": [
            513
           ]
          },
          {
           "type": "bar",
           "x": [
            0.57
           ],
           "y": [
            387.00000000000006
           ]
          },
          {
           "type": "bar",
           "x": [
            0.37
           ],
           "y": [
            37
           ]
          },
          {
           "type": "bar",
           "x": [
            0.37
           ],
           "y": [
            63
           ]
          }
         ],
         "layout": {
          "annotations": [
           {
            "align": "center",
            "showarrow": false,
            "text": "p<sub>A</sub> < p<sub>B</sub>",
            "x": 0.94,
            "xref": "x2",
            "y": 850,
            "yref": "y2"
           },
           {
            "align": "center",
            "font": {
             "color": "red"
            },
            "showarrow": false,
            "text": "p<sub>Ar</sub> > p<sub>Br</sub>",
            "x": 0.94,
            "xref": "x2",
            "y": 750,
            "yref": "y2"
           },
           {
            "align": "center",
            "font": {
             "color": "red"
            },
            "showarrow": false,
            "text": "p<sub>Al</sub> > p<sub>Bl</sub>",
            "x": 0.94,
            "xref": "x2",
            "y": 650,
            "yref": "y2"
           }
          ]
         },
         "traces": [
          0,
          1,
          2,
          3,
          4,
          5,
          6,
          7,
          8,
          9,
          10,
          11
         ]
        },
        {
         "data": [
          {
           "type": "bar",
           "visible": true
          },
          {
           "type": "bar",
           "visible": true
          },
          {
           "type": "bar",
           "visible": true
          },
          {
           "type": "bar",
           "visible": true
          },
          {
           "type": "bar",
           "x": [
            0.6
           ],
           "y": [
            120
           ]
          },
          {
           "type": "bar",
           "x": [
            0.6
           ],
           "y": [
            80
           ]
          },
          {
           "type": "bar",
           "x": [
            0.4125
           ],
           "y": [
            330
           ]
          },
          {
           "type": "bar",
           "x": [
            0.4125
           ],
           "y": [
            470
           ]
          },
          {
           "type": "bar",
           "x": [
            0.57
           ],
           "y": [
            513
           ]
          },
          {
           "type": "bar",
           "x": [
            0.57
           ],
           "y": [
            387.00000000000006
           ]
          },
          {
           "type": "bar",
           "x": [
            0.37
           ],
           "y": [
            37
           ]
          },
          {
           "type": "bar",
           "x": [
            0.37
           ],
           "y": [
            63
           ]
          }
         ],
         "layout": {
          "annotations": [
           {
            "align": "center",
            "showarrow": false,
            "text": "p<sub>A</sub> < p<sub>B</sub>",
            "x": 0.94,
            "xref": "x2",
            "y": 850,
            "yref": "y2"
           },
           {
            "align": "center",
            "font": {
             "color": "red"
            },
            "showarrow": false,
            "text": "p<sub>Ar</sub> > p<sub>Br</sub>",
            "x": 0.94,
            "xref": "x2",
            "y": 750,
            "yref": "y2"
           },
           {
            "align": "center",
            "font": {
             "color": "red"
            },
            "showarrow": false,
            "text": "p<sub>Al</sub> > p<sub>Bl</sub>",
            "x": 0.94,
            "xref": "x2",
            "y": 650,
            "yref": "y2"
           }
          ]
         },
         "traces": [
          0,
          1,
          2,
          3,
          4,
          5,
          6,
          7,
          8,
          9,
          10,
          11
         ]
        },
        {
         "data": [
          {
           "type": "bar",
           "visible": true
          },
          {
           "type": "bar",
           "visible": true
          },
          {
           "type": "bar",
           "visible": true
          },
          {
           "type": "bar",
           "visible": true
          },
          {
           "type": "bar",
           "x": [
            0.6
           ],
           "y": [
            120
           ]
          },
          {
           "type": "bar",
           "x": [
            0.6
           ],
           "y": [
            80
           ]
          },
          {
           "type": "bar",
           "x": [
            0.4125
           ],
           "y": [
            330
           ]
          },
          {
           "type": "bar",
           "x": [
            0.4125
           ],
           "y": [
            470
           ]
          },
          {
           "type": "bar",
           "x": [
            0.57
           ],
           "y": [
            513
           ]
          },
          {
           "type": "bar",
           "x": [
            0.57
           ],
           "y": [
            387.00000000000006
           ]
          },
          {
           "type": "bar",
           "x": [
            0.37
           ],
           "y": [
            37
           ]
          },
          {
           "type": "bar",
           "x": [
            0.37
           ],
           "y": [
            63
           ]
          }
         ],
         "layout": {
          "annotations": [
           {
            "align": "center",
            "showarrow": false,
            "text": "p<sub>A</sub> < p<sub>B</sub>",
            "x": 0.94,
            "xref": "x2",
            "y": 850,
            "yref": "y2"
           },
           {
            "align": "center",
            "font": {
             "color": "red"
            },
            "showarrow": false,
            "text": "p<sub>Ar</sub> > p<sub>Br</sub>",
            "x": 0.94,
            "xref": "x2",
            "y": 750,
            "yref": "y2"
           },
           {
            "align": "center",
            "font": {
             "color": "red"
            },
            "showarrow": false,
            "text": "p<sub>Al</sub> > p<sub>Bl</sub>",
            "x": 0.94,
            "xref": "x2",
            "y": 650,
            "yref": "y2"
           }
          ]
         },
         "traces": [
          0,
          1,
          2,
          3,
          4,
          5,
          6,
          7,
          8,
          9,
          10,
          11
         ]
        },
        {
         "data": [
          {
           "type": "bar",
           "visible": true
          },
          {
           "type": "bar",
           "visible": true
          },
          {
           "type": "bar",
           "visible": true
          },
          {
           "type": "bar",
           "visible": true
          },
          {
           "type": "bar",
           "x": [
            0.6
           ],
           "y": [
            120
           ]
          },
          {
           "type": "bar",
           "x": [
            0.6
           ],
           "y": [
            80
           ]
          },
          {
           "type": "bar",
           "x": [
            0.4125
           ],
           "y": [
            330
           ]
          },
          {
           "type": "bar",
           "x": [
            0.4125
           ],
           "y": [
            470
           ]
          },
          {
           "type": "bar",
           "x": [
            0.57
           ],
           "y": [
            513
           ]
          },
          {
           "type": "bar",
           "x": [
            0.57
           ],
           "y": [
            387.00000000000006
           ]
          },
          {
           "type": "bar",
           "x": [
            0.37
           ],
           "y": [
            37
           ]
          },
          {
           "type": "bar",
           "x": [
            0.37
           ],
           "y": [
            63
           ]
          }
         ],
         "layout": {
          "annotations": [
           {
            "align": "center",
            "showarrow": false,
            "text": "p<sub>A</sub> < p<sub>B</sub>",
            "x": 0.94,
            "xref": "x2",
            "y": 850,
            "yref": "y2"
           },
           {
            "align": "center",
            "font": {
             "color": "red"
            },
            "showarrow": false,
            "text": "p<sub>Ar</sub> > p<sub>Br</sub>",
            "x": 0.94,
            "xref": "x2",
            "y": 750,
            "yref": "y2"
           },
           {
            "align": "center",
            "font": {
             "color": "red"
            },
            "showarrow": false,
            "text": "p<sub>Al</sub> > p<sub>Bl</sub>",
            "x": 0.94,
            "xref": "x2",
            "y": 650,
            "yref": "y2"
           }
          ]
         },
         "traces": [
          0,
          1,
          2,
          3,
          4,
          5,
          6,
          7,
          8,
          9,
          10,
          11
         ]
        },
        {
         "data": [
          {
           "type": "bar",
           "visible": true
          },
          {
           "type": "bar",
           "visible": true
          },
          {
           "type": "bar",
           "visible": true
          },
          {
           "type": "bar",
           "visible": true
          },
          {
           "type": "bar",
           "x": [
            0.6
           ],
           "y": [
            120
           ]
          },
          {
           "type": "bar",
           "x": [
            0.6
           ],
           "y": [
            80
           ]
          },
          {
           "type": "bar",
           "x": [
            0.4125
           ],
           "y": [
            330
           ]
          },
          {
           "type": "bar",
           "x": [
            0.4125
           ],
           "y": [
            470
           ]
          },
          {
           "type": "bar",
           "x": [
            0.57
           ],
           "y": [
            513
           ]
          },
          {
           "type": "bar",
           "x": [
            0.57
           ],
           "y": [
            387.00000000000006
           ]
          },
          {
           "type": "bar",
           "x": [
            0.37
           ],
           "y": [
            37
           ]
          },
          {
           "type": "bar",
           "x": [
            0.37
           ],
           "y": [
            63
           ]
          }
         ],
         "layout": {
          "annotations": [
           {
            "align": "center",
            "showarrow": false,
            "text": "p<sub>A</sub> < p<sub>B</sub>",
            "x": 0.94,
            "xref": "x2",
            "y": 850,
            "yref": "y2"
           },
           {
            "align": "center",
            "font": {
             "color": "red"
            },
            "showarrow": false,
            "text": "p<sub>Ar</sub> > p<sub>Br</sub>",
            "x": 0.94,
            "xref": "x2",
            "y": 750,
            "yref": "y2"
           },
           {
            "align": "center",
            "font": {
             "color": "red"
            },
            "showarrow": false,
            "text": "p<sub>Al</sub> > p<sub>Bl</sub>",
            "x": 0.94,
            "xref": "x2",
            "y": 650,
            "yref": "y2"
           }
          ]
         },
         "traces": [
          0,
          1,
          2,
          3,
          4,
          5,
          6,
          7,
          8,
          9,
          10,
          11
         ]
        },
        {
         "data": [
          {
           "type": "bar",
           "visible": true
          },
          {
           "type": "bar",
           "visible": true
          },
          {
           "type": "bar",
           "visible": true
          },
          {
           "type": "bar",
           "visible": true
          },
          {
           "type": "bar",
           "x": [
            0.6
           ],
           "y": [
            120
           ]
          },
          {
           "type": "bar",
           "x": [
            0.6
           ],
           "y": [
            80
           ]
          },
          {
           "type": "bar",
           "x": [
            0.4125
           ],
           "y": [
            330
           ]
          },
          {
           "type": "bar",
           "x": [
            0.4125
           ],
           "y": [
            470
           ]
          },
          {
           "type": "bar",
           "x": [
            0.57
           ],
           "y": [
            513
           ]
          },
          {
           "type": "bar",
           "x": [
            0.57
           ],
           "y": [
            387.00000000000006
           ]
          },
          {
           "type": "bar",
           "x": [
            0.37
           ],
           "y": [
            37
           ]
          },
          {
           "type": "bar",
           "x": [
            0.37
           ],
           "y": [
            63
           ]
          }
         ],
         "layout": {
          "annotations": [
           {
            "align": "center",
            "showarrow": false,
            "text": "p<sub>A</sub> < p<sub>B</sub>",
            "x": 0.94,
            "xref": "x2",
            "y": 850,
            "yref": "y2"
           },
           {
            "align": "center",
            "font": {
             "color": "red"
            },
            "showarrow": false,
            "text": "p<sub>Ar</sub> > p<sub>Br</sub>",
            "x": 0.94,
            "xref": "x2",
            "y": 750,
            "yref": "y2"
           },
           {
            "align": "center",
            "font": {
             "color": "red"
            },
            "showarrow": false,
            "text": "p<sub>Al</sub> > p<sub>Bl</sub>",
            "x": 0.94,
            "xref": "x2",
            "y": 650,
            "yref": "y2"
           }
          ]
         },
         "traces": [
          0,
          1,
          2,
          3,
          4,
          5,
          6,
          7,
          8,
          9,
          10,
          11
         ]
        },
        {
         "data": [
          {
           "type": "bar",
           "visible": true
          },
          {
           "type": "bar",
           "visible": true
          },
          {
           "type": "bar",
           "visible": true
          },
          {
           "type": "bar",
           "visible": true
          },
          {
           "type": "bar",
           "x": [
            0.6
           ],
           "y": [
            120
           ]
          },
          {
           "type": "bar",
           "x": [
            0.6
           ],
           "y": [
            80
           ]
          },
          {
           "type": "bar",
           "x": [
            0.4125
           ],
           "y": [
            330
           ]
          },
          {
           "type": "bar",
           "x": [
            0.4125
           ],
           "y": [
            470
           ]
          },
          {
           "type": "bar",
           "x": [
            0.57
           ],
           "y": [
            513
           ]
          },
          {
           "type": "bar",
           "x": [
            0.57
           ],
           "y": [
            387.00000000000006
           ]
          },
          {
           "type": "bar",
           "x": [
            0.37
           ],
           "y": [
            37
           ]
          },
          {
           "type": "bar",
           "x": [
            0.37
           ],
           "y": [
            63
           ]
          }
         ],
         "layout": {
          "annotations": [
           {
            "align": "center",
            "showarrow": false,
            "text": "p<sub>A</sub> < p<sub>B</sub>",
            "x": 0.94,
            "xref": "x2",
            "y": 850,
            "yref": "y2"
           },
           {
            "align": "center",
            "font": {
             "color": "red"
            },
            "showarrow": false,
            "text": "p<sub>Ar</sub> > p<sub>Br</sub>",
            "x": 0.94,
            "xref": "x2",
            "y": 750,
            "yref": "y2"
           },
           {
            "align": "center",
            "font": {
             "color": "red"
            },
            "showarrow": false,
            "text": "p<sub>Al</sub> > p<sub>Bl</sub>",
            "x": 0.94,
            "xref": "x2",
            "y": 650,
            "yref": "y2"
           }
          ]
         },
         "traces": [
          0,
          1,
          2,
          3,
          4,
          5,
          6,
          7,
          8,
          9,
          10,
          11
         ]
        },
        {
         "data": [
          {
           "type": "bar",
           "visible": true
          },
          {
           "type": "bar",
           "visible": true
          },
          {
           "type": "bar",
           "visible": true
          },
          {
           "type": "bar",
           "visible": true
          },
          {
           "type": "bar",
           "x": [
            0.6
           ],
           "y": [
            120
           ]
          },
          {
           "type": "bar",
           "x": [
            0.6
           ],
           "y": [
            80
           ]
          },
          {
           "type": "bar",
           "x": [
            0.4125
           ],
           "y": [
            330
           ]
          },
          {
           "type": "bar",
           "x": [
            0.4125
           ],
           "y": [
            470
           ]
          },
          {
           "type": "bar",
           "x": [
            0.57
           ],
           "y": [
            513
           ]
          },
          {
           "type": "bar",
           "x": [
            0.57
           ],
           "y": [
            387.00000000000006
           ]
          },
          {
           "type": "bar",
           "x": [
            0.37
           ],
           "y": [
            37
           ]
          },
          {
           "type": "bar",
           "x": [
            0.37
           ],
           "y": [
            63
           ]
          }
         ],
         "layout": {
          "annotations": [
           {
            "align": "center",
            "showarrow": false,
            "text": "p<sub>A</sub> < p<sub>B</sub>",
            "x": 0.94,
            "xref": "x2",
            "y": 850,
            "yref": "y2"
           },
           {
            "align": "center",
            "font": {
             "color": "red"
            },
            "showarrow": false,
            "text": "p<sub>Ar</sub> > p<sub>Br</sub>",
            "x": 0.94,
            "xref": "x2",
            "y": 750,
            "yref": "y2"
           },
           {
            "align": "center",
            "font": {
             "color": "red"
            },
            "showarrow": false,
            "text": "p<sub>Al</sub> > p<sub>Bl</sub>",
            "x": 0.94,
            "xref": "x2",
            "y": 650,
            "yref": "y2"
           }
          ]
         },
         "traces": [
          0,
          1,
          2,
          3,
          4,
          5,
          6,
          7,
          8,
          9,
          10,
          11
         ]
        },
        {
         "data": [
          {
           "type": "bar",
           "visible": true
          },
          {
           "type": "bar",
           "visible": true
          },
          {
           "type": "bar",
           "visible": true
          },
          {
           "type": "bar",
           "visible": true
          },
          {
           "type": "bar",
           "x": [
            0.6
           ],
           "y": [
            120
           ]
          },
          {
           "type": "bar",
           "x": [
            0.6
           ],
           "y": [
            80
           ]
          },
          {
           "type": "bar",
           "x": [
            0.4125
           ],
           "y": [
            330
           ]
          },
          {
           "type": "bar",
           "x": [
            0.4125
           ],
           "y": [
            470
           ]
          },
          {
           "type": "bar",
           "x": [
            0.57
           ],
           "y": [
            513
           ]
          },
          {
           "type": "bar",
           "x": [
            0.57
           ],
           "y": [
            387.00000000000006
           ]
          },
          {
           "type": "bar",
           "x": [
            0.37
           ],
           "y": [
            37
           ]
          },
          {
           "type": "bar",
           "x": [
            0.37
           ],
           "y": [
            63
           ]
          }
         ],
         "layout": {
          "annotations": [
           {
            "align": "center",
            "showarrow": false,
            "text": "p<sub>A</sub> < p<sub>B</sub>",
            "x": 0.94,
            "xref": "x2",
            "y": 850,
            "yref": "y2"
           },
           {
            "align": "center",
            "font": {
             "color": "red"
            },
            "showarrow": false,
            "text": "p<sub>Ar</sub> > p<sub>Br</sub>",
            "x": 0.94,
            "xref": "x2",
            "y": 750,
            "yref": "y2"
           },
           {
            "align": "center",
            "font": {
             "color": "red"
            },
            "showarrow": false,
            "text": "p<sub>Al</sub> > p<sub>Bl</sub>",
            "x": 0.94,
            "xref": "x2",
            "y": 650,
            "yref": "y2"
           }
          ]
         },
         "traces": [
          0,
          1,
          2,
          3,
          4,
          5,
          6,
          7,
          8,
          9,
          10,
          11
         ]
        },
        {
         "data": [
          {
           "type": "bar",
           "visible": true
          },
          {
           "type": "bar",
           "visible": true
          },
          {
           "type": "bar",
           "visible": true
          },
          {
           "type": "bar",
           "visible": true
          },
          {
           "type": "bar",
           "x": [
            0.6
           ],
           "y": [
            120
           ]
          },
          {
           "type": "bar",
           "x": [
            0.6
           ],
           "y": [
            80
           ]
          },
          {
           "type": "bar",
           "x": [
            0.4125
           ],
           "y": [
            330
           ]
          },
          {
           "type": "bar",
           "x": [
            0.4125
           ],
           "y": [
            470
           ]
          },
          {
           "type": "bar",
           "x": [
            0.57
           ],
           "y": [
            513
           ]
          },
          {
           "type": "bar",
           "x": [
            0.57
           ],
           "y": [
            387.00000000000006
           ]
          },
          {
           "type": "bar",
           "x": [
            0.37
           ],
           "y": [
            37
           ]
          },
          {
           "type": "bar",
           "x": [
            0.37
           ],
           "y": [
            63
           ]
          }
         ],
         "layout": {
          "annotations": [
           {
            "align": "center",
            "showarrow": false,
            "text": "p<sub>A</sub> < p<sub>B</sub>",
            "x": 0.94,
            "xref": "x2",
            "y": 850,
            "yref": "y2"
           },
           {
            "align": "center",
            "font": {
             "color": "red"
            },
            "showarrow": false,
            "text": "p<sub>Ar</sub> > p<sub>Br</sub>",
            "x": 0.94,
            "xref": "x2",
            "y": 750,
            "yref": "y2"
           },
           {
            "align": "center",
            "font": {
             "color": "red"
            },
            "showarrow": false,
            "text": "p<sub>Al</sub> > p<sub>Bl</sub>",
            "x": 0.94,
            "xref": "x2",
            "y": 650,
            "yref": "y2"
           }
          ]
         },
         "traces": [
          0,
          1,
          2,
          3,
          4,
          5,
          6,
          7,
          8,
          9,
          10,
          11
         ]
        },
        {
         "data": [
          {
           "type": "bar",
           "visible": true
          },
          {
           "type": "bar",
           "visible": true
          },
          {
           "type": "bar",
           "visible": true
          },
          {
           "type": "bar",
           "visible": true
          },
          {
           "type": "bar",
           "x": [
            0.6
           ],
           "y": [
            120
           ]
          },
          {
           "type": "bar",
           "x": [
            0.6
           ],
           "y": [
            80
           ]
          },
          {
           "type": "bar",
           "x": [
            0.4125
           ],
           "y": [
            330
           ]
          },
          {
           "type": "bar",
           "x": [
            0.4125
           ],
           "y": [
            470
           ]
          },
          {
           "type": "bar",
           "x": [
            0.57
           ],
           "y": [
            513
           ]
          },
          {
           "type": "bar",
           "x": [
            0.57
           ],
           "y": [
            387.00000000000006
           ]
          },
          {
           "type": "bar",
           "x": [
            0.37
           ],
           "y": [
            37
           ]
          },
          {
           "type": "bar",
           "x": [
            0.37
           ],
           "y": [
            63
           ]
          }
         ],
         "layout": {
          "annotations": [
           {
            "align": "center",
            "showarrow": false,
            "text": "p<sub>A</sub> < p<sub>B</sub>",
            "x": 0.94,
            "xref": "x2",
            "y": 850,
            "yref": "y2"
           },
           {
            "align": "center",
            "font": {
             "color": "red"
            },
            "showarrow": false,
            "text": "p<sub>Ar</sub> > p<sub>Br</sub>",
            "x": 0.94,
            "xref": "x2",
            "y": 750,
            "yref": "y2"
           },
           {
            "align": "center",
            "font": {
             "color": "red"
            },
            "showarrow": false,
            "text": "p<sub>Al</sub> > p<sub>Bl</sub>",
            "x": 0.94,
            "xref": "x2",
            "y": 650,
            "yref": "y2"
           }
          ]
         },
         "traces": [
          0,
          1,
          2,
          3,
          4,
          5,
          6,
          7,
          8,
          9,
          10,
          11
         ]
        },
        {
         "data": [
          {
           "type": "bar",
           "visible": true
          },
          {
           "type": "bar",
           "visible": true
          },
          {
           "type": "bar",
           "visible": true
          },
          {
           "type": "bar",
           "visible": true
          },
          {
           "type": "bar",
           "x": [
            0.6
           ],
           "y": [
            120
           ]
          },
          {
           "type": "bar",
           "x": [
            0.6
           ],
           "y": [
            80
           ]
          },
          {
           "type": "bar",
           "x": [
            0.4125
           ],
           "y": [
            330
           ]
          },
          {
           "type": "bar",
           "x": [
            0.4125
           ],
           "y": [
            470
           ]
          },
          {
           "type": "bar",
           "x": [
            0.57
           ],
           "y": [
            513
           ]
          },
          {
           "type": "bar",
           "x": [
            0.57
           ],
           "y": [
            387.00000000000006
           ]
          },
          {
           "type": "bar",
           "x": [
            0.37
           ],
           "y": [
            37
           ]
          },
          {
           "type": "bar",
           "x": [
            0.37
           ],
           "y": [
            63
           ]
          }
         ],
         "layout": {
          "annotations": [
           {
            "align": "center",
            "showarrow": false,
            "text": "p<sub>A</sub> < p<sub>B</sub>",
            "x": 0.94,
            "xref": "x2",
            "y": 850,
            "yref": "y2"
           },
           {
            "align": "center",
            "font": {
             "color": "red"
            },
            "showarrow": false,
            "text": "p<sub>Ar</sub> > p<sub>Br</sub>",
            "x": 0.94,
            "xref": "x2",
            "y": 750,
            "yref": "y2"
           },
           {
            "align": "center",
            "font": {
             "color": "red"
            },
            "showarrow": false,
            "text": "p<sub>Al</sub> > p<sub>Bl</sub>",
            "x": 0.94,
            "xref": "x2",
            "y": 650,
            "yref": "y2"
           }
          ]
         },
         "traces": [
          0,
          1,
          2,
          3,
          4,
          5,
          6,
          7,
          8,
          9,
          10,
          11
         ]
        },
        {
         "data": [
          {
           "type": "bar",
           "visible": true
          },
          {
           "type": "bar",
           "visible": true
          },
          {
           "type": "bar",
           "visible": true
          },
          {
           "type": "bar",
           "visible": true
          },
          {
           "type": "bar",
           "x": [
            0.6
           ],
           "y": [
            120
           ]
          },
          {
           "type": "bar",
           "x": [
            0.6
           ],
           "y": [
            80
           ]
          },
          {
           "type": "bar",
           "x": [
            0.4125
           ],
           "y": [
            330
           ]
          },
          {
           "type": "bar",
           "x": [
            0.4125
           ],
           "y": [
            470
           ]
          },
          {
           "type": "bar",
           "x": [
            0.57
           ],
           "y": [
            513
           ]
          },
          {
           "type": "bar",
           "x": [
            0.57
           ],
           "y": [
            387.00000000000006
           ]
          },
          {
           "type": "bar",
           "x": [
            0.37
           ],
           "y": [
            37
           ]
          },
          {
           "type": "bar",
           "x": [
            0.37
           ],
           "y": [
            63
           ]
          }
         ],
         "layout": {
          "annotations": [
           {
            "align": "center",
            "showarrow": false,
            "text": "p<sub>A</sub> < p<sub>B</sub>",
            "x": 0.94,
            "xref": "x2",
            "y": 850,
            "yref": "y2"
           },
           {
            "align": "center",
            "font": {
             "color": "red"
            },
            "showarrow": false,
            "text": "p<sub>Ar</sub> > p<sub>Br</sub>",
            "x": 0.94,
            "xref": "x2",
            "y": 750,
            "yref": "y2"
           },
           {
            "align": "center",
            "font": {
             "color": "red"
            },
            "showarrow": false,
            "text": "p<sub>Al</sub> > p<sub>Bl</sub>",
            "x": 0.94,
            "xref": "x2",
            "y": 650,
            "yref": "y2"
           }
          ]
         },
         "traces": [
          0,
          1,
          2,
          3,
          4,
          5,
          6,
          7,
          8,
          9,
          10,
          11
         ]
        },
        {
         "data": [
          {
           "type": "bar",
           "visible": true
          },
          {
           "type": "bar",
           "visible": true
          },
          {
           "type": "bar",
           "visible": true
          },
          {
           "type": "bar",
           "visible": true
          },
          {
           "type": "bar",
           "x": [
            0.6
           ],
           "y": [
            120
           ]
          },
          {
           "type": "bar",
           "x": [
            0.6
           ],
           "y": [
            80
           ]
          },
          {
           "type": "bar",
           "x": [
            0.4125
           ],
           "y": [
            330
           ]
          },
          {
           "type": "bar",
           "x": [
            0.4125
           ],
           "y": [
            470
           ]
          },
          {
           "type": "bar",
           "x": [
            0.57
           ],
           "y": [
            513
           ]
          },
          {
           "type": "bar",
           "x": [
            0.57
           ],
           "y": [
            387.00000000000006
           ]
          },
          {
           "type": "bar",
           "x": [
            0.37
           ],
           "y": [
            37
           ]
          },
          {
           "type": "bar",
           "x": [
            0.37
           ],
           "y": [
            63
           ]
          }
         ],
         "layout": {
          "annotations": [
           {
            "align": "center",
            "showarrow": false,
            "text": "p<sub>A</sub> < p<sub>B</sub>",
            "x": 0.94,
            "xref": "x2",
            "y": 850,
            "yref": "y2"
           },
           {
            "align": "center",
            "font": {
             "color": "red"
            },
            "showarrow": false,
            "text": "p<sub>Ar</sub> > p<sub>Br</sub>",
            "x": 0.94,
            "xref": "x2",
            "y": 750,
            "yref": "y2"
           },
           {
            "align": "center",
            "font": {
             "color": "red"
            },
            "showarrow": false,
            "text": "p<sub>Al</sub> > p<sub>Bl</sub>",
            "x": 0.94,
            "xref": "x2",
            "y": 650,
            "yref": "y2"
           }
          ]
         },
         "traces": [
          0,
          1,
          2,
          3,
          4,
          5,
          6,
          7,
          8,
          9,
          10,
          11
         ]
        },
        {
         "data": [
          {
           "type": "bar",
           "visible": true
          },
          {
           "type": "bar",
           "visible": true
          },
          {
           "type": "bar",
           "visible": true
          },
          {
           "type": "bar",
           "visible": true
          },
          {
           "type": "bar",
           "x": [
            0.6
           ],
           "y": [
            120
           ]
          },
          {
           "type": "bar",
           "x": [
            0.6
           ],
           "y": [
            80
           ]
          },
          {
           "type": "bar",
           "x": [
            0.4125
           ],
           "y": [
            330
           ]
          },
          {
           "type": "bar",
           "x": [
            0.4125
           ],
           "y": [
            470
           ]
          },
          {
           "type": "bar",
           "x": [
            0.57
           ],
           "y": [
            513
           ]
          },
          {
           "type": "bar",
           "x": [
            0.57
           ],
           "y": [
            387.00000000000006
           ]
          },
          {
           "type": "bar",
           "x": [
            0.37
           ],
           "y": [
            37
           ]
          },
          {
           "type": "bar",
           "x": [
            0.37
           ],
           "y": [
            63
           ]
          }
         ],
         "layout": {
          "annotations": [
           {
            "align": "center",
            "showarrow": false,
            "text": "p<sub>A</sub> < p<sub>B</sub>",
            "x": 0.94,
            "xref": "x2",
            "y": 850,
            "yref": "y2"
           },
           {
            "align": "center",
            "font": {
             "color": "red"
            },
            "showarrow": false,
            "text": "p<sub>Ar</sub> > p<sub>Br</sub>",
            "x": 0.94,
            "xref": "x2",
            "y": 750,
            "yref": "y2"
           },
           {
            "align": "center",
            "font": {
             "color": "red"
            },
            "showarrow": false,
            "text": "p<sub>Al</sub> > p<sub>Bl</sub>",
            "x": 0.94,
            "xref": "x2",
            "y": 650,
            "yref": "y2"
           }
          ]
         },
         "traces": [
          0,
          1,
          2,
          3,
          4,
          5,
          6,
          7,
          8,
          9,
          10,
          11
         ]
        },
        {
         "data": [
          {
           "type": "bar",
           "visible": true
          },
          {
           "type": "bar",
           "visible": true
          },
          {
           "type": "bar",
           "visible": true
          },
          {
           "type": "bar",
           "visible": true
          },
          {
           "type": "bar",
           "x": [
            0.6
           ],
           "y": [
            120
           ]
          },
          {
           "type": "bar",
           "x": [
            0.6
           ],
           "y": [
            80
           ]
          },
          {
           "type": "bar",
           "x": [
            0.4125
           ],
           "y": [
            330
           ]
          },
          {
           "type": "bar",
           "x": [
            0.4125
           ],
           "y": [
            470
           ]
          },
          {
           "type": "bar",
           "x": [
            0.57
           ],
           "y": [
            513
           ]
          },
          {
           "type": "bar",
           "x": [
            0.57
           ],
           "y": [
            387.00000000000006
           ]
          },
          {
           "type": "bar",
           "x": [
            0.37
           ],
           "y": [
            37
           ]
          },
          {
           "type": "bar",
           "x": [
            0.37
           ],
           "y": [
            63
           ]
          }
         ],
         "layout": {
          "annotations": [
           {
            "align": "center",
            "showarrow": false,
            "text": "p<sub>A</sub> < p<sub>B</sub>",
            "x": 0.94,
            "xref": "x2",
            "y": 850,
            "yref": "y2"
           },
           {
            "align": "center",
            "font": {
             "color": "red"
            },
            "showarrow": false,
            "text": "p<sub>Ar</sub> > p<sub>Br</sub>",
            "x": 0.94,
            "xref": "x2",
            "y": 750,
            "yref": "y2"
           },
           {
            "align": "center",
            "font": {
             "color": "red"
            },
            "showarrow": false,
            "text": "p<sub>Al</sub> > p<sub>Bl</sub>",
            "x": 0.94,
            "xref": "x2",
            "y": 650,
            "yref": "y2"
           }
          ]
         },
         "traces": [
          0,
          1,
          2,
          3,
          4,
          5,
          6,
          7,
          8,
          9,
          10,
          11
         ]
        },
        {
         "data": [
          {
           "type": "bar",
           "visible": true
          },
          {
           "type": "bar",
           "visible": true
          },
          {
           "type": "bar",
           "visible": true
          },
          {
           "type": "bar",
           "visible": true
          },
          {
           "type": "bar",
           "x": [
            0.6
           ],
           "y": [
            120
           ]
          },
          {
           "type": "bar",
           "x": [
            0.6
           ],
           "y": [
            80
           ]
          },
          {
           "type": "bar",
           "x": [
            0.4125
           ],
           "y": [
            330
           ]
          },
          {
           "type": "bar",
           "x": [
            0.4125
           ],
           "y": [
            470
           ]
          },
          {
           "type": "bar",
           "x": [
            0.57
           ],
           "y": [
            513
           ]
          },
          {
           "type": "bar",
           "x": [
            0.57
           ],
           "y": [
            387.00000000000006
           ]
          },
          {
           "type": "bar",
           "x": [
            0.37
           ],
           "y": [
            37
           ]
          },
          {
           "type": "bar",
           "x": [
            0.37
           ],
           "y": [
            63
           ]
          }
         ],
         "layout": {
          "annotations": [
           {
            "align": "center",
            "showarrow": false,
            "text": "p<sub>A</sub> < p<sub>B</sub>",
            "x": 0.94,
            "xref": "x2",
            "y": 850,
            "yref": "y2"
           },
           {
            "align": "center",
            "font": {
             "color": "red"
            },
            "showarrow": false,
            "text": "p<sub>Ar</sub> > p<sub>Br</sub>",
            "x": 0.94,
            "xref": "x2",
            "y": 750,
            "yref": "y2"
           },
           {
            "align": "center",
            "font": {
             "color": "red"
            },
            "showarrow": false,
            "text": "p<sub>Al</sub> > p<sub>Bl</sub>",
            "x": 0.94,
            "xref": "x2",
            "y": 650,
            "yref": "y2"
           }
          ]
         },
         "traces": [
          0,
          1,
          2,
          3,
          4,
          5,
          6,
          7,
          8,
          9,
          10,
          11
         ]
        },
        {
         "data": [
          {
           "type": "bar",
           "visible": true
          },
          {
           "type": "bar",
           "visible": true
          },
          {
           "type": "bar",
           "visible": true
          },
          {
           "type": "bar",
           "visible": true
          },
          {
           "type": "bar",
           "x": [
            0.6
           ],
           "y": [
            120
           ]
          },
          {
           "type": "bar",
           "x": [
            0.6
           ],
           "y": [
            80
           ]
          },
          {
           "type": "bar",
           "x": [
            0.4125
           ],
           "y": [
            330
           ]
          },
          {
           "type": "bar",
           "x": [
            0.4125
           ],
           "y": [
            470
           ]
          },
          {
           "type": "bar",
           "x": [
            0.57
           ],
           "y": [
            513
           ]
          },
          {
           "type": "bar",
           "x": [
            0.57
           ],
           "y": [
            387.00000000000006
           ]
          },
          {
           "type": "bar",
           "x": [
            0.37
           ],
           "y": [
            37
           ]
          },
          {
           "type": "bar",
           "x": [
            0.37
           ],
           "y": [
            63
           ]
          }
         ],
         "layout": {
          "annotations": [
           {
            "align": "center",
            "showarrow": false,
            "text": "p<sub>A</sub> < p<sub>B</sub>",
            "x": 0.94,
            "xref": "x2",
            "y": 850,
            "yref": "y2"
           },
           {
            "align": "center",
            "font": {
             "color": "red"
            },
            "showarrow": false,
            "text": "p<sub>Ar</sub> > p<sub>Br</sub>",
            "x": 0.94,
            "xref": "x2",
            "y": 750,
            "yref": "y2"
           },
           {
            "align": "center",
            "font": {
             "color": "red"
            },
            "showarrow": false,
            "text": "p<sub>Al</sub> > p<sub>Bl</sub>",
            "x": 0.94,
            "xref": "x2",
            "y": 650,
            "yref": "y2"
           }
          ]
         },
         "traces": [
          0,
          1,
          2,
          3,
          4,
          5,
          6,
          7,
          8,
          9,
          10,
          11
         ]
        },
        {
         "data": [
          {
           "type": "bar",
           "visible": true
          },
          {
           "type": "bar",
           "visible": true
          },
          {
           "type": "bar",
           "visible": true
          },
          {
           "type": "bar",
           "visible": true
          },
          {
           "type": "bar",
           "x": [
            0.5899
           ],
           "y": [
            117.97999999999999
           ]
          },
          {
           "type": "bar",
           "x": [
            0.5899
           ],
           "y": [
            82.02000000000001
           ]
          },
          {
           "type": "bar",
           "x": [
            0.415025
           ],
           "y": [
            332.02
           ]
          },
          {
           "type": "bar",
           "x": [
            0.415025
           ],
           "y": [
            467.98
           ]
          },
          {
           "type": "bar",
           "x": [
            0.57
           ],
           "y": [
            513
           ]
          },
          {
           "type": "bar",
           "x": [
            0.57
           ],
           "y": [
            387.00000000000006
           ]
          },
          {
           "type": "bar",
           "x": [
            0.37
           ],
           "y": [
            37
           ]
          },
          {
           "type": "bar",
           "x": [
            0.37
           ],
           "y": [
            63
           ]
          }
         ],
         "layout": {
          "annotations": [
           {
            "align": "center",
            "showarrow": false,
            "text": "p<sub>A</sub> < p<sub>B</sub>",
            "x": 0.94,
            "xref": "x2",
            "y": 850,
            "yref": "y2"
           },
           {
            "align": "center",
            "font": {
             "color": "red"
            },
            "showarrow": false,
            "text": "p<sub>Ar</sub> > p<sub>Br</sub>",
            "x": 0.94,
            "xref": "x2",
            "y": 750,
            "yref": "y2"
           },
           {
            "align": "center",
            "font": {
             "color": "red"
            },
            "showarrow": false,
            "text": "p<sub>Al</sub> > p<sub>Bl</sub>",
            "x": 0.94,
            "xref": "x2",
            "y": 650,
            "yref": "y2"
           }
          ]
         },
         "traces": [
          0,
          1,
          2,
          3,
          4,
          5,
          6,
          7,
          8,
          9,
          10,
          11
         ]
        },
        {
         "data": [
          {
           "type": "bar",
           "visible": true
          },
          {
           "type": "bar",
           "visible": true
          },
          {
           "type": "bar",
           "visible": true
          },
          {
           "type": "bar",
           "visible": true
          },
          {
           "type": "bar",
           "x": [
            0.5798
           ],
           "y": [
            115.96
           ]
          },
          {
           "type": "bar",
           "x": [
            0.5798
           ],
           "y": [
            84.04
           ]
          },
          {
           "type": "bar",
           "x": [
            0.41755000000000003
           ],
           "y": [
            334.04
           ]
          },
          {
           "type": "bar",
           "x": [
            0.41755000000000003
           ],
           "y": [
            465.9599999999999
           ]
          },
          {
           "type": "bar",
           "x": [
            0.57
           ],
           "y": [
            513
           ]
          },
          {
           "type": "bar",
           "x": [
            0.57
           ],
           "y": [
            387.00000000000006
           ]
          },
          {
           "type": "bar",
           "x": [
            0.37
           ],
           "y": [
            37
           ]
          },
          {
           "type": "bar",
           "x": [
            0.37
           ],
           "y": [
            63
           ]
          }
         ],
         "layout": {
          "annotations": [
           {
            "align": "center",
            "showarrow": false,
            "text": "p<sub>A</sub> < p<sub>B</sub>",
            "x": 0.94,
            "xref": "x2",
            "y": 850,
            "yref": "y2"
           },
           {
            "align": "center",
            "font": {
             "color": "red"
            },
            "showarrow": false,
            "text": "p<sub>Ar</sub> > p<sub>Br</sub>",
            "x": 0.94,
            "xref": "x2",
            "y": 750,
            "yref": "y2"
           },
           {
            "align": "center",
            "font": {
             "color": "red"
            },
            "showarrow": false,
            "text": "p<sub>Al</sub> > p<sub>Bl</sub>",
            "x": 0.94,
            "xref": "x2",
            "y": 650,
            "yref": "y2"
           }
          ]
         },
         "traces": [
          0,
          1,
          2,
          3,
          4,
          5,
          6,
          7,
          8,
          9,
          10,
          11
         ]
        },
        {
         "data": [
          {
           "type": "bar",
           "visible": true
          },
          {
           "type": "bar",
           "visible": true
          },
          {
           "type": "bar",
           "visible": true
          },
          {
           "type": "bar",
           "visible": true
          },
          {
           "type": "bar",
           "x": [
            0.5697
           ],
           "y": [
            113.94
           ]
          },
          {
           "type": "bar",
           "x": [
            0.5697
           ],
           "y": [
            86.06
           ]
          },
          {
           "type": "bar",
           "x": [
            0.420075
           ],
           "y": [
            336.06
           ]
          },
          {
           "type": "bar",
           "x": [
            0.420075
           ],
           "y": [
            463.94
           ]
          },
          {
           "type": "bar",
           "x": [
            0.57
           ],
           "y": [
            513
           ]
          },
          {
           "type": "bar",
           "x": [
            0.57
           ],
           "y": [
            387.00000000000006
           ]
          },
          {
           "type": "bar",
           "x": [
            0.37
           ],
           "y": [
            37
           ]
          },
          {
           "type": "bar",
           "x": [
            0.37
           ],
           "y": [
            63
           ]
          }
         ],
         "layout": {
          "annotations": [
           {
            "align": "center",
            "showarrow": false,
            "text": "p<sub>A</sub> < p<sub>B</sub>",
            "x": 0.94,
            "xref": "x2",
            "y": 850,
            "yref": "y2"
           },
           {
            "align": "center",
            "font": {
             "color": "darkslategrey"
            },
            "showarrow": false,
            "text": "p<sub>Ar</sub> < p<sub>Br</sub>",
            "x": 0.94,
            "xref": "x2",
            "y": 750,
            "yref": "y2"
           },
           {
            "align": "center",
            "font": {
             "color": "red"
            },
            "showarrow": false,
            "text": "p<sub>Al</sub> > p<sub>Bl</sub>",
            "x": 0.94,
            "xref": "x2",
            "y": 650,
            "yref": "y2"
           }
          ]
         },
         "traces": [
          0,
          1,
          2,
          3,
          4,
          5,
          6,
          7,
          8,
          9,
          10,
          11
         ]
        },
        {
         "data": [
          {
           "type": "bar",
           "visible": true
          },
          {
           "type": "bar",
           "visible": true
          },
          {
           "type": "bar",
           "visible": true
          },
          {
           "type": "bar",
           "visible": true
          },
          {
           "type": "bar",
           "x": [
            0.5596
           ],
           "y": [
            111.92
           ]
          },
          {
           "type": "bar",
           "x": [
            0.5596
           ],
           "y": [
            88.08
           ]
          },
          {
           "type": "bar",
           "x": [
            0.4226
           ],
           "y": [
            338.08
           ]
          },
          {
           "type": "bar",
           "x": [
            0.4226
           ],
           "y": [
            461.92
           ]
          },
          {
           "type": "bar",
           "x": [
            0.57
           ],
           "y": [
            513
           ]
          },
          {
           "type": "bar",
           "x": [
            0.57
           ],
           "y": [
            387.00000000000006
           ]
          },
          {
           "type": "bar",
           "x": [
            0.37
           ],
           "y": [
            37
           ]
          },
          {
           "type": "bar",
           "x": [
            0.37
           ],
           "y": [
            63
           ]
          }
         ],
         "layout": {
          "annotations": [
           {
            "align": "center",
            "showarrow": false,
            "text": "p<sub>A</sub> < p<sub>B</sub>",
            "x": 0.94,
            "xref": "x2",
            "y": 850,
            "yref": "y2"
           },
           {
            "align": "center",
            "font": {
             "color": "darkslategrey"
            },
            "showarrow": false,
            "text": "p<sub>Ar</sub> < p<sub>Br</sub>",
            "x": 0.94,
            "xref": "x2",
            "y": 750,
            "yref": "y2"
           },
           {
            "align": "center",
            "font": {
             "color": "red"
            },
            "showarrow": false,
            "text": "p<sub>Al</sub> > p<sub>Bl</sub>",
            "x": 0.94,
            "xref": "x2",
            "y": 650,
            "yref": "y2"
           }
          ]
         },
         "traces": [
          0,
          1,
          2,
          3,
          4,
          5,
          6,
          7,
          8,
          9,
          10,
          11
         ]
        },
        {
         "data": [
          {
           "type": "bar",
           "visible": true
          },
          {
           "type": "bar",
           "visible": true
          },
          {
           "type": "bar",
           "visible": true
          },
          {
           "type": "bar",
           "visible": true
          },
          {
           "type": "bar",
           "x": [
            0.5495
           ],
           "y": [
            109.89999999999999
           ]
          },
          {
           "type": "bar",
           "x": [
            0.5495
           ],
           "y": [
            90.10000000000001
           ]
          },
          {
           "type": "bar",
           "x": [
            0.42512500000000003
           ],
           "y": [
            340.1
           ]
          },
          {
           "type": "bar",
           "x": [
            0.42512500000000003
           ],
           "y": [
            459.90000000000003
           ]
          },
          {
           "type": "bar",
           "x": [
            0.57
           ],
           "y": [
            513
           ]
          },
          {
           "type": "bar",
           "x": [
            0.57
           ],
           "y": [
            387.00000000000006
           ]
          },
          {
           "type": "bar",
           "x": [
            0.37
           ],
           "y": [
            37
           ]
          },
          {
           "type": "bar",
           "x": [
            0.37
           ],
           "y": [
            63
           ]
          }
         ],
         "layout": {
          "annotations": [
           {
            "align": "center",
            "showarrow": false,
            "text": "p<sub>A</sub> < p<sub>B</sub>",
            "x": 0.94,
            "xref": "x2",
            "y": 850,
            "yref": "y2"
           },
           {
            "align": "center",
            "font": {
             "color": "darkslategrey"
            },
            "showarrow": false,
            "text": "p<sub>Ar</sub> < p<sub>Br</sub>",
            "x": 0.94,
            "xref": "x2",
            "y": 750,
            "yref": "y2"
           },
           {
            "align": "center",
            "font": {
             "color": "red"
            },
            "showarrow": false,
            "text": "p<sub>Al</sub> > p<sub>Bl</sub>",
            "x": 0.94,
            "xref": "x2",
            "y": 650,
            "yref": "y2"
           }
          ]
         },
         "traces": [
          0,
          1,
          2,
          3,
          4,
          5,
          6,
          7,
          8,
          9,
          10,
          11
         ]
        },
        {
         "data": [
          {
           "type": "bar",
           "visible": true
          },
          {
           "type": "bar",
           "visible": true
          },
          {
           "type": "bar",
           "visible": true
          },
          {
           "type": "bar",
           "visible": true
          },
          {
           "type": "bar",
           "x": [
            0.5394
           ],
           "y": [
            107.88
           ]
          },
          {
           "type": "bar",
           "x": [
            0.5394
           ],
           "y": [
            92.12
           ]
          },
          {
           "type": "bar",
           "x": [
            0.42765000000000003
           ],
           "y": [
            342.12
           ]
          },
          {
           "type": "bar",
           "x": [
            0.42765000000000003
           ],
           "y": [
            457.87999999999994
           ]
          },
          {
           "type": "bar",
           "x": [
            0.57
           ],
           "y": [
            513
           ]
          },
          {
           "type": "bar",
           "x": [
            0.57
           ],
           "y": [
            387.00000000000006
           ]
          },
          {
           "type": "bar",
           "x": [
            0.37
           ],
           "y": [
            37
           ]
          },
          {
           "type": "bar",
           "x": [
            0.37
           ],
           "y": [
            63
           ]
          }
         ],
         "layout": {
          "annotations": [
           {
            "align": "center",
            "showarrow": false,
            "text": "p<sub>A</sub> < p<sub>B</sub>",
            "x": 0.94,
            "xref": "x2",
            "y": 850,
            "yref": "y2"
           },
           {
            "align": "center",
            "font": {
             "color": "darkslategrey"
            },
            "showarrow": false,
            "text": "p<sub>Ar</sub> < p<sub>Br</sub>",
            "x": 0.94,
            "xref": "x2",
            "y": 750,
            "yref": "y2"
           },
           {
            "align": "center",
            "font": {
             "color": "red"
            },
            "showarrow": false,
            "text": "p<sub>Al</sub> > p<sub>Bl</sub>",
            "x": 0.94,
            "xref": "x2",
            "y": 650,
            "yref": "y2"
           }
          ]
         },
         "traces": [
          0,
          1,
          2,
          3,
          4,
          5,
          6,
          7,
          8,
          9,
          10,
          11
         ]
        },
        {
         "data": [
          {
           "type": "bar",
           "visible": true
          },
          {
           "type": "bar",
           "visible": true
          },
          {
           "type": "bar",
           "visible": true
          },
          {
           "type": "bar",
           "visible": true
          },
          {
           "type": "bar",
           "x": [
            0.5293
           ],
           "y": [
            105.86
           ]
          },
          {
           "type": "bar",
           "x": [
            0.5293
           ],
           "y": [
            94.14
           ]
          },
          {
           "type": "bar",
           "x": [
            0.430175
           ],
           "y": [
            344.14
           ]
          },
          {
           "type": "bar",
           "x": [
            0.430175
           ],
           "y": [
            455.86
           ]
          },
          {
           "type": "bar",
           "x": [
            0.57
           ],
           "y": [
            513
           ]
          },
          {
           "type": "bar",
           "x": [
            0.57
           ],
           "y": [
            387.00000000000006
           ]
          },
          {
           "type": "bar",
           "x": [
            0.37
           ],
           "y": [
            37
           ]
          },
          {
           "type": "bar",
           "x": [
            0.37
           ],
           "y": [
            63
           ]
          }
         ],
         "layout": {
          "annotations": [
           {
            "align": "center",
            "showarrow": false,
            "text": "p<sub>A</sub> < p<sub>B</sub>",
            "x": 0.94,
            "xref": "x2",
            "y": 850,
            "yref": "y2"
           },
           {
            "align": "center",
            "font": {
             "color": "darkslategrey"
            },
            "showarrow": false,
            "text": "p<sub>Ar</sub> < p<sub>Br</sub>",
            "x": 0.94,
            "xref": "x2",
            "y": 750,
            "yref": "y2"
           },
           {
            "align": "center",
            "font": {
             "color": "red"
            },
            "showarrow": false,
            "text": "p<sub>Al</sub> > p<sub>Bl</sub>",
            "x": 0.94,
            "xref": "x2",
            "y": 650,
            "yref": "y2"
           }
          ]
         },
         "traces": [
          0,
          1,
          2,
          3,
          4,
          5,
          6,
          7,
          8,
          9,
          10,
          11
         ]
        },
        {
         "data": [
          {
           "type": "bar",
           "visible": true
          },
          {
           "type": "bar",
           "visible": true
          },
          {
           "type": "bar",
           "visible": true
          },
          {
           "type": "bar",
           "visible": true
          },
          {
           "type": "bar",
           "x": [
            0.5192
           ],
           "y": [
            103.84
           ]
          },
          {
           "type": "bar",
           "x": [
            0.5192
           ],
           "y": [
            96.16
           ]
          },
          {
           "type": "bar",
           "x": [
            0.4327
           ],
           "y": [
            346.15999999999997
           ]
          },
          {
           "type": "bar",
           "x": [
            0.4327
           ],
           "y": [
            453.84000000000003
           ]
          },
          {
           "type": "bar",
           "x": [
            0.57
           ],
           "y": [
            513
           ]
          },
          {
           "type": "bar",
           "x": [
            0.57
           ],
           "y": [
            387.00000000000006
           ]
          },
          {
           "type": "bar",
           "x": [
            0.37
           ],
           "y": [
            37
           ]
          },
          {
           "type": "bar",
           "x": [
            0.37
           ],
           "y": [
            63
           ]
          }
         ],
         "layout": {
          "annotations": [
           {
            "align": "center",
            "showarrow": false,
            "text": "p<sub>A</sub> < p<sub>B</sub>",
            "x": 0.94,
            "xref": "x2",
            "y": 850,
            "yref": "y2"
           },
           {
            "align": "center",
            "font": {
             "color": "darkslategrey"
            },
            "showarrow": false,
            "text": "p<sub>Ar</sub> < p<sub>Br</sub>",
            "x": 0.94,
            "xref": "x2",
            "y": 750,
            "yref": "y2"
           },
           {
            "align": "center",
            "font": {
             "color": "red"
            },
            "showarrow": false,
            "text": "p<sub>Al</sub> > p<sub>Bl</sub>",
            "x": 0.94,
            "xref": "x2",
            "y": 650,
            "yref": "y2"
           }
          ]
         },
         "traces": [
          0,
          1,
          2,
          3,
          4,
          5,
          6,
          7,
          8,
          9,
          10,
          11
         ]
        },
        {
         "data": [
          {
           "type": "bar",
           "visible": true
          },
          {
           "type": "bar",
           "visible": true
          },
          {
           "type": "bar",
           "visible": true
          },
          {
           "type": "bar",
           "visible": true
          },
          {
           "type": "bar",
           "x": [
            0.5091
           ],
           "y": [
            101.82
           ]
          },
          {
           "type": "bar",
           "x": [
            0.5091
           ],
           "y": [
            98.18
           ]
          },
          {
           "type": "bar",
           "x": [
            0.43522500000000003
           ],
           "y": [
            348.18
           ]
          },
          {
           "type": "bar",
           "x": [
            0.43522500000000003
           ],
           "y": [
            451.82000000000005
           ]
          },
          {
           "type": "bar",
           "x": [
            0.57
           ],
           "y": [
            513
           ]
          },
          {
           "type": "bar",
           "x": [
            0.57
           ],
           "y": [
            387.00000000000006
           ]
          },
          {
           "type": "bar",
           "x": [
            0.37
           ],
           "y": [
            37
           ]
          },
          {
           "type": "bar",
           "x": [
            0.37
           ],
           "y": [
            63
           ]
          }
         ],
         "layout": {
          "annotations": [
           {
            "align": "center",
            "showarrow": false,
            "text": "p<sub>A</sub> < p<sub>B</sub>",
            "x": 0.94,
            "xref": "x2",
            "y": 850,
            "yref": "y2"
           },
           {
            "align": "center",
            "font": {
             "color": "darkslategrey"
            },
            "showarrow": false,
            "text": "p<sub>Ar</sub> < p<sub>Br</sub>",
            "x": 0.94,
            "xref": "x2",
            "y": 750,
            "yref": "y2"
           },
           {
            "align": "center",
            "font": {
             "color": "red"
            },
            "showarrow": false,
            "text": "p<sub>Al</sub> > p<sub>Bl</sub>",
            "x": 0.94,
            "xref": "x2",
            "y": 650,
            "yref": "y2"
           }
          ]
         },
         "traces": [
          0,
          1,
          2,
          3,
          4,
          5,
          6,
          7,
          8,
          9,
          10,
          11
         ]
        },
        {
         "data": [
          {
           "type": "bar",
           "visible": true
          },
          {
           "type": "bar",
           "visible": true
          },
          {
           "type": "bar",
           "visible": true
          },
          {
           "type": "bar",
           "visible": true
          },
          {
           "type": "bar",
           "x": [
            0.499
           ],
           "y": [
            99.8
           ]
          },
          {
           "type": "bar",
           "x": [
            0.499
           ],
           "y": [
            100.2
           ]
          },
          {
           "type": "bar",
           "x": [
            0.43775
           ],
           "y": [
            350.2
           ]
          },
          {
           "type": "bar",
           "x": [
            0.43775
           ],
           "y": [
            449.8
           ]
          },
          {
           "type": "bar",
           "x": [
            0.57
           ],
           "y": [
            513
           ]
          },
          {
           "type": "bar",
           "x": [
            0.57
           ],
           "y": [
            387.00000000000006
           ]
          },
          {
           "type": "bar",
           "x": [
            0.37
           ],
           "y": [
            37
           ]
          },
          {
           "type": "bar",
           "x": [
            0.37
           ],
           "y": [
            63
           ]
          }
         ],
         "layout": {
          "annotations": [
           {
            "align": "center",
            "showarrow": false,
            "text": "p<sub>A</sub> < p<sub>B</sub>",
            "x": 0.94,
            "xref": "x2",
            "y": 850,
            "yref": "y2"
           },
           {
            "align": "center",
            "font": {
             "color": "darkslategrey"
            },
            "showarrow": false,
            "text": "p<sub>Ar</sub> < p<sub>Br</sub>",
            "x": 0.94,
            "xref": "x2",
            "y": 750,
            "yref": "y2"
           },
           {
            "align": "center",
            "font": {
             "color": "red"
            },
            "showarrow": false,
            "text": "p<sub>Al</sub> > p<sub>Bl</sub>",
            "x": 0.94,
            "xref": "x2",
            "y": 650,
            "yref": "y2"
           }
          ]
         },
         "traces": [
          0,
          1,
          2,
          3,
          4,
          5,
          6,
          7,
          8,
          9,
          10,
          11
         ]
        },
        {
         "data": [
          {
           "type": "bar",
           "visible": true
          },
          {
           "type": "bar",
           "visible": true
          },
          {
           "type": "bar",
           "visible": true
          },
          {
           "type": "bar",
           "visible": true
          },
          {
           "type": "bar",
           "x": [
            0.4889
           ],
           "y": [
            97.78
           ]
          },
          {
           "type": "bar",
           "x": [
            0.4889
           ],
           "y": [
            102.22
           ]
          },
          {
           "type": "bar",
           "x": [
            0.440275
           ],
           "y": [
            352.22
           ]
          },
          {
           "type": "bar",
           "x": [
            0.440275
           ],
           "y": [
            447.78000000000003
           ]
          },
          {
           "type": "bar",
           "x": [
            0.57
           ],
           "y": [
            513
           ]
          },
          {
           "type": "bar",
           "x": [
            0.57
           ],
           "y": [
            387.00000000000006
           ]
          },
          {
           "type": "bar",
           "x": [
            0.37
           ],
           "y": [
            37
           ]
          },
          {
           "type": "bar",
           "x": [
            0.37
           ],
           "y": [
            63
           ]
          }
         ],
         "layout": {
          "annotations": [
           {
            "align": "center",
            "showarrow": false,
            "text": "p<sub>A</sub> < p<sub>B</sub>",
            "x": 0.94,
            "xref": "x2",
            "y": 850,
            "yref": "y2"
           },
           {
            "align": "center",
            "font": {
             "color": "darkslategrey"
            },
            "showarrow": false,
            "text": "p<sub>Ar</sub> < p<sub>Br</sub>",
            "x": 0.94,
            "xref": "x2",
            "y": 750,
            "yref": "y2"
           },
           {
            "align": "center",
            "font": {
             "color": "red"
            },
            "showarrow": false,
            "text": "p<sub>Al</sub> > p<sub>Bl</sub>",
            "x": 0.94,
            "xref": "x2",
            "y": 650,
            "yref": "y2"
           }
          ]
         },
         "traces": [
          0,
          1,
          2,
          3,
          4,
          5,
          6,
          7,
          8,
          9,
          10,
          11
         ]
        },
        {
         "data": [
          {
           "type": "bar",
           "visible": true
          },
          {
           "type": "bar",
           "visible": true
          },
          {
           "type": "bar",
           "visible": true
          },
          {
           "type": "bar",
           "visible": true
          },
          {
           "type": "bar",
           "x": [
            0.4788
           ],
           "y": [
            95.76
           ]
          },
          {
           "type": "bar",
           "x": [
            0.4788
           ],
           "y": [
            104.24
           ]
          },
          {
           "type": "bar",
           "x": [
            0.4428
           ],
           "y": [
            354.24
           ]
          },
          {
           "type": "bar",
           "x": [
            0.4428
           ],
           "y": [
            445.75999999999993
           ]
          },
          {
           "type": "bar",
           "x": [
            0.57
           ],
           "y": [
            513
           ]
          },
          {
           "type": "bar",
           "x": [
            0.57
           ],
           "y": [
            387.00000000000006
           ]
          },
          {
           "type": "bar",
           "x": [
            0.37
           ],
           "y": [
            37
           ]
          },
          {
           "type": "bar",
           "x": [
            0.37
           ],
           "y": [
            63
           ]
          }
         ],
         "layout": {
          "annotations": [
           {
            "align": "center",
            "showarrow": false,
            "text": "p<sub>A</sub> < p<sub>B</sub>",
            "x": 0.94,
            "xref": "x2",
            "y": 850,
            "yref": "y2"
           },
           {
            "align": "center",
            "font": {
             "color": "darkslategrey"
            },
            "showarrow": false,
            "text": "p<sub>Ar</sub> < p<sub>Br</sub>",
            "x": 0.94,
            "xref": "x2",
            "y": 750,
            "yref": "y2"
           },
           {
            "align": "center",
            "font": {
             "color": "red"
            },
            "showarrow": false,
            "text": "p<sub>Al</sub> > p<sub>Bl</sub>",
            "x": 0.94,
            "xref": "x2",
            "y": 650,
            "yref": "y2"
           }
          ]
         },
         "traces": [
          0,
          1,
          2,
          3,
          4,
          5,
          6,
          7,
          8,
          9,
          10,
          11
         ]
        },
        {
         "data": [
          {
           "type": "bar",
           "visible": true
          },
          {
           "type": "bar",
           "visible": true
          },
          {
           "type": "bar",
           "visible": true
          },
          {
           "type": "bar",
           "visible": true
          },
          {
           "type": "bar",
           "x": [
            0.47
           ],
           "y": [
            94
           ]
          },
          {
           "type": "bar",
           "x": [
            0.47
           ],
           "y": [
            106
           ]
          },
          {
           "type": "bar",
           "x": [
            0.445
           ],
           "y": [
            356
           ]
          },
          {
           "type": "bar",
           "x": [
            0.445
           ],
           "y": [
            443.99999999999994
           ]
          },
          {
           "type": "bar",
           "x": [
            0.57
           ],
           "y": [
            513
           ]
          },
          {
           "type": "bar",
           "x": [
            0.57
           ],
           "y": [
            387.00000000000006
           ]
          },
          {
           "type": "bar",
           "x": [
            0.37
           ],
           "y": [
            37
           ]
          },
          {
           "type": "bar",
           "x": [
            0.37
           ],
           "y": [
            63
           ]
          }
         ],
         "layout": {
          "annotations": [
           {
            "align": "center",
            "showarrow": false,
            "text": "p<sub>A</sub> < p<sub>B</sub>",
            "x": 0.94,
            "xref": "x2",
            "y": 850,
            "yref": "y2"
           },
           {
            "align": "center",
            "font": {
             "color": "darkslategrey"
            },
            "showarrow": false,
            "text": "p<sub>Ar</sub> < p<sub>Br</sub>",
            "x": 0.94,
            "xref": "x2",
            "y": 750,
            "yref": "y2"
           },
           {
            "align": "center",
            "font": {
             "color": "red"
            },
            "showarrow": false,
            "text": "p<sub>Al</sub> > p<sub>Bl</sub>",
            "x": 0.94,
            "xref": "x2",
            "y": 650,
            "yref": "y2"
           }
          ]
         },
         "traces": [
          0,
          1,
          2,
          3,
          4,
          5,
          6,
          7,
          8,
          9,
          10,
          11
         ]
        },
        {
         "data": [
          {
           "type": "bar",
           "visible": true
          },
          {
           "type": "bar",
           "visible": true
          },
          {
           "type": "bar",
           "visible": true
          },
          {
           "type": "bar",
           "visible": true
          },
          {
           "type": "bar",
           "x": [
            0.47
           ],
           "y": [
            94
           ]
          },
          {
           "type": "bar",
           "x": [
            0.47
           ],
           "y": [
            106
           ]
          },
          {
           "type": "bar",
           "x": [
            0.445
           ],
           "y": [
            356
           ]
          },
          {
           "type": "bar",
           "x": [
            0.445
           ],
           "y": [
            443.99999999999994
           ]
          },
          {
           "type": "bar",
           "x": [
            0.57
           ],
           "y": [
            513
           ]
          },
          {
           "type": "bar",
           "x": [
            0.57
           ],
           "y": [
            387.00000000000006
           ]
          },
          {
           "type": "bar",
           "x": [
            0.37
           ],
           "y": [
            37
           ]
          },
          {
           "type": "bar",
           "x": [
            0.37
           ],
           "y": [
            63
           ]
          }
         ],
         "layout": {
          "annotations": [
           {
            "align": "center",
            "showarrow": false,
            "text": "p<sub>A</sub> < p<sub>B</sub>",
            "x": 0.94,
            "xref": "x2",
            "y": 850,
            "yref": "y2"
           },
           {
            "align": "center",
            "font": {
             "color": "darkslategrey"
            },
            "showarrow": false,
            "text": "p<sub>Ar</sub> < p<sub>Br</sub>",
            "x": 0.94,
            "xref": "x2",
            "y": 750,
            "yref": "y2"
           },
           {
            "align": "center",
            "font": {
             "color": "red"
            },
            "showarrow": false,
            "text": "p<sub>Al</sub> > p<sub>Bl</sub>",
            "x": 0.94,
            "xref": "x2",
            "y": 650,
            "yref": "y2"
           }
          ]
         },
         "traces": [
          0,
          1,
          2,
          3,
          4,
          5,
          6,
          7,
          8,
          9,
          10,
          11
         ]
        },
        {
         "data": [
          {
           "type": "bar",
           "visible": true
          },
          {
           "type": "bar",
           "visible": true
          },
          {
           "type": "bar",
           "visible": true
          },
          {
           "type": "bar",
           "visible": true
          },
          {
           "type": "bar",
           "x": [
            0.47
           ],
           "y": [
            94
           ]
          },
          {
           "type": "bar",
           "x": [
            0.47
           ],
           "y": [
            106
           ]
          },
          {
           "type": "bar",
           "x": [
            0.445
           ],
           "y": [
            356
           ]
          },
          {
           "type": "bar",
           "x": [
            0.445
           ],
           "y": [
            443.99999999999994
           ]
          },
          {
           "type": "bar",
           "x": [
            0.57
           ],
           "y": [
            513
           ]
          },
          {
           "type": "bar",
           "x": [
            0.57
           ],
           "y": [
            387.00000000000006
           ]
          },
          {
           "type": "bar",
           "x": [
            0.37
           ],
           "y": [
            37
           ]
          },
          {
           "type": "bar",
           "x": [
            0.37
           ],
           "y": [
            63
           ]
          }
         ],
         "layout": {
          "annotations": [
           {
            "align": "center",
            "showarrow": false,
            "text": "p<sub>A</sub> < p<sub>B</sub>",
            "x": 0.94,
            "xref": "x2",
            "y": 850,
            "yref": "y2"
           },
           {
            "align": "center",
            "font": {
             "color": "darkslategrey"
            },
            "showarrow": false,
            "text": "p<sub>Ar</sub> < p<sub>Br</sub>",
            "x": 0.94,
            "xref": "x2",
            "y": 750,
            "yref": "y2"
           },
           {
            "align": "center",
            "font": {
             "color": "red"
            },
            "showarrow": false,
            "text": "p<sub>Al</sub> > p<sub>Bl</sub>",
            "x": 0.94,
            "xref": "x2",
            "y": 650,
            "yref": "y2"
           }
          ]
         },
         "traces": [
          0,
          1,
          2,
          3,
          4,
          5,
          6,
          7,
          8,
          9,
          10,
          11
         ]
        },
        {
         "data": [
          {
           "type": "bar",
           "visible": true
          },
          {
           "type": "bar",
           "visible": true
          },
          {
           "type": "bar",
           "visible": true
          },
          {
           "type": "bar",
           "visible": true
          },
          {
           "type": "bar",
           "x": [
            0.47
           ],
           "y": [
            94
           ]
          },
          {
           "type": "bar",
           "x": [
            0.47
           ],
           "y": [
            106
           ]
          },
          {
           "type": "bar",
           "x": [
            0.445
           ],
           "y": [
            356
           ]
          },
          {
           "type": "bar",
           "x": [
            0.445
           ],
           "y": [
            443.99999999999994
           ]
          },
          {
           "type": "bar",
           "x": [
            0.57
           ],
           "y": [
            513
           ]
          },
          {
           "type": "bar",
           "x": [
            0.57
           ],
           "y": [
            387.00000000000006
           ]
          },
          {
           "type": "bar",
           "x": [
            0.37
           ],
           "y": [
            37
           ]
          },
          {
           "type": "bar",
           "x": [
            0.37
           ],
           "y": [
            63
           ]
          }
         ],
         "layout": {
          "annotations": [
           {
            "align": "center",
            "showarrow": false,
            "text": "p<sub>A</sub> < p<sub>B</sub>",
            "x": 0.94,
            "xref": "x2",
            "y": 850,
            "yref": "y2"
           },
           {
            "align": "center",
            "font": {
             "color": "darkslategrey"
            },
            "showarrow": false,
            "text": "p<sub>Ar</sub> < p<sub>Br</sub>",
            "x": 0.94,
            "xref": "x2",
            "y": 750,
            "yref": "y2"
           },
           {
            "align": "center",
            "font": {
             "color": "red"
            },
            "showarrow": false,
            "text": "p<sub>Al</sub> > p<sub>Bl</sub>",
            "x": 0.94,
            "xref": "x2",
            "y": 650,
            "yref": "y2"
           }
          ]
         },
         "traces": [
          0,
          1,
          2,
          3,
          4,
          5,
          6,
          7,
          8,
          9,
          10,
          11
         ]
        },
        {
         "data": [
          {
           "type": "bar",
           "visible": true
          },
          {
           "type": "bar",
           "visible": true
          },
          {
           "type": "bar",
           "visible": true
          },
          {
           "type": "bar",
           "visible": true
          },
          {
           "type": "bar",
           "x": [
            0.47
           ],
           "y": [
            94
           ]
          },
          {
           "type": "bar",
           "x": [
            0.47
           ],
           "y": [
            106
           ]
          },
          {
           "type": "bar",
           "x": [
            0.445
           ],
           "y": [
            356
           ]
          },
          {
           "type": "bar",
           "x": [
            0.445
           ],
           "y": [
            443.99999999999994
           ]
          },
          {
           "type": "bar",
           "x": [
            0.57
           ],
           "y": [
            502.16999999999996
           ]
          },
          {
           "type": "bar",
           "x": [
            0.57
           ],
           "y": [
            378.83000000000004
           ]
          },
          {
           "type": "bar",
           "x": [
            0.401932773109244
           ],
           "y": [
            47.83000000000004
           ]
          },
          {
           "type": "bar",
           "x": [
            0.401932773109244
           ],
           "y": [
            71.16999999999996
           ]
          }
         ],
         "layout": {
          "annotations": [
           {
            "align": "center",
            "showarrow": false,
            "text": "p<sub>A</sub> < p<sub>B</sub>",
            "x": 0.94,
            "xref": "x2",
            "y": 850,
            "yref": "y2"
           },
           {
            "align": "center",
            "font": {
             "color": "darkslategrey"
            },
            "showarrow": false,
            "text": "p<sub>Ar</sub> < p<sub>Br</sub>",
            "x": 0.94,
            "xref": "x2",
            "y": 750,
            "yref": "y2"
           },
           {
            "align": "center",
            "font": {
             "color": "red"
            },
            "showarrow": false,
            "text": "p<sub>Al</sub> > p<sub>Bl</sub>",
            "x": 0.94,
            "xref": "x2",
            "y": 650,
            "yref": "y2"
           }
          ]
         },
         "traces": [
          0,
          1,
          2,
          3,
          4,
          5,
          6,
          7,
          8,
          9,
          10,
          11
         ]
        },
        {
         "data": [
          {
           "type": "bar",
           "visible": true
          },
          {
           "type": "bar",
           "visible": true
          },
          {
           "type": "bar",
           "visible": true
          },
          {
           "type": "bar",
           "visible": true
          },
          {
           "type": "bar",
           "x": [
            0.47
           ],
           "y": [
            94
           ]
          },
          {
           "type": "bar",
           "x": [
            0.47
           ],
           "y": [
            106
           ]
          },
          {
           "type": "bar",
           "x": [
            0.445
           ],
           "y": [
            356
           ]
          },
          {
           "type": "bar",
           "x": [
            0.445
           ],
           "y": [
            443.99999999999994
           ]
          },
          {
           "type": "bar",
           "x": [
            0.57
           ],
           "y": [
            491.34
           ]
          },
          {
           "type": "bar",
           "x": [
            0.57
           ],
           "y": [
            370.66
           ]
          },
          {
           "type": "bar",
           "x": [
            0.42507246376811614
           ],
           "y": [
            58.660000000000025
           ]
          },
          {
           "type": "bar",
           "x": [
            0.42507246376811614
           ],
           "y": [
            79.33999999999997
           ]
          }
         ],
         "layout": {
          "annotations": [
           {
            "align": "center",
            "showarrow": false,
            "text": "p<sub>A</sub> < p<sub>B</sub>",
            "x": 0.94,
            "xref": "x2",
            "y": 850,
            "yref": "y2"
           },
           {
            "align": "center",
            "font": {
             "color": "darkslategrey"
            },
            "showarrow": false,
            "text": "p<sub>Ar</sub> < p<sub>Br</sub>",
            "x": 0.94,
            "xref": "x2",
            "y": 750,
            "yref": "y2"
           },
           {
            "align": "center",
            "font": {
             "color": "red"
            },
            "showarrow": false,
            "text": "p<sub>Al</sub> > p<sub>Bl</sub>",
            "x": 0.94,
            "xref": "x2",
            "y": 650,
            "yref": "y2"
           }
          ]
         },
         "traces": [
          0,
          1,
          2,
          3,
          4,
          5,
          6,
          7,
          8,
          9,
          10,
          11
         ]
        },
        {
         "data": [
          {
           "type": "bar",
           "visible": true
          },
          {
           "type": "bar",
           "visible": true
          },
          {
           "type": "bar",
           "visible": true
          },
          {
           "type": "bar",
           "visible": true
          },
          {
           "type": "bar",
           "x": [
            0.47
           ],
           "y": [
            94
           ]
          },
          {
           "type": "bar",
           "x": [
            0.47
           ],
           "y": [
            106
           ]
          },
          {
           "type": "bar",
           "x": [
            0.445
           ],
           "y": [
            356
           ]
          },
          {
           "type": "bar",
           "x": [
            0.445
           ],
           "y": [
            443.99999999999994
           ]
          },
          {
           "type": "bar",
           "x": [
            0.57
           ],
           "y": [
            480.50999999999993
           ]
          },
          {
           "type": "bar",
           "x": [
            0.57
           ],
           "y": [
            362.49000000000007
           ]
          },
          {
           "type": "bar",
           "x": [
            0.4426114649681533
           ],
           "y": [
            69.49000000000007
           ]
          },
          {
           "type": "bar",
           "x": [
            0.4426114649681533
           ],
           "y": [
            87.50999999999993
           ]
          }
         ],
         "layout": {
          "annotations": [
           {
            "align": "center",
            "showarrow": false,
            "text": "p<sub>A</sub> < p<sub>B</sub>",
            "x": 0.94,
            "xref": "x2",
            "y": 850,
            "yref": "y2"
           },
           {
            "align": "center",
            "font": {
             "color": "darkslategrey"
            },
            "showarrow": false,
            "text": "p<sub>Ar</sub> < p<sub>Br</sub>",
            "x": 0.94,
            "xref": "x2",
            "y": 750,
            "yref": "y2"
           },
           {
            "align": "center",
            "font": {
             "color": "red"
            },
            "showarrow": false,
            "text": "p<sub>Al</sub> > p<sub>Bl</sub>",
            "x": 0.94,
            "xref": "x2",
            "y": 650,
            "yref": "y2"
           }
          ]
         },
         "traces": [
          0,
          1,
          2,
          3,
          4,
          5,
          6,
          7,
          8,
          9,
          10,
          11
         ]
        },
        {
         "data": [
          {
           "type": "bar",
           "visible": true
          },
          {
           "type": "bar",
           "visible": true
          },
          {
           "type": "bar",
           "visible": true
          },
          {
           "type": "bar",
           "visible": true
          },
          {
           "type": "bar",
           "x": [
            0.47
           ],
           "y": [
            94
           ]
          },
          {
           "type": "bar",
           "x": [
            0.47
           ],
           "y": [
            106
           ]
          },
          {
           "type": "bar",
           "x": [
            0.445
           ],
           "y": [
            356
           ]
          },
          {
           "type": "bar",
           "x": [
            0.445
           ],
           "y": [
            443.99999999999994
           ]
          },
          {
           "type": "bar",
           "x": [
            0.57
           ],
           "y": [
            469.67999999999995
           ]
          },
          {
           "type": "bar",
           "x": [
            0.57
           ],
           "y": [
            354.32000000000005
           ]
          },
          {
           "type": "bar",
           "x": [
            0.45636363636363664
           ],
           "y": [
            80.32000000000005
           ]
          },
          {
           "type": "bar",
           "x": [
            0.45636363636363664
           ],
           "y": [
            95.67999999999995
           ]
          }
         ],
         "layout": {
          "annotations": [
           {
            "align": "center",
            "showarrow": false,
            "text": "p<sub>A</sub> < p<sub>B</sub>",
            "x": 0.94,
            "xref": "x2",
            "y": 850,
            "yref": "y2"
           },
           {
            "align": "center",
            "font": {
             "color": "darkslategrey"
            },
            "showarrow": false,
            "text": "p<sub>Ar</sub> < p<sub>Br</sub>",
            "x": 0.94,
            "xref": "x2",
            "y": 750,
            "yref": "y2"
           },
           {
            "align": "center",
            "font": {
             "color": "darkslategrey"
            },
            "showarrow": false,
            "text": "p<sub>Al</sub> < p<sub>Bl</sub>",
            "x": 0.94,
            "xref": "x2",
            "y": 650,
            "yref": "y2"
           }
          ]
         },
         "traces": [
          0,
          1,
          2,
          3,
          4,
          5,
          6,
          7,
          8,
          9,
          10,
          11
         ]
        },
        {
         "data": [
          {
           "type": "bar",
           "visible": true
          },
          {
           "type": "bar",
           "visible": true
          },
          {
           "type": "bar",
           "visible": true
          },
          {
           "type": "bar",
           "visible": true
          },
          {
           "type": "bar",
           "x": [
            0.47
           ],
           "y": [
            94
           ]
          },
          {
           "type": "bar",
           "x": [
            0.47
           ],
           "y": [
            106
           ]
          },
          {
           "type": "bar",
           "x": [
            0.445
           ],
           "y": [
            356
           ]
          },
          {
           "type": "bar",
           "x": [
            0.445
           ],
           "y": [
            443.99999999999994
           ]
          },
          {
           "type": "bar",
           "x": [
            0.57
           ],
           "y": [
            458.84999999999997
           ]
          },
          {
           "type": "bar",
           "x": [
            0.57
           ],
           "y": [
            346.15000000000003
           ]
          },
          {
           "type": "bar",
           "x": [
            0.4674358974358976
           ],
           "y": [
            91.15000000000003
           ]
          },
          {
           "type": "bar",
           "x": [
            0.4674358974358976
           ],
           "y": [
            103.84999999999997
           ]
          }
         ],
         "layout": {
          "annotations": [
           {
            "align": "center",
            "showarrow": false,
            "text": "p<sub>A</sub> < p<sub>B</sub>",
            "x": 0.94,
            "xref": "x2",
            "y": 850,
            "yref": "y2"
           },
           {
            "align": "center",
            "font": {
             "color": "darkslategrey"
            },
            "showarrow": false,
            "text": "p<sub>Ar</sub> < p<sub>Br</sub>",
            "x": 0.94,
            "xref": "x2",
            "y": 750,
            "yref": "y2"
           },
           {
            "align": "center",
            "font": {
             "color": "darkslategrey"
            },
            "showarrow": false,
            "text": "p<sub>Al</sub> < p<sub>Bl</sub>",
            "x": 0.94,
            "xref": "x2",
            "y": 650,
            "yref": "y2"
           }
          ]
         },
         "traces": [
          0,
          1,
          2,
          3,
          4,
          5,
          6,
          7,
          8,
          9,
          10,
          11
         ]
        },
        {
         "data": [
          {
           "type": "bar",
           "visible": true
          },
          {
           "type": "bar",
           "visible": true
          },
          {
           "type": "bar",
           "visible": true
          },
          {
           "type": "bar",
           "visible": true
          },
          {
           "type": "bar",
           "x": [
            0.47
           ],
           "y": [
            94
           ]
          },
          {
           "type": "bar",
           "x": [
            0.47
           ],
           "y": [
            106
           ]
          },
          {
           "type": "bar",
           "x": [
            0.445
           ],
           "y": [
            356
           ]
          },
          {
           "type": "bar",
           "x": [
            0.445
           ],
           "y": [
            443.99999999999994
           ]
          },
          {
           "type": "bar",
           "x": [
            0.57
           ],
           "y": [
            448.02
           ]
          },
          {
           "type": "bar",
           "x": [
            0.57
           ],
           "y": [
            337.98
           ]
          },
          {
           "type": "bar",
           "x": [
            0.47654205607476646
           ],
           "y": [
            101.98000000000002
           ]
          },
          {
           "type": "bar",
           "x": [
            0.47654205607476646
           ],
           "y": [
            112.01999999999998
           ]
          }
         ],
         "layout": {
          "annotations": [
           {
            "align": "center",
            "showarrow": false,
            "text": "p<sub>A</sub> < p<sub>B</sub>",
            "x": 0.94,
            "xref": "x2",
            "y": 850,
            "yref": "y2"
           },
           {
            "align": "center",
            "font": {
             "color": "darkslategrey"
            },
            "showarrow": false,
            "text": "p<sub>Ar</sub> < p<sub>Br</sub>",
            "x": 0.94,
            "xref": "x2",
            "y": 750,
            "yref": "y2"
           },
           {
            "align": "center",
            "font": {
             "color": "darkslategrey"
            },
            "showarrow": false,
            "text": "p<sub>Al</sub> < p<sub>Bl</sub>",
            "x": 0.94,
            "xref": "x2",
            "y": 650,
            "yref": "y2"
           }
          ]
         },
         "traces": [
          0,
          1,
          2,
          3,
          4,
          5,
          6,
          7,
          8,
          9,
          10,
          11
         ]
        },
        {
         "data": [
          {
           "type": "bar",
           "visible": true
          },
          {
           "type": "bar",
           "visible": true
          },
          {
           "type": "bar",
           "visible": true
          },
          {
           "type": "bar",
           "visible": true
          },
          {
           "type": "bar",
           "x": [
            0.47
           ],
           "y": [
            94
           ]
          },
          {
           "type": "bar",
           "x": [
            0.47
           ],
           "y": [
            106
           ]
          },
          {
           "type": "bar",
           "x": [
            0.445
           ],
           "y": [
            356
           ]
          },
          {
           "type": "bar",
           "x": [
            0.445
           ],
           "y": [
            443.99999999999994
           ]
          },
          {
           "type": "bar",
           "x": [
            0.57
           ],
           "y": [
            437.18999999999994
           ]
          },
          {
           "type": "bar",
           "x": [
            0.57
           ],
           "y": [
            329.81000000000006
           ]
          },
          {
           "type": "bar",
           "x": [
            0.48416309012875564
           ],
           "y": [
            112.81000000000006
           ]
          },
          {
           "type": "bar",
           "x": [
            0.48416309012875564
           ],
           "y": [
            120.18999999999993
           ]
          }
         ],
         "layout": {
          "annotations": [
           {
            "align": "center",
            "showarrow": false,
            "text": "p<sub>A</sub> < p<sub>B</sub>",
            "x": 0.94,
            "xref": "x2",
            "y": 850,
            "yref": "y2"
           },
           {
            "align": "center",
            "font": {
             "color": "darkslategrey"
            },
            "showarrow": false,
            "text": "p<sub>Ar</sub> < p<sub>Br</sub>",
            "x": 0.94,
            "xref": "x2",
            "y": 750,
            "yref": "y2"
           },
           {
            "align": "center",
            "font": {
             "color": "darkslategrey"
            },
            "showarrow": false,
            "text": "p<sub>Al</sub> < p<sub>Bl</sub>",
            "x": 0.94,
            "xref": "x2",
            "y": 650,
            "yref": "y2"
           }
          ]
         },
         "traces": [
          0,
          1,
          2,
          3,
          4,
          5,
          6,
          7,
          8,
          9,
          10,
          11
         ]
        },
        {
         "data": [
          {
           "type": "bar",
           "visible": true
          },
          {
           "type": "bar",
           "visible": true
          },
          {
           "type": "bar",
           "visible": true
          },
          {
           "type": "bar",
           "visible": true
          },
          {
           "type": "bar",
           "x": [
            0.47
           ],
           "y": [
            94
           ]
          },
          {
           "type": "bar",
           "x": [
            0.47
           ],
           "y": [
            106
           ]
          },
          {
           "type": "bar",
           "x": [
            0.445
           ],
           "y": [
            356
           ]
          },
          {
           "type": "bar",
           "x": [
            0.445
           ],
           "y": [
            443.99999999999994
           ]
          },
          {
           "type": "bar",
           "x": [
            0.57
           ],
           "y": [
            426.35999999999996
           ]
          },
          {
           "type": "bar",
           "x": [
            0.57
           ],
           "y": [
            321.64000000000004
           ]
          },
          {
           "type": "bar",
           "x": [
            0.4906349206349208
           ],
           "y": [
            123.64000000000004
           ]
          },
          {
           "type": "bar",
           "x": [
            0.4906349206349208
           ],
           "y": [
            128.35999999999996
           ]
          }
         ],
         "layout": {
          "annotations": [
           {
            "align": "center",
            "showarrow": false,
            "text": "p<sub>A</sub> < p<sub>B</sub>",
            "x": 0.94,
            "xref": "x2",
            "y": 850,
            "yref": "y2"
           },
           {
            "align": "center",
            "font": {
             "color": "darkslategrey"
            },
            "showarrow": false,
            "text": "p<sub>Ar</sub> < p<sub>Br</sub>",
            "x": 0.94,
            "xref": "x2",
            "y": 750,
            "yref": "y2"
           },
           {
            "align": "center",
            "font": {
             "color": "darkslategrey"
            },
            "showarrow": false,
            "text": "p<sub>Al</sub> < p<sub>Bl</sub>",
            "x": 0.94,
            "xref": "x2",
            "y": 650,
            "yref": "y2"
           }
          ]
         },
         "traces": [
          0,
          1,
          2,
          3,
          4,
          5,
          6,
          7,
          8,
          9,
          10,
          11
         ]
        },
        {
         "data": [
          {
           "type": "bar",
           "visible": true
          },
          {
           "type": "bar",
           "visible": true
          },
          {
           "type": "bar",
           "visible": true
          },
          {
           "type": "bar",
           "visible": true
          },
          {
           "type": "bar",
           "x": [
            0.47
           ],
           "y": [
            94
           ]
          },
          {
           "type": "bar",
           "x": [
            0.47
           ],
           "y": [
            106
           ]
          },
          {
           "type": "bar",
           "x": [
            0.445
           ],
           "y": [
            356
           ]
          },
          {
           "type": "bar",
           "x": [
            0.445
           ],
           "y": [
            443.99999999999994
           ]
          },
          {
           "type": "bar",
           "x": [
            0.57
           ],
           "y": [
            415.53
           ]
          },
          {
           "type": "bar",
           "x": [
            0.57
           ],
           "y": [
            313.47
           ]
          },
          {
           "type": "bar",
           "x": [
            0.49619926199262004
           ],
           "y": [
            134.47000000000003
           ]
          },
          {
           "type": "bar",
           "x": [
            0.49619926199262004
           ],
           "y": [
            136.52999999999994
           ]
          }
         ],
         "layout": {
          "annotations": [
           {
            "align": "center",
            "showarrow": false,
            "text": "p<sub>A</sub> < p<sub>B</sub>",
            "x": 0.94,
            "xref": "x2",
            "y": 850,
            "yref": "y2"
           },
           {
            "align": "center",
            "font": {
             "color": "darkslategrey"
            },
            "showarrow": false,
            "text": "p<sub>Ar</sub> < p<sub>Br</sub>",
            "x": 0.94,
            "xref": "x2",
            "y": 750,
            "yref": "y2"
           },
           {
            "align": "center",
            "font": {
             "color": "darkslategrey"
            },
            "showarrow": false,
            "text": "p<sub>Al</sub> < p<sub>Bl</sub>",
            "x": 0.94,
            "xref": "x2",
            "y": 650,
            "yref": "y2"
           }
          ]
         },
         "traces": [
          0,
          1,
          2,
          3,
          4,
          5,
          6,
          7,
          8,
          9,
          10,
          11
         ]
        },
        {
         "data": [
          {
           "type": "bar",
           "visible": true
          },
          {
           "type": "bar",
           "visible": true
          },
          {
           "type": "bar",
           "visible": true
          },
          {
           "type": "bar",
           "visible": true
          },
          {
           "type": "bar",
           "x": [
            0.47
           ],
           "y": [
            94
           ]
          },
          {
           "type": "bar",
           "x": [
            0.47
           ],
           "y": [
            106
           ]
          },
          {
           "type": "bar",
           "x": [
            0.445
           ],
           "y": [
            356
           ]
          },
          {
           "type": "bar",
           "x": [
            0.445
           ],
           "y": [
            443.99999999999994
           ]
          },
          {
           "type": "bar",
           "x": [
            0.57
           ],
           "y": [
            404.7
           ]
          },
          {
           "type": "bar",
           "x": [
            0.57
           ],
           "y": [
            305.3
           ]
          },
          {
           "type": "bar",
           "x": [
            0.5010344827586207
           ],
           "y": [
            145.3
           ]
          },
          {
           "type": "bar",
           "x": [
            0.5010344827586207
           ],
           "y": [
            144.7
           ]
          }
         ],
         "layout": {
          "annotations": [
           {
            "align": "center",
            "showarrow": false,
            "text": "p<sub>A</sub> < p<sub>B</sub>",
            "x": 0.94,
            "xref": "x2",
            "y": 850,
            "yref": "y2"
           },
           {
            "align": "center",
            "font": {
             "color": "darkslategrey"
            },
            "showarrow": false,
            "text": "p<sub>Ar</sub> < p<sub>Br</sub>",
            "x": 0.94,
            "xref": "x2",
            "y": 750,
            "yref": "y2"
           },
           {
            "align": "center",
            "font": {
             "color": "darkslategrey"
            },
            "showarrow": false,
            "text": "p<sub>Al</sub> < p<sub>Bl</sub>",
            "x": 0.94,
            "xref": "x2",
            "y": 650,
            "yref": "y2"
           }
          ]
         },
         "traces": [
          0,
          1,
          2,
          3,
          4,
          5,
          6,
          7,
          8,
          9,
          10,
          11
         ]
        },
        {
         "data": [
          {
           "type": "bar",
           "visible": true
          },
          {
           "type": "bar",
           "visible": true
          },
          {
           "type": "bar",
           "visible": true
          },
          {
           "type": "bar",
           "visible": true
          },
          {
           "type": "bar",
           "x": [
            0.47
           ],
           "y": [
            94
           ]
          },
          {
           "type": "bar",
           "x": [
            0.47
           ],
           "y": [
            106
           ]
          },
          {
           "type": "bar",
           "x": [
            0.445
           ],
           "y": [
            356
           ]
          },
          {
           "type": "bar",
           "x": [
            0.445
           ],
           "y": [
            443.99999999999994
           ]
          },
          {
           "type": "bar",
           "x": [
            0.57
           ],
           "y": [
            393.86999999999995
           ]
          },
          {
           "type": "bar",
           "x": [
            0.57
           ],
           "y": [
            297.13000000000005
           ]
          },
          {
           "type": "bar",
           "x": [
            0.505275080906149
           ],
           "y": [
            156.13000000000005
           ]
          },
          {
           "type": "bar",
           "x": [
            0.505275080906149
           ],
           "y": [
            152.86999999999995
           ]
          }
         ],
         "layout": {
          "annotations": [
           {
            "align": "center",
            "showarrow": false,
            "text": "p<sub>A</sub> < p<sub>B</sub>",
            "x": 0.94,
            "xref": "x2",
            "y": 850,
            "yref": "y2"
           },
           {
            "align": "center",
            "font": {
             "color": "darkslategrey"
            },
            "showarrow": false,
            "text": "p<sub>Ar</sub> < p<sub>Br</sub>",
            "x": 0.94,
            "xref": "x2",
            "y": 750,
            "yref": "y2"
           },
           {
            "align": "center",
            "font": {
             "color": "darkslategrey"
            },
            "showarrow": false,
            "text": "p<sub>Al</sub> < p<sub>Bl</sub>",
            "x": 0.94,
            "xref": "x2",
            "y": 650,
            "yref": "y2"
           }
          ]
         },
         "traces": [
          0,
          1,
          2,
          3,
          4,
          5,
          6,
          7,
          8,
          9,
          10,
          11
         ]
        },
        {
         "data": [
          {
           "type": "bar",
           "visible": true
          },
          {
           "type": "bar",
           "visible": true
          },
          {
           "type": "bar",
           "visible": true
          },
          {
           "type": "bar",
           "visible": true
          },
          {
           "type": "bar",
           "x": [
            0.47
           ],
           "y": [
            94
           ]
          },
          {
           "type": "bar",
           "x": [
            0.47
           ],
           "y": [
            106
           ]
          },
          {
           "type": "bar",
           "x": [
            0.445
           ],
           "y": [
            356
           ]
          },
          {
           "type": "bar",
           "x": [
            0.445
           ],
           "y": [
            443.99999999999994
           ]
          },
          {
           "type": "bar",
           "x": [
            0.57
           ],
           "y": [
            383.03999999999996
           ]
          },
          {
           "type": "bar",
           "x": [
            0.57
           ],
           "y": [
            288.96000000000004
           ]
          },
          {
           "type": "bar",
           "x": [
            0.5090243902439026
           ],
           "y": [
            166.96000000000004
           ]
          },
          {
           "type": "bar",
           "x": [
            0.5090243902439026
           ],
           "y": [
            161.03999999999996
           ]
          }
         ],
         "layout": {
          "annotations": [
           {
            "align": "center",
            "showarrow": false,
            "text": "p<sub>A</sub> < p<sub>B</sub>",
            "x": 0.94,
            "xref": "x2",
            "y": 850,
            "yref": "y2"
           },
           {
            "align": "center",
            "font": {
             "color": "darkslategrey"
            },
            "showarrow": false,
            "text": "p<sub>Ar</sub> < p<sub>Br</sub>",
            "x": 0.94,
            "xref": "x2",
            "y": 750,
            "yref": "y2"
           },
           {
            "align": "center",
            "font": {
             "color": "darkslategrey"
            },
            "showarrow": false,
            "text": "p<sub>Al</sub> < p<sub>Bl</sub>",
            "x": 0.94,
            "xref": "x2",
            "y": 650,
            "yref": "y2"
           }
          ]
         },
         "traces": [
          0,
          1,
          2,
          3,
          4,
          5,
          6,
          7,
          8,
          9,
          10,
          11
         ]
        },
        {
         "data": [
          {
           "type": "bar",
           "visible": true
          },
          {
           "type": "bar",
           "visible": true
          },
          {
           "type": "bar",
           "visible": true
          },
          {
           "type": "bar",
           "visible": true
          },
          {
           "type": "bar",
           "x": [
            0.47
           ],
           "y": [
            94
           ]
          },
          {
           "type": "bar",
           "x": [
            0.47
           ],
           "y": [
            106
           ]
          },
          {
           "type": "bar",
           "x": [
            0.445
           ],
           "y": [
            356
           ]
          },
          {
           "type": "bar",
           "x": [
            0.445
           ],
           "y": [
            443.99999999999994
           ]
          },
          {
           "type": "bar",
           "x": [
            0.57
           ],
           "y": [
            372.21
           ]
          },
          {
           "type": "bar",
           "x": [
            0.57
           ],
           "y": [
            280.79
           ]
          },
          {
           "type": "bar",
           "x": [
            0.5123631123919309
           ],
           "y": [
            177.79000000000002
           ]
          },
          {
           "type": "bar",
           "x": [
            0.5123631123919309
           ],
           "y": [
            169.20999999999998
           ]
          }
         ],
         "layout": {
          "annotations": [
           {
            "align": "center",
            "showarrow": false,
            "text": "p<sub>A</sub> < p<sub>B</sub>",
            "x": 0.94,
            "xref": "x2",
            "y": 850,
            "yref": "y2"
           },
           {
            "align": "center",
            "font": {
             "color": "darkslategrey"
            },
            "showarrow": false,
            "text": "p<sub>Ar</sub> < p<sub>Br</sub>",
            "x": 0.94,
            "xref": "x2",
            "y": 750,
            "yref": "y2"
           },
           {
            "align": "center",
            "font": {
             "color": "darkslategrey"
            },
            "showarrow": false,
            "text": "p<sub>Al</sub> < p<sub>Bl</sub>",
            "x": 0.94,
            "xref": "x2",
            "y": 650,
            "yref": "y2"
           }
          ]
         },
         "traces": [
          0,
          1,
          2,
          3,
          4,
          5,
          6,
          7,
          8,
          9,
          10,
          11
         ]
        },
        {
         "data": [
          {
           "type": "bar",
           "visible": true
          },
          {
           "type": "bar",
           "visible": true
          },
          {
           "type": "bar",
           "visible": true
          },
          {
           "type": "bar",
           "visible": true
          },
          {
           "type": "bar",
           "x": [
            0.47
           ],
           "y": [
            94
           ]
          },
          {
           "type": "bar",
           "x": [
            0.47
           ],
           "y": [
            106
           ]
          },
          {
           "type": "bar",
           "x": [
            0.445
           ],
           "y": [
            356
           ]
          },
          {
           "type": "bar",
           "x": [
            0.445
           ],
           "y": [
            443.99999999999994
           ]
          },
          {
           "type": "bar",
           "x": [
            0.57
           ],
           "y": [
            361.38
           ]
          },
          {
           "type": "bar",
           "x": [
            0.57
           ],
           "y": [
            272.62
           ]
          },
          {
           "type": "bar",
           "x": [
            0.5153551912568306
           ],
           "y": [
            188.62
           ]
          },
          {
           "type": "bar",
           "x": [
            0.5153551912568306
           ],
           "y": [
            177.38
           ]
          }
         ],
         "layout": {
          "annotations": [
           {
            "align": "center",
            "showarrow": false,
            "text": "p<sub>A</sub> < p<sub>B</sub>",
            "x": 0.94,
            "xref": "x2",
            "y": 850,
            "yref": "y2"
           },
           {
            "align": "center",
            "font": {
             "color": "darkslategrey"
            },
            "showarrow": false,
            "text": "p<sub>Ar</sub> < p<sub>Br</sub>",
            "x": 0.94,
            "xref": "x2",
            "y": 750,
            "yref": "y2"
           },
           {
            "align": "center",
            "font": {
             "color": "darkslategrey"
            },
            "showarrow": false,
            "text": "p<sub>Al</sub> < p<sub>Bl</sub>",
            "x": 0.94,
            "xref": "x2",
            "y": 650,
            "yref": "y2"
           }
          ]
         },
         "traces": [
          0,
          1,
          2,
          3,
          4,
          5,
          6,
          7,
          8,
          9,
          10,
          11
         ]
        },
        {
         "data": [
          {
           "type": "bar",
           "visible": true
          },
          {
           "type": "bar",
           "visible": true
          },
          {
           "type": "bar",
           "visible": true
          },
          {
           "type": "bar",
           "visible": true
          },
          {
           "type": "bar",
           "x": [
            0.47
           ],
           "y": [
            94
           ]
          },
          {
           "type": "bar",
           "x": [
            0.47
           ],
           "y": [
            106
           ]
          },
          {
           "type": "bar",
           "x": [
            0.445
           ],
           "y": [
            356
           ]
          },
          {
           "type": "bar",
           "x": [
            0.445
           ],
           "y": [
            443.99999999999994
           ]
          },
          {
           "type": "bar",
           "x": [
            0.57
           ],
           "y": [
            350.54999999999995
           ]
          },
          {
           "type": "bar",
           "x": [
            0.57
           ],
           "y": [
            264.45000000000005
           ]
          },
          {
           "type": "bar",
           "x": [
            0.5180519480519482
           ],
           "y": [
            199.45000000000007
           ]
          },
          {
           "type": "bar",
           "x": [
            0.5180519480519482
           ],
           "y": [
            185.54999999999993
           ]
          }
         ],
         "layout": {
          "annotations": [
           {
            "align": "center",
            "showarrow": false,
            "text": "p<sub>A</sub> < p<sub>B</sub>",
            "x": 0.94,
            "xref": "x2",
            "y": 850,
            "yref": "y2"
           },
           {
            "align": "center",
            "font": {
             "color": "darkslategrey"
            },
            "showarrow": false,
            "text": "p<sub>Ar</sub> < p<sub>Br</sub>",
            "x": 0.94,
            "xref": "x2",
            "y": 750,
            "yref": "y2"
           },
           {
            "align": "center",
            "font": {
             "color": "darkslategrey"
            },
            "showarrow": false,
            "text": "p<sub>Al</sub> < p<sub>Bl</sub>",
            "x": 0.94,
            "xref": "x2",
            "y": 650,
            "yref": "y2"
           }
          ]
         },
         "traces": [
          0,
          1,
          2,
          3,
          4,
          5,
          6,
          7,
          8,
          9,
          10,
          11
         ]
        },
        {
         "data": [
          {
           "type": "bar",
           "visible": true
          },
          {
           "type": "bar",
           "visible": true
          },
          {
           "type": "bar",
           "visible": true
          },
          {
           "type": "bar",
           "visible": true
          },
          {
           "type": "bar",
           "x": [
            0.47
           ],
           "y": [
            94
           ]
          },
          {
           "type": "bar",
           "x": [
            0.47
           ],
           "y": [
            106
           ]
          },
          {
           "type": "bar",
           "x": [
            0.445
           ],
           "y": [
            356
           ]
          },
          {
           "type": "bar",
           "x": [
            0.445
           ],
           "y": [
            443.99999999999994
           ]
          },
          {
           "type": "bar",
           "x": [
            0.57
           ],
           "y": [
            339.71999999999997
           ]
          },
          {
           "type": "bar",
           "x": [
            0.57
           ],
           "y": [
            256.28000000000003
           ]
          },
          {
           "type": "bar",
           "x": [
            0.5204950495049505
           ],
           "y": [
            210.28
           ]
          },
          {
           "type": "bar",
           "x": [
            0.5204950495049505
           ],
           "y": [
            193.72
           ]
          }
         ],
         "layout": {
          "annotations": [
           {
            "align": "center",
            "showarrow": false,
            "text": "p<sub>A</sub> < p<sub>B</sub>",
            "x": 0.94,
            "xref": "x2",
            "y": 850,
            "yref": "y2"
           },
           {
            "align": "center",
            "font": {
             "color": "darkslategrey"
            },
            "showarrow": false,
            "text": "p<sub>Ar</sub> < p<sub>Br</sub>",
            "x": 0.94,
            "xref": "x2",
            "y": 750,
            "yref": "y2"
           },
           {
            "align": "center",
            "font": {
             "color": "darkslategrey"
            },
            "showarrow": false,
            "text": "p<sub>Al</sub> < p<sub>Bl</sub>",
            "x": 0.94,
            "xref": "x2",
            "y": 650,
            "yref": "y2"
           }
          ]
         },
         "traces": [
          0,
          1,
          2,
          3,
          4,
          5,
          6,
          7,
          8,
          9,
          10,
          11
         ]
        },
        {
         "data": [
          {
           "type": "bar",
           "visible": true
          },
          {
           "type": "bar",
           "visible": true
          },
          {
           "type": "bar",
           "visible": true
          },
          {
           "type": "bar",
           "visible": true
          },
          {
           "type": "bar",
           "x": [
            0.47
           ],
           "y": [
            94
           ]
          },
          {
           "type": "bar",
           "x": [
            0.47
           ],
           "y": [
            106
           ]
          },
          {
           "type": "bar",
           "x": [
            0.445
           ],
           "y": [
            356
           ]
          },
          {
           "type": "bar",
           "x": [
            0.445
           ],
           "y": [
            443.99999999999994
           ]
          },
          {
           "type": "bar",
           "x": [
            0.57
           ],
           "y": [
            328.89
           ]
          },
          {
           "type": "bar",
           "x": [
            0.57
           ],
           "y": [
            248.11000000000004
           ]
          },
          {
           "type": "bar",
           "x": [
            0.5227186761229314
           ],
           "y": [
            221.10999999999999
           ]
          },
          {
           "type": "bar",
           "x": [
            0.5227186761229314
           ],
           "y": [
            201.89000000000001
           ]
          }
         ],
         "layout": {
          "annotations": [
           {
            "align": "center",
            "showarrow": false,
            "text": "p<sub>A</sub> < p<sub>B</sub>",
            "x": 0.94,
            "xref": "x2",
            "y": 850,
            "yref": "y2"
           },
           {
            "align": "center",
            "font": {
             "color": "darkslategrey"
            },
            "showarrow": false,
            "text": "p<sub>Ar</sub> < p<sub>Br</sub>",
            "x": 0.94,
            "xref": "x2",
            "y": 750,
            "yref": "y2"
           },
           {
            "align": "center",
            "font": {
             "color": "darkslategrey"
            },
            "showarrow": false,
            "text": "p<sub>Al</sub> < p<sub>Bl</sub>",
            "x": 0.94,
            "xref": "x2",
            "y": 650,
            "yref": "y2"
           }
          ]
         },
         "traces": [
          0,
          1,
          2,
          3,
          4,
          5,
          6,
          7,
          8,
          9,
          10,
          11
         ]
        },
        {
         "data": [
          {
           "type": "bar",
           "visible": true
          },
          {
           "type": "bar",
           "visible": true
          },
          {
           "type": "bar",
           "visible": true
          },
          {
           "type": "bar",
           "visible": true
          },
          {
           "type": "bar",
           "x": [
            0.47
           ],
           "y": [
            94
           ]
          },
          {
           "type": "bar",
           "x": [
            0.47
           ],
           "y": [
            106
           ]
          },
          {
           "type": "bar",
           "x": [
            0.445
           ],
           "y": [
            356
           ]
          },
          {
           "type": "bar",
           "x": [
            0.445
           ],
           "y": [
            443.99999999999994
           ]
          },
          {
           "type": "bar",
           "x": [
            0.57
           ],
           "y": [
            318.05999999999995
           ]
          },
          {
           "type": "bar",
           "x": [
            0.57
           ],
           "y": [
            239.94000000000003
           ]
          },
          {
           "type": "bar",
           "x": [
            0.5247511312217196
           ],
           "y": [
            231.94000000000005
           ]
          },
          {
           "type": "bar",
           "x": [
            0.5247511312217196
           ],
           "y": [
            210.05999999999995
           ]
          }
         ],
         "layout": {
          "annotations": [
           {
            "align": "center",
            "showarrow": false,
            "text": "p<sub>A</sub> < p<sub>B</sub>",
            "x": 0.94,
            "xref": "x2",
            "y": 850,
            "yref": "y2"
           },
           {
            "align": "center",
            "font": {
             "color": "darkslategrey"
            },
            "showarrow": false,
            "text": "p<sub>Ar</sub> < p<sub>Br</sub>",
            "x": 0.94,
            "xref": "x2",
            "y": 750,
            "yref": "y2"
           },
           {
            "align": "center",
            "font": {
             "color": "darkslategrey"
            },
            "showarrow": false,
            "text": "p<sub>Al</sub> < p<sub>Bl</sub>",
            "x": 0.94,
            "xref": "x2",
            "y": 650,
            "yref": "y2"
           }
          ]
         },
         "traces": [
          0,
          1,
          2,
          3,
          4,
          5,
          6,
          7,
          8,
          9,
          10,
          11
         ]
        },
        {
         "data": [
          {
           "type": "bar",
           "visible": true
          },
          {
           "type": "bar",
           "visible": true
          },
          {
           "type": "bar",
           "visible": true
          },
          {
           "type": "bar",
           "visible": true
          },
          {
           "type": "bar",
           "x": [
            0.47
           ],
           "y": [
            94
           ]
          },
          {
           "type": "bar",
           "x": [
            0.47
           ],
           "y": [
            106
           ]
          },
          {
           "type": "bar",
           "x": [
            0.445
           ],
           "y": [
            356
           ]
          },
          {
           "type": "bar",
           "x": [
            0.445
           ],
           "y": [
            443.99999999999994
           ]
          },
          {
           "type": "bar",
           "x": [
            0.57
           ],
           "y": [
            307.22999999999996
           ]
          },
          {
           "type": "bar",
           "x": [
            0.57
           ],
           "y": [
            231.77000000000004
           ]
          },
          {
           "type": "bar",
           "x": [
            0.5266160520607376
           ],
           "y": [
            242.77000000000004
           ]
          },
          {
           "type": "bar",
           "x": [
            0.5266160520607376
           ],
           "y": [
            218.22999999999996
           ]
          }
         ],
         "layout": {
          "annotations": [
           {
            "align": "center",
            "showarrow": false,
            "text": "p<sub>A</sub> < p<sub>B</sub>",
            "x": 0.94,
            "xref": "x2",
            "y": 850,
            "yref": "y2"
           },
           {
            "align": "center",
            "font": {
             "color": "darkslategrey"
            },
            "showarrow": false,
            "text": "p<sub>Ar</sub> < p<sub>Br</sub>",
            "x": 0.94,
            "xref": "x2",
            "y": 750,
            "yref": "y2"
           },
           {
            "align": "center",
            "font": {
             "color": "darkslategrey"
            },
            "showarrow": false,
            "text": "p<sub>Al</sub> < p<sub>Bl</sub>",
            "x": 0.94,
            "xref": "x2",
            "y": 650,
            "yref": "y2"
           }
          ]
         },
         "traces": [
          0,
          1,
          2,
          3,
          4,
          5,
          6,
          7,
          8,
          9,
          10,
          11
         ]
        },
        {
         "data": [
          {
           "type": "bar",
           "visible": true
          },
          {
           "type": "bar",
           "visible": true
          },
          {
           "type": "bar",
           "visible": true
          },
          {
           "type": "bar",
           "visible": true
          },
          {
           "type": "bar",
           "x": [
            0.47
           ],
           "y": [
            94
           ]
          },
          {
           "type": "bar",
           "x": [
            0.47
           ],
           "y": [
            106
           ]
          },
          {
           "type": "bar",
           "x": [
            0.445
           ],
           "y": [
            356
           ]
          },
          {
           "type": "bar",
           "x": [
            0.445
           ],
           "y": [
            443.99999999999994
           ]
          },
          {
           "type": "bar",
           "x": [
            0.57
           ],
           "y": [
            296.4
           ]
          },
          {
           "type": "bar",
           "x": [
            0.57
           ],
           "y": [
            223.60000000000002
           ]
          },
          {
           "type": "bar",
           "x": [
            0.5283333333333334
           ],
           "y": [
            253.60000000000005
           ]
          },
          {
           "type": "bar",
           "x": [
            0.5283333333333334
           ],
           "y": [
            226.39999999999995
           ]
          }
         ],
         "layout": {
          "annotations": [
           {
            "align": "center",
            "showarrow": false,
            "text": "p<sub>A</sub> < p<sub>B</sub>",
            "x": 0.94,
            "xref": "x2",
            "y": 850,
            "yref": "y2"
           },
           {
            "align": "center",
            "font": {
             "color": "darkslategrey"
            },
            "showarrow": false,
            "text": "p<sub>Ar</sub> < p<sub>Br</sub>",
            "x": 0.94,
            "xref": "x2",
            "y": 750,
            "yref": "y2"
           },
           {
            "align": "center",
            "font": {
             "color": "darkslategrey"
            },
            "showarrow": false,
            "text": "p<sub>Al</sub> < p<sub>Bl</sub>",
            "x": 0.94,
            "xref": "x2",
            "y": 650,
            "yref": "y2"
           }
          ]
         },
         "traces": [
          0,
          1,
          2,
          3,
          4,
          5,
          6,
          7,
          8,
          9,
          10,
          11
         ]
        },
        {
         "data": [
          {
           "type": "bar",
           "visible": true
          },
          {
           "type": "bar",
           "visible": true
          },
          {
           "type": "bar",
           "visible": true
          },
          {
           "type": "bar",
           "visible": true
          },
          {
           "type": "bar",
           "x": [
            0.47
           ],
           "y": [
            94
           ]
          },
          {
           "type": "bar",
           "x": [
            0.47
           ],
           "y": [
            106
           ]
          },
          {
           "type": "bar",
           "x": [
            0.445
           ],
           "y": [
            356
           ]
          },
          {
           "type": "bar",
           "x": [
            0.445
           ],
           "y": [
            443.99999999999994
           ]
          },
          {
           "type": "bar",
           "x": [
            0.57
           ],
           "y": [
            285.57
           ]
          },
          {
           "type": "bar",
           "x": [
            0.57
           ],
           "y": [
            215.43000000000004
           ]
          },
          {
           "type": "bar",
           "x": [
            0.5299198396793587
           ],
           "y": [
            264.43
           ]
          },
          {
           "type": "bar",
           "x": [
            0.5299198396793587
           ],
           "y": [
            234.57
           ]
          }
         ],
         "layout": {
          "annotations": [
           {
            "align": "center",
            "showarrow": false,
            "text": "p<sub>A</sub> < p<sub>B</sub>",
            "x": 0.94,
            "xref": "x2",
            "y": 850,
            "yref": "y2"
           },
           {
            "align": "center",
            "font": {
             "color": "darkslategrey"
            },
            "showarrow": false,
            "text": "p<sub>Ar</sub> < p<sub>Br</sub>",
            "x": 0.94,
            "xref": "x2",
            "y": 750,
            "yref": "y2"
           },
           {
            "align": "center",
            "font": {
             "color": "darkslategrey"
            },
            "showarrow": false,
            "text": "p<sub>Al</sub> < p<sub>Bl</sub>",
            "x": 0.94,
            "xref": "x2",
            "y": 650,
            "yref": "y2"
           }
          ]
         },
         "traces": [
          0,
          1,
          2,
          3,
          4,
          5,
          6,
          7,
          8,
          9,
          10,
          11
         ]
        },
        {
         "data": [
          {
           "type": "bar",
           "visible": true
          },
          {
           "type": "bar",
           "visible": true
          },
          {
           "type": "bar",
           "visible": true
          },
          {
           "type": "bar",
           "visible": true
          },
          {
           "type": "bar",
           "x": [
            0.47
           ],
           "y": [
            94
           ]
          },
          {
           "type": "bar",
           "x": [
            0.47
           ],
           "y": [
            106
           ]
          },
          {
           "type": "bar",
           "x": [
            0.445
           ],
           "y": [
            356
           ]
          },
          {
           "type": "bar",
           "x": [
            0.445
           ],
           "y": [
            443.99999999999994
           ]
          },
          {
           "type": "bar",
           "x": [
            0.57
           ],
           "y": [
            285
           ]
          },
          {
           "type": "bar",
           "x": [
            0.57
           ],
           "y": [
            215.00000000000003
           ]
          },
          {
           "type": "bar",
           "x": [
            0.53
           ],
           "y": [
            265
           ]
          },
          {
           "type": "bar",
           "x": [
            0.53
           ],
           "y": [
            235
           ]
          }
         ],
         "layout": {
          "annotations": [
           {
            "align": "center",
            "showarrow": false,
            "text": "p<sub>A</sub> < p<sub>B</sub>",
            "x": 0.94,
            "xref": "x2",
            "y": 850,
            "yref": "y2"
           },
           {
            "align": "center",
            "font": {
             "color": "darkslategrey"
            },
            "showarrow": false,
            "text": "p<sub>Ar</sub> < p<sub>Br</sub>",
            "x": 0.94,
            "xref": "x2",
            "y": 750,
            "yref": "y2"
           },
           {
            "align": "center",
            "font": {
             "color": "darkslategrey"
            },
            "showarrow": false,
            "text": "p<sub>Al</sub> < p<sub>Bl</sub>",
            "x": 0.94,
            "xref": "x2",
            "y": 650,
            "yref": "y2"
           }
          ]
         },
         "traces": [
          0,
          1,
          2,
          3,
          4,
          5,
          6,
          7,
          8,
          9,
          10,
          11
         ]
        },
        {
         "data": [
          {
           "type": "bar",
           "visible": true
          },
          {
           "type": "bar",
           "visible": true
          },
          {
           "type": "bar",
           "visible": true
          },
          {
           "type": "bar",
           "visible": true
          },
          {
           "type": "bar",
           "x": [
            0.47
           ],
           "y": [
            94
           ]
          },
          {
           "type": "bar",
           "x": [
            0.47
           ],
           "y": [
            106
           ]
          },
          {
           "type": "bar",
           "x": [
            0.445
           ],
           "y": [
            356
           ]
          },
          {
           "type": "bar",
           "x": [
            0.445
           ],
           "y": [
            443.99999999999994
           ]
          },
          {
           "type": "bar",
           "x": [
            0.57
           ],
           "y": [
            285
           ]
          },
          {
           "type": "bar",
           "x": [
            0.57
           ],
           "y": [
            215.00000000000003
           ]
          },
          {
           "type": "bar",
           "x": [
            0.53
           ],
           "y": [
            265
           ]
          },
          {
           "type": "bar",
           "x": [
            0.53
           ],
           "y": [
            235
           ]
          }
         ],
         "layout": {
          "annotations": [
           {
            "align": "center",
            "showarrow": false,
            "text": "p<sub>A</sub> < p<sub>B</sub>",
            "x": 0.94,
            "xref": "x2",
            "y": 850,
            "yref": "y2"
           },
           {
            "align": "center",
            "font": {
             "color": "darkslategrey"
            },
            "showarrow": false,
            "text": "p<sub>Ar</sub> < p<sub>Br</sub>",
            "x": 0.94,
            "xref": "x2",
            "y": 750,
            "yref": "y2"
           },
           {
            "align": "center",
            "font": {
             "color": "darkslategrey"
            },
            "showarrow": false,
            "text": "p<sub>Al</sub> < p<sub>Bl</sub>",
            "x": 0.94,
            "xref": "x2",
            "y": 650,
            "yref": "y2"
           }
          ]
         },
         "traces": [
          0,
          1,
          2,
          3,
          4,
          5,
          6,
          7,
          8,
          9,
          10,
          11
         ]
        },
        {
         "data": [
          {
           "type": "bar",
           "visible": true
          },
          {
           "type": "bar",
           "visible": true
          },
          {
           "type": "bar",
           "visible": true
          },
          {
           "type": "bar",
           "visible": true
          },
          {
           "type": "bar",
           "x": [
            0.47
           ],
           "y": [
            94
           ]
          },
          {
           "type": "bar",
           "x": [
            0.47
           ],
           "y": [
            106
           ]
          },
          {
           "type": "bar",
           "x": [
            0.445
           ],
           "y": [
            356
           ]
          },
          {
           "type": "bar",
           "x": [
            0.445
           ],
           "y": [
            443.99999999999994
           ]
          },
          {
           "type": "bar",
           "x": [
            0.57
           ],
           "y": [
            285
           ]
          },
          {
           "type": "bar",
           "x": [
            0.57
           ],
           "y": [
            215.00000000000003
           ]
          },
          {
           "type": "bar",
           "x": [
            0.53
           ],
           "y": [
            265
           ]
          },
          {
           "type": "bar",
           "x": [
            0.53
           ],
           "y": [
            235
           ]
          }
         ],
         "layout": {
          "annotations": [
           {
            "align": "center",
            "showarrow": false,
            "text": "p<sub>A</sub> < p<sub>B</sub>",
            "x": 0.94,
            "xref": "x2",
            "y": 850,
            "yref": "y2"
           },
           {
            "align": "center",
            "font": {
             "color": "darkslategrey"
            },
            "showarrow": false,
            "text": "p<sub>Ar</sub> < p<sub>Br</sub>",
            "x": 0.94,
            "xref": "x2",
            "y": 750,
            "yref": "y2"
           },
           {
            "align": "center",
            "font": {
             "color": "darkslategrey"
            },
            "showarrow": false,
            "text": "p<sub>Al</sub> < p<sub>Bl</sub>",
            "x": 0.94,
            "xref": "x2",
            "y": 650,
            "yref": "y2"
           }
          ]
         },
         "traces": [
          0,
          1,
          2,
          3,
          4,
          5,
          6,
          7,
          8,
          9,
          10,
          11
         ]
        },
        {
         "data": [
          {
           "type": "bar",
           "visible": true
          },
          {
           "type": "bar",
           "visible": true
          },
          {
           "type": "bar",
           "visible": true
          },
          {
           "type": "bar",
           "visible": true
          },
          {
           "type": "bar",
           "x": [
            0.47
           ],
           "y": [
            94
           ]
          },
          {
           "type": "bar",
           "x": [
            0.47
           ],
           "y": [
            106
           ]
          },
          {
           "type": "bar",
           "x": [
            0.445
           ],
           "y": [
            356
           ]
          },
          {
           "type": "bar",
           "x": [
            0.445
           ],
           "y": [
            443.99999999999994
           ]
          },
          {
           "type": "bar",
           "x": [
            0.57
           ],
           "y": [
            285
           ]
          },
          {
           "type": "bar",
           "x": [
            0.57
           ],
           "y": [
            215.00000000000003
           ]
          },
          {
           "type": "bar",
           "x": [
            0.53
           ],
           "y": [
            265
           ]
          },
          {
           "type": "bar",
           "x": [
            0.53
           ],
           "y": [
            235
           ]
          }
         ],
         "layout": {
          "annotations": [
           {
            "align": "center",
            "showarrow": false,
            "text": "p<sub>A</sub> < p<sub>B</sub>",
            "x": 0.94,
            "xref": "x2",
            "y": 850,
            "yref": "y2"
           },
           {
            "align": "center",
            "font": {
             "color": "darkslategrey"
            },
            "showarrow": false,
            "text": "p<sub>Ar</sub> < p<sub>Br</sub>",
            "x": 0.94,
            "xref": "x2",
            "y": 750,
            "yref": "y2"
           },
           {
            "align": "center",
            "font": {
             "color": "darkslategrey"
            },
            "showarrow": false,
            "text": "p<sub>Al</sub> < p<sub>Bl</sub>",
            "x": 0.94,
            "xref": "x2",
            "y": 650,
            "yref": "y2"
           }
          ]
         },
         "traces": [
          0,
          1,
          2,
          3,
          4,
          5,
          6,
          7,
          8,
          9,
          10,
          11
         ]
        },
        {
         "data": [
          {
           "type": "bar",
           "visible": true
          },
          {
           "type": "bar",
           "visible": true
          },
          {
           "type": "bar",
           "visible": true
          },
          {
           "type": "bar",
           "visible": true
          },
          {
           "type": "bar",
           "x": [
            0.47
           ],
           "y": [
            103.39999999999999
           ]
          },
          {
           "type": "bar",
           "x": [
            0.47
           ],
           "y": [
            116.60000000000001
           ]
          },
          {
           "type": "bar",
           "x": [
            0.44435897435897437
           ],
           "y": [
            346.6
           ]
          },
          {
           "type": "bar",
           "x": [
            0.44435897435897437
           ],
           "y": [
            433.4
           ]
          },
          {
           "type": "bar",
           "x": [
            0.57
           ],
           "y": [
            285
           ]
          },
          {
           "type": "bar",
           "x": [
            0.57
           ],
           "y": [
            215.00000000000003
           ]
          },
          {
           "type": "bar",
           "x": [
            0.53
           ],
           "y": [
            265
           ]
          },
          {
           "type": "bar",
           "x": [
            0.53
           ],
           "y": [
            235
           ]
          }
         ],
         "layout": {
          "annotations": [
           {
            "align": "center",
            "showarrow": false,
            "text": "p<sub>A</sub> < p<sub>B</sub>",
            "x": 0.94,
            "xref": "x2",
            "y": 850,
            "yref": "y2"
           },
           {
            "align": "center",
            "font": {
             "color": "darkslategrey"
            },
            "showarrow": false,
            "text": "p<sub>Ar</sub> < p<sub>Br</sub>",
            "x": 0.94,
            "xref": "x2",
            "y": 750,
            "yref": "y2"
           },
           {
            "align": "center",
            "font": {
             "color": "darkslategrey"
            },
            "showarrow": false,
            "text": "p<sub>Al</sub> < p<sub>Bl</sub>",
            "x": 0.94,
            "xref": "x2",
            "y": 650,
            "yref": "y2"
           }
          ]
         },
         "traces": [
          0,
          1,
          2,
          3,
          4,
          5,
          6,
          7,
          8,
          9,
          10,
          11
         ]
        },
        {
         "data": [
          {
           "type": "bar",
           "visible": true
          },
          {
           "type": "bar",
           "visible": true
          },
          {
           "type": "bar",
           "visible": true
          },
          {
           "type": "bar",
           "visible": true
          },
          {
           "type": "bar",
           "x": [
            0.47
           ],
           "y": [
            112.8
           ]
          },
          {
           "type": "bar",
           "x": [
            0.47
           ],
           "y": [
            127.2
           ]
          },
          {
           "type": "bar",
           "x": [
            0.4436842105263158
           ],
           "y": [
            337.2
           ]
          },
          {
           "type": "bar",
           "x": [
            0.4436842105263158
           ],
           "y": [
            422.8
           ]
          },
          {
           "type": "bar",
           "x": [
            0.57
           ],
           "y": [
            285
           ]
          },
          {
           "type": "bar",
           "x": [
            0.57
           ],
           "y": [
            215.00000000000003
           ]
          },
          {
           "type": "bar",
           "x": [
            0.53
           ],
           "y": [
            265
           ]
          },
          {
           "type": "bar",
           "x": [
            0.53
           ],
           "y": [
            235
           ]
          }
         ],
         "layout": {
          "annotations": [
           {
            "align": "center",
            "showarrow": false,
            "text": "p<sub>A</sub> < p<sub>B</sub>",
            "x": 0.94,
            "xref": "x2",
            "y": 850,
            "yref": "y2"
           },
           {
            "align": "center",
            "font": {
             "color": "darkslategrey"
            },
            "showarrow": false,
            "text": "p<sub>Ar</sub> < p<sub>Br</sub>",
            "x": 0.94,
            "xref": "x2",
            "y": 750,
            "yref": "y2"
           },
           {
            "align": "center",
            "font": {
             "color": "darkslategrey"
            },
            "showarrow": false,
            "text": "p<sub>Al</sub> < p<sub>Bl</sub>",
            "x": 0.94,
            "xref": "x2",
            "y": 650,
            "yref": "y2"
           }
          ]
         },
         "traces": [
          0,
          1,
          2,
          3,
          4,
          5,
          6,
          7,
          8,
          9,
          10,
          11
         ]
        },
        {
         "data": [
          {
           "type": "bar",
           "visible": true
          },
          {
           "type": "bar",
           "visible": true
          },
          {
           "type": "bar",
           "visible": true
          },
          {
           "type": "bar",
           "visible": true
          },
          {
           "type": "bar",
           "x": [
            0.47
           ],
           "y": [
            122.19999999999999
           ]
          },
          {
           "type": "bar",
           "x": [
            0.47
           ],
           "y": [
            137.8
           ]
          },
          {
           "type": "bar",
           "x": [
            0.442972972972973
           ],
           "y": [
            327.8
           ]
          },
          {
           "type": "bar",
           "x": [
            0.442972972972973
           ],
           "y": [
            412.2
           ]
          },
          {
           "type": "bar",
           "x": [
            0.57
           ],
           "y": [
            285
           ]
          },
          {
           "type": "bar",
           "x": [
            0.57
           ],
           "y": [
            215.00000000000003
           ]
          },
          {
           "type": "bar",
           "x": [
            0.53
           ],
           "y": [
            265
           ]
          },
          {
           "type": "bar",
           "x": [
            0.53
           ],
           "y": [
            235
           ]
          }
         ],
         "layout": {
          "annotations": [
           {
            "align": "center",
            "showarrow": false,
            "text": "p<sub>A</sub> < p<sub>B</sub>",
            "x": 0.94,
            "xref": "x2",
            "y": 850,
            "yref": "y2"
           },
           {
            "align": "center",
            "font": {
             "color": "darkslategrey"
            },
            "showarrow": false,
            "text": "p<sub>Ar</sub> < p<sub>Br</sub>",
            "x": 0.94,
            "xref": "x2",
            "y": 750,
            "yref": "y2"
           },
           {
            "align": "center",
            "font": {
             "color": "darkslategrey"
            },
            "showarrow": false,
            "text": "p<sub>Al</sub> < p<sub>Bl</sub>",
            "x": 0.94,
            "xref": "x2",
            "y": 650,
            "yref": "y2"
           }
          ]
         },
         "traces": [
          0,
          1,
          2,
          3,
          4,
          5,
          6,
          7,
          8,
          9,
          10,
          11
         ]
        },
        {
         "data": [
          {
           "type": "bar",
           "visible": true
          },
          {
           "type": "bar",
           "visible": true
          },
          {
           "type": "bar",
           "visible": true
          },
          {
           "type": "bar",
           "visible": true
          },
          {
           "type": "bar",
           "x": [
            0.47
           ],
           "y": [
            131.6
           ]
          },
          {
           "type": "bar",
           "x": [
            0.47
           ],
           "y": [
            148.4
           ]
          },
          {
           "type": "bar",
           "x": [
            0.4422222222222222
           ],
           "y": [
            318.4
           ]
          },
          {
           "type": "bar",
           "x": [
            0.4422222222222222
           ],
           "y": [
            401.6
           ]
          },
          {
           "type": "bar",
           "x": [
            0.57
           ],
           "y": [
            285
           ]
          },
          {
           "type": "bar",
           "x": [
            0.57
           ],
           "y": [
            215.00000000000003
           ]
          },
          {
           "type": "bar",
           "x": [
            0.53
           ],
           "y": [
            265
           ]
          },
          {
           "type": "bar",
           "x": [
            0.53
           ],
           "y": [
            235
           ]
          }
         ],
         "layout": {
          "annotations": [
           {
            "align": "center",
            "showarrow": false,
            "text": "p<sub>A</sub> < p<sub>B</sub>",
            "x": 0.94,
            "xref": "x2",
            "y": 850,
            "yref": "y2"
           },
           {
            "align": "center",
            "font": {
             "color": "darkslategrey"
            },
            "showarrow": false,
            "text": "p<sub>Ar</sub> < p<sub>Br</sub>",
            "x": 0.94,
            "xref": "x2",
            "y": 750,
            "yref": "y2"
           },
           {
            "align": "center",
            "font": {
             "color": "darkslategrey"
            },
            "showarrow": false,
            "text": "p<sub>Al</sub> < p<sub>Bl</sub>",
            "x": 0.94,
            "xref": "x2",
            "y": 650,
            "yref": "y2"
           }
          ]
         },
         "traces": [
          0,
          1,
          2,
          3,
          4,
          5,
          6,
          7,
          8,
          9,
          10,
          11
         ]
        },
        {
         "data": [
          {
           "type": "bar",
           "visible": true
          },
          {
           "type": "bar",
           "visible": true
          },
          {
           "type": "bar",
           "visible": true
          },
          {
           "type": "bar",
           "visible": true
          },
          {
           "type": "bar",
           "x": [
            0.47
           ],
           "y": [
            141
           ]
          },
          {
           "type": "bar",
           "x": [
            0.47
           ],
           "y": [
            159
           ]
          },
          {
           "type": "bar",
           "x": [
            0.44142857142857145
           ],
           "y": [
            309
           ]
          },
          {
           "type": "bar",
           "x": [
            0.44142857142857145
           ],
           "y": [
            390.99999999999994
           ]
          },
          {
           "type": "bar",
           "x": [
            0.57
           ],
           "y": [
            285
           ]
          },
          {
           "type": "bar",
           "x": [
            0.57
           ],
           "y": [
            215.00000000000003
           ]
          },
          {
           "type": "bar",
           "x": [
            0.53
           ],
           "y": [
            265
           ]
          },
          {
           "type": "bar",
           "x": [
            0.53
           ],
           "y": [
            235
           ]
          }
         ],
         "layout": {
          "annotations": [
           {
            "align": "center",
            "showarrow": false,
            "text": "p<sub>A</sub> < p<sub>B</sub>",
            "x": 0.94,
            "xref": "x2",
            "y": 850,
            "yref": "y2"
           },
           {
            "align": "center",
            "font": {
             "color": "darkslategrey"
            },
            "showarrow": false,
            "text": "p<sub>Ar</sub> < p<sub>Br</sub>",
            "x": 0.94,
            "xref": "x2",
            "y": 750,
            "yref": "y2"
           },
           {
            "align": "center",
            "font": {
             "color": "darkslategrey"
            },
            "showarrow": false,
            "text": "p<sub>Al</sub> < p<sub>Bl</sub>",
            "x": 0.94,
            "xref": "x2",
            "y": 650,
            "yref": "y2"
           }
          ]
         },
         "traces": [
          0,
          1,
          2,
          3,
          4,
          5,
          6,
          7,
          8,
          9,
          10,
          11
         ]
        },
        {
         "data": [
          {
           "type": "bar",
           "visible": true
          },
          {
           "type": "bar",
           "visible": true
          },
          {
           "type": "bar",
           "visible": true
          },
          {
           "type": "bar",
           "visible": true
          },
          {
           "type": "bar",
           "x": [
            0.47
           ],
           "y": [
            150.39999999999998
           ]
          },
          {
           "type": "bar",
           "x": [
            0.47
           ],
           "y": [
            169.60000000000002
           ]
          },
          {
           "type": "bar",
           "x": [
            0.44058823529411767
           ],
           "y": [
            299.6
           ]
          },
          {
           "type": "bar",
           "x": [
            0.44058823529411767
           ],
           "y": [
            380.3999999999999
           ]
          },
          {
           "type": "bar",
           "x": [
            0.57
           ],
           "y": [
            285
           ]
          },
          {
           "type": "bar",
           "x": [
            0.57
           ],
           "y": [
            215.00000000000003
           ]
          },
          {
           "type": "bar",
           "x": [
            0.53
           ],
           "y": [
            265
           ]
          },
          {
           "type": "bar",
           "x": [
            0.53
           ],
           "y": [
            235
           ]
          }
         ],
         "layout": {
          "annotations": [
           {
            "align": "center",
            "showarrow": false,
            "text": "p<sub>A</sub> < p<sub>B</sub>",
            "x": 0.94,
            "xref": "x2",
            "y": 850,
            "yref": "y2"
           },
           {
            "align": "center",
            "font": {
             "color": "darkslategrey"
            },
            "showarrow": false,
            "text": "p<sub>Ar</sub> < p<sub>Br</sub>",
            "x": 0.94,
            "xref": "x2",
            "y": 750,
            "yref": "y2"
           },
           {
            "align": "center",
            "font": {
             "color": "darkslategrey"
            },
            "showarrow": false,
            "text": "p<sub>Al</sub> < p<sub>Bl</sub>",
            "x": 0.94,
            "xref": "x2",
            "y": 650,
            "yref": "y2"
           }
          ]
         },
         "traces": [
          0,
          1,
          2,
          3,
          4,
          5,
          6,
          7,
          8,
          9,
          10,
          11
         ]
        },
        {
         "data": [
          {
           "type": "bar",
           "visible": true
          },
          {
           "type": "bar",
           "visible": true
          },
          {
           "type": "bar",
           "visible": true
          },
          {
           "type": "bar",
           "visible": true
          },
          {
           "type": "bar",
           "x": [
            0.47
           ],
           "y": [
            159.79999999999998
           ]
          },
          {
           "type": "bar",
           "x": [
            0.47
           ],
           "y": [
            180.20000000000002
           ]
          },
          {
           "type": "bar",
           "x": [
            0.43969696969696975
           ],
           "y": [
            290.20000000000005
           ]
          },
          {
           "type": "bar",
           "x": [
            0.43969696969696975
           ],
           "y": [
            369.8
           ]
          },
          {
           "type": "bar",
           "x": [
            0.57
           ],
           "y": [
            285
           ]
          },
          {
           "type": "bar",
           "x": [
            0.57
           ],
           "y": [
            215.00000000000003
           ]
          },
          {
           "type": "bar",
           "x": [
            0.53
           ],
           "y": [
            265
           ]
          },
          {
           "type": "bar",
           "x": [
            0.53
           ],
           "y": [
            235
           ]
          }
         ],
         "layout": {
          "annotations": [
           {
            "align": "center",
            "showarrow": false,
            "text": "p<sub>A</sub> < p<sub>B</sub>",
            "x": 0.94,
            "xref": "x2",
            "y": 850,
            "yref": "y2"
           },
           {
            "align": "center",
            "font": {
             "color": "darkslategrey"
            },
            "showarrow": false,
            "text": "p<sub>Ar</sub> < p<sub>Br</sub>",
            "x": 0.94,
            "xref": "x2",
            "y": 750,
            "yref": "y2"
           },
           {
            "align": "center",
            "font": {
             "color": "darkslategrey"
            },
            "showarrow": false,
            "text": "p<sub>Al</sub> < p<sub>Bl</sub>",
            "x": 0.94,
            "xref": "x2",
            "y": 650,
            "yref": "y2"
           }
          ]
         },
         "traces": [
          0,
          1,
          2,
          3,
          4,
          5,
          6,
          7,
          8,
          9,
          10,
          11
         ]
        },
        {
         "data": [
          {
           "type": "bar",
           "visible": true
          },
          {
           "type": "bar",
           "visible": true
          },
          {
           "type": "bar",
           "visible": true
          },
          {
           "type": "bar",
           "visible": true
          },
          {
           "type": "bar",
           "x": [
            0.47
           ],
           "y": [
            169.2
           ]
          },
          {
           "type": "bar",
           "x": [
            0.47
           ],
           "y": [
            190.8
           ]
          },
          {
           "type": "bar",
           "x": [
            0.43875000000000003
           ],
           "y": [
            280.8
           ]
          },
          {
           "type": "bar",
           "x": [
            0.43875000000000003
           ],
           "y": [
            359.20000000000005
           ]
          },
          {
           "type": "bar",
           "x": [
            0.57
           ],
           "y": [
            285
           ]
          },
          {
           "type": "bar",
           "x": [
            0.57
           ],
           "y": [
            215.00000000000003
           ]
          },
          {
           "type": "bar",
           "x": [
            0.53
           ],
           "y": [
            265
           ]
          },
          {
           "type": "bar",
           "x": [
            0.53
           ],
           "y": [
            235
           ]
          }
         ],
         "layout": {
          "annotations": [
           {
            "align": "center",
            "showarrow": false,
            "text": "p<sub>A</sub> < p<sub>B</sub>",
            "x": 0.94,
            "xref": "x2",
            "y": 850,
            "yref": "y2"
           },
           {
            "align": "center",
            "font": {
             "color": "darkslategrey"
            },
            "showarrow": false,
            "text": "p<sub>Ar</sub> < p<sub>Br</sub>",
            "x": 0.94,
            "xref": "x2",
            "y": 750,
            "yref": "y2"
           },
           {
            "align": "center",
            "font": {
             "color": "darkslategrey"
            },
            "showarrow": false,
            "text": "p<sub>Al</sub> < p<sub>Bl</sub>",
            "x": 0.94,
            "xref": "x2",
            "y": 650,
            "yref": "y2"
           }
          ]
         },
         "traces": [
          0,
          1,
          2,
          3,
          4,
          5,
          6,
          7,
          8,
          9,
          10,
          11
         ]
        },
        {
         "data": [
          {
           "type": "bar",
           "visible": true
          },
          {
           "type": "bar",
           "visible": true
          },
          {
           "type": "bar",
           "visible": true
          },
          {
           "type": "bar",
           "visible": true
          },
          {
           "type": "bar",
           "x": [
            0.47
           ],
           "y": [
            178.6
           ]
          },
          {
           "type": "bar",
           "x": [
            0.47
           ],
           "y": [
            201.4
           ]
          },
          {
           "type": "bar",
           "x": [
            0.4377419354838709
           ],
           "y": [
            271.4
           ]
          },
          {
           "type": "bar",
           "x": [
            0.4377419354838709
           ],
           "y": [
            348.6
           ]
          },
          {
           "type": "bar",
           "x": [
            0.57
           ],
           "y": [
            285
           ]
          },
          {
           "type": "bar",
           "x": [
            0.57
           ],
           "y": [
            215.00000000000003
           ]
          },
          {
           "type": "bar",
           "x": [
            0.53
           ],
           "y": [
            265
           ]
          },
          {
           "type": "bar",
           "x": [
            0.53
           ],
           "y": [
            235
           ]
          }
         ],
         "layout": {
          "annotations": [
           {
            "align": "center",
            "showarrow": false,
            "text": "p<sub>A</sub> < p<sub>B</sub>",
            "x": 0.94,
            "xref": "x2",
            "y": 850,
            "yref": "y2"
           },
           {
            "align": "center",
            "font": {
             "color": "darkslategrey"
            },
            "showarrow": false,
            "text": "p<sub>Ar</sub> < p<sub>Br</sub>",
            "x": 0.94,
            "xref": "x2",
            "y": 750,
            "yref": "y2"
           },
           {
            "align": "center",
            "font": {
             "color": "darkslategrey"
            },
            "showarrow": false,
            "text": "p<sub>Al</sub> < p<sub>Bl</sub>",
            "x": 0.94,
            "xref": "x2",
            "y": 650,
            "yref": "y2"
           }
          ]
         },
         "traces": [
          0,
          1,
          2,
          3,
          4,
          5,
          6,
          7,
          8,
          9,
          10,
          11
         ]
        },
        {
         "data": [
          {
           "type": "bar",
           "visible": true
          },
          {
           "type": "bar",
           "visible": true
          },
          {
           "type": "bar",
           "visible": true
          },
          {
           "type": "bar",
           "visible": true
          },
          {
           "type": "bar",
           "x": [
            0.47
           ],
           "y": [
            188
           ]
          },
          {
           "type": "bar",
           "x": [
            0.47
           ],
           "y": [
            212
           ]
          },
          {
           "type": "bar",
           "x": [
            0.43666666666666665
           ],
           "y": [
            262
           ]
          },
          {
           "type": "bar",
           "x": [
            0.43666666666666665
           ],
           "y": [
            338
           ]
          },
          {
           "type": "bar",
           "x": [
            0.57
           ],
           "y": [
            285
           ]
          },
          {
           "type": "bar",
           "x": [
            0.57
           ],
           "y": [
            215.00000000000003
           ]
          },
          {
           "type": "bar",
           "x": [
            0.53
           ],
           "y": [
            265
           ]
          },
          {
           "type": "bar",
           "x": [
            0.53
           ],
           "y": [
            235
           ]
          }
         ],
         "layout": {
          "annotations": [
           {
            "align": "center",
            "showarrow": false,
            "text": "p<sub>A</sub> < p<sub>B</sub>",
            "x": 0.94,
            "xref": "x2",
            "y": 850,
            "yref": "y2"
           },
           {
            "align": "center",
            "font": {
             "color": "darkslategrey"
            },
            "showarrow": false,
            "text": "p<sub>Ar</sub> < p<sub>Br</sub>",
            "x": 0.94,
            "xref": "x2",
            "y": 750,
            "yref": "y2"
           },
           {
            "align": "center",
            "font": {
             "color": "darkslategrey"
            },
            "showarrow": false,
            "text": "p<sub>Al</sub> < p<sub>Bl</sub>",
            "x": 0.94,
            "xref": "x2",
            "y": 650,
            "yref": "y2"
           }
          ]
         },
         "traces": [
          0,
          1,
          2,
          3,
          4,
          5,
          6,
          7,
          8,
          9,
          10,
          11
         ]
        },
        {
         "data": [
          {
           "type": "bar",
           "visible": true
          },
          {
           "type": "bar",
           "visible": true
          },
          {
           "type": "bar",
           "visible": true
          },
          {
           "type": "bar",
           "visible": true
          },
          {
           "type": "bar",
           "x": [
            0.47
           ],
           "y": [
            197.39999999999998
           ]
          },
          {
           "type": "bar",
           "x": [
            0.47
           ],
           "y": [
            222.60000000000002
           ]
          },
          {
           "type": "bar",
           "x": [
            0.43551724137931036
           ],
           "y": [
            252.60000000000002
           ]
          },
          {
           "type": "bar",
           "x": [
            0.43551724137931036
           ],
           "y": [
            327.4
           ]
          },
          {
           "type": "bar",
           "x": [
            0.57
           ],
           "y": [
            285
           ]
          },
          {
           "type": "bar",
           "x": [
            0.57
           ],
           "y": [
            215.00000000000003
           ]
          },
          {
           "type": "bar",
           "x": [
            0.53
           ],
           "y": [
            265
           ]
          },
          {
           "type": "bar",
           "x": [
            0.53
           ],
           "y": [
            235
           ]
          }
         ],
         "layout": {
          "annotations": [
           {
            "align": "center",
            "showarrow": false,
            "text": "p<sub>A</sub> < p<sub>B</sub>",
            "x": 0.94,
            "xref": "x2",
            "y": 850,
            "yref": "y2"
           },
           {
            "align": "center",
            "font": {
             "color": "darkslategrey"
            },
            "showarrow": false,
            "text": "p<sub>Ar</sub> < p<sub>Br</sub>",
            "x": 0.94,
            "xref": "x2",
            "y": 750,
            "yref": "y2"
           },
           {
            "align": "center",
            "font": {
             "color": "darkslategrey"
            },
            "showarrow": false,
            "text": "p<sub>Al</sub> < p<sub>Bl</sub>",
            "x": 0.94,
            "xref": "x2",
            "y": 650,
            "yref": "y2"
           }
          ]
         },
         "traces": [
          0,
          1,
          2,
          3,
          4,
          5,
          6,
          7,
          8,
          9,
          10,
          11
         ]
        },
        {
         "data": [
          {
           "type": "bar",
           "visible": true
          },
          {
           "type": "bar",
           "visible": true
          },
          {
           "type": "bar",
           "visible": true
          },
          {
           "type": "bar",
           "visible": true
          },
          {
           "type": "bar",
           "x": [
            0.47
           ],
           "y": [
            206.79999999999998
           ]
          },
          {
           "type": "bar",
           "x": [
            0.47
           ],
           "y": [
            233.20000000000002
           ]
          },
          {
           "type": "bar",
           "x": [
            0.43428571428571433
           ],
           "y": [
            243.20000000000002
           ]
          },
          {
           "type": "bar",
           "x": [
            0.43428571428571433
           ],
           "y": [
            316.79999999999995
           ]
          },
          {
           "type": "bar",
           "x": [
            0.57
           ],
           "y": [
            285
           ]
          },
          {
           "type": "bar",
           "x": [
            0.57
           ],
           "y": [
            215.00000000000003
           ]
          },
          {
           "type": "bar",
           "x": [
            0.53
           ],
           "y": [
            265
           ]
          },
          {
           "type": "bar",
           "x": [
            0.53
           ],
           "y": [
            235
           ]
          }
         ],
         "layout": {
          "annotations": [
           {
            "align": "center",
            "showarrow": false,
            "text": "p<sub>A</sub> < p<sub>B</sub>",
            "x": 0.94,
            "xref": "x2",
            "y": 850,
            "yref": "y2"
           },
           {
            "align": "center",
            "font": {
             "color": "darkslategrey"
            },
            "showarrow": false,
            "text": "p<sub>Ar</sub> < p<sub>Br</sub>",
            "x": 0.94,
            "xref": "x2",
            "y": 750,
            "yref": "y2"
           },
           {
            "align": "center",
            "font": {
             "color": "darkslategrey"
            },
            "showarrow": false,
            "text": "p<sub>Al</sub> < p<sub>Bl</sub>",
            "x": 0.94,
            "xref": "x2",
            "y": 650,
            "yref": "y2"
           }
          ]
         },
         "traces": [
          0,
          1,
          2,
          3,
          4,
          5,
          6,
          7,
          8,
          9,
          10,
          11
         ]
        },
        {
         "data": [
          {
           "type": "bar",
           "visible": true
          },
          {
           "type": "bar",
           "visible": true
          },
          {
           "type": "bar",
           "visible": true
          },
          {
           "type": "bar",
           "visible": true
          },
          {
           "type": "bar",
           "x": [
            0.47
           ],
           "y": [
            216.2
           ]
          },
          {
           "type": "bar",
           "x": [
            0.47
           ],
           "y": [
            243.8
           ]
          },
          {
           "type": "bar",
           "x": [
            0.432962962962963
           ],
           "y": [
            233.8
           ]
          },
          {
           "type": "bar",
           "x": [
            0.432962962962963
           ],
           "y": [
            306.2
           ]
          },
          {
           "type": "bar",
           "x": [
            0.57
           ],
           "y": [
            285
           ]
          },
          {
           "type": "bar",
           "x": [
            0.57
           ],
           "y": [
            215.00000000000003
           ]
          },
          {
           "type": "bar",
           "x": [
            0.53
           ],
           "y": [
            265
           ]
          },
          {
           "type": "bar",
           "x": [
            0.53
           ],
           "y": [
            235
           ]
          }
         ],
         "layout": {
          "annotations": [
           {
            "align": "center",
            "showarrow": false,
            "text": "p<sub>A</sub> < p<sub>B</sub>",
            "x": 0.94,
            "xref": "x2",
            "y": 850,
            "yref": "y2"
           },
           {
            "align": "center",
            "font": {
             "color": "darkslategrey"
            },
            "showarrow": false,
            "text": "p<sub>Ar</sub> < p<sub>Br</sub>",
            "x": 0.94,
            "xref": "x2",
            "y": 750,
            "yref": "y2"
           },
           {
            "align": "center",
            "font": {
             "color": "darkslategrey"
            },
            "showarrow": false,
            "text": "p<sub>Al</sub> < p<sub>Bl</sub>",
            "x": 0.94,
            "xref": "x2",
            "y": 650,
            "yref": "y2"
           }
          ]
         },
         "traces": [
          0,
          1,
          2,
          3,
          4,
          5,
          6,
          7,
          8,
          9,
          10,
          11
         ]
        },
        {
         "data": [
          {
           "type": "bar",
           "visible": true
          },
          {
           "type": "bar",
           "visible": true
          },
          {
           "type": "bar",
           "visible": true
          },
          {
           "type": "bar",
           "visible": true
          },
          {
           "type": "bar",
           "x": [
            0.47
           ],
           "y": [
            225.6
           ]
          },
          {
           "type": "bar",
           "x": [
            0.47
           ],
           "y": [
            254.4
           ]
          },
          {
           "type": "bar",
           "x": [
            0.43153846153846154
           ],
           "y": [
            224.4
           ]
          },
          {
           "type": "bar",
           "x": [
            0.43153846153846154
           ],
           "y": [
            295.6
           ]
          },
          {
           "type": "bar",
           "x": [
            0.57
           ],
           "y": [
            285
           ]
          },
          {
           "type": "bar",
           "x": [
            0.57
           ],
           "y": [
            215.00000000000003
           ]
          },
          {
           "type": "bar",
           "x": [
            0.53
           ],
           "y": [
            265
           ]
          },
          {
           "type": "bar",
           "x": [
            0.53
           ],
           "y": [
            235
           ]
          }
         ],
         "layout": {
          "annotations": [
           {
            "align": "center",
            "showarrow": false,
            "text": "p<sub>A</sub> < p<sub>B</sub>",
            "x": 0.94,
            "xref": "x2",
            "y": 850,
            "yref": "y2"
           },
           {
            "align": "center",
            "font": {
             "color": "darkslategrey"
            },
            "showarrow": false,
            "text": "p<sub>Ar</sub> < p<sub>Br</sub>",
            "x": 0.94,
            "xref": "x2",
            "y": 750,
            "yref": "y2"
           },
           {
            "align": "center",
            "font": {
             "color": "darkslategrey"
            },
            "showarrow": false,
            "text": "p<sub>Al</sub> < p<sub>Bl</sub>",
            "x": 0.94,
            "xref": "x2",
            "y": 650,
            "yref": "y2"
           }
          ]
         },
         "traces": [
          0,
          1,
          2,
          3,
          4,
          5,
          6,
          7,
          8,
          9,
          10,
          11
         ]
        },
        {
         "data": [
          {
           "type": "bar",
           "visible": true
          },
          {
           "type": "bar",
           "visible": true
          },
          {
           "type": "bar",
           "visible": true
          },
          {
           "type": "bar",
           "visible": true
          },
          {
           "type": "bar",
           "x": [
            0.47
           ],
           "y": [
            235
           ]
          },
          {
           "type": "bar",
           "x": [
            0.47
           ],
           "y": [
            265
           ]
          },
          {
           "type": "bar",
           "x": [
            0.43
           ],
           "y": [
            215
           ]
          },
          {
           "type": "bar",
           "x": [
            0.43
           ],
           "y": [
            285.00000000000006
           ]
          },
          {
           "type": "bar",
           "x": [
            0.57
           ],
           "y": [
            285
           ]
          },
          {
           "type": "bar",
           "x": [
            0.57
           ],
           "y": [
            215.00000000000003
           ]
          },
          {
           "type": "bar",
           "x": [
            0.53
           ],
           "y": [
            265
           ]
          },
          {
           "type": "bar",
           "x": [
            0.53
           ],
           "y": [
            235
           ]
          }
         ],
         "layout": {
          "annotations": [
           {
            "align": "center",
            "showarrow": false,
            "text": "p<sub>A</sub> < p<sub>B</sub>",
            "x": 0.94,
            "xref": "x2",
            "y": 850,
            "yref": "y2"
           },
           {
            "align": "center",
            "font": {
             "color": "darkslategrey"
            },
            "showarrow": false,
            "text": "p<sub>Ar</sub> < p<sub>Br</sub>",
            "x": 0.94,
            "xref": "x2",
            "y": 750,
            "yref": "y2"
           },
           {
            "align": "center",
            "font": {
             "color": "darkslategrey"
            },
            "showarrow": false,
            "text": "p<sub>Al</sub> < p<sub>Bl</sub>",
            "x": 0.94,
            "xref": "x2",
            "y": 650,
            "yref": "y2"
           }
          ]
         },
         "traces": [
          0,
          1,
          2,
          3,
          4,
          5,
          6,
          7,
          8,
          9,
          10,
          11
         ]
        }
       ],
       "layout": {
        "annotations": [
         {
          "align": "center",
          "showarrow": false,
          "text": "p<sub>A</sub> < p<sub>B</sub>",
          "x": 0.94,
          "xref": "x2",
          "y": 850,
          "yref": "y2"
         },
         {
          "align": "center",
          "font": {
           "color": "darkslategrey"
          },
          "showarrow": false,
          "text": "p<sub>Ar</sub> < p<sub>Br</sub>",
          "x": 0.94,
          "xref": "x2",
          "y": 750,
          "yref": "y2"
         },
         {
          "align": "center",
          "font": {
           "color": "darkslategrey"
          },
          "showarrow": false,
          "text": "p<sub>Al</sub> < p<sub>Bl</sub>",
          "x": 0.94,
          "xref": "x2",
          "y": 650,
          "yref": "y2"
         }
        ],
        "autosize": true,
        "barmode": "stack",
        "legend": {
         "traceorder": "normal"
        },
        "template": {
         "data": {
          "bar": [
           {
            "error_x": {
             "color": "#2a3f5f"
            },
            "error_y": {
             "color": "#2a3f5f"
            },
            "marker": {
             "line": {
              "color": "#E5ECF6",
              "width": 0.5
             },
             "pattern": {
              "fillmode": "overlay",
              "size": 10,
              "solidity": 0.2
             }
            },
            "type": "bar"
           }
          ],
          "barpolar": [
           {
            "marker": {
             "line": {
              "color": "#E5ECF6",
              "width": 0.5
             },
             "pattern": {
              "fillmode": "overlay",
              "size": 10,
              "solidity": 0.2
             }
            },
            "type": "barpolar"
           }
          ],
          "carpet": [
           {
            "aaxis": {
             "endlinecolor": "#2a3f5f",
             "gridcolor": "white",
             "linecolor": "white",
             "minorgridcolor": "white",
             "startlinecolor": "#2a3f5f"
            },
            "baxis": {
             "endlinecolor": "#2a3f5f",
             "gridcolor": "white",
             "linecolor": "white",
             "minorgridcolor": "white",
             "startlinecolor": "#2a3f5f"
            },
            "type": "carpet"
           }
          ],
          "choropleth": [
           {
            "colorbar": {
             "outlinewidth": 0,
             "ticks": ""
            },
            "type": "choropleth"
           }
          ],
          "contour": [
           {
            "colorbar": {
             "outlinewidth": 0,
             "ticks": ""
            },
            "colorscale": [
             [
              0,
              "#0d0887"
             ],
             [
              0.1111111111111111,
              "#46039f"
             ],
             [
              0.2222222222222222,
              "#7201a8"
             ],
             [
              0.3333333333333333,
              "#9c179e"
             ],
             [
              0.4444444444444444,
              "#bd3786"
             ],
             [
              0.5555555555555556,
              "#d8576b"
             ],
             [
              0.6666666666666666,
              "#ed7953"
             ],
             [
              0.7777777777777778,
              "#fb9f3a"
             ],
             [
              0.8888888888888888,
              "#fdca26"
             ],
             [
              1,
              "#f0f921"
             ]
            ],
            "type": "contour"
           }
          ],
          "contourcarpet": [
           {
            "colorbar": {
             "outlinewidth": 0,
             "ticks": ""
            },
            "type": "contourcarpet"
           }
          ],
          "heatmap": [
           {
            "colorbar": {
             "outlinewidth": 0,
             "ticks": ""
            },
            "colorscale": [
             [
              0,
              "#0d0887"
             ],
             [
              0.1111111111111111,
              "#46039f"
             ],
             [
              0.2222222222222222,
              "#7201a8"
             ],
             [
              0.3333333333333333,
              "#9c179e"
             ],
             [
              0.4444444444444444,
              "#bd3786"
             ],
             [
              0.5555555555555556,
              "#d8576b"
             ],
             [
              0.6666666666666666,
              "#ed7953"
             ],
             [
              0.7777777777777778,
              "#fb9f3a"
             ],
             [
              0.8888888888888888,
              "#fdca26"
             ],
             [
              1,
              "#f0f921"
             ]
            ],
            "type": "heatmap"
           }
          ],
          "heatmapgl": [
           {
            "colorbar": {
             "outlinewidth": 0,
             "ticks": ""
            },
            "colorscale": [
             [
              0,
              "#0d0887"
             ],
             [
              0.1111111111111111,
              "#46039f"
             ],
             [
              0.2222222222222222,
              "#7201a8"
             ],
             [
              0.3333333333333333,
              "#9c179e"
             ],
             [
              0.4444444444444444,
              "#bd3786"
             ],
             [
              0.5555555555555556,
              "#d8576b"
             ],
             [
              0.6666666666666666,
              "#ed7953"
             ],
             [
              0.7777777777777778,
              "#fb9f3a"
             ],
             [
              0.8888888888888888,
              "#fdca26"
             ],
             [
              1,
              "#f0f921"
             ]
            ],
            "type": "heatmapgl"
           }
          ],
          "histogram": [
           {
            "marker": {
             "pattern": {
              "fillmode": "overlay",
              "size": 10,
              "solidity": 0.2
             }
            },
            "type": "histogram"
           }
          ],
          "histogram2d": [
           {
            "colorbar": {
             "outlinewidth": 0,
             "ticks": ""
            },
            "colorscale": [
             [
              0,
              "#0d0887"
             ],
             [
              0.1111111111111111,
              "#46039f"
             ],
             [
              0.2222222222222222,
              "#7201a8"
             ],
             [
              0.3333333333333333,
              "#9c179e"
             ],
             [
              0.4444444444444444,
              "#bd3786"
             ],
             [
              0.5555555555555556,
              "#d8576b"
             ],
             [
              0.6666666666666666,
              "#ed7953"
             ],
             [
              0.7777777777777778,
              "#fb9f3a"
             ],
             [
              0.8888888888888888,
              "#fdca26"
             ],
             [
              1,
              "#f0f921"
             ]
            ],
            "type": "histogram2d"
           }
          ],
          "histogram2dcontour": [
           {
            "colorbar": {
             "outlinewidth": 0,
             "ticks": ""
            },
            "colorscale": [
             [
              0,
              "#0d0887"
             ],
             [
              0.1111111111111111,
              "#46039f"
             ],
             [
              0.2222222222222222,
              "#7201a8"
             ],
             [
              0.3333333333333333,
              "#9c179e"
             ],
             [
              0.4444444444444444,
              "#bd3786"
             ],
             [
              0.5555555555555556,
              "#d8576b"
             ],
             [
              0.6666666666666666,
              "#ed7953"
             ],
             [
              0.7777777777777778,
              "#fb9f3a"
             ],
             [
              0.8888888888888888,
              "#fdca26"
             ],
             [
              1,
              "#f0f921"
             ]
            ],
            "type": "histogram2dcontour"
           }
          ],
          "mesh3d": [
           {
            "colorbar": {
             "outlinewidth": 0,
             "ticks": ""
            },
            "type": "mesh3d"
           }
          ],
          "parcoords": [
           {
            "line": {
             "colorbar": {
              "outlinewidth": 0,
              "ticks": ""
             }
            },
            "type": "parcoords"
           }
          ],
          "pie": [
           {
            "automargin": true,
            "type": "pie"
           }
          ],
          "scatter": [
           {
            "marker": {
             "colorbar": {
              "outlinewidth": 0,
              "ticks": ""
             }
            },
            "type": "scatter"
           }
          ],
          "scatter3d": [
           {
            "line": {
             "colorbar": {
              "outlinewidth": 0,
              "ticks": ""
             }
            },
            "marker": {
             "colorbar": {
              "outlinewidth": 0,
              "ticks": ""
             }
            },
            "type": "scatter3d"
           }
          ],
          "scattercarpet": [
           {
            "marker": {
             "colorbar": {
              "outlinewidth": 0,
              "ticks": ""
             }
            },
            "type": "scattercarpet"
           }
          ],
          "scattergeo": [
           {
            "marker": {
             "colorbar": {
              "outlinewidth": 0,
              "ticks": ""
             }
            },
            "type": "scattergeo"
           }
          ],
          "scattergl": [
           {
            "marker": {
             "colorbar": {
              "outlinewidth": 0,
              "ticks": ""
             }
            },
            "type": "scattergl"
           }
          ],
          "scattermapbox": [
           {
            "marker": {
             "colorbar": {
              "outlinewidth": 0,
              "ticks": ""
             }
            },
            "type": "scattermapbox"
           }
          ],
          "scatterpolar": [
           {
            "marker": {
             "colorbar": {
              "outlinewidth": 0,
              "ticks": ""
             }
            },
            "type": "scatterpolar"
           }
          ],
          "scatterpolargl": [
           {
            "marker": {
             "colorbar": {
              "outlinewidth": 0,
              "ticks": ""
             }
            },
            "type": "scatterpolargl"
           }
          ],
          "scatterternary": [
           {
            "marker": {
             "colorbar": {
              "outlinewidth": 0,
              "ticks": ""
             }
            },
            "type": "scatterternary"
           }
          ],
          "surface": [
           {
            "colorbar": {
             "outlinewidth": 0,
             "ticks": ""
            },
            "colorscale": [
             [
              0,
              "#0d0887"
             ],
             [
              0.1111111111111111,
              "#46039f"
             ],
             [
              0.2222222222222222,
              "#7201a8"
             ],
             [
              0.3333333333333333,
              "#9c179e"
             ],
             [
              0.4444444444444444,
              "#bd3786"
             ],
             [
              0.5555555555555556,
              "#d8576b"
             ],
             [
              0.6666666666666666,
              "#ed7953"
             ],
             [
              0.7777777777777778,
              "#fb9f3a"
             ],
             [
              0.8888888888888888,
              "#fdca26"
             ],
             [
              1,
              "#f0f921"
             ]
            ],
            "type": "surface"
           }
          ],
          "table": [
           {
            "cells": {
             "fill": {
              "color": "#EBF0F8"
             },
             "line": {
              "color": "white"
             }
            },
            "header": {
             "fill": {
              "color": "#C8D4E3"
             },
             "line": {
              "color": "white"
             }
            },
            "type": "table"
           }
          ]
         },
         "layout": {
          "annotationdefaults": {
           "arrowcolor": "#2a3f5f",
           "arrowhead": 0,
           "arrowwidth": 1
          },
          "autotypenumbers": "strict",
          "coloraxis": {
           "colorbar": {
            "outlinewidth": 0,
            "ticks": ""
           }
          },
          "colorscale": {
           "diverging": [
            [
             0,
             "#8e0152"
            ],
            [
             0.1,
             "#c51b7d"
            ],
            [
             0.2,
             "#de77ae"
            ],
            [
             0.3,
             "#f1b6da"
            ],
            [
             0.4,
             "#fde0ef"
            ],
            [
             0.5,
             "#f7f7f7"
            ],
            [
             0.6,
             "#e6f5d0"
            ],
            [
             0.7,
             "#b8e186"
            ],
            [
             0.8,
             "#7fbc41"
            ],
            [
             0.9,
             "#4d9221"
            ],
            [
             1,
             "#276419"
            ]
           ],
           "sequential": [
            [
             0,
             "#0d0887"
            ],
            [
             0.1111111111111111,
             "#46039f"
            ],
            [
             0.2222222222222222,
             "#7201a8"
            ],
            [
             0.3333333333333333,
             "#9c179e"
            ],
            [
             0.4444444444444444,
             "#bd3786"
            ],
            [
             0.5555555555555556,
             "#d8576b"
            ],
            [
             0.6666666666666666,
             "#ed7953"
            ],
            [
             0.7777777777777778,
             "#fb9f3a"
            ],
            [
             0.8888888888888888,
             "#fdca26"
            ],
            [
             1,
             "#f0f921"
            ]
           ],
           "sequentialminus": [
            [
             0,
             "#0d0887"
            ],
            [
             0.1111111111111111,
             "#46039f"
            ],
            [
             0.2222222222222222,
             "#7201a8"
            ],
            [
             0.3333333333333333,
             "#9c179e"
            ],
            [
             0.4444444444444444,
             "#bd3786"
            ],
            [
             0.5555555555555556,
             "#d8576b"
            ],
            [
             0.6666666666666666,
             "#ed7953"
            ],
            [
             0.7777777777777778,
             "#fb9f3a"
            ],
            [
             0.8888888888888888,
             "#fdca26"
            ],
            [
             1,
             "#f0f921"
            ]
           ]
          },
          "colorway": [
           "#636efa",
           "#EF553B",
           "#00cc96",
           "#ab63fa",
           "#FFA15A",
           "#19d3f3",
           "#FF6692",
           "#B6E880",
           "#FF97FF",
           "#FECB52"
          ],
          "font": {
           "color": "#2a3f5f"
          },
          "geo": {
           "bgcolor": "white",
           "lakecolor": "white",
           "landcolor": "#E5ECF6",
           "showlakes": true,
           "showland": true,
           "subunitcolor": "white"
          },
          "hoverlabel": {
           "align": "left"
          },
          "hovermode": "closest",
          "mapbox": {
           "style": "light"
          },
          "paper_bgcolor": "white",
          "plot_bgcolor": "#E5ECF6",
          "polar": {
           "angularaxis": {
            "gridcolor": "white",
            "linecolor": "white",
            "ticks": ""
           },
           "bgcolor": "#E5ECF6",
           "radialaxis": {
            "gridcolor": "white",
            "linecolor": "white",
            "ticks": ""
           }
          },
          "scene": {
           "xaxis": {
            "backgroundcolor": "#E5ECF6",
            "gridcolor": "white",
            "gridwidth": 2,
            "linecolor": "white",
            "showbackground": true,
            "ticks": "",
            "zerolinecolor": "white"
           },
           "yaxis": {
            "backgroundcolor": "#E5ECF6",
            "gridcolor": "white",
            "gridwidth": 2,
            "linecolor": "white",
            "showbackground": true,
            "ticks": "",
            "zerolinecolor": "white"
           },
           "zaxis": {
            "backgroundcolor": "#E5ECF6",
            "gridcolor": "white",
            "gridwidth": 2,
            "linecolor": "white",
            "showbackground": true,
            "ticks": "",
            "zerolinecolor": "white"
           }
          },
          "shapedefaults": {
           "line": {
            "color": "#2a3f5f"
           }
          },
          "ternary": {
           "aaxis": {
            "gridcolor": "white",
            "linecolor": "white",
            "ticks": ""
           },
           "baxis": {
            "gridcolor": "white",
            "linecolor": "white",
            "ticks": ""
           },
           "bgcolor": "#E5ECF6",
           "caxis": {
            "gridcolor": "white",
            "linecolor": "white",
            "ticks": ""
           }
          },
          "title": {
           "x": 0.05
          },
          "xaxis": {
           "automargin": true,
           "gridcolor": "white",
           "linecolor": "white",
           "ticks": "",
           "title": {
            "standoff": 15
           },
           "zerolinecolor": "white",
           "zerolinewidth": 2
          },
          "yaxis": {
           "automargin": true,
           "gridcolor": "white",
           "linecolor": "white",
           "ticks": "",
           "title": {
            "standoff": 15
           },
           "zerolinecolor": "white",
           "zerolinewidth": 2
          }
         }
        },
        "updatemenus": [
         {
          "active": 0,
          "buttons": [
           {
            "args": [
             null,
             {
              "frame": {
               "duration": 50,
               "redraw": false
              },
              "fromcurrent": true,
              "mode": "immediate",
              "transition": {
               "duration": 0
              }
             }
            ],
            "label": "Play",
            "method": "animate"
           }
          ],
          "showactive": false,
          "type": "buttons",
          "x": 1.05,
          "xanchor": "left",
          "y": 0,
          "yanchor": "bottom"
         }
        ],
        "xaxis": {
         "anchor": "y",
         "domain": [
          0,
          1
         ],
         "range": [
          0,
          1
         ],
         "type": "linear"
        },
        "xaxis2": {
         "anchor": "y2",
         "domain": [
          0,
          1
         ],
         "range": [
          0,
          1
         ],
         "title": {
          "text": "p"
         },
         "type": "linear"
        },
        "yaxis": {
         "anchor": "x",
         "domain": [
          0.5255,
          1
         ],
         "range": [
          0,
          1100
         ],
         "title": {
          "text": "N"
         },
         "type": "linear"
        },
        "yaxis2": {
         "anchor": "x2",
         "domain": [
          0,
          0.4745
         ],
         "range": [
          0,
          1000
         ],
         "title": {
          "text": "N"
         },
         "type": "linear"
        }
       }
      },
      "image/png": "[encoded data removed]",
      "text/html": [
       "<div>                            <div id=\"b147a64c-5a5d-400f-9f45-dca80703ae04\" class=\"plotly-graph-div\" style=\"height:600px; width:100%;\"></div>            <script type=\"text/javascript\">                require([\"plotly\"], function(Plotly) {                    window.PLOTLYENV=window.PLOTLYENV || {};                                    if (document.getElementById(\"b147a64c-5a5d-400f-9f45-dca80703ae04\")) {                    Plotly.newPlot(                        \"b147a64c-5a5d-400f-9f45-dca80703ae04\",                        [{\"marker\":{\"color\":\"red\"},\"name\":\"A, Al, Ar\",\"type\":\"bar\",\"width\":0.01,\"x\":[0.45],\"xaxis\":\"x\",\"y\":[450.0],\"yaxis\":\"y\"},{\"marker\":{\"color\":\"blue\"},\"name\":\"B, Bl, Br\",\"type\":\"bar\",\"width\":0.01,\"x\":[0.55],\"xaxis\":\"x\",\"y\":[550.0],\"yaxis\":\"y\"},{\"marker\":{\"color\":\"whitesmoke\"},\"name\":\"Not Converted\",\"type\":\"bar\",\"width\":0.01,\"x\":[0.45],\"xaxis\":\"x\",\"y\":[550.0],\"yaxis\":\"y\"},{\"marker\":{\"color\":\"whitesmoke\"},\"name\":\"Not Converted\",\"showlegend\":false,\"type\":\"bar\",\"width\":0.01,\"x\":[0.55],\"xaxis\":\"x\",\"y\":[449.99999999999994],\"yaxis\":\"y\"},{\"marker\":{\"color\":\"red\"},\"name\":\"Ar\",\"showlegend\":false,\"type\":\"bar\",\"width\":0.005,\"x\":[0.47],\"xaxis\":\"x2\",\"y\":[235.0],\"yaxis\":\"y2\"},{\"marker\":{\"color\":\"whitesmoke\"},\"name\":\"Not Converted\",\"showlegend\":false,\"type\":\"bar\",\"width\":0.005,\"x\":[0.47],\"xaxis\":\"x2\",\"y\":[265.0],\"yaxis\":\"y2\"},{\"marker\":{\"color\":\"red\"},\"name\":\"Al\",\"showlegend\":false,\"type\":\"bar\",\"width\":0.005,\"x\":[0.43],\"xaxis\":\"x2\",\"y\":[215.0],\"yaxis\":\"y2\"},{\"marker\":{\"color\":\"whitesmoke\"},\"name\":\"Not Converted\",\"showlegend\":false,\"type\":\"bar\",\"width\":0.005,\"x\":[0.43],\"xaxis\":\"x2\",\"y\":[285.00000000000006],\"yaxis\":\"y2\"},{\"marker\":{\"color\":\"blue\"},\"name\":\"Br\",\"showlegend\":false,\"type\":\"bar\",\"width\":0.005,\"x\":[0.57],\"xaxis\":\"x2\",\"y\":[285.0],\"yaxis\":\"y2\"},{\"marker\":{\"color\":\"whitesmoke\"},\"name\":\"Not Converted\",\"showlegend\":false,\"type\":\"bar\",\"width\":0.005,\"x\":[0.57],\"xaxis\":\"x2\",\"y\":[215.00000000000003],\"yaxis\":\"y2\"},{\"marker\":{\"color\":\"blue\"},\"name\":\"Bl\",\"showlegend\":false,\"type\":\"bar\",\"width\":0.005,\"x\":[0.53],\"xaxis\":\"x2\",\"y\":[265.0],\"yaxis\":\"y2\"},{\"marker\":{\"color\":\"whitesmoke\"},\"name\":\"Not Converted\",\"showlegend\":false,\"type\":\"bar\",\"width\":0.005,\"x\":[0.53],\"xaxis\":\"x2\",\"y\":[235.0],\"yaxis\":\"y2\"}],                        {\"annotations\":[{\"align\":\"center\",\"showarrow\":false,\"text\":\"p<sub>A</sub> < p<sub>B</sub>\",\"x\":0.94,\"xref\":\"x2\",\"y\":850,\"yref\":\"y2\"},{\"align\":\"center\",\"font\":{\"color\":\"darkslategrey\"},\"showarrow\":false,\"text\":\"p<sub>Ar</sub> < p<sub>Br</sub>\",\"x\":0.94,\"xref\":\"x2\",\"y\":750,\"yref\":\"y2\"},{\"align\":\"center\",\"font\":{\"color\":\"darkslategrey\"},\"showarrow\":false,\"text\":\"p<sub>Al</sub> < p<sub>Bl</sub>\",\"x\":0.94,\"xref\":\"x2\",\"y\":650,\"yref\":\"y2\"}],\"barmode\":\"stack\",\"height\":600,\"legend\":{\"traceorder\":\"normal\"},\"template\":{\"data\":{\"bar\":[{\"error_x\":{\"color\":\"#2a3f5f\"},\"error_y\":{\"color\":\"#2a3f5f\"},\"marker\":{\"line\":{\"color\":\"#E5ECF6\",\"width\":0.5},\"pattern\":{\"fillmode\":\"overlay\",\"size\":10,\"solidity\":0.2}},\"type\":\"bar\"}],\"barpolar\":[{\"marker\":{\"line\":{\"color\":\"#E5ECF6\",\"width\":0.5},\"pattern\":{\"fillmode\":\"overlay\",\"size\":10,\"solidity\":0.2}},\"type\":\"barpolar\"}],\"carpet\":[{\"aaxis\":{\"endlinecolor\":\"#2a3f5f\",\"gridcolor\":\"white\",\"linecolor\":\"white\",\"minorgridcolor\":\"white\",\"startlinecolor\":\"#2a3f5f\"},\"baxis\":{\"endlinecolor\":\"#2a3f5f\",\"gridcolor\":\"white\",\"linecolor\":\"white\",\"minorgridcolor\":\"white\",\"startlinecolor\":\"#2a3f5f\"},\"type\":\"carpet\"}],\"choropleth\":[{\"colorbar\":{\"outlinewidth\":0,\"ticks\":\"\"},\"type\":\"choropleth\"}],\"contour\":[{\"colorbar\":{\"outlinewidth\":0,\"ticks\":\"\"},\"colorscale\":[[0.0,\"#0d0887\"],[0.1111111111111111,\"#46039f\"],[0.2222222222222222,\"#7201a8\"],[0.3333333333333333,\"#9c179e\"],[0.4444444444444444,\"#bd3786\"],[0.5555555555555556,\"#d8576b\"],[0.6666666666666666,\"#ed7953\"],[0.7777777777777778,\"#fb9f3a\"],[0.8888888888888888,\"#fdca26\"],[1.0,\"#f0f921\"]],\"type\":\"contour\"}],\"contourcarpet\":[{\"colorbar\":{\"outlinewidth\":0,\"ticks\":\"\"},\"type\":\"contourcarpet\"}],\"heatmap\":[{\"colorbar\":{\"outlinewidth\":0,\"ticks\":\"\"},\"colorscale\":[[0.0,\"#0d0887\"],[0.1111111111111111,\"#46039f\"],[0.2222222222222222,\"#7201a8\"],[0.3333333333333333,\"#9c179e\"],[0.4444444444444444,\"#bd3786\"],[0.5555555555555556,\"#d8576b\"],[0.6666666666666666,\"#ed7953\"],[0.7777777777777778,\"#fb9f3a\"],[0.8888888888888888,\"#fdca26\"],[1.0,\"#f0f921\"]],\"type\":\"heatmap\"}],\"heatmapgl\":[{\"colorbar\":{\"outlinewidth\":0,\"ticks\":\"\"},\"colorscale\":[[0.0,\"#0d0887\"],[0.1111111111111111,\"#46039f\"],[0.2222222222222222,\"#7201a8\"],[0.3333333333333333,\"#9c179e\"],[0.4444444444444444,\"#bd3786\"],[0.5555555555555556,\"#d8576b\"],[0.6666666666666666,\"#ed7953\"],[0.7777777777777778,\"#fb9f3a\"],[0.8888888888888888,\"#fdca26\"],[1.0,\"#f0f921\"]],\"type\":\"heatmapgl\"}],\"histogram\":[{\"marker\":{\"pattern\":{\"fillmode\":\"overlay\",\"size\":10,\"solidity\":0.2}},\"type\":\"histogram\"}],\"histogram2d\":[{\"colorbar\":{\"outlinewidth\":0,\"ticks\":\"\"},\"colorscale\":[[0.0,\"#0d0887\"],[0.1111111111111111,\"#46039f\"],[0.2222222222222222,\"#7201a8\"],[0.3333333333333333,\"#9c179e\"],[0.4444444444444444,\"#bd3786\"],[0.5555555555555556,\"#d8576b\"],[0.6666666666666666,\"#ed7953\"],[0.7777777777777778,\"#fb9f3a\"],[0.8888888888888888,\"#fdca26\"],[1.0,\"#f0f921\"]],\"type\":\"histogram2d\"}],\"histogram2dcontour\":[{\"colorbar\":{\"outlinewidth\":0,\"ticks\":\"\"},\"colorscale\":[[0.0,\"#0d0887\"],[0.1111111111111111,\"#46039f\"],[0.2222222222222222,\"#7201a8\"],[0.3333333333333333,\"#9c179e\"],[0.4444444444444444,\"#bd3786\"],[0.5555555555555556,\"#d8576b\"],[0.6666666666666666,\"#ed7953\"],[0.7777777777777778,\"#fb9f3a\"],[0.8888888888888888,\"#fdca26\"],[1.0,\"#f0f921\"]],\"type\":\"histogram2dcontour\"}],\"mesh3d\":[{\"colorbar\":{\"outlinewidth\":0,\"ticks\":\"\"},\"type\":\"mesh3d\"}],\"parcoords\":[{\"line\":{\"colorbar\":{\"outlinewidth\":0,\"ticks\":\"\"}},\"type\":\"parcoords\"}],\"pie\":[{\"automargin\":true,\"type\":\"pie\"}],\"scatter\":[{\"marker\":{\"colorbar\":{\"outlinewidth\":0,\"ticks\":\"\"}},\"type\":\"scatter\"}],\"scatter3d\":[{\"line\":{\"colorbar\":{\"outlinewidth\":0,\"ticks\":\"\"}},\"marker\":{\"colorbar\":{\"outlinewidth\":0,\"ticks\":\"\"}},\"type\":\"scatter3d\"}],\"scattercarpet\":[{\"marker\":{\"colorbar\":{\"outlinewidth\":0,\"ticks\":\"\"}},\"type\":\"scattercarpet\"}],\"scattergeo\":[{\"marker\":{\"colorbar\":{\"outlinewidth\":0,\"ticks\":\"\"}},\"type\":\"scattergeo\"}],\"scattergl\":[{\"marker\":{\"colorbar\":{\"outlinewidth\":0,\"ticks\":\"\"}},\"type\":\"scattergl\"}],\"scattermapbox\":[{\"marker\":{\"colorbar\":{\"outlinewidth\":0,\"ticks\":\"\"}},\"type\":\"scattermapbox\"}],\"scatterpolar\":[{\"marker\":{\"colorbar\":{\"outlinewidth\":0,\"ticks\":\"\"}},\"type\":\"scatterpolar\"}],\"scatterpolargl\":[{\"marker\":{\"colorbar\":{\"outlinewidth\":0,\"ticks\":\"\"}},\"type\":\"scatterpolargl\"}],\"scatterternary\":[{\"marker\":{\"colorbar\":{\"outlinewidth\":0,\"ticks\":\"\"}},\"type\":\"scatterternary\"}],\"surface\":[{\"colorbar\":{\"outlinewidth\":0,\"ticks\":\"\"},\"colorscale\":[[0.0,\"#0d0887\"],[0.1111111111111111,\"#46039f\"],[0.2222222222222222,\"#7201a8\"],[0.3333333333333333,\"#9c179e\"],[0.4444444444444444,\"#bd3786\"],[0.5555555555555556,\"#d8576b\"],[0.6666666666666666,\"#ed7953\"],[0.7777777777777778,\"#fb9f3a\"],[0.8888888888888888,\"#fdca26\"],[1.0,\"#f0f921\"]],\"type\":\"surface\"}],\"table\":[{\"cells\":{\"fill\":{\"color\":\"#EBF0F8\"},\"line\":{\"color\":\"white\"}},\"header\":{\"fill\":{\"color\":\"#C8D4E3\"},\"line\":{\"color\":\"white\"}},\"type\":\"table\"}]},\"layout\":{\"annotationdefaults\":{\"arrowcolor\":\"#2a3f5f\",\"arrowhead\":0,\"arrowwidth\":1},\"autotypenumbers\":\"strict\",\"coloraxis\":{\"colorbar\":{\"outlinewidth\":0,\"ticks\":\"\"}},\"colorscale\":{\"diverging\":[[0,\"#8e0152\"],[0.1,\"#c51b7d\"],[0.2,\"#de77ae\"],[0.3,\"#f1b6da\"],[0.4,\"#fde0ef\"],[0.5,\"#f7f7f7\"],[0.6,\"#e6f5d0\"],[0.7,\"#b8e186\"],[0.8,\"#7fbc41\"],[0.9,\"#4d9221\"],[1,\"#276419\"]],\"sequential\":[[0.0,\"#0d0887\"],[0.1111111111111111,\"#46039f\"],[0.2222222222222222,\"#7201a8\"],[0.3333333333333333,\"#9c179e\"],[0.4444444444444444,\"#bd3786\"],[0.5555555555555556,\"#d8576b\"],[0.6666666666666666,\"#ed7953\"],[0.7777777777777778,\"#fb9f3a\"],[0.8888888888888888,\"#fdca26\"],[1.0,\"#f0f921\"]],\"sequentialminus\":[[0.0,\"#0d0887\"],[0.1111111111111111,\"#46039f\"],[0.2222222222222222,\"#7201a8\"],[0.3333333333333333,\"#9c179e\"],[0.4444444444444444,\"#bd3786\"],[0.5555555555555556,\"#d8576b\"],[0.6666666666666666,\"#ed7953\"],[0.7777777777777778,\"#fb9f3a\"],[0.8888888888888888,\"#fdca26\"],[1.0,\"#f0f921\"]]},\"colorway\":[\"#636efa\",\"#EF553B\",\"#00cc96\",\"#ab63fa\",\"#FFA15A\",\"#19d3f3\",\"#FF6692\",\"#B6E880\",\"#FF97FF\",\"#FECB52\"],\"font\":{\"color\":\"#2a3f5f\"},\"geo\":{\"bgcolor\":\"white\",\"lakecolor\":\"white\",\"landcolor\":\"#E5ECF6\",\"showlakes\":true,\"showland\":true,\"subunitcolor\":\"white\"},\"hoverlabel\":{\"align\":\"left\"},\"hovermode\":\"closest\",\"mapbox\":{\"style\":\"light\"},\"paper_bgcolor\":\"white\",\"plot_bgcolor\":\"#E5ECF6\",\"polar\":{\"angularaxis\":{\"gridcolor\":\"white\",\"linecolor\":\"white\",\"ticks\":\"\"},\"bgcolor\":\"#E5ECF6\",\"radialaxis\":{\"gridcolor\":\"white\",\"linecolor\":\"white\",\"ticks\":\"\"}},\"scene\":{\"xaxis\":{\"backgroundcolor\":\"#E5ECF6\",\"gridcolor\":\"white\",\"gridwidth\":2,\"linecolor\":\"white\",\"showbackground\":true,\"ticks\":\"\",\"zerolinecolor\":\"white\"},\"yaxis\":{\"backgroundcolor\":\"#E5ECF6\",\"gridcolor\":\"white\",\"gridwidth\":2,\"linecolor\":\"white\",\"showbackground\":true,\"ticks\":\"\",\"zerolinecolor\":\"white\"},\"zaxis\":{\"backgroundcolor\":\"#E5ECF6\",\"gridcolor\":\"white\",\"gridwidth\":2,\"linecolor\":\"white\",\"showbackground\":true,\"ticks\":\"\",\"zerolinecolor\":\"white\"}},\"shapedefaults\":{\"line\":{\"color\":\"#2a3f5f\"}},\"ternary\":{\"aaxis\":{\"gridcolor\":\"white\",\"linecolor\":\"white\",\"ticks\":\"\"},\"baxis\":{\"gridcolor\":\"white\",\"linecolor\":\"white\",\"ticks\":\"\"},\"bgcolor\":\"#E5ECF6\",\"caxis\":{\"gridcolor\":\"white\",\"linecolor\":\"white\",\"ticks\":\"\"}},\"title\":{\"x\":0.05},\"xaxis\":{\"automargin\":true,\"gridcolor\":\"white\",\"linecolor\":\"white\",\"ticks\":\"\",\"title\":{\"standoff\":15},\"zerolinecolor\":\"white\",\"zerolinewidth\":2},\"yaxis\":{\"automargin\":true,\"gridcolor\":\"white\",\"linecolor\":\"white\",\"ticks\":\"\",\"title\":{\"standoff\":15},\"zerolinecolor\":\"white\",\"zerolinewidth\":2}}},\"updatemenus\":[{\"buttons\":[{\"args\":[null,{\"frame\":{\"duration\":50,\"redraw\":false},\"fromcurrent\":true,\"mode\":\"immediate\",\"transition\":{\"duration\":0}}],\"label\":\"Play\",\"method\":\"animate\"}],\"showactive\":false,\"type\":\"buttons\",\"x\":1.05,\"xanchor\":\"left\",\"y\":0,\"yanchor\":\"bottom\"}],\"xaxis\":{\"anchor\":\"y\",\"domain\":[0.0,1.0],\"range\":[0,1]},\"xaxis2\":{\"anchor\":\"y2\",\"domain\":[0.0,1.0],\"range\":[0,1],\"title\":{\"text\":\"p\"}},\"yaxis\":{\"anchor\":\"x\",\"domain\":[0.5255,1.0],\"range\":[0,1100],\"title\":{\"text\":\"N\"}},\"yaxis2\":{\"anchor\":\"x2\",\"domain\":[0.0,0.4745],\"range\":[0,1000],\"title\":{\"text\":\"N\"}}},                        {\"responsive\": true}                    ).then(function(){\n",
       "                            Plotly.addFrames('b147a64c-5a5d-400f-9f45-dca80703ae04', [{\"data\":[{\"type\":\"bar\",\"visible\":true},{\"type\":\"bar\",\"visible\":true},{\"type\":\"bar\",\"visible\":true},{\"type\":\"bar\",\"visible\":true},{\"type\":\"bar\",\"x\":[0.47],\"y\":[235.0]},{\"type\":\"bar\",\"x\":[0.47],\"y\":[265.0]},{\"type\":\"bar\",\"x\":[0.43],\"y\":[215.0]},{\"type\":\"bar\",\"x\":[0.43],\"y\":[285.00000000000006]},{\"type\":\"bar\",\"x\":[0.57],\"y\":[285.0]},{\"type\":\"bar\",\"x\":[0.57],\"y\":[215.00000000000003]},{\"type\":\"bar\",\"x\":[0.53],\"y\":[265.0]},{\"type\":\"bar\",\"x\":[0.53],\"y\":[235.0]}],\"layout\":{\"annotations\":[{\"align\":\"center\",\"showarrow\":false,\"text\":\"p<sub>A</sub> < p<sub>B</sub>\",\"x\":0.94,\"xref\":\"x2\",\"y\":850,\"yref\":\"y2\"},{\"align\":\"center\",\"font\":{\"color\":\"darkslategrey\"},\"showarrow\":false,\"text\":\"p<sub>Ar</sub> < p<sub>Br</sub>\",\"x\":0.94,\"xref\":\"x2\",\"y\":750,\"yref\":\"y2\"},{\"align\":\"center\",\"font\":{\"color\":\"darkslategrey\"},\"showarrow\":false,\"text\":\"p<sub>Al</sub> < p<sub>Bl</sub>\",\"x\":0.94,\"xref\":\"x2\",\"y\":650,\"yref\":\"y2\"}]},\"traces\":[0,1,2,3,4,5,6,7,8,9,10,11]},{\"data\":[{\"type\":\"bar\",\"visible\":true},{\"type\":\"bar\",\"visible\":true},{\"type\":\"bar\",\"visible\":true},{\"type\":\"bar\",\"visible\":true},{\"type\":\"bar\",\"x\":[0.48009999999999997],\"y\":[240.04999999999998]},{\"type\":\"bar\",\"x\":[0.48009999999999997],\"y\":[259.95]},{\"type\":\"bar\",\"x\":[0.41990000000000005],\"y\":[209.95000000000002]},{\"type\":\"bar\",\"x\":[0.41990000000000005],\"y\":[290.04999999999995]},{\"type\":\"bar\",\"x\":[0.57],\"y\":[285.0]},{\"type\":\"bar\",\"x\":[0.57],\"y\":[215.00000000000003]},{\"type\":\"bar\",\"x\":[0.53],\"y\":[265.0]},{\"type\":\"bar\",\"x\":[0.53],\"y\":[235.0]}],\"layout\":{\"annotations\":[{\"align\":\"center\",\"showarrow\":false,\"text\":\"p<sub>A</sub> < p<sub>B</sub>\",\"x\":0.94,\"xref\":\"x2\",\"y\":850,\"yref\":\"y2\"},{\"align\":\"center\",\"font\":{\"color\":\"darkslategrey\"},\"showarrow\":false,\"text\":\"p<sub>Ar</sub> < p<sub>Br</sub>\",\"x\":0.94,\"xref\":\"x2\",\"y\":750,\"yref\":\"y2\"},{\"align\":\"center\",\"font\":{\"color\":\"darkslategrey\"},\"showarrow\":false,\"text\":\"p<sub>Al</sub> < p<sub>Bl</sub>\",\"x\":0.94,\"xref\":\"x2\",\"y\":650,\"yref\":\"y2\"}]},\"traces\":[0,1,2,3,4,5,6,7,8,9,10,11]},{\"data\":[{\"type\":\"bar\",\"visible\":true},{\"type\":\"bar\",\"visible\":true},{\"type\":\"bar\",\"visible\":true},{\"type\":\"bar\",\"visible\":true},{\"type\":\"bar\",\"x\":[0.49019999999999997],\"y\":[245.1]},{\"type\":\"bar\",\"x\":[0.49019999999999997],\"y\":[254.9]},{\"type\":\"bar\",\"x\":[0.4098],\"y\":[204.9]},{\"type\":\"bar\",\"x\":[0.4098],\"y\":[295.1]},{\"type\":\"bar\",\"x\":[0.57],\"y\":[285.0]},{\"type\":\"bar\",\"x\":[0.57],\"y\":[215.00000000000003]},{\"type\":\"bar\",\"x\":[0.53],\"y\":[265.0]},{\"type\":\"bar\",\"x\":[0.53],\"y\":[235.0]}],\"layout\":{\"annotations\":[{\"align\":\"center\",\"showarrow\":false,\"text\":\"p<sub>A</sub> < p<sub>B</sub>\",\"x\":0.94,\"xref\":\"x2\",\"y\":850,\"yref\":\"y2\"},{\"align\":\"center\",\"font\":{\"color\":\"darkslategrey\"},\"showarrow\":false,\"text\":\"p<sub>Ar</sub> < p<sub>Br</sub>\",\"x\":0.94,\"xref\":\"x2\",\"y\":750,\"yref\":\"y2\"},{\"align\":\"center\",\"font\":{\"color\":\"darkslategrey\"},\"showarrow\":false,\"text\":\"p<sub>Al</sub> < p<sub>Bl</sub>\",\"x\":0.94,\"xref\":\"x2\",\"y\":650,\"yref\":\"y2\"}]},\"traces\":[0,1,2,3,4,5,6,7,8,9,10,11]},{\"data\":[{\"type\":\"bar\",\"visible\":true},{\"type\":\"bar\",\"visible\":true},{\"type\":\"bar\",\"visible\":true},{\"type\":\"bar\",\"visible\":true},{\"type\":\"bar\",\"x\":[0.5003],\"y\":[250.14999999999998]},{\"type\":\"bar\",\"x\":[0.5003],\"y\":[249.85000000000002]},{\"type\":\"bar\",\"x\":[0.39970000000000006],\"y\":[199.85000000000002]},{\"type\":\"bar\",\"x\":[0.39970000000000006],\"y\":[300.15]},{\"type\":\"bar\",\"x\":[0.57],\"y\":[285.0]},{\"type\":\"bar\",\"x\":[0.57],\"y\":[215.00000000000003]},{\"type\":\"bar\",\"x\":[0.53],\"y\":[265.0]},{\"type\":\"bar\",\"x\":[0.53],\"y\":[235.0]}],\"layout\":{\"annotations\":[{\"align\":\"center\",\"showarrow\":false,\"text\":\"p<sub>A</sub> < p<sub>B</sub>\",\"x\":0.94,\"xref\":\"x2\",\"y\":850,\"yref\":\"y2\"},{\"align\":\"center\",\"font\":{\"color\":\"darkslategrey\"},\"showarrow\":false,\"text\":\"p<sub>Ar</sub> < p<sub>Br</sub>\",\"x\":0.94,\"xref\":\"x2\",\"y\":750,\"yref\":\"y2\"},{\"align\":\"center\",\"font\":{\"color\":\"darkslategrey\"},\"showarrow\":false,\"text\":\"p<sub>Al</sub> < p<sub>Bl</sub>\",\"x\":0.94,\"xref\":\"x2\",\"y\":650,\"yref\":\"y2\"}]},\"traces\":[0,1,2,3,4,5,6,7,8,9,10,11]},{\"data\":[{\"type\":\"bar\",\"visible\":true},{\"type\":\"bar\",\"visible\":true},{\"type\":\"bar\",\"visible\":true},{\"type\":\"bar\",\"visible\":true},{\"type\":\"bar\",\"x\":[0.5104],\"y\":[255.2]},{\"type\":\"bar\",\"x\":[0.5104],\"y\":[244.8]},{\"type\":\"bar\",\"x\":[0.3896],\"y\":[194.8]},{\"type\":\"bar\",\"x\":[0.3896],\"y\":[305.20000000000005]},{\"type\":\"bar\",\"x\":[0.57],\"y\":[285.0]},{\"type\":\"bar\",\"x\":[0.57],\"y\":[215.00000000000003]},{\"type\":\"bar\",\"x\":[0.53],\"y\":[265.0]},{\"type\":\"bar\",\"x\":[0.53],\"y\":[235.0]}],\"layout\":{\"annotations\":[{\"align\":\"center\",\"showarrow\":false,\"text\":\"p<sub>A</sub> < p<sub>B</sub>\",\"x\":0.94,\"xref\":\"x2\",\"y\":850,\"yref\":\"y2\"},{\"align\":\"center\",\"font\":{\"color\":\"darkslategrey\"},\"showarrow\":false,\"text\":\"p<sub>Ar</sub> < p<sub>Br</sub>\",\"x\":0.94,\"xref\":\"x2\",\"y\":750,\"yref\":\"y2\"},{\"align\":\"center\",\"font\":{\"color\":\"darkslategrey\"},\"showarrow\":false,\"text\":\"p<sub>Al</sub> < p<sub>Bl</sub>\",\"x\":0.94,\"xref\":\"x2\",\"y\":650,\"yref\":\"y2\"}]},\"traces\":[0,1,2,3,4,5,6,7,8,9,10,11]},{\"data\":[{\"type\":\"bar\",\"visible\":true},{\"type\":\"bar\",\"visible\":true},{\"type\":\"bar\",\"visible\":true},{\"type\":\"bar\",\"visible\":true},{\"type\":\"bar\",\"x\":[0.5205],\"y\":[260.25]},{\"type\":\"bar\",\"x\":[0.5205],\"y\":[239.75000000000003]},{\"type\":\"bar\",\"x\":[0.3795],\"y\":[189.75]},{\"type\":\"bar\",\"x\":[0.3795],\"y\":[310.25]},{\"type\":\"bar\",\"x\":[0.57],\"y\":[285.0]},{\"type\":\"bar\",\"x\":[0.57],\"y\":[215.00000000000003]},{\"type\":\"bar\",\"x\":[0.53],\"y\":[265.0]},{\"type\":\"bar\",\"x\":[0.53],\"y\":[235.0]}],\"layout\":{\"annotations\":[{\"align\":\"center\",\"showarrow\":false,\"text\":\"p<sub>A</sub> < p<sub>B</sub>\",\"x\":0.94,\"xref\":\"x2\",\"y\":850,\"yref\":\"y2\"},{\"align\":\"center\",\"font\":{\"color\":\"darkslategrey\"},\"showarrow\":false,\"text\":\"p<sub>Ar</sub> < p<sub>Br</sub>\",\"x\":0.94,\"xref\":\"x2\",\"y\":750,\"yref\":\"y2\"},{\"align\":\"center\",\"font\":{\"color\":\"darkslategrey\"},\"showarrow\":false,\"text\":\"p<sub>Al</sub> < p<sub>Bl</sub>\",\"x\":0.94,\"xref\":\"x2\",\"y\":650,\"yref\":\"y2\"}]},\"traces\":[0,1,2,3,4,5,6,7,8,9,10,11]},{\"data\":[{\"type\":\"bar\",\"visible\":true},{\"type\":\"bar\",\"visible\":true},{\"type\":\"bar\",\"visible\":true},{\"type\":\"bar\",\"visible\":true},{\"type\":\"bar\",\"x\":[0.5306],\"y\":[265.29999999999995]},{\"type\":\"bar\",\"x\":[0.5306],\"y\":[234.70000000000002]},{\"type\":\"bar\",\"x\":[0.3694000000000001],\"y\":[184.70000000000005]},{\"type\":\"bar\",\"x\":[0.3694000000000001],\"y\":[315.2999999999999]},{\"type\":\"bar\",\"x\":[0.57],\"y\":[285.0]},{\"type\":\"bar\",\"x\":[0.57],\"y\":[215.00000000000003]},{\"type\":\"bar\",\"x\":[0.53],\"y\":[265.0]},{\"type\":\"bar\",\"x\":[0.53],\"y\":[235.0]}],\"layout\":{\"annotations\":[{\"align\":\"center\",\"showarrow\":false,\"text\":\"p<sub>A</sub> < p<sub>B</sub>\",\"x\":0.94,\"xref\":\"x2\",\"y\":850,\"yref\":\"y2\"},{\"align\":\"center\",\"font\":{\"color\":\"darkslategrey\"},\"showarrow\":false,\"text\":\"p<sub>Ar</sub> < p<sub>Br</sub>\",\"x\":0.94,\"xref\":\"x2\",\"y\":750,\"yref\":\"y2\"},{\"align\":\"center\",\"font\":{\"color\":\"darkslategrey\"},\"showarrow\":false,\"text\":\"p<sub>Al</sub> < p<sub>Bl</sub>\",\"x\":0.94,\"xref\":\"x2\",\"y\":650,\"yref\":\"y2\"}]},\"traces\":[0,1,2,3,4,5,6,7,8,9,10,11]},{\"data\":[{\"type\":\"bar\",\"visible\":true},{\"type\":\"bar\",\"visible\":true},{\"type\":\"bar\",\"visible\":true},{\"type\":\"bar\",\"visible\":true},{\"type\":\"bar\",\"x\":[0.5407],\"y\":[270.34999999999997]},{\"type\":\"bar\",\"x\":[0.5407],\"y\":[229.65000000000003]},{\"type\":\"bar\",\"x\":[0.35930000000000006],\"y\":[179.65000000000003]},{\"type\":\"bar\",\"x\":[0.35930000000000006],\"y\":[320.34999999999997]},{\"type\":\"bar\",\"x\":[0.57],\"y\":[285.0]},{\"type\":\"bar\",\"x\":[0.57],\"y\":[215.00000000000003]},{\"type\":\"bar\",\"x\":[0.53],\"y\":[265.0]},{\"type\":\"bar\",\"x\":[0.53],\"y\":[235.0]}],\"layout\":{\"annotations\":[{\"align\":\"center\",\"showarrow\":false,\"text\":\"p<sub>A</sub> < p<sub>B</sub>\",\"x\":0.94,\"xref\":\"x2\",\"y\":850,\"yref\":\"y2\"},{\"align\":\"center\",\"font\":{\"color\":\"darkslategrey\"},\"showarrow\":false,\"text\":\"p<sub>Ar</sub> < p<sub>Br</sub>\",\"x\":0.94,\"xref\":\"x2\",\"y\":750,\"yref\":\"y2\"},{\"align\":\"center\",\"font\":{\"color\":\"darkslategrey\"},\"showarrow\":false,\"text\":\"p<sub>Al</sub> < p<sub>Bl</sub>\",\"x\":0.94,\"xref\":\"x2\",\"y\":650,\"yref\":\"y2\"}]},\"traces\":[0,1,2,3,4,5,6,7,8,9,10,11]},{\"data\":[{\"type\":\"bar\",\"visible\":true},{\"type\":\"bar\",\"visible\":true},{\"type\":\"bar\",\"visible\":true},{\"type\":\"bar\",\"visible\":true},{\"type\":\"bar\",\"x\":[0.5508],\"y\":[275.4]},{\"type\":\"bar\",\"x\":[0.5508],\"y\":[224.60000000000002]},{\"type\":\"bar\",\"x\":[0.34920000000000007],\"y\":[174.60000000000002]},{\"type\":\"bar\",\"x\":[0.34920000000000007],\"y\":[325.4]},{\"type\":\"bar\",\"x\":[0.57],\"y\":[285.0]},{\"type\":\"bar\",\"x\":[0.57],\"y\":[215.00000000000003]},{\"type\":\"bar\",\"x\":[0.53],\"y\":[265.0]},{\"type\":\"bar\",\"x\":[0.53],\"y\":[235.0]}],\"layout\":{\"annotations\":[{\"align\":\"center\",\"showarrow\":false,\"text\":\"p<sub>A</sub> < p<sub>B</sub>\",\"x\":0.94,\"xref\":\"x2\",\"y\":850,\"yref\":\"y2\"},{\"align\":\"center\",\"font\":{\"color\":\"darkslategrey\"},\"showarrow\":false,\"text\":\"p<sub>Ar</sub> < p<sub>Br</sub>\",\"x\":0.94,\"xref\":\"x2\",\"y\":750,\"yref\":\"y2\"},{\"align\":\"center\",\"font\":{\"color\":\"darkslategrey\"},\"showarrow\":false,\"text\":\"p<sub>Al</sub> < p<sub>Bl</sub>\",\"x\":0.94,\"xref\":\"x2\",\"y\":650,\"yref\":\"y2\"}]},\"traces\":[0,1,2,3,4,5,6,7,8,9,10,11]},{\"data\":[{\"type\":\"bar\",\"visible\":true},{\"type\":\"bar\",\"visible\":true},{\"type\":\"bar\",\"visible\":true},{\"type\":\"bar\",\"visible\":true},{\"type\":\"bar\",\"x\":[0.5609],\"y\":[280.45]},{\"type\":\"bar\",\"x\":[0.5609],\"y\":[219.55]},{\"type\":\"bar\",\"x\":[0.3391],\"y\":[169.55]},{\"type\":\"bar\",\"x\":[0.3391],\"y\":[330.45000000000005]},{\"type\":\"bar\",\"x\":[0.57],\"y\":[285.0]},{\"type\":\"bar\",\"x\":[0.57],\"y\":[215.00000000000003]},{\"type\":\"bar\",\"x\":[0.53],\"y\":[265.0]},{\"type\":\"bar\",\"x\":[0.53],\"y\":[235.0]}],\"layout\":{\"annotations\":[{\"align\":\"center\",\"showarrow\":false,\"text\":\"p<sub>A</sub> < p<sub>B</sub>\",\"x\":0.94,\"xref\":\"x2\",\"y\":850,\"yref\":\"y2\"},{\"align\":\"center\",\"font\":{\"color\":\"darkslategrey\"},\"showarrow\":false,\"text\":\"p<sub>Ar</sub> < p<sub>Br</sub>\",\"x\":0.94,\"xref\":\"x2\",\"y\":750,\"yref\":\"y2\"},{\"align\":\"center\",\"font\":{\"color\":\"darkslategrey\"},\"showarrow\":false,\"text\":\"p<sub>Al</sub> < p<sub>Bl</sub>\",\"x\":0.94,\"xref\":\"x2\",\"y\":650,\"yref\":\"y2\"}]},\"traces\":[0,1,2,3,4,5,6,7,8,9,10,11]},{\"data\":[{\"type\":\"bar\",\"visible\":true},{\"type\":\"bar\",\"visible\":true},{\"type\":\"bar\",\"visible\":true},{\"type\":\"bar\",\"visible\":true},{\"type\":\"bar\",\"x\":[0.571],\"y\":[285.5]},{\"type\":\"bar\",\"x\":[0.571],\"y\":[214.50000000000003]},{\"type\":\"bar\",\"x\":[0.329],\"y\":[164.5]},{\"type\":\"bar\",\"x\":[0.329],\"y\":[335.5]},{\"type\":\"bar\",\"x\":[0.57],\"y\":[285.0]},{\"type\":\"bar\",\"x\":[0.57],\"y\":[215.00000000000003]},{\"type\":\"bar\",\"x\":[0.53],\"y\":[265.0]},{\"type\":\"bar\",\"x\":[0.53],\"y\":[235.0]}],\"layout\":{\"annotations\":[{\"align\":\"center\",\"showarrow\":false,\"text\":\"p<sub>A</sub> < p<sub>B</sub>\",\"x\":0.94,\"xref\":\"x2\",\"y\":850,\"yref\":\"y2\"},{\"align\":\"center\",\"font\":{\"color\":\"red\"},\"showarrow\":false,\"text\":\"p<sub>Ar</sub> > p<sub>Br</sub>\",\"x\":0.94,\"xref\":\"x2\",\"y\":750,\"yref\":\"y2\"},{\"align\":\"center\",\"font\":{\"color\":\"darkslategrey\"},\"showarrow\":false,\"text\":\"p<sub>Al</sub> < p<sub>Bl</sub>\",\"x\":0.94,\"xref\":\"x2\",\"y\":650,\"yref\":\"y2\"}]},\"traces\":[0,1,2,3,4,5,6,7,8,9,10,11]},{\"data\":[{\"type\":\"bar\",\"visible\":true},{\"type\":\"bar\",\"visible\":true},{\"type\":\"bar\",\"visible\":true},{\"type\":\"bar\",\"visible\":true},{\"type\":\"bar\",\"x\":[0.5811],\"y\":[290.54999999999995]},{\"type\":\"bar\",\"x\":[0.5811],\"y\":[209.45000000000002]},{\"type\":\"bar\",\"x\":[0.3189000000000001],\"y\":[159.45000000000005]},{\"type\":\"bar\",\"x\":[0.3189000000000001],\"y\":[340.54999999999995]},{\"type\":\"bar\",\"x\":[0.57],\"y\":[285.0]},{\"type\":\"bar\",\"x\":[0.57],\"y\":[215.00000000000003]},{\"type\":\"bar\",\"x\":[0.53],\"y\":[265.0]},{\"type\":\"bar\",\"x\":[0.53],\"y\":[235.0]}],\"layout\":{\"annotations\":[{\"align\":\"center\",\"showarrow\":false,\"text\":\"p<sub>A</sub> < p<sub>B</sub>\",\"x\":0.94,\"xref\":\"x2\",\"y\":850,\"yref\":\"y2\"},{\"align\":\"center\",\"font\":{\"color\":\"red\"},\"showarrow\":false,\"text\":\"p<sub>Ar</sub> > p<sub>Br</sub>\",\"x\":0.94,\"xref\":\"x2\",\"y\":750,\"yref\":\"y2\"},{\"align\":\"center\",\"font\":{\"color\":\"darkslategrey\"},\"showarrow\":false,\"text\":\"p<sub>Al</sub> < p<sub>Bl</sub>\",\"x\":0.94,\"xref\":\"x2\",\"y\":650,\"yref\":\"y2\"}]},\"traces\":[0,1,2,3,4,5,6,7,8,9,10,11]},{\"data\":[{\"type\":\"bar\",\"visible\":true},{\"type\":\"bar\",\"visible\":true},{\"type\":\"bar\",\"visible\":true},{\"type\":\"bar\",\"visible\":true},{\"type\":\"bar\",\"x\":[0.5912],\"y\":[295.59999999999997]},{\"type\":\"bar\",\"x\":[0.5912],\"y\":[204.40000000000003]},{\"type\":\"bar\",\"x\":[0.3088000000000001],\"y\":[154.40000000000003]},{\"type\":\"bar\",\"x\":[0.3088000000000001],\"y\":[345.59999999999997]},{\"type\":\"bar\",\"x\":[0.57],\"y\":[285.0]},{\"type\":\"bar\",\"x\":[0.57],\"y\":[215.00000000000003]},{\"type\":\"bar\",\"x\":[0.53],\"y\":[265.0]},{\"type\":\"bar\",\"x\":[0.53],\"y\":[235.0]}],\"layout\":{\"annotations\":[{\"align\":\"center\",\"showarrow\":false,\"text\":\"p<sub>A</sub> < p<sub>B</sub>\",\"x\":0.94,\"xref\":\"x2\",\"y\":850,\"yref\":\"y2\"},{\"align\":\"center\",\"font\":{\"color\":\"red\"},\"showarrow\":false,\"text\":\"p<sub>Ar</sub> > p<sub>Br</sub>\",\"x\":0.94,\"xref\":\"x2\",\"y\":750,\"yref\":\"y2\"},{\"align\":\"center\",\"font\":{\"color\":\"darkslategrey\"},\"showarrow\":false,\"text\":\"p<sub>Al</sub> < p<sub>Bl</sub>\",\"x\":0.94,\"xref\":\"x2\",\"y\":650,\"yref\":\"y2\"}]},\"traces\":[0,1,2,3,4,5,6,7,8,9,10,11]},{\"data\":[{\"type\":\"bar\",\"visible\":true},{\"type\":\"bar\",\"visible\":true},{\"type\":\"bar\",\"visible\":true},{\"type\":\"bar\",\"visible\":true},{\"type\":\"bar\",\"x\":[0.6],\"y\":[300.0]},{\"type\":\"bar\",\"x\":[0.6],\"y\":[200.0]},{\"type\":\"bar\",\"x\":[0.3],\"y\":[150.0]},{\"type\":\"bar\",\"x\":[0.3],\"y\":[350.0]},{\"type\":\"bar\",\"x\":[0.57],\"y\":[285.0]},{\"type\":\"bar\",\"x\":[0.57],\"y\":[215.00000000000003]},{\"type\":\"bar\",\"x\":[0.53],\"y\":[265.0]},{\"type\":\"bar\",\"x\":[0.53],\"y\":[235.0]}],\"layout\":{\"annotations\":[{\"align\":\"center\",\"showarrow\":false,\"text\":\"p<sub>A</sub> < p<sub>B</sub>\",\"x\":0.94,\"xref\":\"x2\",\"y\":850,\"yref\":\"y2\"},{\"align\":\"center\",\"font\":{\"color\":\"red\"},\"showarrow\":false,\"text\":\"p<sub>Ar</sub> > p<sub>Br</sub>\",\"x\":0.94,\"xref\":\"x2\",\"y\":750,\"yref\":\"y2\"},{\"align\":\"center\",\"font\":{\"color\":\"darkslategrey\"},\"showarrow\":false,\"text\":\"p<sub>Al</sub> < p<sub>Bl</sub>\",\"x\":0.94,\"xref\":\"x2\",\"y\":650,\"yref\":\"y2\"}]},\"traces\":[0,1,2,3,4,5,6,7,8,9,10,11]},{\"data\":[{\"type\":\"bar\",\"visible\":true},{\"type\":\"bar\",\"visible\":true},{\"type\":\"bar\",\"visible\":true},{\"type\":\"bar\",\"visible\":true},{\"type\":\"bar\",\"x\":[0.6],\"y\":[300.0]},{\"type\":\"bar\",\"x\":[0.6],\"y\":[200.0]},{\"type\":\"bar\",\"x\":[0.3],\"y\":[150.0]},{\"type\":\"bar\",\"x\":[0.3],\"y\":[350.0]},{\"type\":\"bar\",\"x\":[0.57],\"y\":[285.0]},{\"type\":\"bar\",\"x\":[0.57],\"y\":[215.00000000000003]},{\"type\":\"bar\",\"x\":[0.53],\"y\":[265.0]},{\"type\":\"bar\",\"x\":[0.53],\"y\":[235.0]}],\"layout\":{\"annotations\":[{\"align\":\"center\",\"showarrow\":false,\"text\":\"p<sub>A</sub> < p<sub>B</sub>\",\"x\":0.94,\"xref\":\"x2\",\"y\":850,\"yref\":\"y2\"},{\"align\":\"center\",\"font\":{\"color\":\"red\"},\"showarrow\":false,\"text\":\"p<sub>Ar</sub> > p<sub>Br</sub>\",\"x\":0.94,\"xref\":\"x2\",\"y\":750,\"yref\":\"y2\"},{\"align\":\"center\",\"font\":{\"color\":\"darkslategrey\"},\"showarrow\":false,\"text\":\"p<sub>Al</sub> < p<sub>Bl</sub>\",\"x\":0.94,\"xref\":\"x2\",\"y\":650,\"yref\":\"y2\"}]},\"traces\":[0,1,2,3,4,5,6,7,8,9,10,11]},{\"data\":[{\"type\":\"bar\",\"visible\":true},{\"type\":\"bar\",\"visible\":true},{\"type\":\"bar\",\"visible\":true},{\"type\":\"bar\",\"visible\":true},{\"type\":\"bar\",\"x\":[0.6],\"y\":[300.0]},{\"type\":\"bar\",\"x\":[0.6],\"y\":[200.0]},{\"type\":\"bar\",\"x\":[0.3],\"y\":[150.0]},{\"type\":\"bar\",\"x\":[0.3],\"y\":[350.0]},{\"type\":\"bar\",\"x\":[0.57],\"y\":[285.0]},{\"type\":\"bar\",\"x\":[0.57],\"y\":[215.00000000000003]},{\"type\":\"bar\",\"x\":[0.53],\"y\":[265.0]},{\"type\":\"bar\",\"x\":[0.53],\"y\":[235.0]}],\"layout\":{\"annotations\":[{\"align\":\"center\",\"showarrow\":false,\"text\":\"p<sub>A</sub> < p<sub>B</sub>\",\"x\":0.94,\"xref\":\"x2\",\"y\":850,\"yref\":\"y2\"},{\"align\":\"center\",\"font\":{\"color\":\"red\"},\"showarrow\":false,\"text\":\"p<sub>Ar</sub> > p<sub>Br</sub>\",\"x\":0.94,\"xref\":\"x2\",\"y\":750,\"yref\":\"y2\"},{\"align\":\"center\",\"font\":{\"color\":\"darkslategrey\"},\"showarrow\":false,\"text\":\"p<sub>Al</sub> < p<sub>Bl</sub>\",\"x\":0.94,\"xref\":\"x2\",\"y\":650,\"yref\":\"y2\"}]},\"traces\":[0,1,2,3,4,5,6,7,8,9,10,11]},{\"data\":[{\"type\":\"bar\",\"visible\":true},{\"type\":\"bar\",\"visible\":true},{\"type\":\"bar\",\"visible\":true},{\"type\":\"bar\",\"visible\":true},{\"type\":\"bar\",\"x\":[0.6],\"y\":[300.0]},{\"type\":\"bar\",\"x\":[0.6],\"y\":[200.0]},{\"type\":\"bar\",\"x\":[0.3],\"y\":[150.0]},{\"type\":\"bar\",\"x\":[0.3],\"y\":[350.0]},{\"type\":\"bar\",\"x\":[0.57],\"y\":[285.0]},{\"type\":\"bar\",\"x\":[0.57],\"y\":[215.00000000000003]},{\"type\":\"bar\",\"x\":[0.53],\"y\":[265.0]},{\"type\":\"bar\",\"x\":[0.53],\"y\":[235.0]}],\"layout\":{\"annotations\":[{\"align\":\"center\",\"showarrow\":false,\"text\":\"p<sub>A</sub> < p<sub>B</sub>\",\"x\":0.94,\"xref\":\"x2\",\"y\":850,\"yref\":\"y2\"},{\"align\":\"center\",\"font\":{\"color\":\"red\"},\"showarrow\":false,\"text\":\"p<sub>Ar</sub> > p<sub>Br</sub>\",\"x\":0.94,\"xref\":\"x2\",\"y\":750,\"yref\":\"y2\"},{\"align\":\"center\",\"font\":{\"color\":\"darkslategrey\"},\"showarrow\":false,\"text\":\"p<sub>Al</sub> < p<sub>Bl</sub>\",\"x\":0.94,\"xref\":\"x2\",\"y\":650,\"yref\":\"y2\"}]},\"traces\":[0,1,2,3,4,5,6,7,8,9,10,11]},{\"data\":[{\"type\":\"bar\",\"visible\":true},{\"type\":\"bar\",\"visible\":true},{\"type\":\"bar\",\"visible\":true},{\"type\":\"bar\",\"visible\":true},{\"type\":\"bar\",\"x\":[0.6],\"y\":[300.0]},{\"type\":\"bar\",\"x\":[0.6],\"y\":[200.0]},{\"type\":\"bar\",\"x\":[0.3],\"y\":[150.0]},{\"type\":\"bar\",\"x\":[0.3],\"y\":[350.0]},{\"type\":\"bar\",\"x\":[0.57],\"y\":[296.4]},{\"type\":\"bar\",\"x\":[0.57],\"y\":[223.60000000000002]},{\"type\":\"bar\",\"x\":[0.5283333333333334],\"y\":[253.60000000000005]},{\"type\":\"bar\",\"x\":[0.5283333333333334],\"y\":[226.39999999999995]}],\"layout\":{\"annotations\":[{\"align\":\"center\",\"showarrow\":false,\"text\":\"p<sub>A</sub> < p<sub>B</sub>\",\"x\":0.94,\"xref\":\"x2\",\"y\":850,\"yref\":\"y2\"},{\"align\":\"center\",\"font\":{\"color\":\"red\"},\"showarrow\":false,\"text\":\"p<sub>Ar</sub> > p<sub>Br</sub>\",\"x\":0.94,\"xref\":\"x2\",\"y\":750,\"yref\":\"y2\"},{\"align\":\"center\",\"font\":{\"color\":\"darkslategrey\"},\"showarrow\":false,\"text\":\"p<sub>Al</sub> < p<sub>Bl</sub>\",\"x\":0.94,\"xref\":\"x2\",\"y\":650,\"yref\":\"y2\"}]},\"traces\":[0,1,2,3,4,5,6,7,8,9,10,11]},{\"data\":[{\"type\":\"bar\",\"visible\":true},{\"type\":\"bar\",\"visible\":true},{\"type\":\"bar\",\"visible\":true},{\"type\":\"bar\",\"visible\":true},{\"type\":\"bar\",\"x\":[0.6],\"y\":[300.0]},{\"type\":\"bar\",\"x\":[0.6],\"y\":[200.0]},{\"type\":\"bar\",\"x\":[0.3],\"y\":[150.0]},{\"type\":\"bar\",\"x\":[0.3],\"y\":[350.0]},{\"type\":\"bar\",\"x\":[0.57],\"y\":[307.79999999999995]},{\"type\":\"bar\",\"x\":[0.57],\"y\":[232.20000000000002]},{\"type\":\"bar\",\"x\":[0.5265217391304349],\"y\":[242.20000000000005]},{\"type\":\"bar\",\"x\":[0.5265217391304349],\"y\":[217.79999999999995]}],\"layout\":{\"annotations\":[{\"align\":\"center\",\"showarrow\":false,\"text\":\"p<sub>A</sub> < p<sub>B</sub>\",\"x\":0.94,\"xref\":\"x2\",\"y\":850,\"yref\":\"y2\"},{\"align\":\"center\",\"font\":{\"color\":\"red\"},\"showarrow\":false,\"text\":\"p<sub>Ar</sub> > p<sub>Br</sub>\",\"x\":0.94,\"xref\":\"x2\",\"y\":750,\"yref\":\"y2\"},{\"align\":\"center\",\"font\":{\"color\":\"darkslategrey\"},\"showarrow\":false,\"text\":\"p<sub>Al</sub> < p<sub>Bl</sub>\",\"x\":0.94,\"xref\":\"x2\",\"y\":650,\"yref\":\"y2\"}]},\"traces\":[0,1,2,3,4,5,6,7,8,9,10,11]},{\"data\":[{\"type\":\"bar\",\"visible\":true},{\"type\":\"bar\",\"visible\":true},{\"type\":\"bar\",\"visible\":true},{\"type\":\"bar\",\"visible\":true},{\"type\":\"bar\",\"x\":[0.6],\"y\":[300.0]},{\"type\":\"bar\",\"x\":[0.6],\"y\":[200.0]},{\"type\":\"bar\",\"x\":[0.3],\"y\":[150.0]},{\"type\":\"bar\",\"x\":[0.3],\"y\":[350.0]},{\"type\":\"bar\",\"x\":[0.57],\"y\":[319.2]},{\"type\":\"bar\",\"x\":[0.57],\"y\":[240.80000000000004]},{\"type\":\"bar\",\"x\":[0.5245454545454545],\"y\":[230.79999999999998]},{\"type\":\"bar\",\"x\":[0.5245454545454545],\"y\":[209.20000000000002]}],\"layout\":{\"annotations\":[{\"align\":\"center\",\"showarrow\":false,\"text\":\"p<sub>A</sub> < p<sub>B</sub>\",\"x\":0.94,\"xref\":\"x2\",\"y\":850,\"yref\":\"y2\"},{\"align\":\"center\",\"font\":{\"color\":\"red\"},\"showarrow\":false,\"text\":\"p<sub>Ar</sub> > p<sub>Br</sub>\",\"x\":0.94,\"xref\":\"x2\",\"y\":750,\"yref\":\"y2\"},{\"align\":\"center\",\"font\":{\"color\":\"darkslategrey\"},\"showarrow\":false,\"text\":\"p<sub>Al</sub> < p<sub>Bl</sub>\",\"x\":0.94,\"xref\":\"x2\",\"y\":650,\"yref\":\"y2\"}]},\"traces\":[0,1,2,3,4,5,6,7,8,9,10,11]},{\"data\":[{\"type\":\"bar\",\"visible\":true},{\"type\":\"bar\",\"visible\":true},{\"type\":\"bar\",\"visible\":true},{\"type\":\"bar\",\"visible\":true},{\"type\":\"bar\",\"x\":[0.6],\"y\":[300.0]},{\"type\":\"bar\",\"x\":[0.6],\"y\":[200.0]},{\"type\":\"bar\",\"x\":[0.3],\"y\":[150.0]},{\"type\":\"bar\",\"x\":[0.3],\"y\":[350.0]},{\"type\":\"bar\",\"x\":[0.57],\"y\":[330.59999999999997]},{\"type\":\"bar\",\"x\":[0.57],\"y\":[249.40000000000003]},{\"type\":\"bar\",\"x\":[0.5223809523809525],\"y\":[219.40000000000006]},{\"type\":\"bar\",\"x\":[0.5223809523809525],\"y\":[200.59999999999994]}],\"layout\":{\"annotations\":[{\"align\":\"center\",\"showarrow\":false,\"text\":\"p<sub>A</sub> < p<sub>B</sub>\",\"x\":0.94,\"xref\":\"x2\",\"y\":850,\"yref\":\"y2\"},{\"align\":\"center\",\"font\":{\"color\":\"red\"},\"showarrow\":false,\"text\":\"p<sub>Ar</sub> > p<sub>Br</sub>\",\"x\":0.94,\"xref\":\"x2\",\"y\":750,\"yref\":\"y2\"},{\"align\":\"center\",\"font\":{\"color\":\"darkslategrey\"},\"showarrow\":false,\"text\":\"p<sub>Al</sub> < p<sub>Bl</sub>\",\"x\":0.94,\"xref\":\"x2\",\"y\":650,\"yref\":\"y2\"}]},\"traces\":[0,1,2,3,4,5,6,7,8,9,10,11]},{\"data\":[{\"type\":\"bar\",\"visible\":true},{\"type\":\"bar\",\"visible\":true},{\"type\":\"bar\",\"visible\":true},{\"type\":\"bar\",\"visible\":true},{\"type\":\"bar\",\"x\":[0.6],\"y\":[300.0]},{\"type\":\"bar\",\"x\":[0.6],\"y\":[200.0]},{\"type\":\"bar\",\"x\":[0.3],\"y\":[150.0]},{\"type\":\"bar\",\"x\":[0.3],\"y\":[350.0]},{\"type\":\"bar\",\"x\":[0.57],\"y\":[341.99999999999994]},{\"type\":\"bar\",\"x\":[0.57],\"y\":[258.00000000000006]},{\"type\":\"bar\",\"x\":[0.5200000000000001],\"y\":[208.00000000000006]},{\"type\":\"bar\",\"x\":[0.5200000000000001],\"y\":[191.99999999999994]}],\"layout\":{\"annotations\":[{\"align\":\"center\",\"showarrow\":false,\"text\":\"p<sub>A</sub> < p<sub>B</sub>\",\"x\":0.94,\"xref\":\"x2\",\"y\":850,\"yref\":\"y2\"},{\"align\":\"center\",\"font\":{\"color\":\"red\"},\"showarrow\":false,\"text\":\"p<sub>Ar</sub> > p<sub>Br</sub>\",\"x\":0.94,\"xref\":\"x2\",\"y\":750,\"yref\":\"y2\"},{\"align\":\"center\",\"font\":{\"color\":\"darkslategrey\"},\"showarrow\":false,\"text\":\"p<sub>Al</sub> < p<sub>Bl</sub>\",\"x\":0.94,\"xref\":\"x2\",\"y\":650,\"yref\":\"y2\"}]},\"traces\":[0,1,2,3,4,5,6,7,8,9,10,11]},{\"data\":[{\"type\":\"bar\",\"visible\":true},{\"type\":\"bar\",\"visible\":true},{\"type\":\"bar\",\"visible\":true},{\"type\":\"bar\",\"visible\":true},{\"type\":\"bar\",\"x\":[0.6],\"y\":[300.0]},{\"type\":\"bar\",\"x\":[0.6],\"y\":[200.0]},{\"type\":\"bar\",\"x\":[0.3],\"y\":[150.0]},{\"type\":\"bar\",\"x\":[0.3],\"y\":[350.0]},{\"type\":\"bar\",\"x\":[0.57],\"y\":[353.4]},{\"type\":\"bar\",\"x\":[0.57],\"y\":[266.6]},{\"type\":\"bar\",\"x\":[0.5173684210526316],\"y\":[196.6]},{\"type\":\"bar\",\"x\":[0.5173684210526316],\"y\":[183.4]}],\"layout\":{\"annotations\":[{\"align\":\"center\",\"showarrow\":false,\"text\":\"p<sub>A</sub> < p<sub>B</sub>\",\"x\":0.94,\"xref\":\"x2\",\"y\":850,\"yref\":\"y2\"},{\"align\":\"center\",\"font\":{\"color\":\"red\"},\"showarrow\":false,\"text\":\"p<sub>Ar</sub> > p<sub>Br</sub>\",\"x\":0.94,\"xref\":\"x2\",\"y\":750,\"yref\":\"y2\"},{\"align\":\"center\",\"font\":{\"color\":\"darkslategrey\"},\"showarrow\":false,\"text\":\"p<sub>Al</sub> < p<sub>Bl</sub>\",\"x\":0.94,\"xref\":\"x2\",\"y\":650,\"yref\":\"y2\"}]},\"traces\":[0,1,2,3,4,5,6,7,8,9,10,11]},{\"data\":[{\"type\":\"bar\",\"visible\":true},{\"type\":\"bar\",\"visible\":true},{\"type\":\"bar\",\"visible\":true},{\"type\":\"bar\",\"visible\":true},{\"type\":\"bar\",\"x\":[0.6],\"y\":[300.0]},{\"type\":\"bar\",\"x\":[0.6],\"y\":[200.0]},{\"type\":\"bar\",\"x\":[0.3],\"y\":[150.0]},{\"type\":\"bar\",\"x\":[0.3],\"y\":[350.0]},{\"type\":\"bar\",\"x\":[0.57],\"y\":[364.79999999999995]},{\"type\":\"bar\",\"x\":[0.57],\"y\":[275.20000000000005]},{\"type\":\"bar\",\"x\":[0.5144444444444446],\"y\":[185.20000000000005]},{\"type\":\"bar\",\"x\":[0.5144444444444446],\"y\":[174.79999999999995]}],\"layout\":{\"annotations\":[{\"align\":\"center\",\"showarrow\":false,\"text\":\"p<sub>A</sub> < p<sub>B</sub>\",\"x\":0.94,\"xref\":\"x2\",\"y\":850,\"yref\":\"y2\"},{\"align\":\"center\",\"font\":{\"color\":\"red\"},\"showarrow\":false,\"text\":\"p<sub>Ar</sub> > p<sub>Br</sub>\",\"x\":0.94,\"xref\":\"x2\",\"y\":750,\"yref\":\"y2\"},{\"align\":\"center\",\"font\":{\"color\":\"darkslategrey\"},\"showarrow\":false,\"text\":\"p<sub>Al</sub> < p<sub>Bl</sub>\",\"x\":0.94,\"xref\":\"x2\",\"y\":650,\"yref\":\"y2\"}]},\"traces\":[0,1,2,3,4,5,6,7,8,9,10,11]},{\"data\":[{\"type\":\"bar\",\"visible\":true},{\"type\":\"bar\",\"visible\":true},{\"type\":\"bar\",\"visible\":true},{\"type\":\"bar\",\"visible\":true},{\"type\":\"bar\",\"x\":[0.6],\"y\":[300.0]},{\"type\":\"bar\",\"x\":[0.6],\"y\":[200.0]},{\"type\":\"bar\",\"x\":[0.3],\"y\":[150.0]},{\"type\":\"bar\",\"x\":[0.3],\"y\":[350.0]},{\"type\":\"bar\",\"x\":[0.57],\"y\":[376.2]},{\"type\":\"bar\",\"x\":[0.57],\"y\":[283.8]},{\"type\":\"bar\",\"x\":[0.5111764705882353],\"y\":[173.8]},{\"type\":\"bar\",\"x\":[0.5111764705882353],\"y\":[166.2]}],\"layout\":{\"annotations\":[{\"align\":\"center\",\"showarrow\":false,\"text\":\"p<sub>A</sub> < p<sub>B</sub>\",\"x\":0.94,\"xref\":\"x2\",\"y\":850,\"yref\":\"y2\"},{\"align\":\"center\",\"font\":{\"color\":\"red\"},\"showarrow\":false,\"text\":\"p<sub>Ar</sub> > p<sub>Br</sub>\",\"x\":0.94,\"xref\":\"x2\",\"y\":750,\"yref\":\"y2\"},{\"align\":\"center\",\"font\":{\"color\":\"darkslategrey\"},\"showarrow\":false,\"text\":\"p<sub>Al</sub> < p<sub>Bl</sub>\",\"x\":0.94,\"xref\":\"x2\",\"y\":650,\"yref\":\"y2\"}]},\"traces\":[0,1,2,3,4,5,6,7,8,9,10,11]},{\"data\":[{\"type\":\"bar\",\"visible\":true},{\"type\":\"bar\",\"visible\":true},{\"type\":\"bar\",\"visible\":true},{\"type\":\"bar\",\"visible\":true},{\"type\":\"bar\",\"x\":[0.6],\"y\":[300.0]},{\"type\":\"bar\",\"x\":[0.6],\"y\":[200.0]},{\"type\":\"bar\",\"x\":[0.3],\"y\":[150.0]},{\"type\":\"bar\",\"x\":[0.3],\"y\":[350.0]},{\"type\":\"bar\",\"x\":[0.57],\"y\":[387.59999999999997]},{\"type\":\"bar\",\"x\":[0.57],\"y\":[292.40000000000003]},{\"type\":\"bar\",\"x\":[0.5075000000000001],\"y\":[162.40000000000003]},{\"type\":\"bar\",\"x\":[0.5075000000000001],\"y\":[157.59999999999997]}],\"layout\":{\"annotations\":[{\"align\":\"center\",\"showarrow\":false,\"text\":\"p<sub>A</sub> < p<sub>B</sub>\",\"x\":0.94,\"xref\":\"x2\",\"y\":850,\"yref\":\"y2\"},{\"align\":\"center\",\"font\":{\"color\":\"red\"},\"showarrow\":false,\"text\":\"p<sub>Ar</sub> > p<sub>Br</sub>\",\"x\":0.94,\"xref\":\"x2\",\"y\":750,\"yref\":\"y2\"},{\"align\":\"center\",\"font\":{\"color\":\"darkslategrey\"},\"showarrow\":false,\"text\":\"p<sub>Al</sub> < p<sub>Bl</sub>\",\"x\":0.94,\"xref\":\"x2\",\"y\":650,\"yref\":\"y2\"}]},\"traces\":[0,1,2,3,4,5,6,7,8,9,10,11]},{\"data\":[{\"type\":\"bar\",\"visible\":true},{\"type\":\"bar\",\"visible\":true},{\"type\":\"bar\",\"visible\":true},{\"type\":\"bar\",\"visible\":true},{\"type\":\"bar\",\"x\":[0.6],\"y\":[300.0]},{\"type\":\"bar\",\"x\":[0.6],\"y\":[200.0]},{\"type\":\"bar\",\"x\":[0.3],\"y\":[150.0]},{\"type\":\"bar\",\"x\":[0.3],\"y\":[350.0]},{\"type\":\"bar\",\"x\":[0.57],\"y\":[398.99999999999994]},{\"type\":\"bar\",\"x\":[0.57],\"y\":[301.00000000000006]},{\"type\":\"bar\",\"x\":[0.5033333333333335],\"y\":[151.00000000000006]},{\"type\":\"bar\",\"x\":[0.5033333333333335],\"y\":[148.99999999999994]}],\"layout\":{\"annotations\":[{\"align\":\"center\",\"showarrow\":false,\"text\":\"p<sub>A</sub> < p<sub>B</sub>\",\"x\":0.94,\"xref\":\"x2\",\"y\":850,\"yref\":\"y2\"},{\"align\":\"center\",\"font\":{\"color\":\"red\"},\"showarrow\":false,\"text\":\"p<sub>Ar</sub> > p<sub>Br</sub>\",\"x\":0.94,\"xref\":\"x2\",\"y\":750,\"yref\":\"y2\"},{\"align\":\"center\",\"font\":{\"color\":\"darkslategrey\"},\"showarrow\":false,\"text\":\"p<sub>Al</sub> < p<sub>Bl</sub>\",\"x\":0.94,\"xref\":\"x2\",\"y\":650,\"yref\":\"y2\"}]},\"traces\":[0,1,2,3,4,5,6,7,8,9,10,11]},{\"data\":[{\"type\":\"bar\",\"visible\":true},{\"type\":\"bar\",\"visible\":true},{\"type\":\"bar\",\"visible\":true},{\"type\":\"bar\",\"visible\":true},{\"type\":\"bar\",\"x\":[0.6],\"y\":[300.0]},{\"type\":\"bar\",\"x\":[0.6],\"y\":[200.0]},{\"type\":\"bar\",\"x\":[0.3],\"y\":[150.0]},{\"type\":\"bar\",\"x\":[0.3],\"y\":[350.0]},{\"type\":\"bar\",\"x\":[0.57],\"y\":[410.4]},{\"type\":\"bar\",\"x\":[0.57],\"y\":[309.6]},{\"type\":\"bar\",\"x\":[0.49857142857142867],\"y\":[139.60000000000002]},{\"type\":\"bar\",\"x\":[0.49857142857142867],\"y\":[140.39999999999998]}],\"layout\":{\"annotations\":[{\"align\":\"center\",\"showarrow\":false,\"text\":\"p<sub>A</sub> < p<sub>B</sub>\",\"x\":0.94,\"xref\":\"x2\",\"y\":850,\"yref\":\"y2\"},{\"align\":\"center\",\"font\":{\"color\":\"red\"},\"showarrow\":false,\"text\":\"p<sub>Ar</sub> > p<sub>Br</sub>\",\"x\":0.94,\"xref\":\"x2\",\"y\":750,\"yref\":\"y2\"},{\"align\":\"center\",\"font\":{\"color\":\"darkslategrey\"},\"showarrow\":false,\"text\":\"p<sub>Al</sub> < p<sub>Bl</sub>\",\"x\":0.94,\"xref\":\"x2\",\"y\":650,\"yref\":\"y2\"}]},\"traces\":[0,1,2,3,4,5,6,7,8,9,10,11]},{\"data\":[{\"type\":\"bar\",\"visible\":true},{\"type\":\"bar\",\"visible\":true},{\"type\":\"bar\",\"visible\":true},{\"type\":\"bar\",\"visible\":true},{\"type\":\"bar\",\"x\":[0.6],\"y\":[300.0]},{\"type\":\"bar\",\"x\":[0.6],\"y\":[200.0]},{\"type\":\"bar\",\"x\":[0.3],\"y\":[150.0]},{\"type\":\"bar\",\"x\":[0.3],\"y\":[350.0]},{\"type\":\"bar\",\"x\":[0.57],\"y\":[421.79999999999995]},{\"type\":\"bar\",\"x\":[0.57],\"y\":[318.20000000000005]},{\"type\":\"bar\",\"x\":[0.49307692307692325],\"y\":[128.20000000000005]},{\"type\":\"bar\",\"x\":[0.49307692307692325],\"y\":[131.79999999999998]}],\"layout\":{\"annotations\":[{\"align\":\"center\",\"showarrow\":false,\"text\":\"p<sub>A</sub> < p<sub>B</sub>\",\"x\":0.94,\"xref\":\"x2\",\"y\":850,\"yref\":\"y2\"},{\"align\":\"center\",\"font\":{\"color\":\"red\"},\"showarrow\":false,\"text\":\"p<sub>Ar</sub> > p<sub>Br</sub>\",\"x\":0.94,\"xref\":\"x2\",\"y\":750,\"yref\":\"y2\"},{\"align\":\"center\",\"font\":{\"color\":\"darkslategrey\"},\"showarrow\":false,\"text\":\"p<sub>Al</sub> < p<sub>Bl</sub>\",\"x\":0.94,\"xref\":\"x2\",\"y\":650,\"yref\":\"y2\"}]},\"traces\":[0,1,2,3,4,5,6,7,8,9,10,11]},{\"data\":[{\"type\":\"bar\",\"visible\":true},{\"type\":\"bar\",\"visible\":true},{\"type\":\"bar\",\"visible\":true},{\"type\":\"bar\",\"visible\":true},{\"type\":\"bar\",\"x\":[0.6],\"y\":[300.0]},{\"type\":\"bar\",\"x\":[0.6],\"y\":[200.0]},{\"type\":\"bar\",\"x\":[0.3],\"y\":[150.0]},{\"type\":\"bar\",\"x\":[0.3],\"y\":[350.0]},{\"type\":\"bar\",\"x\":[0.57],\"y\":[433.2]},{\"type\":\"bar\",\"x\":[0.57],\"y\":[326.8]},{\"type\":\"bar\",\"x\":[0.4866666666666667],\"y\":[116.80000000000001]},{\"type\":\"bar\",\"x\":[0.4866666666666667],\"y\":[123.19999999999999]}],\"layout\":{\"annotations\":[{\"align\":\"center\",\"showarrow\":false,\"text\":\"p<sub>A</sub> < p<sub>B</sub>\",\"x\":0.94,\"xref\":\"x2\",\"y\":850,\"yref\":\"y2\"},{\"align\":\"center\",\"font\":{\"color\":\"red\"},\"showarrow\":false,\"text\":\"p<sub>Ar</sub> > p<sub>Br</sub>\",\"x\":0.94,\"xref\":\"x2\",\"y\":750,\"yref\":\"y2\"},{\"align\":\"center\",\"font\":{\"color\":\"darkslategrey\"},\"showarrow\":false,\"text\":\"p<sub>Al</sub> < p<sub>Bl</sub>\",\"x\":0.94,\"xref\":\"x2\",\"y\":650,\"yref\":\"y2\"}]},\"traces\":[0,1,2,3,4,5,6,7,8,9,10,11]},{\"data\":[{\"type\":\"bar\",\"visible\":true},{\"type\":\"bar\",\"visible\":true},{\"type\":\"bar\",\"visible\":true},{\"type\":\"bar\",\"visible\":true},{\"type\":\"bar\",\"x\":[0.6],\"y\":[300.0]},{\"type\":\"bar\",\"x\":[0.6],\"y\":[200.0]},{\"type\":\"bar\",\"x\":[0.3],\"y\":[150.0]},{\"type\":\"bar\",\"x\":[0.3],\"y\":[350.0]},{\"type\":\"bar\",\"x\":[0.57],\"y\":[444.59999999999997]},{\"type\":\"bar\",\"x\":[0.57],\"y\":[335.40000000000003]},{\"type\":\"bar\",\"x\":[0.47909090909090923],\"y\":[105.40000000000003]},{\"type\":\"bar\",\"x\":[0.47909090909090923],\"y\":[114.59999999999997]}],\"layout\":{\"annotations\":[{\"align\":\"center\",\"showarrow\":false,\"text\":\"p<sub>A</sub> < p<sub>B</sub>\",\"x\":0.94,\"xref\":\"x2\",\"y\":850,\"yref\":\"y2\"},{\"align\":\"center\",\"font\":{\"color\":\"red\"},\"showarrow\":false,\"text\":\"p<sub>Ar</sub> > p<sub>Br</sub>\",\"x\":0.94,\"xref\":\"x2\",\"y\":750,\"yref\":\"y2\"},{\"align\":\"center\",\"font\":{\"color\":\"darkslategrey\"},\"showarrow\":false,\"text\":\"p<sub>Al</sub> < p<sub>Bl</sub>\",\"x\":0.94,\"xref\":\"x2\",\"y\":650,\"yref\":\"y2\"}]},\"traces\":[0,1,2,3,4,5,6,7,8,9,10,11]},{\"data\":[{\"type\":\"bar\",\"visible\":true},{\"type\":\"bar\",\"visible\":true},{\"type\":\"bar\",\"visible\":true},{\"type\":\"bar\",\"visible\":true},{\"type\":\"bar\",\"x\":[0.6],\"y\":[300.0]},{\"type\":\"bar\",\"x\":[0.6],\"y\":[200.0]},{\"type\":\"bar\",\"x\":[0.3],\"y\":[150.0]},{\"type\":\"bar\",\"x\":[0.3],\"y\":[350.0]},{\"type\":\"bar\",\"x\":[0.57],\"y\":[455.99999999999994]},{\"type\":\"bar\",\"x\":[0.57],\"y\":[344.00000000000006]},{\"type\":\"bar\",\"x\":[0.4700000000000003],\"y\":[94.00000000000006]},{\"type\":\"bar\",\"x\":[0.4700000000000003],\"y\":[105.99999999999994]}],\"layout\":{\"annotations\":[{\"align\":\"center\",\"showarrow\":false,\"text\":\"p<sub>A</sub> < p<sub>B</sub>\",\"x\":0.94,\"xref\":\"x2\",\"y\":850,\"yref\":\"y2\"},{\"align\":\"center\",\"font\":{\"color\":\"red\"},\"showarrow\":false,\"text\":\"p<sub>Ar</sub> > p<sub>Br</sub>\",\"x\":0.94,\"xref\":\"x2\",\"y\":750,\"yref\":\"y2\"},{\"align\":\"center\",\"font\":{\"color\":\"darkslategrey\"},\"showarrow\":false,\"text\":\"p<sub>Al</sub> < p<sub>Bl</sub>\",\"x\":0.94,\"xref\":\"x2\",\"y\":650,\"yref\":\"y2\"}]},\"traces\":[0,1,2,3,4,5,6,7,8,9,10,11]},{\"data\":[{\"type\":\"bar\",\"visible\":true},{\"type\":\"bar\",\"visible\":true},{\"type\":\"bar\",\"visible\":true},{\"type\":\"bar\",\"visible\":true},{\"type\":\"bar\",\"x\":[0.6],\"y\":[300.0]},{\"type\":\"bar\",\"x\":[0.6],\"y\":[200.0]},{\"type\":\"bar\",\"x\":[0.3],\"y\":[150.0]},{\"type\":\"bar\",\"x\":[0.3],\"y\":[350.0]},{\"type\":\"bar\",\"x\":[0.57],\"y\":[467.4]},{\"type\":\"bar\",\"x\":[0.57],\"y\":[352.6]},{\"type\":\"bar\",\"x\":[0.458888888888889],\"y\":[82.60000000000002]},{\"type\":\"bar\",\"x\":[0.458888888888889],\"y\":[97.39999999999998]}],\"layout\":{\"annotations\":[{\"align\":\"center\",\"showarrow\":false,\"text\":\"p<sub>A</sub> < p<sub>B</sub>\",\"x\":0.94,\"xref\":\"x2\",\"y\":850,\"yref\":\"y2\"},{\"align\":\"center\",\"font\":{\"color\":\"red\"},\"showarrow\":false,\"text\":\"p<sub>Ar</sub> > p<sub>Br</sub>\",\"x\":0.94,\"xref\":\"x2\",\"y\":750,\"yref\":\"y2\"},{\"align\":\"center\",\"font\":{\"color\":\"darkslategrey\"},\"showarrow\":false,\"text\":\"p<sub>Al</sub> < p<sub>Bl</sub>\",\"x\":0.94,\"xref\":\"x2\",\"y\":650,\"yref\":\"y2\"}]},\"traces\":[0,1,2,3,4,5,6,7,8,9,10,11]},{\"data\":[{\"type\":\"bar\",\"visible\":true},{\"type\":\"bar\",\"visible\":true},{\"type\":\"bar\",\"visible\":true},{\"type\":\"bar\",\"visible\":true},{\"type\":\"bar\",\"x\":[0.6],\"y\":[300.0]},{\"type\":\"bar\",\"x\":[0.6],\"y\":[200.0]},{\"type\":\"bar\",\"x\":[0.3],\"y\":[150.0]},{\"type\":\"bar\",\"x\":[0.3],\"y\":[350.0]},{\"type\":\"bar\",\"x\":[0.57],\"y\":[478.79999999999995]},{\"type\":\"bar\",\"x\":[0.57],\"y\":[361.20000000000005]},{\"type\":\"bar\",\"x\":[0.4450000000000003],\"y\":[71.20000000000005]},{\"type\":\"bar\",\"x\":[0.4450000000000003],\"y\":[88.79999999999995]}],\"layout\":{\"annotations\":[{\"align\":\"center\",\"showarrow\":false,\"text\":\"p<sub>A</sub> < p<sub>B</sub>\",\"x\":0.94,\"xref\":\"x2\",\"y\":850,\"yref\":\"y2\"},{\"align\":\"center\",\"font\":{\"color\":\"red\"},\"showarrow\":false,\"text\":\"p<sub>Ar</sub> > p<sub>Br</sub>\",\"x\":0.94,\"xref\":\"x2\",\"y\":750,\"yref\":\"y2\"},{\"align\":\"center\",\"font\":{\"color\":\"darkslategrey\"},\"showarrow\":false,\"text\":\"p<sub>Al</sub> < p<sub>Bl</sub>\",\"x\":0.94,\"xref\":\"x2\",\"y\":650,\"yref\":\"y2\"}]},\"traces\":[0,1,2,3,4,5,6,7,8,9,10,11]},{\"data\":[{\"type\":\"bar\",\"visible\":true},{\"type\":\"bar\",\"visible\":true},{\"type\":\"bar\",\"visible\":true},{\"type\":\"bar\",\"visible\":true},{\"type\":\"bar\",\"x\":[0.6],\"y\":[300.0]},{\"type\":\"bar\",\"x\":[0.6],\"y\":[200.0]},{\"type\":\"bar\",\"x\":[0.3],\"y\":[150.0]},{\"type\":\"bar\",\"x\":[0.3],\"y\":[350.0]},{\"type\":\"bar\",\"x\":[0.57],\"y\":[490.19999999999993]},{\"type\":\"bar\",\"x\":[0.57],\"y\":[369.80000000000007]},{\"type\":\"bar\",\"x\":[0.42714285714285766],\"y\":[59.800000000000075]},{\"type\":\"bar\",\"x\":[0.42714285714285766],\"y\":[80.19999999999992]}],\"layout\":{\"annotations\":[{\"align\":\"center\",\"showarrow\":false,\"text\":\"p<sub>A</sub> < p<sub>B</sub>\",\"x\":0.94,\"xref\":\"x2\",\"y\":850,\"yref\":\"y2\"},{\"align\":\"center\",\"font\":{\"color\":\"red\"},\"showarrow\":false,\"text\":\"p<sub>Ar</sub> > p<sub>Br</sub>\",\"x\":0.94,\"xref\":\"x2\",\"y\":750,\"yref\":\"y2\"},{\"align\":\"center\",\"font\":{\"color\":\"darkslategrey\"},\"showarrow\":false,\"text\":\"p<sub>Al</sub> < p<sub>Bl</sub>\",\"x\":0.94,\"xref\":\"x2\",\"y\":650,\"yref\":\"y2\"}]},\"traces\":[0,1,2,3,4,5,6,7,8,9,10,11]},{\"data\":[{\"type\":\"bar\",\"visible\":true},{\"type\":\"bar\",\"visible\":true},{\"type\":\"bar\",\"visible\":true},{\"type\":\"bar\",\"visible\":true},{\"type\":\"bar\",\"x\":[0.6],\"y\":[300.0]},{\"type\":\"bar\",\"x\":[0.6],\"y\":[200.0]},{\"type\":\"bar\",\"x\":[0.3],\"y\":[150.0]},{\"type\":\"bar\",\"x\":[0.3],\"y\":[350.0]},{\"type\":\"bar\",\"x\":[0.57],\"y\":[501.59999999999997]},{\"type\":\"bar\",\"x\":[0.57],\"y\":[378.40000000000003]},{\"type\":\"bar\",\"x\":[0.4033333333333336],\"y\":[48.400000000000034]},{\"type\":\"bar\",\"x\":[0.4033333333333336],\"y\":[71.59999999999998]}],\"layout\":{\"annotations\":[{\"align\":\"center\",\"showarrow\":false,\"text\":\"p<sub>A</sub> < p<sub>B</sub>\",\"x\":0.94,\"xref\":\"x2\",\"y\":850,\"yref\":\"y2\"},{\"align\":\"center\",\"font\":{\"color\":\"red\"},\"showarrow\":false,\"text\":\"p<sub>Ar</sub> > p<sub>Br</sub>\",\"x\":0.94,\"xref\":\"x2\",\"y\":750,\"yref\":\"y2\"},{\"align\":\"center\",\"font\":{\"color\":\"darkslategrey\"},\"showarrow\":false,\"text\":\"p<sub>Al</sub> < p<sub>Bl</sub>\",\"x\":0.94,\"xref\":\"x2\",\"y\":650,\"yref\":\"y2\"}]},\"traces\":[0,1,2,3,4,5,6,7,8,9,10,11]},{\"data\":[{\"type\":\"bar\",\"visible\":true},{\"type\":\"bar\",\"visible\":true},{\"type\":\"bar\",\"visible\":true},{\"type\":\"bar\",\"visible\":true},{\"type\":\"bar\",\"x\":[0.6],\"y\":[300.0]},{\"type\":\"bar\",\"x\":[0.6],\"y\":[200.0]},{\"type\":\"bar\",\"x\":[0.3],\"y\":[150.0]},{\"type\":\"bar\",\"x\":[0.3],\"y\":[350.0]},{\"type\":\"bar\",\"x\":[0.57],\"y\":[513.0]},{\"type\":\"bar\",\"x\":[0.57],\"y\":[387.00000000000006]},{\"type\":\"bar\",\"x\":[0.37],\"y\":[37.0]},{\"type\":\"bar\",\"x\":[0.37],\"y\":[63.0]}],\"layout\":{\"annotations\":[{\"align\":\"center\",\"showarrow\":false,\"text\":\"p<sub>A</sub> < p<sub>B</sub>\",\"x\":0.94,\"xref\":\"x2\",\"y\":850,\"yref\":\"y2\"},{\"align\":\"center\",\"font\":{\"color\":\"red\"},\"showarrow\":false,\"text\":\"p<sub>Ar</sub> > p<sub>Br</sub>\",\"x\":0.94,\"xref\":\"x2\",\"y\":750,\"yref\":\"y2\"},{\"align\":\"center\",\"font\":{\"color\":\"darkslategrey\"},\"showarrow\":false,\"text\":\"p<sub>Al</sub> < p<sub>Bl</sub>\",\"x\":0.94,\"xref\":\"x2\",\"y\":650,\"yref\":\"y2\"}]},\"traces\":[0,1,2,3,4,5,6,7,8,9,10,11]},{\"data\":[{\"type\":\"bar\",\"visible\":true},{\"type\":\"bar\",\"visible\":true},{\"type\":\"bar\",\"visible\":true},{\"type\":\"bar\",\"visible\":true},{\"type\":\"bar\",\"x\":[0.6],\"y\":[300.0]},{\"type\":\"bar\",\"x\":[0.6],\"y\":[200.0]},{\"type\":\"bar\",\"x\":[0.3],\"y\":[150.0]},{\"type\":\"bar\",\"x\":[0.3],\"y\":[350.0]},{\"type\":\"bar\",\"x\":[0.57],\"y\":[513.0]},{\"type\":\"bar\",\"x\":[0.57],\"y\":[387.00000000000006]},{\"type\":\"bar\",\"x\":[0.37],\"y\":[37.0]},{\"type\":\"bar\",\"x\":[0.37],\"y\":[63.0]}],\"layout\":{\"annotations\":[{\"align\":\"center\",\"showarrow\":false,\"text\":\"p<sub>A</sub> < p<sub>B</sub>\",\"x\":0.94,\"xref\":\"x2\",\"y\":850,\"yref\":\"y2\"},{\"align\":\"center\",\"font\":{\"color\":\"red\"},\"showarrow\":false,\"text\":\"p<sub>Ar</sub> > p<sub>Br</sub>\",\"x\":0.94,\"xref\":\"x2\",\"y\":750,\"yref\":\"y2\"},{\"align\":\"center\",\"font\":{\"color\":\"darkslategrey\"},\"showarrow\":false,\"text\":\"p<sub>Al</sub> < p<sub>Bl</sub>\",\"x\":0.94,\"xref\":\"x2\",\"y\":650,\"yref\":\"y2\"}]},\"traces\":[0,1,2,3,4,5,6,7,8,9,10,11]},{\"data\":[{\"type\":\"bar\",\"visible\":true},{\"type\":\"bar\",\"visible\":true},{\"type\":\"bar\",\"visible\":true},{\"type\":\"bar\",\"visible\":true},{\"type\":\"bar\",\"x\":[0.6],\"y\":[300.0]},{\"type\":\"bar\",\"x\":[0.6],\"y\":[200.0]},{\"type\":\"bar\",\"x\":[0.3],\"y\":[150.0]},{\"type\":\"bar\",\"x\":[0.3],\"y\":[350.0]},{\"type\":\"bar\",\"x\":[0.57],\"y\":[513.0]},{\"type\":\"bar\",\"x\":[0.57],\"y\":[387.00000000000006]},{\"type\":\"bar\",\"x\":[0.37],\"y\":[37.0]},{\"type\":\"bar\",\"x\":[0.37],\"y\":[63.0]}],\"layout\":{\"annotations\":[{\"align\":\"center\",\"showarrow\":false,\"text\":\"p<sub>A</sub> < p<sub>B</sub>\",\"x\":0.94,\"xref\":\"x2\",\"y\":850,\"yref\":\"y2\"},{\"align\":\"center\",\"font\":{\"color\":\"red\"},\"showarrow\":false,\"text\":\"p<sub>Ar</sub> > p<sub>Br</sub>\",\"x\":0.94,\"xref\":\"x2\",\"y\":750,\"yref\":\"y2\"},{\"align\":\"center\",\"font\":{\"color\":\"darkslategrey\"},\"showarrow\":false,\"text\":\"p<sub>Al</sub> < p<sub>Bl</sub>\",\"x\":0.94,\"xref\":\"x2\",\"y\":650,\"yref\":\"y2\"}]},\"traces\":[0,1,2,3,4,5,6,7,8,9,10,11]},{\"data\":[{\"type\":\"bar\",\"visible\":true},{\"type\":\"bar\",\"visible\":true},{\"type\":\"bar\",\"visible\":true},{\"type\":\"bar\",\"visible\":true},{\"type\":\"bar\",\"x\":[0.6],\"y\":[300.0]},{\"type\":\"bar\",\"x\":[0.6],\"y\":[200.0]},{\"type\":\"bar\",\"x\":[0.3],\"y\":[150.0]},{\"type\":\"bar\",\"x\":[0.3],\"y\":[350.0]},{\"type\":\"bar\",\"x\":[0.57],\"y\":[513.0]},{\"type\":\"bar\",\"x\":[0.57],\"y\":[387.00000000000006]},{\"type\":\"bar\",\"x\":[0.37],\"y\":[37.0]},{\"type\":\"bar\",\"x\":[0.37],\"y\":[63.0]}],\"layout\":{\"annotations\":[{\"align\":\"center\",\"showarrow\":false,\"text\":\"p<sub>A</sub> < p<sub>B</sub>\",\"x\":0.94,\"xref\":\"x2\",\"y\":850,\"yref\":\"y2\"},{\"align\":\"center\",\"font\":{\"color\":\"red\"},\"showarrow\":false,\"text\":\"p<sub>Ar</sub> > p<sub>Br</sub>\",\"x\":0.94,\"xref\":\"x2\",\"y\":750,\"yref\":\"y2\"},{\"align\":\"center\",\"font\":{\"color\":\"darkslategrey\"},\"showarrow\":false,\"text\":\"p<sub>Al</sub> < p<sub>Bl</sub>\",\"x\":0.94,\"xref\":\"x2\",\"y\":650,\"yref\":\"y2\"}]},\"traces\":[0,1,2,3,4,5,6,7,8,9,10,11]},{\"data\":[{\"type\":\"bar\",\"visible\":true},{\"type\":\"bar\",\"visible\":true},{\"type\":\"bar\",\"visible\":true},{\"type\":\"bar\",\"visible\":true},{\"type\":\"bar\",\"x\":[0.6],\"y\":[300.0]},{\"type\":\"bar\",\"x\":[0.6],\"y\":[200.0]},{\"type\":\"bar\",\"x\":[0.3],\"y\":[150.0]},{\"type\":\"bar\",\"x\":[0.3],\"y\":[350.0]},{\"type\":\"bar\",\"x\":[0.57],\"y\":[513.0]},{\"type\":\"bar\",\"x\":[0.57],\"y\":[387.00000000000006]},{\"type\":\"bar\",\"x\":[0.37],\"y\":[37.0]},{\"type\":\"bar\",\"x\":[0.37],\"y\":[63.0]}],\"layout\":{\"annotations\":[{\"align\":\"center\",\"showarrow\":false,\"text\":\"p<sub>A</sub> < p<sub>B</sub>\",\"x\":0.94,\"xref\":\"x2\",\"y\":850,\"yref\":\"y2\"},{\"align\":\"center\",\"font\":{\"color\":\"red\"},\"showarrow\":false,\"text\":\"p<sub>Ar</sub> > p<sub>Br</sub>\",\"x\":0.94,\"xref\":\"x2\",\"y\":750,\"yref\":\"y2\"},{\"align\":\"center\",\"font\":{\"color\":\"darkslategrey\"},\"showarrow\":false,\"text\":\"p<sub>Al</sub> < p<sub>Bl</sub>\",\"x\":0.94,\"xref\":\"x2\",\"y\":650,\"yref\":\"y2\"}]},\"traces\":[0,1,2,3,4,5,6,7,8,9,10,11]},{\"data\":[{\"type\":\"bar\",\"visible\":true},{\"type\":\"bar\",\"visible\":true},{\"type\":\"bar\",\"visible\":true},{\"type\":\"bar\",\"visible\":true},{\"type\":\"bar\",\"x\":[0.6],\"y\":[288.0]},{\"type\":\"bar\",\"x\":[0.6],\"y\":[192.0]},{\"type\":\"bar\",\"x\":[0.31153846153846154],\"y\":[162.0]},{\"type\":\"bar\",\"x\":[0.31153846153846154],\"y\":[358.0]},{\"type\":\"bar\",\"x\":[0.57],\"y\":[513.0]},{\"type\":\"bar\",\"x\":[0.57],\"y\":[387.00000000000006]},{\"type\":\"bar\",\"x\":[0.37],\"y\":[37.0]},{\"type\":\"bar\",\"x\":[0.37],\"y\":[63.0]}],\"layout\":{\"annotations\":[{\"align\":\"center\",\"showarrow\":false,\"text\":\"p<sub>A</sub> < p<sub>B</sub>\",\"x\":0.94,\"xref\":\"x2\",\"y\":850,\"yref\":\"y2\"},{\"align\":\"center\",\"font\":{\"color\":\"red\"},\"showarrow\":false,\"text\":\"p<sub>Ar</sub> > p<sub>Br</sub>\",\"x\":0.94,\"xref\":\"x2\",\"y\":750,\"yref\":\"y2\"},{\"align\":\"center\",\"font\":{\"color\":\"darkslategrey\"},\"showarrow\":false,\"text\":\"p<sub>Al</sub> < p<sub>Bl</sub>\",\"x\":0.94,\"xref\":\"x2\",\"y\":650,\"yref\":\"y2\"}]},\"traces\":[0,1,2,3,4,5,6,7,8,9,10,11]},{\"data\":[{\"type\":\"bar\",\"visible\":true},{\"type\":\"bar\",\"visible\":true},{\"type\":\"bar\",\"visible\":true},{\"type\":\"bar\",\"visible\":true},{\"type\":\"bar\",\"x\":[0.6],\"y\":[276.0]},{\"type\":\"bar\",\"x\":[0.6],\"y\":[184.0]},{\"type\":\"bar\",\"x\":[0.32222222222222224],\"y\":[174.0]},{\"type\":\"bar\",\"x\":[0.32222222222222224],\"y\":[366.0]},{\"type\":\"bar\",\"x\":[0.57],\"y\":[513.0]},{\"type\":\"bar\",\"x\":[0.57],\"y\":[387.00000000000006]},{\"type\":\"bar\",\"x\":[0.37],\"y\":[37.0]},{\"type\":\"bar\",\"x\":[0.37],\"y\":[63.0]}],\"layout\":{\"annotations\":[{\"align\":\"center\",\"showarrow\":false,\"text\":\"p<sub>A</sub> < p<sub>B</sub>\",\"x\":0.94,\"xref\":\"x2\",\"y\":850,\"yref\":\"y2\"},{\"align\":\"center\",\"font\":{\"color\":\"red\"},\"showarrow\":false,\"text\":\"p<sub>Ar</sub> > p<sub>Br</sub>\",\"x\":0.94,\"xref\":\"x2\",\"y\":750,\"yref\":\"y2\"},{\"align\":\"center\",\"font\":{\"color\":\"darkslategrey\"},\"showarrow\":false,\"text\":\"p<sub>Al</sub> < p<sub>Bl</sub>\",\"x\":0.94,\"xref\":\"x2\",\"y\":650,\"yref\":\"y2\"}]},\"traces\":[0,1,2,3,4,5,6,7,8,9,10,11]},{\"data\":[{\"type\":\"bar\",\"visible\":true},{\"type\":\"bar\",\"visible\":true},{\"type\":\"bar\",\"visible\":true},{\"type\":\"bar\",\"visible\":true},{\"type\":\"bar\",\"x\":[0.6],\"y\":[264.0]},{\"type\":\"bar\",\"x\":[0.6],\"y\":[176.0]},{\"type\":\"bar\",\"x\":[0.33214285714285713],\"y\":[186.0]},{\"type\":\"bar\",\"x\":[0.33214285714285713],\"y\":[374.00000000000006]},{\"type\":\"bar\",\"x\":[0.57],\"y\":[513.0]},{\"type\":\"bar\",\"x\":[0.57],\"y\":[387.00000000000006]},{\"type\":\"bar\",\"x\":[0.37],\"y\":[37.0]},{\"type\":\"bar\",\"x\":[0.37],\"y\":[63.0]}],\"layout\":{\"annotations\":[{\"align\":\"center\",\"showarrow\":false,\"text\":\"p<sub>A</sub> < p<sub>B</sub>\",\"x\":0.94,\"xref\":\"x2\",\"y\":850,\"yref\":\"y2\"},{\"align\":\"center\",\"font\":{\"color\":\"red\"},\"showarrow\":false,\"text\":\"p<sub>Ar</sub> > p<sub>Br</sub>\",\"x\":0.94,\"xref\":\"x2\",\"y\":750,\"yref\":\"y2\"},{\"align\":\"center\",\"font\":{\"color\":\"darkslategrey\"},\"showarrow\":false,\"text\":\"p<sub>Al</sub> < p<sub>Bl</sub>\",\"x\":0.94,\"xref\":\"x2\",\"y\":650,\"yref\":\"y2\"}]},\"traces\":[0,1,2,3,4,5,6,7,8,9,10,11]},{\"data\":[{\"type\":\"bar\",\"visible\":true},{\"type\":\"bar\",\"visible\":true},{\"type\":\"bar\",\"visible\":true},{\"type\":\"bar\",\"visible\":true},{\"type\":\"bar\",\"x\":[0.6],\"y\":[252.0]},{\"type\":\"bar\",\"x\":[0.6],\"y\":[168.0]},{\"type\":\"bar\",\"x\":[0.3413793103448276],\"y\":[198.0]},{\"type\":\"bar\",\"x\":[0.3413793103448276],\"y\":[382.0]},{\"type\":\"bar\",\"x\":[0.57],\"y\":[513.0]},{\"type\":\"bar\",\"x\":[0.57],\"y\":[387.00000000000006]},{\"type\":\"bar\",\"x\":[0.37],\"y\":[37.0]},{\"type\":\"bar\",\"x\":[0.37],\"y\":[63.0]}],\"layout\":{\"annotations\":[{\"align\":\"center\",\"showarrow\":false,\"text\":\"p<sub>A</sub> < p<sub>B</sub>\",\"x\":0.94,\"xref\":\"x2\",\"y\":850,\"yref\":\"y2\"},{\"align\":\"center\",\"font\":{\"color\":\"red\"},\"showarrow\":false,\"text\":\"p<sub>Ar</sub> > p<sub>Br</sub>\",\"x\":0.94,\"xref\":\"x2\",\"y\":750,\"yref\":\"y2\"},{\"align\":\"center\",\"font\":{\"color\":\"darkslategrey\"},\"showarrow\":false,\"text\":\"p<sub>Al</sub> < p<sub>Bl</sub>\",\"x\":0.94,\"xref\":\"x2\",\"y\":650,\"yref\":\"y2\"}]},\"traces\":[0,1,2,3,4,5,6,7,8,9,10,11]},{\"data\":[{\"type\":\"bar\",\"visible\":true},{\"type\":\"bar\",\"visible\":true},{\"type\":\"bar\",\"visible\":true},{\"type\":\"bar\",\"visible\":true},{\"type\":\"bar\",\"x\":[0.6],\"y\":[240.0]},{\"type\":\"bar\",\"x\":[0.6],\"y\":[160.0]},{\"type\":\"bar\",\"x\":[0.35],\"y\":[210.0]},{\"type\":\"bar\",\"x\":[0.35],\"y\":[390.0]},{\"type\":\"bar\",\"x\":[0.57],\"y\":[513.0]},{\"type\":\"bar\",\"x\":[0.57],\"y\":[387.00000000000006]},{\"type\":\"bar\",\"x\":[0.37],\"y\":[37.0]},{\"type\":\"bar\",\"x\":[0.37],\"y\":[63.0]}],\"layout\":{\"annotations\":[{\"align\":\"center\",\"showarrow\":false,\"text\":\"p<sub>A</sub> < p<sub>B</sub>\",\"x\":0.94,\"xref\":\"x2\",\"y\":850,\"yref\":\"y2\"},{\"align\":\"center\",\"font\":{\"color\":\"red\"},\"showarrow\":false,\"text\":\"p<sub>Ar</sub> > p<sub>Br</sub>\",\"x\":0.94,\"xref\":\"x2\",\"y\":750,\"yref\":\"y2\"},{\"align\":\"center\",\"font\":{\"color\":\"darkslategrey\"},\"showarrow\":false,\"text\":\"p<sub>Al</sub> < p<sub>Bl</sub>\",\"x\":0.94,\"xref\":\"x2\",\"y\":650,\"yref\":\"y2\"}]},\"traces\":[0,1,2,3,4,5,6,7,8,9,10,11]},{\"data\":[{\"type\":\"bar\",\"visible\":true},{\"type\":\"bar\",\"visible\":true},{\"type\":\"bar\",\"visible\":true},{\"type\":\"bar\",\"visible\":true},{\"type\":\"bar\",\"x\":[0.6],\"y\":[228.0]},{\"type\":\"bar\",\"x\":[0.6],\"y\":[152.0]},{\"type\":\"bar\",\"x\":[0.3580645161290323],\"y\":[222.00000000000003]},{\"type\":\"bar\",\"x\":[0.3580645161290323],\"y\":[397.99999999999994]},{\"type\":\"bar\",\"x\":[0.57],\"y\":[513.0]},{\"type\":\"bar\",\"x\":[0.57],\"y\":[387.00000000000006]},{\"type\":\"bar\",\"x\":[0.37],\"y\":[37.0]},{\"type\":\"bar\",\"x\":[0.37],\"y\":[63.0]}],\"layout\":{\"annotations\":[{\"align\":\"center\",\"showarrow\":false,\"text\":\"p<sub>A</sub> < p<sub>B</sub>\",\"x\":0.94,\"xref\":\"x2\",\"y\":850,\"yref\":\"y2\"},{\"align\":\"center\",\"font\":{\"color\":\"red\"},\"showarrow\":false,\"text\":\"p<sub>Ar</sub> > p<sub>Br</sub>\",\"x\":0.94,\"xref\":\"x2\",\"y\":750,\"yref\":\"y2\"},{\"align\":\"center\",\"font\":{\"color\":\"darkslategrey\"},\"showarrow\":false,\"text\":\"p<sub>Al</sub> < p<sub>Bl</sub>\",\"x\":0.94,\"xref\":\"x2\",\"y\":650,\"yref\":\"y2\"}]},\"traces\":[0,1,2,3,4,5,6,7,8,9,10,11]},{\"data\":[{\"type\":\"bar\",\"visible\":true},{\"type\":\"bar\",\"visible\":true},{\"type\":\"bar\",\"visible\":true},{\"type\":\"bar\",\"visible\":true},{\"type\":\"bar\",\"x\":[0.6],\"y\":[216.0]},{\"type\":\"bar\",\"x\":[0.6],\"y\":[144.0]},{\"type\":\"bar\",\"x\":[0.365625],\"y\":[234.0]},{\"type\":\"bar\",\"x\":[0.365625],\"y\":[406.0]},{\"type\":\"bar\",\"x\":[0.57],\"y\":[513.0]},{\"type\":\"bar\",\"x\":[0.57],\"y\":[387.00000000000006]},{\"type\":\"bar\",\"x\":[0.37],\"y\":[37.0]},{\"type\":\"bar\",\"x\":[0.37],\"y\":[63.0]}],\"layout\":{\"annotations\":[{\"align\":\"center\",\"showarrow\":false,\"text\":\"p<sub>A</sub> < p<sub>B</sub>\",\"x\":0.94,\"xref\":\"x2\",\"y\":850,\"yref\":\"y2\"},{\"align\":\"center\",\"font\":{\"color\":\"red\"},\"showarrow\":false,\"text\":\"p<sub>Ar</sub> > p<sub>Br</sub>\",\"x\":0.94,\"xref\":\"x2\",\"y\":750,\"yref\":\"y2\"},{\"align\":\"center\",\"font\":{\"color\":\"darkslategrey\"},\"showarrow\":false,\"text\":\"p<sub>Al</sub> < p<sub>Bl</sub>\",\"x\":0.94,\"xref\":\"x2\",\"y\":650,\"yref\":\"y2\"}]},\"traces\":[0,1,2,3,4,5,6,7,8,9,10,11]},{\"data\":[{\"type\":\"bar\",\"visible\":true},{\"type\":\"bar\",\"visible\":true},{\"type\":\"bar\",\"visible\":true},{\"type\":\"bar\",\"visible\":true},{\"type\":\"bar\",\"x\":[0.6],\"y\":[204.0]},{\"type\":\"bar\",\"x\":[0.6],\"y\":[136.0]},{\"type\":\"bar\",\"x\":[0.37272727272727274],\"y\":[246.0]},{\"type\":\"bar\",\"x\":[0.37272727272727274],\"y\":[413.99999999999994]},{\"type\":\"bar\",\"x\":[0.57],\"y\":[513.0]},{\"type\":\"bar\",\"x\":[0.57],\"y\":[387.00000000000006]},{\"type\":\"bar\",\"x\":[0.37],\"y\":[37.0]},{\"type\":\"bar\",\"x\":[0.37],\"y\":[63.0]}],\"layout\":{\"annotations\":[{\"align\":\"center\",\"showarrow\":false,\"text\":\"p<sub>A</sub> < p<sub>B</sub>\",\"x\":0.94,\"xref\":\"x2\",\"y\":850,\"yref\":\"y2\"},{\"align\":\"center\",\"font\":{\"color\":\"red\"},\"showarrow\":false,\"text\":\"p<sub>Ar</sub> > p<sub>Br</sub>\",\"x\":0.94,\"xref\":\"x2\",\"y\":750,\"yref\":\"y2\"},{\"align\":\"center\",\"font\":{\"color\":\"red\"},\"showarrow\":false,\"text\":\"p<sub>Al</sub> > p<sub>Bl</sub>\",\"x\":0.94,\"xref\":\"x2\",\"y\":650,\"yref\":\"y2\"}]},\"traces\":[0,1,2,3,4,5,6,7,8,9,10,11]},{\"data\":[{\"type\":\"bar\",\"visible\":true},{\"type\":\"bar\",\"visible\":true},{\"type\":\"bar\",\"visible\":true},{\"type\":\"bar\",\"visible\":true},{\"type\":\"bar\",\"x\":[0.6],\"y\":[192.0]},{\"type\":\"bar\",\"x\":[0.6],\"y\":[128.0]},{\"type\":\"bar\",\"x\":[0.37941176470588234],\"y\":[258.0]},{\"type\":\"bar\",\"x\":[0.37941176470588234],\"y\":[422.0]},{\"type\":\"bar\",\"x\":[0.57],\"y\":[513.0]},{\"type\":\"bar\",\"x\":[0.57],\"y\":[387.00000000000006]},{\"type\":\"bar\",\"x\":[0.37],\"y\":[37.0]},{\"type\":\"bar\",\"x\":[0.37],\"y\":[63.0]}],\"layout\":{\"annotations\":[{\"align\":\"center\",\"showarrow\":false,\"text\":\"p<sub>A</sub> < p<sub>B</sub>\",\"x\":0.94,\"xref\":\"x2\",\"y\":850,\"yref\":\"y2\"},{\"align\":\"center\",\"font\":{\"color\":\"red\"},\"showarrow\":false,\"text\":\"p<sub>Ar</sub> > p<sub>Br</sub>\",\"x\":0.94,\"xref\":\"x2\",\"y\":750,\"yref\":\"y2\"},{\"align\":\"center\",\"font\":{\"color\":\"red\"},\"showarrow\":false,\"text\":\"p<sub>Al</sub> > p<sub>Bl</sub>\",\"x\":0.94,\"xref\":\"x2\",\"y\":650,\"yref\":\"y2\"}]},\"traces\":[0,1,2,3,4,5,6,7,8,9,10,11]},{\"data\":[{\"type\":\"bar\",\"visible\":true},{\"type\":\"bar\",\"visible\":true},{\"type\":\"bar\",\"visible\":true},{\"type\":\"bar\",\"visible\":true},{\"type\":\"bar\",\"x\":[0.6],\"y\":[180.0]},{\"type\":\"bar\",\"x\":[0.6],\"y\":[120.0]},{\"type\":\"bar\",\"x\":[0.38571428571428573],\"y\":[270.0]},{\"type\":\"bar\",\"x\":[0.38571428571428573],\"y\":[430.0]},{\"type\":\"bar\",\"x\":[0.57],\"y\":[513.0]},{\"type\":\"bar\",\"x\":[0.57],\"y\":[387.00000000000006]},{\"type\":\"bar\",\"x\":[0.37],\"y\":[37.0]},{\"type\":\"bar\",\"x\":[0.37],\"y\":[63.0]}],\"layout\":{\"annotations\":[{\"align\":\"center\",\"showarrow\":false,\"text\":\"p<sub>A</sub> < p<sub>B</sub>\",\"x\":0.94,\"xref\":\"x2\",\"y\":850,\"yref\":\"y2\"},{\"align\":\"center\",\"font\":{\"color\":\"red\"},\"showarrow\":false,\"text\":\"p<sub>Ar</sub> > p<sub>Br</sub>\",\"x\":0.94,\"xref\":\"x2\",\"y\":750,\"yref\":\"y2\"},{\"align\":\"center\",\"font\":{\"color\":\"red\"},\"showarrow\":false,\"text\":\"p<sub>Al</sub> > p<sub>Bl</sub>\",\"x\":0.94,\"xref\":\"x2\",\"y\":650,\"yref\":\"y2\"}]},\"traces\":[0,1,2,3,4,5,6,7,8,9,10,11]},{\"data\":[{\"type\":\"bar\",\"visible\":true},{\"type\":\"bar\",\"visible\":true},{\"type\":\"bar\",\"visible\":true},{\"type\":\"bar\",\"visible\":true},{\"type\":\"bar\",\"x\":[0.6],\"y\":[168.0]},{\"type\":\"bar\",\"x\":[0.6],\"y\":[112.0]},{\"type\":\"bar\",\"x\":[0.39166666666666666],\"y\":[282.0]},{\"type\":\"bar\",\"x\":[0.39166666666666666],\"y\":[438.00000000000006]},{\"type\":\"bar\",\"x\":[0.57],\"y\":[513.0]},{\"type\":\"bar\",\"x\":[0.57],\"y\":[387.00000000000006]},{\"type\":\"bar\",\"x\":[0.37],\"y\":[37.0]},{\"type\":\"bar\",\"x\":[0.37],\"y\":[63.0]}],\"layout\":{\"annotations\":[{\"align\":\"center\",\"showarrow\":false,\"text\":\"p<sub>A</sub> < p<sub>B</sub>\",\"x\":0.94,\"xref\":\"x2\",\"y\":850,\"yref\":\"y2\"},{\"align\":\"center\",\"font\":{\"color\":\"red\"},\"showarrow\":false,\"text\":\"p<sub>Ar</sub> > p<sub>Br</sub>\",\"x\":0.94,\"xref\":\"x2\",\"y\":750,\"yref\":\"y2\"},{\"align\":\"center\",\"font\":{\"color\":\"red\"},\"showarrow\":false,\"text\":\"p<sub>Al</sub> > p<sub>Bl</sub>\",\"x\":0.94,\"xref\":\"x2\",\"y\":650,\"yref\":\"y2\"}]},\"traces\":[0,1,2,3,4,5,6,7,8,9,10,11]},{\"data\":[{\"type\":\"bar\",\"visible\":true},{\"type\":\"bar\",\"visible\":true},{\"type\":\"bar\",\"visible\":true},{\"type\":\"bar\",\"visible\":true},{\"type\":\"bar\",\"x\":[0.6],\"y\":[156.0]},{\"type\":\"bar\",\"x\":[0.6],\"y\":[104.0]},{\"type\":\"bar\",\"x\":[0.3972972972972973],\"y\":[294.0]},{\"type\":\"bar\",\"x\":[0.3972972972972973],\"y\":[446.00000000000006]},{\"type\":\"bar\",\"x\":[0.57],\"y\":[513.0]},{\"type\":\"bar\",\"x\":[0.57],\"y\":[387.00000000000006]},{\"type\":\"bar\",\"x\":[0.37],\"y\":[37.0]},{\"type\":\"bar\",\"x\":[0.37],\"y\":[63.0]}],\"layout\":{\"annotations\":[{\"align\":\"center\",\"showarrow\":false,\"text\":\"p<sub>A</sub> < p<sub>B</sub>\",\"x\":0.94,\"xref\":\"x2\",\"y\":850,\"yref\":\"y2\"},{\"align\":\"center\",\"font\":{\"color\":\"red\"},\"showarrow\":false,\"text\":\"p<sub>Ar</sub> > p<sub>Br</sub>\",\"x\":0.94,\"xref\":\"x2\",\"y\":750,\"yref\":\"y2\"},{\"align\":\"center\",\"font\":{\"color\":\"red\"},\"showarrow\":false,\"text\":\"p<sub>Al</sub> > p<sub>Bl</sub>\",\"x\":0.94,\"xref\":\"x2\",\"y\":650,\"yref\":\"y2\"}]},\"traces\":[0,1,2,3,4,5,6,7,8,9,10,11]},{\"data\":[{\"type\":\"bar\",\"visible\":true},{\"type\":\"bar\",\"visible\":true},{\"type\":\"bar\",\"visible\":true},{\"type\":\"bar\",\"visible\":true},{\"type\":\"bar\",\"x\":[0.6],\"y\":[144.0]},{\"type\":\"bar\",\"x\":[0.6],\"y\":[96.0]},{\"type\":\"bar\",\"x\":[0.4026315789473684],\"y\":[306.0]},{\"type\":\"bar\",\"x\":[0.4026315789473684],\"y\":[454.0]},{\"type\":\"bar\",\"x\":[0.57],\"y\":[513.0]},{\"type\":\"bar\",\"x\":[0.57],\"y\":[387.00000000000006]},{\"type\":\"bar\",\"x\":[0.37],\"y\":[37.0]},{\"type\":\"bar\",\"x\":[0.37],\"y\":[63.0]}],\"layout\":{\"annotations\":[{\"align\":\"center\",\"showarrow\":false,\"text\":\"p<sub>A</sub> < p<sub>B</sub>\",\"x\":0.94,\"xref\":\"x2\",\"y\":850,\"yref\":\"y2\"},{\"align\":\"center\",\"font\":{\"color\":\"red\"},\"showarrow\":false,\"text\":\"p<sub>Ar</sub> > p<sub>Br</sub>\",\"x\":0.94,\"xref\":\"x2\",\"y\":750,\"yref\":\"y2\"},{\"align\":\"center\",\"font\":{\"color\":\"red\"},\"showarrow\":false,\"text\":\"p<sub>Al</sub> > p<sub>Bl</sub>\",\"x\":0.94,\"xref\":\"x2\",\"y\":650,\"yref\":\"y2\"}]},\"traces\":[0,1,2,3,4,5,6,7,8,9,10,11]},{\"data\":[{\"type\":\"bar\",\"visible\":true},{\"type\":\"bar\",\"visible\":true},{\"type\":\"bar\",\"visible\":true},{\"type\":\"bar\",\"visible\":true},{\"type\":\"bar\",\"x\":[0.6],\"y\":[132.0]},{\"type\":\"bar\",\"x\":[0.6],\"y\":[88.0]},{\"type\":\"bar\",\"x\":[0.4076923076923077],\"y\":[318.0]},{\"type\":\"bar\",\"x\":[0.4076923076923077],\"y\":[462.0]},{\"type\":\"bar\",\"x\":[0.57],\"y\":[513.0]},{\"type\":\"bar\",\"x\":[0.57],\"y\":[387.00000000000006]},{\"type\":\"bar\",\"x\":[0.37],\"y\":[37.0]},{\"type\":\"bar\",\"x\":[0.37],\"y\":[63.0]}],\"layout\":{\"annotations\":[{\"align\":\"center\",\"showarrow\":false,\"text\":\"p<sub>A</sub> < p<sub>B</sub>\",\"x\":0.94,\"xref\":\"x2\",\"y\":850,\"yref\":\"y2\"},{\"align\":\"center\",\"font\":{\"color\":\"red\"},\"showarrow\":false,\"text\":\"p<sub>Ar</sub> > p<sub>Br</sub>\",\"x\":0.94,\"xref\":\"x2\",\"y\":750,\"yref\":\"y2\"},{\"align\":\"center\",\"font\":{\"color\":\"red\"},\"showarrow\":false,\"text\":\"p<sub>Al</sub> > p<sub>Bl</sub>\",\"x\":0.94,\"xref\":\"x2\",\"y\":650,\"yref\":\"y2\"}]},\"traces\":[0,1,2,3,4,5,6,7,8,9,10,11]},{\"data\":[{\"type\":\"bar\",\"visible\":true},{\"type\":\"bar\",\"visible\":true},{\"type\":\"bar\",\"visible\":true},{\"type\":\"bar\",\"visible\":true},{\"type\":\"bar\",\"x\":[0.6],\"y\":[120.0]},{\"type\":\"bar\",\"x\":[0.6],\"y\":[80.0]},{\"type\":\"bar\",\"x\":[0.4125],\"y\":[330.0]},{\"type\":\"bar\",\"x\":[0.4125],\"y\":[470.0]},{\"type\":\"bar\",\"x\":[0.57],\"y\":[513.0]},{\"type\":\"bar\",\"x\":[0.57],\"y\":[387.00000000000006]},{\"type\":\"bar\",\"x\":[0.37],\"y\":[37.0]},{\"type\":\"bar\",\"x\":[0.37],\"y\":[63.0]}],\"layout\":{\"annotations\":[{\"align\":\"center\",\"showarrow\":false,\"text\":\"p<sub>A</sub> < p<sub>B</sub>\",\"x\":0.94,\"xref\":\"x2\",\"y\":850,\"yref\":\"y2\"},{\"align\":\"center\",\"font\":{\"color\":\"red\"},\"showarrow\":false,\"text\":\"p<sub>Ar</sub> > p<sub>Br</sub>\",\"x\":0.94,\"xref\":\"x2\",\"y\":750,\"yref\":\"y2\"},{\"align\":\"center\",\"font\":{\"color\":\"red\"},\"showarrow\":false,\"text\":\"p<sub>Al</sub> > p<sub>Bl</sub>\",\"x\":0.94,\"xref\":\"x2\",\"y\":650,\"yref\":\"y2\"}]},\"traces\":[0,1,2,3,4,5,6,7,8,9,10,11]},{\"data\":[{\"type\":\"bar\",\"visible\":true},{\"type\":\"bar\",\"visible\":true},{\"type\":\"bar\",\"visible\":true},{\"type\":\"bar\",\"visible\":true},{\"type\":\"bar\",\"x\":[0.6],\"y\":[120.0]},{\"type\":\"bar\",\"x\":[0.6],\"y\":[80.0]},{\"type\":\"bar\",\"x\":[0.4125],\"y\":[330.0]},{\"type\":\"bar\",\"x\":[0.4125],\"y\":[470.0]},{\"type\":\"bar\",\"x\":[0.57],\"y\":[513.0]},{\"type\":\"bar\",\"x\":[0.57],\"y\":[387.00000000000006]},{\"type\":\"bar\",\"x\":[0.37],\"y\":[37.0]},{\"type\":\"bar\",\"x\":[0.37],\"y\":[63.0]}],\"layout\":{\"annotations\":[{\"align\":\"center\",\"showarrow\":false,\"text\":\"p<sub>A</sub> < p<sub>B</sub>\",\"x\":0.94,\"xref\":\"x2\",\"y\":850,\"yref\":\"y2\"},{\"align\":\"center\",\"font\":{\"color\":\"red\"},\"showarrow\":false,\"text\":\"p<sub>Ar</sub> > p<sub>Br</sub>\",\"x\":0.94,\"xref\":\"x2\",\"y\":750,\"yref\":\"y2\"},{\"align\":\"center\",\"font\":{\"color\":\"red\"},\"showarrow\":false,\"text\":\"p<sub>Al</sub> > p<sub>Bl</sub>\",\"x\":0.94,\"xref\":\"x2\",\"y\":650,\"yref\":\"y2\"}]},\"traces\":[0,1,2,3,4,5,6,7,8,9,10,11]},{\"data\":[{\"type\":\"bar\",\"visible\":true},{\"type\":\"bar\",\"visible\":true},{\"type\":\"bar\",\"visible\":true},{\"type\":\"bar\",\"visible\":true},{\"type\":\"bar\",\"x\":[0.6],\"y\":[120.0]},{\"type\":\"bar\",\"x\":[0.6],\"y\":[80.0]},{\"type\":\"bar\",\"x\":[0.4125],\"y\":[330.0]},{\"type\":\"bar\",\"x\":[0.4125],\"y\":[470.0]},{\"type\":\"bar\",\"x\":[0.57],\"y\":[513.0]},{\"type\":\"bar\",\"x\":[0.57],\"y\":[387.00000000000006]},{\"type\":\"bar\",\"x\":[0.37],\"y\":[37.0]},{\"type\":\"bar\",\"x\":[0.37],\"y\":[63.0]}],\"layout\":{\"annotations\":[{\"align\":\"center\",\"showarrow\":false,\"text\":\"p<sub>A</sub> < p<sub>B</sub>\",\"x\":0.94,\"xref\":\"x2\",\"y\":850,\"yref\":\"y2\"},{\"align\":\"center\",\"font\":{\"color\":\"red\"},\"showarrow\":false,\"text\":\"p<sub>Ar</sub> > p<sub>Br</sub>\",\"x\":0.94,\"xref\":\"x2\",\"y\":750,\"yref\":\"y2\"},{\"align\":\"center\",\"font\":{\"color\":\"red\"},\"showarrow\":false,\"text\":\"p<sub>Al</sub> > p<sub>Bl</sub>\",\"x\":0.94,\"xref\":\"x2\",\"y\":650,\"yref\":\"y2\"}]},\"traces\":[0,1,2,3,4,5,6,7,8,9,10,11]},{\"data\":[{\"type\":\"bar\",\"visible\":true},{\"type\":\"bar\",\"visible\":true},{\"type\":\"bar\",\"visible\":true},{\"type\":\"bar\",\"visible\":true},{\"type\":\"bar\",\"x\":[0.6],\"y\":[120.0]},{\"type\":\"bar\",\"x\":[0.6],\"y\":[80.0]},{\"type\":\"bar\",\"x\":[0.4125],\"y\":[330.0]},{\"type\":\"bar\",\"x\":[0.4125],\"y\":[470.0]},{\"type\":\"bar\",\"x\":[0.57],\"y\":[513.0]},{\"type\":\"bar\",\"x\":[0.57],\"y\":[387.00000000000006]},{\"type\":\"bar\",\"x\":[0.37],\"y\":[37.0]},{\"type\":\"bar\",\"x\":[0.37],\"y\":[63.0]}],\"layout\":{\"annotations\":[{\"align\":\"center\",\"showarrow\":false,\"text\":\"p<sub>A</sub> < p<sub>B</sub>\",\"x\":0.94,\"xref\":\"x2\",\"y\":850,\"yref\":\"y2\"},{\"align\":\"center\",\"font\":{\"color\":\"red\"},\"showarrow\":false,\"text\":\"p<sub>Ar</sub> > p<sub>Br</sub>\",\"x\":0.94,\"xref\":\"x2\",\"y\":750,\"yref\":\"y2\"},{\"align\":\"center\",\"font\":{\"color\":\"red\"},\"showarrow\":false,\"text\":\"p<sub>Al</sub> > p<sub>Bl</sub>\",\"x\":0.94,\"xref\":\"x2\",\"y\":650,\"yref\":\"y2\"}]},\"traces\":[0,1,2,3,4,5,6,7,8,9,10,11]},{\"data\":[{\"type\":\"bar\",\"visible\":true},{\"type\":\"bar\",\"visible\":true},{\"type\":\"bar\",\"visible\":true},{\"type\":\"bar\",\"visible\":true},{\"type\":\"bar\",\"x\":[0.6],\"y\":[120.0]},{\"type\":\"bar\",\"x\":[0.6],\"y\":[80.0]},{\"type\":\"bar\",\"x\":[0.4125],\"y\":[330.0]},{\"type\":\"bar\",\"x\":[0.4125],\"y\":[470.0]},{\"type\":\"bar\",\"x\":[0.57],\"y\":[513.0]},{\"type\":\"bar\",\"x\":[0.57],\"y\":[387.00000000000006]},{\"type\":\"bar\",\"x\":[0.37],\"y\":[37.0]},{\"type\":\"bar\",\"x\":[0.37],\"y\":[63.0]}],\"layout\":{\"annotations\":[{\"align\":\"center\",\"showarrow\":false,\"text\":\"p<sub>A</sub> < p<sub>B</sub>\",\"x\":0.94,\"xref\":\"x2\",\"y\":850,\"yref\":\"y2\"},{\"align\":\"center\",\"font\":{\"color\":\"red\"},\"showarrow\":false,\"text\":\"p<sub>Ar</sub> > p<sub>Br</sub>\",\"x\":0.94,\"xref\":\"x2\",\"y\":750,\"yref\":\"y2\"},{\"align\":\"center\",\"font\":{\"color\":\"red\"},\"showarrow\":false,\"text\":\"p<sub>Al</sub> > p<sub>Bl</sub>\",\"x\":0.94,\"xref\":\"x2\",\"y\":650,\"yref\":\"y2\"}]},\"traces\":[0,1,2,3,4,5,6,7,8,9,10,11]},{\"data\":[{\"type\":\"bar\",\"visible\":true},{\"type\":\"bar\",\"visible\":true},{\"type\":\"bar\",\"visible\":true},{\"type\":\"bar\",\"visible\":true},{\"type\":\"bar\",\"x\":[0.6],\"y\":[120.0]},{\"type\":\"bar\",\"x\":[0.6],\"y\":[80.0]},{\"type\":\"bar\",\"x\":[0.4125],\"y\":[330.0]},{\"type\":\"bar\",\"x\":[0.4125],\"y\":[470.0]},{\"type\":\"bar\",\"x\":[0.57],\"y\":[513.0]},{\"type\":\"bar\",\"x\":[0.57],\"y\":[387.00000000000006]},{\"type\":\"bar\",\"x\":[0.37],\"y\":[37.0]},{\"type\":\"bar\",\"x\":[0.37],\"y\":[63.0]}],\"layout\":{\"annotations\":[{\"align\":\"center\",\"showarrow\":false,\"text\":\"p<sub>A</sub> < p<sub>B</sub>\",\"x\":0.94,\"xref\":\"x2\",\"y\":850,\"yref\":\"y2\"},{\"align\":\"center\",\"font\":{\"color\":\"red\"},\"showarrow\":false,\"text\":\"p<sub>Ar</sub> > p<sub>Br</sub>\",\"x\":0.94,\"xref\":\"x2\",\"y\":750,\"yref\":\"y2\"},{\"align\":\"center\",\"font\":{\"color\":\"red\"},\"showarrow\":false,\"text\":\"p<sub>Al</sub> > p<sub>Bl</sub>\",\"x\":0.94,\"xref\":\"x2\",\"y\":650,\"yref\":\"y2\"}]},\"traces\":[0,1,2,3,4,5,6,7,8,9,10,11]},{\"data\":[{\"type\":\"bar\",\"visible\":true},{\"type\":\"bar\",\"visible\":true},{\"type\":\"bar\",\"visible\":true},{\"type\":\"bar\",\"visible\":true},{\"type\":\"bar\",\"x\":[0.6],\"y\":[120.0]},{\"type\":\"bar\",\"x\":[0.6],\"y\":[80.0]},{\"type\":\"bar\",\"x\":[0.4125],\"y\":[330.0]},{\"type\":\"bar\",\"x\":[0.4125],\"y\":[470.0]},{\"type\":\"bar\",\"x\":[0.57],\"y\":[513.0]},{\"type\":\"bar\",\"x\":[0.57],\"y\":[387.00000000000006]},{\"type\":\"bar\",\"x\":[0.37],\"y\":[37.0]},{\"type\":\"bar\",\"x\":[0.37],\"y\":[63.0]}],\"layout\":{\"annotations\":[{\"align\":\"center\",\"showarrow\":false,\"text\":\"p<sub>A</sub> < p<sub>B</sub>\",\"x\":0.94,\"xref\":\"x2\",\"y\":850,\"yref\":\"y2\"},{\"align\":\"center\",\"font\":{\"color\":\"red\"},\"showarrow\":false,\"text\":\"p<sub>Ar</sub> > p<sub>Br</sub>\",\"x\":0.94,\"xref\":\"x2\",\"y\":750,\"yref\":\"y2\"},{\"align\":\"center\",\"font\":{\"color\":\"red\"},\"showarrow\":false,\"text\":\"p<sub>Al</sub> > p<sub>Bl</sub>\",\"x\":0.94,\"xref\":\"x2\",\"y\":650,\"yref\":\"y2\"}]},\"traces\":[0,1,2,3,4,5,6,7,8,9,10,11]},{\"data\":[{\"type\":\"bar\",\"visible\":true},{\"type\":\"bar\",\"visible\":true},{\"type\":\"bar\",\"visible\":true},{\"type\":\"bar\",\"visible\":true},{\"type\":\"bar\",\"x\":[0.6],\"y\":[120.0]},{\"type\":\"bar\",\"x\":[0.6],\"y\":[80.0]},{\"type\":\"bar\",\"x\":[0.4125],\"y\":[330.0]},{\"type\":\"bar\",\"x\":[0.4125],\"y\":[470.0]},{\"type\":\"bar\",\"x\":[0.57],\"y\":[513.0]},{\"type\":\"bar\",\"x\":[0.57],\"y\":[387.00000000000006]},{\"type\":\"bar\",\"x\":[0.37],\"y\":[37.0]},{\"type\":\"bar\",\"x\":[0.37],\"y\":[63.0]}],\"layout\":{\"annotations\":[{\"align\":\"center\",\"showarrow\":false,\"text\":\"p<sub>A</sub> < p<sub>B</sub>\",\"x\":0.94,\"xref\":\"x2\",\"y\":850,\"yref\":\"y2\"},{\"align\":\"center\",\"font\":{\"color\":\"red\"},\"showarrow\":false,\"text\":\"p<sub>Ar</sub> > p<sub>Br</sub>\",\"x\":0.94,\"xref\":\"x2\",\"y\":750,\"yref\":\"y2\"},{\"align\":\"center\",\"font\":{\"color\":\"red\"},\"showarrow\":false,\"text\":\"p<sub>Al</sub> > p<sub>Bl</sub>\",\"x\":0.94,\"xref\":\"x2\",\"y\":650,\"yref\":\"y2\"}]},\"traces\":[0,1,2,3,4,5,6,7,8,9,10,11]},{\"data\":[{\"type\":\"bar\",\"visible\":true},{\"type\":\"bar\",\"visible\":true},{\"type\":\"bar\",\"visible\":true},{\"type\":\"bar\",\"visible\":true},{\"type\":\"bar\",\"x\":[0.6],\"y\":[120.0]},{\"type\":\"bar\",\"x\":[0.6],\"y\":[80.0]},{\"type\":\"bar\",\"x\":[0.4125],\"y\":[330.0]},{\"type\":\"bar\",\"x\":[0.4125],\"y\":[470.0]},{\"type\":\"bar\",\"x\":[0.57],\"y\":[513.0]},{\"type\":\"bar\",\"x\":[0.57],\"y\":[387.00000000000006]},{\"type\":\"bar\",\"x\":[0.37],\"y\":[37.0]},{\"type\":\"bar\",\"x\":[0.37],\"y\":[63.0]}],\"layout\":{\"annotations\":[{\"align\":\"center\",\"showarrow\":false,\"text\":\"p<sub>A</sub> < p<sub>B</sub>\",\"x\":0.94,\"xref\":\"x2\",\"y\":850,\"yref\":\"y2\"},{\"align\":\"center\",\"font\":{\"color\":\"red\"},\"showarrow\":false,\"text\":\"p<sub>Ar</sub> > p<sub>Br</sub>\",\"x\":0.94,\"xref\":\"x2\",\"y\":750,\"yref\":\"y2\"},{\"align\":\"center\",\"font\":{\"color\":\"red\"},\"showarrow\":false,\"text\":\"p<sub>Al</sub> > p<sub>Bl</sub>\",\"x\":0.94,\"xref\":\"x2\",\"y\":650,\"yref\":\"y2\"}]},\"traces\":[0,1,2,3,4,5,6,7,8,9,10,11]},{\"data\":[{\"type\":\"bar\",\"visible\":true},{\"type\":\"bar\",\"visible\":true},{\"type\":\"bar\",\"visible\":true},{\"type\":\"bar\",\"visible\":true},{\"type\":\"bar\",\"x\":[0.6],\"y\":[120.0]},{\"type\":\"bar\",\"x\":[0.6],\"y\":[80.0]},{\"type\":\"bar\",\"x\":[0.4125],\"y\":[330.0]},{\"type\":\"bar\",\"x\":[0.4125],\"y\":[470.0]},{\"type\":\"bar\",\"x\":[0.57],\"y\":[513.0]},{\"type\":\"bar\",\"x\":[0.57],\"y\":[387.00000000000006]},{\"type\":\"bar\",\"x\":[0.37],\"y\":[37.0]},{\"type\":\"bar\",\"x\":[0.37],\"y\":[63.0]}],\"layout\":{\"annotations\":[{\"align\":\"center\",\"showarrow\":false,\"text\":\"p<sub>A</sub> < p<sub>B</sub>\",\"x\":0.94,\"xref\":\"x2\",\"y\":850,\"yref\":\"y2\"},{\"align\":\"center\",\"font\":{\"color\":\"red\"},\"showarrow\":false,\"text\":\"p<sub>Ar</sub> > p<sub>Br</sub>\",\"x\":0.94,\"xref\":\"x2\",\"y\":750,\"yref\":\"y2\"},{\"align\":\"center\",\"font\":{\"color\":\"red\"},\"showarrow\":false,\"text\":\"p<sub>Al</sub> > p<sub>Bl</sub>\",\"x\":0.94,\"xref\":\"x2\",\"y\":650,\"yref\":\"y2\"}]},\"traces\":[0,1,2,3,4,5,6,7,8,9,10,11]},{\"data\":[{\"type\":\"bar\",\"visible\":true},{\"type\":\"bar\",\"visible\":true},{\"type\":\"bar\",\"visible\":true},{\"type\":\"bar\",\"visible\":true},{\"type\":\"bar\",\"x\":[0.6],\"y\":[120.0]},{\"type\":\"bar\",\"x\":[0.6],\"y\":[80.0]},{\"type\":\"bar\",\"x\":[0.4125],\"y\":[330.0]},{\"type\":\"bar\",\"x\":[0.4125],\"y\":[470.0]},{\"type\":\"bar\",\"x\":[0.57],\"y\":[513.0]},{\"type\":\"bar\",\"x\":[0.57],\"y\":[387.00000000000006]},{\"type\":\"bar\",\"x\":[0.37],\"y\":[37.0]},{\"type\":\"bar\",\"x\":[0.37],\"y\":[63.0]}],\"layout\":{\"annotations\":[{\"align\":\"center\",\"showarrow\":false,\"text\":\"p<sub>A</sub> < p<sub>B</sub>\",\"x\":0.94,\"xref\":\"x2\",\"y\":850,\"yref\":\"y2\"},{\"align\":\"center\",\"font\":{\"color\":\"red\"},\"showarrow\":false,\"text\":\"p<sub>Ar</sub> > p<sub>Br</sub>\",\"x\":0.94,\"xref\":\"x2\",\"y\":750,\"yref\":\"y2\"},{\"align\":\"center\",\"font\":{\"color\":\"red\"},\"showarrow\":false,\"text\":\"p<sub>Al</sub> > p<sub>Bl</sub>\",\"x\":0.94,\"xref\":\"x2\",\"y\":650,\"yref\":\"y2\"}]},\"traces\":[0,1,2,3,4,5,6,7,8,9,10,11]},{\"data\":[{\"type\":\"bar\",\"visible\":true},{\"type\":\"bar\",\"visible\":true},{\"type\":\"bar\",\"visible\":true},{\"type\":\"bar\",\"visible\":true},{\"type\":\"bar\",\"x\":[0.6],\"y\":[120.0]},{\"type\":\"bar\",\"x\":[0.6],\"y\":[80.0]},{\"type\":\"bar\",\"x\":[0.4125],\"y\":[330.0]},{\"type\":\"bar\",\"x\":[0.4125],\"y\":[470.0]},{\"type\":\"bar\",\"x\":[0.57],\"y\":[513.0]},{\"type\":\"bar\",\"x\":[0.57],\"y\":[387.00000000000006]},{\"type\":\"bar\",\"x\":[0.37],\"y\":[37.0]},{\"type\":\"bar\",\"x\":[0.37],\"y\":[63.0]}],\"layout\":{\"annotations\":[{\"align\":\"center\",\"showarrow\":false,\"text\":\"p<sub>A</sub> < p<sub>B</sub>\",\"x\":0.94,\"xref\":\"x2\",\"y\":850,\"yref\":\"y2\"},{\"align\":\"center\",\"font\":{\"color\":\"red\"},\"showarrow\":false,\"text\":\"p<sub>Ar</sub> > p<sub>Br</sub>\",\"x\":0.94,\"xref\":\"x2\",\"y\":750,\"yref\":\"y2\"},{\"align\":\"center\",\"font\":{\"color\":\"red\"},\"showarrow\":false,\"text\":\"p<sub>Al</sub> > p<sub>Bl</sub>\",\"x\":0.94,\"xref\":\"x2\",\"y\":650,\"yref\":\"y2\"}]},\"traces\":[0,1,2,3,4,5,6,7,8,9,10,11]},{\"data\":[{\"type\":\"bar\",\"visible\":true},{\"type\":\"bar\",\"visible\":true},{\"type\":\"bar\",\"visible\":true},{\"type\":\"bar\",\"visible\":true},{\"type\":\"bar\",\"x\":[0.6],\"y\":[120.0]},{\"type\":\"bar\",\"x\":[0.6],\"y\":[80.0]},{\"type\":\"bar\",\"x\":[0.4125],\"y\":[330.0]},{\"type\":\"bar\",\"x\":[0.4125],\"y\":[470.0]},{\"type\":\"bar\",\"x\":[0.57],\"y\":[513.0]},{\"type\":\"bar\",\"x\":[0.57],\"y\":[387.00000000000006]},{\"type\":\"bar\",\"x\":[0.37],\"y\":[37.0]},{\"type\":\"bar\",\"x\":[0.37],\"y\":[63.0]}],\"layout\":{\"annotations\":[{\"align\":\"center\",\"showarrow\":false,\"text\":\"p<sub>A</sub> < p<sub>B</sub>\",\"x\":0.94,\"xref\":\"x2\",\"y\":850,\"yref\":\"y2\"},{\"align\":\"center\",\"font\":{\"color\":\"red\"},\"showarrow\":false,\"text\":\"p<sub>Ar</sub> > p<sub>Br</sub>\",\"x\":0.94,\"xref\":\"x2\",\"y\":750,\"yref\":\"y2\"},{\"align\":\"center\",\"font\":{\"color\":\"red\"},\"showarrow\":false,\"text\":\"p<sub>Al</sub> > p<sub>Bl</sub>\",\"x\":0.94,\"xref\":\"x2\",\"y\":650,\"yref\":\"y2\"}]},\"traces\":[0,1,2,3,4,5,6,7,8,9,10,11]},{\"data\":[{\"type\":\"bar\",\"visible\":true},{\"type\":\"bar\",\"visible\":true},{\"type\":\"bar\",\"visible\":true},{\"type\":\"bar\",\"visible\":true},{\"type\":\"bar\",\"x\":[0.6],\"y\":[120.0]},{\"type\":\"bar\",\"x\":[0.6],\"y\":[80.0]},{\"type\":\"bar\",\"x\":[0.4125],\"y\":[330.0]},{\"type\":\"bar\",\"x\":[0.4125],\"y\":[470.0]},{\"type\":\"bar\",\"x\":[0.57],\"y\":[513.0]},{\"type\":\"bar\",\"x\":[0.57],\"y\":[387.00000000000006]},{\"type\":\"bar\",\"x\":[0.37],\"y\":[37.0]},{\"type\":\"bar\",\"x\":[0.37],\"y\":[63.0]}],\"layout\":{\"annotations\":[{\"align\":\"center\",\"showarrow\":false,\"text\":\"p<sub>A</sub> < p<sub>B</sub>\",\"x\":0.94,\"xref\":\"x2\",\"y\":850,\"yref\":\"y2\"},{\"align\":\"center\",\"font\":{\"color\":\"red\"},\"showarrow\":false,\"text\":\"p<sub>Ar</sub> > p<sub>Br</sub>\",\"x\":0.94,\"xref\":\"x2\",\"y\":750,\"yref\":\"y2\"},{\"align\":\"center\",\"font\":{\"color\":\"red\"},\"showarrow\":false,\"text\":\"p<sub>Al</sub> > p<sub>Bl</sub>\",\"x\":0.94,\"xref\":\"x2\",\"y\":650,\"yref\":\"y2\"}]},\"traces\":[0,1,2,3,4,5,6,7,8,9,10,11]},{\"data\":[{\"type\":\"bar\",\"visible\":true},{\"type\":\"bar\",\"visible\":true},{\"type\":\"bar\",\"visible\":true},{\"type\":\"bar\",\"visible\":true},{\"type\":\"bar\",\"x\":[0.6],\"y\":[120.0]},{\"type\":\"bar\",\"x\":[0.6],\"y\":[80.0]},{\"type\":\"bar\",\"x\":[0.4125],\"y\":[330.0]},{\"type\":\"bar\",\"x\":[0.4125],\"y\":[470.0]},{\"type\":\"bar\",\"x\":[0.57],\"y\":[513.0]},{\"type\":\"bar\",\"x\":[0.57],\"y\":[387.00000000000006]},{\"type\":\"bar\",\"x\":[0.37],\"y\":[37.0]},{\"type\":\"bar\",\"x\":[0.37],\"y\":[63.0]}],\"layout\":{\"annotations\":[{\"align\":\"center\",\"showarrow\":false,\"text\":\"p<sub>A</sub> < p<sub>B</sub>\",\"x\":0.94,\"xref\":\"x2\",\"y\":850,\"yref\":\"y2\"},{\"align\":\"center\",\"font\":{\"color\":\"red\"},\"showarrow\":false,\"text\":\"p<sub>Ar</sub> > p<sub>Br</sub>\",\"x\":0.94,\"xref\":\"x2\",\"y\":750,\"yref\":\"y2\"},{\"align\":\"center\",\"font\":{\"color\":\"red\"},\"showarrow\":false,\"text\":\"p<sub>Al</sub> > p<sub>Bl</sub>\",\"x\":0.94,\"xref\":\"x2\",\"y\":650,\"yref\":\"y2\"}]},\"traces\":[0,1,2,3,4,5,6,7,8,9,10,11]},{\"data\":[{\"type\":\"bar\",\"visible\":true},{\"type\":\"bar\",\"visible\":true},{\"type\":\"bar\",\"visible\":true},{\"type\":\"bar\",\"visible\":true},{\"type\":\"bar\",\"x\":[0.6],\"y\":[120.0]},{\"type\":\"bar\",\"x\":[0.6],\"y\":[80.0]},{\"type\":\"bar\",\"x\":[0.4125],\"y\":[330.0]},{\"type\":\"bar\",\"x\":[0.4125],\"y\":[470.0]},{\"type\":\"bar\",\"x\":[0.57],\"y\":[513.0]},{\"type\":\"bar\",\"x\":[0.57],\"y\":[387.00000000000006]},{\"type\":\"bar\",\"x\":[0.37],\"y\":[37.0]},{\"type\":\"bar\",\"x\":[0.37],\"y\":[63.0]}],\"layout\":{\"annotations\":[{\"align\":\"center\",\"showarrow\":false,\"text\":\"p<sub>A</sub> < p<sub>B</sub>\",\"x\":0.94,\"xref\":\"x2\",\"y\":850,\"yref\":\"y2\"},{\"align\":\"center\",\"font\":{\"color\":\"red\"},\"showarrow\":false,\"text\":\"p<sub>Ar</sub> > p<sub>Br</sub>\",\"x\":0.94,\"xref\":\"x2\",\"y\":750,\"yref\":\"y2\"},{\"align\":\"center\",\"font\":{\"color\":\"red\"},\"showarrow\":false,\"text\":\"p<sub>Al</sub> > p<sub>Bl</sub>\",\"x\":0.94,\"xref\":\"x2\",\"y\":650,\"yref\":\"y2\"}]},\"traces\":[0,1,2,3,4,5,6,7,8,9,10,11]},{\"data\":[{\"type\":\"bar\",\"visible\":true},{\"type\":\"bar\",\"visible\":true},{\"type\":\"bar\",\"visible\":true},{\"type\":\"bar\",\"visible\":true},{\"type\":\"bar\",\"x\":[0.6],\"y\":[120.0]},{\"type\":\"bar\",\"x\":[0.6],\"y\":[80.0]},{\"type\":\"bar\",\"x\":[0.4125],\"y\":[330.0]},{\"type\":\"bar\",\"x\":[0.4125],\"y\":[470.0]},{\"type\":\"bar\",\"x\":[0.57],\"y\":[513.0]},{\"type\":\"bar\",\"x\":[0.57],\"y\":[387.00000000000006]},{\"type\":\"bar\",\"x\":[0.37],\"y\":[37.0]},{\"type\":\"bar\",\"x\":[0.37],\"y\":[63.0]}],\"layout\":{\"annotations\":[{\"align\":\"center\",\"showarrow\":false,\"text\":\"p<sub>A</sub> < p<sub>B</sub>\",\"x\":0.94,\"xref\":\"x2\",\"y\":850,\"yref\":\"y2\"},{\"align\":\"center\",\"font\":{\"color\":\"red\"},\"showarrow\":false,\"text\":\"p<sub>Ar</sub> > p<sub>Br</sub>\",\"x\":0.94,\"xref\":\"x2\",\"y\":750,\"yref\":\"y2\"},{\"align\":\"center\",\"font\":{\"color\":\"red\"},\"showarrow\":false,\"text\":\"p<sub>Al</sub> > p<sub>Bl</sub>\",\"x\":0.94,\"xref\":\"x2\",\"y\":650,\"yref\":\"y2\"}]},\"traces\":[0,1,2,3,4,5,6,7,8,9,10,11]},{\"data\":[{\"type\":\"bar\",\"visible\":true},{\"type\":\"bar\",\"visible\":true},{\"type\":\"bar\",\"visible\":true},{\"type\":\"bar\",\"visible\":true},{\"type\":\"bar\",\"x\":[0.6],\"y\":[120.0]},{\"type\":\"bar\",\"x\":[0.6],\"y\":[80.0]},{\"type\":\"bar\",\"x\":[0.4125],\"y\":[330.0]},{\"type\":\"bar\",\"x\":[0.4125],\"y\":[470.0]},{\"type\":\"bar\",\"x\":[0.57],\"y\":[513.0]},{\"type\":\"bar\",\"x\":[0.57],\"y\":[387.00000000000006]},{\"type\":\"bar\",\"x\":[0.37],\"y\":[37.0]},{\"type\":\"bar\",\"x\":[0.37],\"y\":[63.0]}],\"layout\":{\"annotations\":[{\"align\":\"center\",\"showarrow\":false,\"text\":\"p<sub>A</sub> < p<sub>B</sub>\",\"x\":0.94,\"xref\":\"x2\",\"y\":850,\"yref\":\"y2\"},{\"align\":\"center\",\"font\":{\"color\":\"red\"},\"showarrow\":false,\"text\":\"p<sub>Ar</sub> > p<sub>Br</sub>\",\"x\":0.94,\"xref\":\"x2\",\"y\":750,\"yref\":\"y2\"},{\"align\":\"center\",\"font\":{\"color\":\"red\"},\"showarrow\":false,\"text\":\"p<sub>Al</sub> > p<sub>Bl</sub>\",\"x\":0.94,\"xref\":\"x2\",\"y\":650,\"yref\":\"y2\"}]},\"traces\":[0,1,2,3,4,5,6,7,8,9,10,11]},{\"data\":[{\"type\":\"bar\",\"visible\":true},{\"type\":\"bar\",\"visible\":true},{\"type\":\"bar\",\"visible\":true},{\"type\":\"bar\",\"visible\":true},{\"type\":\"bar\",\"x\":[0.6],\"y\":[120.0]},{\"type\":\"bar\",\"x\":[0.6],\"y\":[80.0]},{\"type\":\"bar\",\"x\":[0.4125],\"y\":[330.0]},{\"type\":\"bar\",\"x\":[0.4125],\"y\":[470.0]},{\"type\":\"bar\",\"x\":[0.57],\"y\":[513.0]},{\"type\":\"bar\",\"x\":[0.57],\"y\":[387.00000000000006]},{\"type\":\"bar\",\"x\":[0.37],\"y\":[37.0]},{\"type\":\"bar\",\"x\":[0.37],\"y\":[63.0]}],\"layout\":{\"annotations\":[{\"align\":\"center\",\"showarrow\":false,\"text\":\"p<sub>A</sub> < p<sub>B</sub>\",\"x\":0.94,\"xref\":\"x2\",\"y\":850,\"yref\":\"y2\"},{\"align\":\"center\",\"font\":{\"color\":\"red\"},\"showarrow\":false,\"text\":\"p<sub>Ar</sub> > p<sub>Br</sub>\",\"x\":0.94,\"xref\":\"x2\",\"y\":750,\"yref\":\"y2\"},{\"align\":\"center\",\"font\":{\"color\":\"red\"},\"showarrow\":false,\"text\":\"p<sub>Al</sub> > p<sub>Bl</sub>\",\"x\":0.94,\"xref\":\"x2\",\"y\":650,\"yref\":\"y2\"}]},\"traces\":[0,1,2,3,4,5,6,7,8,9,10,11]},{\"data\":[{\"type\":\"bar\",\"visible\":true},{\"type\":\"bar\",\"visible\":true},{\"type\":\"bar\",\"visible\":true},{\"type\":\"bar\",\"visible\":true},{\"type\":\"bar\",\"x\":[0.6],\"y\":[120.0]},{\"type\":\"bar\",\"x\":[0.6],\"y\":[80.0]},{\"type\":\"bar\",\"x\":[0.4125],\"y\":[330.0]},{\"type\":\"bar\",\"x\":[0.4125],\"y\":[470.0]},{\"type\":\"bar\",\"x\":[0.57],\"y\":[513.0]},{\"type\":\"bar\",\"x\":[0.57],\"y\":[387.00000000000006]},{\"type\":\"bar\",\"x\":[0.37],\"y\":[37.0]},{\"type\":\"bar\",\"x\":[0.37],\"y\":[63.0]}],\"layout\":{\"annotations\":[{\"align\":\"center\",\"showarrow\":false,\"text\":\"p<sub>A</sub> < p<sub>B</sub>\",\"x\":0.94,\"xref\":\"x2\",\"y\":850,\"yref\":\"y2\"},{\"align\":\"center\",\"font\":{\"color\":\"red\"},\"showarrow\":false,\"text\":\"p<sub>Ar</sub> > p<sub>Br</sub>\",\"x\":0.94,\"xref\":\"x2\",\"y\":750,\"yref\":\"y2\"},{\"align\":\"center\",\"font\":{\"color\":\"red\"},\"showarrow\":false,\"text\":\"p<sub>Al</sub> > p<sub>Bl</sub>\",\"x\":0.94,\"xref\":\"x2\",\"y\":650,\"yref\":\"y2\"}]},\"traces\":[0,1,2,3,4,5,6,7,8,9,10,11]},{\"data\":[{\"type\":\"bar\",\"visible\":true},{\"type\":\"bar\",\"visible\":true},{\"type\":\"bar\",\"visible\":true},{\"type\":\"bar\",\"visible\":true},{\"type\":\"bar\",\"x\":[0.6],\"y\":[120.0]},{\"type\":\"bar\",\"x\":[0.6],\"y\":[80.0]},{\"type\":\"bar\",\"x\":[0.4125],\"y\":[330.0]},{\"type\":\"bar\",\"x\":[0.4125],\"y\":[470.0]},{\"type\":\"bar\",\"x\":[0.57],\"y\":[513.0]},{\"type\":\"bar\",\"x\":[0.57],\"y\":[387.00000000000006]},{\"type\":\"bar\",\"x\":[0.37],\"y\":[37.0]},{\"type\":\"bar\",\"x\":[0.37],\"y\":[63.0]}],\"layout\":{\"annotations\":[{\"align\":\"center\",\"showarrow\":false,\"text\":\"p<sub>A</sub> < p<sub>B</sub>\",\"x\":0.94,\"xref\":\"x2\",\"y\":850,\"yref\":\"y2\"},{\"align\":\"center\",\"font\":{\"color\":\"red\"},\"showarrow\":false,\"text\":\"p<sub>Ar</sub> > p<sub>Br</sub>\",\"x\":0.94,\"xref\":\"x2\",\"y\":750,\"yref\":\"y2\"},{\"align\":\"center\",\"font\":{\"color\":\"red\"},\"showarrow\":false,\"text\":\"p<sub>Al</sub> > p<sub>Bl</sub>\",\"x\":0.94,\"xref\":\"x2\",\"y\":650,\"yref\":\"y2\"}]},\"traces\":[0,1,2,3,4,5,6,7,8,9,10,11]},{\"data\":[{\"type\":\"bar\",\"visible\":true},{\"type\":\"bar\",\"visible\":true},{\"type\":\"bar\",\"visible\":true},{\"type\":\"bar\",\"visible\":true},{\"type\":\"bar\",\"x\":[0.6],\"y\":[120.0]},{\"type\":\"bar\",\"x\":[0.6],\"y\":[80.0]},{\"type\":\"bar\",\"x\":[0.4125],\"y\":[330.0]},{\"type\":\"bar\",\"x\":[0.4125],\"y\":[470.0]},{\"type\":\"bar\",\"x\":[0.57],\"y\":[513.0]},{\"type\":\"bar\",\"x\":[0.57],\"y\":[387.00000000000006]},{\"type\":\"bar\",\"x\":[0.37],\"y\":[37.0]},{\"type\":\"bar\",\"x\":[0.37],\"y\":[63.0]}],\"layout\":{\"annotations\":[{\"align\":\"center\",\"showarrow\":false,\"text\":\"p<sub>A</sub> < p<sub>B</sub>\",\"x\":0.94,\"xref\":\"x2\",\"y\":850,\"yref\":\"y2\"},{\"align\":\"center\",\"font\":{\"color\":\"red\"},\"showarrow\":false,\"text\":\"p<sub>Ar</sub> > p<sub>Br</sub>\",\"x\":0.94,\"xref\":\"x2\",\"y\":750,\"yref\":\"y2\"},{\"align\":\"center\",\"font\":{\"color\":\"red\"},\"showarrow\":false,\"text\":\"p<sub>Al</sub> > p<sub>Bl</sub>\",\"x\":0.94,\"xref\":\"x2\",\"y\":650,\"yref\":\"y2\"}]},\"traces\":[0,1,2,3,4,5,6,7,8,9,10,11]},{\"data\":[{\"type\":\"bar\",\"visible\":true},{\"type\":\"bar\",\"visible\":true},{\"type\":\"bar\",\"visible\":true},{\"type\":\"bar\",\"visible\":true},{\"type\":\"bar\",\"x\":[0.6],\"y\":[120.0]},{\"type\":\"bar\",\"x\":[0.6],\"y\":[80.0]},{\"type\":\"bar\",\"x\":[0.4125],\"y\":[330.0]},{\"type\":\"bar\",\"x\":[0.4125],\"y\":[470.0]},{\"type\":\"bar\",\"x\":[0.57],\"y\":[513.0]},{\"type\":\"bar\",\"x\":[0.57],\"y\":[387.00000000000006]},{\"type\":\"bar\",\"x\":[0.37],\"y\":[37.0]},{\"type\":\"bar\",\"x\":[0.37],\"y\":[63.0]}],\"layout\":{\"annotations\":[{\"align\":\"center\",\"showarrow\":false,\"text\":\"p<sub>A</sub> < p<sub>B</sub>\",\"x\":0.94,\"xref\":\"x2\",\"y\":850,\"yref\":\"y2\"},{\"align\":\"center\",\"font\":{\"color\":\"red\"},\"showarrow\":false,\"text\":\"p<sub>Ar</sub> > p<sub>Br</sub>\",\"x\":0.94,\"xref\":\"x2\",\"y\":750,\"yref\":\"y2\"},{\"align\":\"center\",\"font\":{\"color\":\"red\"},\"showarrow\":false,\"text\":\"p<sub>Al</sub> > p<sub>Bl</sub>\",\"x\":0.94,\"xref\":\"x2\",\"y\":650,\"yref\":\"y2\"}]},\"traces\":[0,1,2,3,4,5,6,7,8,9,10,11]},{\"data\":[{\"type\":\"bar\",\"visible\":true},{\"type\":\"bar\",\"visible\":true},{\"type\":\"bar\",\"visible\":true},{\"type\":\"bar\",\"visible\":true},{\"type\":\"bar\",\"x\":[0.6],\"y\":[120.0]},{\"type\":\"bar\",\"x\":[0.6],\"y\":[80.0]},{\"type\":\"bar\",\"x\":[0.4125],\"y\":[330.0]},{\"type\":\"bar\",\"x\":[0.4125],\"y\":[470.0]},{\"type\":\"bar\",\"x\":[0.57],\"y\":[513.0]},{\"type\":\"bar\",\"x\":[0.57],\"y\":[387.00000000000006]},{\"type\":\"bar\",\"x\":[0.37],\"y\":[37.0]},{\"type\":\"bar\",\"x\":[0.37],\"y\":[63.0]}],\"layout\":{\"annotations\":[{\"align\":\"center\",\"showarrow\":false,\"text\":\"p<sub>A</sub> < p<sub>B</sub>\",\"x\":0.94,\"xref\":\"x2\",\"y\":850,\"yref\":\"y2\"},{\"align\":\"center\",\"font\":{\"color\":\"red\"},\"showarrow\":false,\"text\":\"p<sub>Ar</sub> > p<sub>Br</sub>\",\"x\":0.94,\"xref\":\"x2\",\"y\":750,\"yref\":\"y2\"},{\"align\":\"center\",\"font\":{\"color\":\"red\"},\"showarrow\":false,\"text\":\"p<sub>Al</sub> > p<sub>Bl</sub>\",\"x\":0.94,\"xref\":\"x2\",\"y\":650,\"yref\":\"y2\"}]},\"traces\":[0,1,2,3,4,5,6,7,8,9,10,11]},{\"data\":[{\"type\":\"bar\",\"visible\":true},{\"type\":\"bar\",\"visible\":true},{\"type\":\"bar\",\"visible\":true},{\"type\":\"bar\",\"visible\":true},{\"type\":\"bar\",\"x\":[0.6],\"y\":[120.0]},{\"type\":\"bar\",\"x\":[0.6],\"y\":[80.0]},{\"type\":\"bar\",\"x\":[0.4125],\"y\":[330.0]},{\"type\":\"bar\",\"x\":[0.4125],\"y\":[470.0]},{\"type\":\"bar\",\"x\":[0.57],\"y\":[513.0]},{\"type\":\"bar\",\"x\":[0.57],\"y\":[387.00000000000006]},{\"type\":\"bar\",\"x\":[0.37],\"y\":[37.0]},{\"type\":\"bar\",\"x\":[0.37],\"y\":[63.0]}],\"layout\":{\"annotations\":[{\"align\":\"center\",\"showarrow\":false,\"text\":\"p<sub>A</sub> < p<sub>B</sub>\",\"x\":0.94,\"xref\":\"x2\",\"y\":850,\"yref\":\"y2\"},{\"align\":\"center\",\"font\":{\"color\":\"red\"},\"showarrow\":false,\"text\":\"p<sub>Ar</sub> > p<sub>Br</sub>\",\"x\":0.94,\"xref\":\"x2\",\"y\":750,\"yref\":\"y2\"},{\"align\":\"center\",\"font\":{\"color\":\"red\"},\"showarrow\":false,\"text\":\"p<sub>Al</sub> > p<sub>Bl</sub>\",\"x\":0.94,\"xref\":\"x2\",\"y\":650,\"yref\":\"y2\"}]},\"traces\":[0,1,2,3,4,5,6,7,8,9,10,11]},{\"data\":[{\"type\":\"bar\",\"visible\":true},{\"type\":\"bar\",\"visible\":true},{\"type\":\"bar\",\"visible\":true},{\"type\":\"bar\",\"visible\":true},{\"type\":\"bar\",\"x\":[0.6],\"y\":[120.0]},{\"type\":\"bar\",\"x\":[0.6],\"y\":[80.0]},{\"type\":\"bar\",\"x\":[0.4125],\"y\":[330.0]},{\"type\":\"bar\",\"x\":[0.4125],\"y\":[470.0]},{\"type\":\"bar\",\"x\":[0.57],\"y\":[513.0]},{\"type\":\"bar\",\"x\":[0.57],\"y\":[387.00000000000006]},{\"type\":\"bar\",\"x\":[0.37],\"y\":[37.0]},{\"type\":\"bar\",\"x\":[0.37],\"y\":[63.0]}],\"layout\":{\"annotations\":[{\"align\":\"center\",\"showarrow\":false,\"text\":\"p<sub>A</sub> < p<sub>B</sub>\",\"x\":0.94,\"xref\":\"x2\",\"y\":850,\"yref\":\"y2\"},{\"align\":\"center\",\"font\":{\"color\":\"red\"},\"showarrow\":false,\"text\":\"p<sub>Ar</sub> > p<sub>Br</sub>\",\"x\":0.94,\"xref\":\"x2\",\"y\":750,\"yref\":\"y2\"},{\"align\":\"center\",\"font\":{\"color\":\"red\"},\"showarrow\":false,\"text\":\"p<sub>Al</sub> > p<sub>Bl</sub>\",\"x\":0.94,\"xref\":\"x2\",\"y\":650,\"yref\":\"y2\"}]},\"traces\":[0,1,2,3,4,5,6,7,8,9,10,11]},{\"data\":[{\"type\":\"bar\",\"visible\":true},{\"type\":\"bar\",\"visible\":true},{\"type\":\"bar\",\"visible\":true},{\"type\":\"bar\",\"visible\":true},{\"type\":\"bar\",\"x\":[0.6],\"y\":[120.0]},{\"type\":\"bar\",\"x\":[0.6],\"y\":[80.0]},{\"type\":\"bar\",\"x\":[0.4125],\"y\":[330.0]},{\"type\":\"bar\",\"x\":[0.4125],\"y\":[470.0]},{\"type\":\"bar\",\"x\":[0.57],\"y\":[513.0]},{\"type\":\"bar\",\"x\":[0.57],\"y\":[387.00000000000006]},{\"type\":\"bar\",\"x\":[0.37],\"y\":[37.0]},{\"type\":\"bar\",\"x\":[0.37],\"y\":[63.0]}],\"layout\":{\"annotations\":[{\"align\":\"center\",\"showarrow\":false,\"text\":\"p<sub>A</sub> < p<sub>B</sub>\",\"x\":0.94,\"xref\":\"x2\",\"y\":850,\"yref\":\"y2\"},{\"align\":\"center\",\"font\":{\"color\":\"red\"},\"showarrow\":false,\"text\":\"p<sub>Ar</sub> > p<sub>Br</sub>\",\"x\":0.94,\"xref\":\"x2\",\"y\":750,\"yref\":\"y2\"},{\"align\":\"center\",\"font\":{\"color\":\"red\"},\"showarrow\":false,\"text\":\"p<sub>Al</sub> > p<sub>Bl</sub>\",\"x\":0.94,\"xref\":\"x2\",\"y\":650,\"yref\":\"y2\"}]},\"traces\":[0,1,2,3,4,5,6,7,8,9,10,11]},{\"data\":[{\"type\":\"bar\",\"visible\":true},{\"type\":\"bar\",\"visible\":true},{\"type\":\"bar\",\"visible\":true},{\"type\":\"bar\",\"visible\":true},{\"type\":\"bar\",\"x\":[0.6],\"y\":[120.0]},{\"type\":\"bar\",\"x\":[0.6],\"y\":[80.0]},{\"type\":\"bar\",\"x\":[0.4125],\"y\":[330.0]},{\"type\":\"bar\",\"x\":[0.4125],\"y\":[470.0]},{\"type\":\"bar\",\"x\":[0.57],\"y\":[513.0]},{\"type\":\"bar\",\"x\":[0.57],\"y\":[387.00000000000006]},{\"type\":\"bar\",\"x\":[0.37],\"y\":[37.0]},{\"type\":\"bar\",\"x\":[0.37],\"y\":[63.0]}],\"layout\":{\"annotations\":[{\"align\":\"center\",\"showarrow\":false,\"text\":\"p<sub>A</sub> < p<sub>B</sub>\",\"x\":0.94,\"xref\":\"x2\",\"y\":850,\"yref\":\"y2\"},{\"align\":\"center\",\"font\":{\"color\":\"red\"},\"showarrow\":false,\"text\":\"p<sub>Ar</sub> > p<sub>Br</sub>\",\"x\":0.94,\"xref\":\"x2\",\"y\":750,\"yref\":\"y2\"},{\"align\":\"center\",\"font\":{\"color\":\"red\"},\"showarrow\":false,\"text\":\"p<sub>Al</sub> > p<sub>Bl</sub>\",\"x\":0.94,\"xref\":\"x2\",\"y\":650,\"yref\":\"y2\"}]},\"traces\":[0,1,2,3,4,5,6,7,8,9,10,11]},{\"data\":[{\"type\":\"bar\",\"visible\":true},{\"type\":\"bar\",\"visible\":true},{\"type\":\"bar\",\"visible\":true},{\"type\":\"bar\",\"visible\":true},{\"type\":\"bar\",\"x\":[0.6],\"y\":[120.0]},{\"type\":\"bar\",\"x\":[0.6],\"y\":[80.0]},{\"type\":\"bar\",\"x\":[0.4125],\"y\":[330.0]},{\"type\":\"bar\",\"x\":[0.4125],\"y\":[470.0]},{\"type\":\"bar\",\"x\":[0.57],\"y\":[513.0]},{\"type\":\"bar\",\"x\":[0.57],\"y\":[387.00000000000006]},{\"type\":\"bar\",\"x\":[0.37],\"y\":[37.0]},{\"type\":\"bar\",\"x\":[0.37],\"y\":[63.0]}],\"layout\":{\"annotations\":[{\"align\":\"center\",\"showarrow\":false,\"text\":\"p<sub>A</sub> < p<sub>B</sub>\",\"x\":0.94,\"xref\":\"x2\",\"y\":850,\"yref\":\"y2\"},{\"align\":\"center\",\"font\":{\"color\":\"red\"},\"showarrow\":false,\"text\":\"p<sub>Ar</sub> > p<sub>Br</sub>\",\"x\":0.94,\"xref\":\"x2\",\"y\":750,\"yref\":\"y2\"},{\"align\":\"center\",\"font\":{\"color\":\"red\"},\"showarrow\":false,\"text\":\"p<sub>Al</sub> > p<sub>Bl</sub>\",\"x\":0.94,\"xref\":\"x2\",\"y\":650,\"yref\":\"y2\"}]},\"traces\":[0,1,2,3,4,5,6,7,8,9,10,11]},{\"data\":[{\"type\":\"bar\",\"visible\":true},{\"type\":\"bar\",\"visible\":true},{\"type\":\"bar\",\"visible\":true},{\"type\":\"bar\",\"visible\":true},{\"type\":\"bar\",\"x\":[0.6],\"y\":[120.0]},{\"type\":\"bar\",\"x\":[0.6],\"y\":[80.0]},{\"type\":\"bar\",\"x\":[0.4125],\"y\":[330.0]},{\"type\":\"bar\",\"x\":[0.4125],\"y\":[470.0]},{\"type\":\"bar\",\"x\":[0.57],\"y\":[513.0]},{\"type\":\"bar\",\"x\":[0.57],\"y\":[387.00000000000006]},{\"type\":\"bar\",\"x\":[0.37],\"y\":[37.0]},{\"type\":\"bar\",\"x\":[0.37],\"y\":[63.0]}],\"layout\":{\"annotations\":[{\"align\":\"center\",\"showarrow\":false,\"text\":\"p<sub>A</sub> < p<sub>B</sub>\",\"x\":0.94,\"xref\":\"x2\",\"y\":850,\"yref\":\"y2\"},{\"align\":\"center\",\"font\":{\"color\":\"red\"},\"showarrow\":false,\"text\":\"p<sub>Ar</sub> > p<sub>Br</sub>\",\"x\":0.94,\"xref\":\"x2\",\"y\":750,\"yref\":\"y2\"},{\"align\":\"center\",\"font\":{\"color\":\"red\"},\"showarrow\":false,\"text\":\"p<sub>Al</sub> > p<sub>Bl</sub>\",\"x\":0.94,\"xref\":\"x2\",\"y\":650,\"yref\":\"y2\"}]},\"traces\":[0,1,2,3,4,5,6,7,8,9,10,11]},{\"data\":[{\"type\":\"bar\",\"visible\":true},{\"type\":\"bar\",\"visible\":true},{\"type\":\"bar\",\"visible\":true},{\"type\":\"bar\",\"visible\":true},{\"type\":\"bar\",\"x\":[0.6],\"y\":[120.0]},{\"type\":\"bar\",\"x\":[0.6],\"y\":[80.0]},{\"type\":\"bar\",\"x\":[0.4125],\"y\":[330.0]},{\"type\":\"bar\",\"x\":[0.4125],\"y\":[470.0]},{\"type\":\"bar\",\"x\":[0.57],\"y\":[513.0]},{\"type\":\"bar\",\"x\":[0.57],\"y\":[387.00000000000006]},{\"type\":\"bar\",\"x\":[0.37],\"y\":[37.0]},{\"type\":\"bar\",\"x\":[0.37],\"y\":[63.0]}],\"layout\":{\"annotations\":[{\"align\":\"center\",\"showarrow\":false,\"text\":\"p<sub>A</sub> < p<sub>B</sub>\",\"x\":0.94,\"xref\":\"x2\",\"y\":850,\"yref\":\"y2\"},{\"align\":\"center\",\"font\":{\"color\":\"red\"},\"showarrow\":false,\"text\":\"p<sub>Ar</sub> > p<sub>Br</sub>\",\"x\":0.94,\"xref\":\"x2\",\"y\":750,\"yref\":\"y2\"},{\"align\":\"center\",\"font\":{\"color\":\"red\"},\"showarrow\":false,\"text\":\"p<sub>Al</sub> > p<sub>Bl</sub>\",\"x\":0.94,\"xref\":\"x2\",\"y\":650,\"yref\":\"y2\"}]},\"traces\":[0,1,2,3,4,5,6,7,8,9,10,11]},{\"data\":[{\"type\":\"bar\",\"visible\":true},{\"type\":\"bar\",\"visible\":true},{\"type\":\"bar\",\"visible\":true},{\"type\":\"bar\",\"visible\":true},{\"type\":\"bar\",\"x\":[0.6],\"y\":[120.0]},{\"type\":\"bar\",\"x\":[0.6],\"y\":[80.0]},{\"type\":\"bar\",\"x\":[0.4125],\"y\":[330.0]},{\"type\":\"bar\",\"x\":[0.4125],\"y\":[470.0]},{\"type\":\"bar\",\"x\":[0.57],\"y\":[513.0]},{\"type\":\"bar\",\"x\":[0.57],\"y\":[387.00000000000006]},{\"type\":\"bar\",\"x\":[0.37],\"y\":[37.0]},{\"type\":\"bar\",\"x\":[0.37],\"y\":[63.0]}],\"layout\":{\"annotations\":[{\"align\":\"center\",\"showarrow\":false,\"text\":\"p<sub>A</sub> < p<sub>B</sub>\",\"x\":0.94,\"xref\":\"x2\",\"y\":850,\"yref\":\"y2\"},{\"align\":\"center\",\"font\":{\"color\":\"red\"},\"showarrow\":false,\"text\":\"p<sub>Ar</sub> > p<sub>Br</sub>\",\"x\":0.94,\"xref\":\"x2\",\"y\":750,\"yref\":\"y2\"},{\"align\":\"center\",\"font\":{\"color\":\"red\"},\"showarrow\":false,\"text\":\"p<sub>Al</sub> > p<sub>Bl</sub>\",\"x\":0.94,\"xref\":\"x2\",\"y\":650,\"yref\":\"y2\"}]},\"traces\":[0,1,2,3,4,5,6,7,8,9,10,11]},{\"data\":[{\"type\":\"bar\",\"visible\":true},{\"type\":\"bar\",\"visible\":true},{\"type\":\"bar\",\"visible\":true},{\"type\":\"bar\",\"visible\":true},{\"type\":\"bar\",\"x\":[0.5899],\"y\":[117.97999999999999]},{\"type\":\"bar\",\"x\":[0.5899],\"y\":[82.02000000000001]},{\"type\":\"bar\",\"x\":[0.415025],\"y\":[332.02]},{\"type\":\"bar\",\"x\":[0.415025],\"y\":[467.98]},{\"type\":\"bar\",\"x\":[0.57],\"y\":[513.0]},{\"type\":\"bar\",\"x\":[0.57],\"y\":[387.00000000000006]},{\"type\":\"bar\",\"x\":[0.37],\"y\":[37.0]},{\"type\":\"bar\",\"x\":[0.37],\"y\":[63.0]}],\"layout\":{\"annotations\":[{\"align\":\"center\",\"showarrow\":false,\"text\":\"p<sub>A</sub> < p<sub>B</sub>\",\"x\":0.94,\"xref\":\"x2\",\"y\":850,\"yref\":\"y2\"},{\"align\":\"center\",\"font\":{\"color\":\"red\"},\"showarrow\":false,\"text\":\"p<sub>Ar</sub> > p<sub>Br</sub>\",\"x\":0.94,\"xref\":\"x2\",\"y\":750,\"yref\":\"y2\"},{\"align\":\"center\",\"font\":{\"color\":\"red\"},\"showarrow\":false,\"text\":\"p<sub>Al</sub> > p<sub>Bl</sub>\",\"x\":0.94,\"xref\":\"x2\",\"y\":650,\"yref\":\"y2\"}]},\"traces\":[0,1,2,3,4,5,6,7,8,9,10,11]},{\"data\":[{\"type\":\"bar\",\"visible\":true},{\"type\":\"bar\",\"visible\":true},{\"type\":\"bar\",\"visible\":true},{\"type\":\"bar\",\"visible\":true},{\"type\":\"bar\",\"x\":[0.5798],\"y\":[115.96]},{\"type\":\"bar\",\"x\":[0.5798],\"y\":[84.04]},{\"type\":\"bar\",\"x\":[0.41755000000000003],\"y\":[334.04]},{\"type\":\"bar\",\"x\":[0.41755000000000003],\"y\":[465.9599999999999]},{\"type\":\"bar\",\"x\":[0.57],\"y\":[513.0]},{\"type\":\"bar\",\"x\":[0.57],\"y\":[387.00000000000006]},{\"type\":\"bar\",\"x\":[0.37],\"y\":[37.0]},{\"type\":\"bar\",\"x\":[0.37],\"y\":[63.0]}],\"layout\":{\"annotations\":[{\"align\":\"center\",\"showarrow\":false,\"text\":\"p<sub>A</sub> < p<sub>B</sub>\",\"x\":0.94,\"xref\":\"x2\",\"y\":850,\"yref\":\"y2\"},{\"align\":\"center\",\"font\":{\"color\":\"red\"},\"showarrow\":false,\"text\":\"p<sub>Ar</sub> > p<sub>Br</sub>\",\"x\":0.94,\"xref\":\"x2\",\"y\":750,\"yref\":\"y2\"},{\"align\":\"center\",\"font\":{\"color\":\"red\"},\"showarrow\":false,\"text\":\"p<sub>Al</sub> > p<sub>Bl</sub>\",\"x\":0.94,\"xref\":\"x2\",\"y\":650,\"yref\":\"y2\"}]},\"traces\":[0,1,2,3,4,5,6,7,8,9,10,11]},{\"data\":[{\"type\":\"bar\",\"visible\":true},{\"type\":\"bar\",\"visible\":true},{\"type\":\"bar\",\"visible\":true},{\"type\":\"bar\",\"visible\":true},{\"type\":\"bar\",\"x\":[0.5697],\"y\":[113.94]},{\"type\":\"bar\",\"x\":[0.5697],\"y\":[86.06]},{\"type\":\"bar\",\"x\":[0.420075],\"y\":[336.06]},{\"type\":\"bar\",\"x\":[0.420075],\"y\":[463.94]},{\"type\":\"bar\",\"x\":[0.57],\"y\":[513.0]},{\"type\":\"bar\",\"x\":[0.57],\"y\":[387.00000000000006]},{\"type\":\"bar\",\"x\":[0.37],\"y\":[37.0]},{\"type\":\"bar\",\"x\":[0.37],\"y\":[63.0]}],\"layout\":{\"annotations\":[{\"align\":\"center\",\"showarrow\":false,\"text\":\"p<sub>A</sub> < p<sub>B</sub>\",\"x\":0.94,\"xref\":\"x2\",\"y\":850,\"yref\":\"y2\"},{\"align\":\"center\",\"font\":{\"color\":\"darkslategrey\"},\"showarrow\":false,\"text\":\"p<sub>Ar</sub> < p<sub>Br</sub>\",\"x\":0.94,\"xref\":\"x2\",\"y\":750,\"yref\":\"y2\"},{\"align\":\"center\",\"font\":{\"color\":\"red\"},\"showarrow\":false,\"text\":\"p<sub>Al</sub> > p<sub>Bl</sub>\",\"x\":0.94,\"xref\":\"x2\",\"y\":650,\"yref\":\"y2\"}]},\"traces\":[0,1,2,3,4,5,6,7,8,9,10,11]},{\"data\":[{\"type\":\"bar\",\"visible\":true},{\"type\":\"bar\",\"visible\":true},{\"type\":\"bar\",\"visible\":true},{\"type\":\"bar\",\"visible\":true},{\"type\":\"bar\",\"x\":[0.5596],\"y\":[111.92]},{\"type\":\"bar\",\"x\":[0.5596],\"y\":[88.08]},{\"type\":\"bar\",\"x\":[0.4226],\"y\":[338.08]},{\"type\":\"bar\",\"x\":[0.4226],\"y\":[461.92]},{\"type\":\"bar\",\"x\":[0.57],\"y\":[513.0]},{\"type\":\"bar\",\"x\":[0.57],\"y\":[387.00000000000006]},{\"type\":\"bar\",\"x\":[0.37],\"y\":[37.0]},{\"type\":\"bar\",\"x\":[0.37],\"y\":[63.0]}],\"layout\":{\"annotations\":[{\"align\":\"center\",\"showarrow\":false,\"text\":\"p<sub>A</sub> < p<sub>B</sub>\",\"x\":0.94,\"xref\":\"x2\",\"y\":850,\"yref\":\"y2\"},{\"align\":\"center\",\"font\":{\"color\":\"darkslategrey\"},\"showarrow\":false,\"text\":\"p<sub>Ar</sub> < p<sub>Br</sub>\",\"x\":0.94,\"xref\":\"x2\",\"y\":750,\"yref\":\"y2\"},{\"align\":\"center\",\"font\":{\"color\":\"red\"},\"showarrow\":false,\"text\":\"p<sub>Al</sub> > p<sub>Bl</sub>\",\"x\":0.94,\"xref\":\"x2\",\"y\":650,\"yref\":\"y2\"}]},\"traces\":[0,1,2,3,4,5,6,7,8,9,10,11]},{\"data\":[{\"type\":\"bar\",\"visible\":true},{\"type\":\"bar\",\"visible\":true},{\"type\":\"bar\",\"visible\":true},{\"type\":\"bar\",\"visible\":true},{\"type\":\"bar\",\"x\":[0.5495],\"y\":[109.89999999999999]},{\"type\":\"bar\",\"x\":[0.5495],\"y\":[90.10000000000001]},{\"type\":\"bar\",\"x\":[0.42512500000000003],\"y\":[340.1]},{\"type\":\"bar\",\"x\":[0.42512500000000003],\"y\":[459.90000000000003]},{\"type\":\"bar\",\"x\":[0.57],\"y\":[513.0]},{\"type\":\"bar\",\"x\":[0.57],\"y\":[387.00000000000006]},{\"type\":\"bar\",\"x\":[0.37],\"y\":[37.0]},{\"type\":\"bar\",\"x\":[0.37],\"y\":[63.0]}],\"layout\":{\"annotations\":[{\"align\":\"center\",\"showarrow\":false,\"text\":\"p<sub>A</sub> < p<sub>B</sub>\",\"x\":0.94,\"xref\":\"x2\",\"y\":850,\"yref\":\"y2\"},{\"align\":\"center\",\"font\":{\"color\":\"darkslategrey\"},\"showarrow\":false,\"text\":\"p<sub>Ar</sub> < p<sub>Br</sub>\",\"x\":0.94,\"xref\":\"x2\",\"y\":750,\"yref\":\"y2\"},{\"align\":\"center\",\"font\":{\"color\":\"red\"},\"showarrow\":false,\"text\":\"p<sub>Al</sub> > p<sub>Bl</sub>\",\"x\":0.94,\"xref\":\"x2\",\"y\":650,\"yref\":\"y2\"}]},\"traces\":[0,1,2,3,4,5,6,7,8,9,10,11]},{\"data\":[{\"type\":\"bar\",\"visible\":true},{\"type\":\"bar\",\"visible\":true},{\"type\":\"bar\",\"visible\":true},{\"type\":\"bar\",\"visible\":true},{\"type\":\"bar\",\"x\":[0.5394],\"y\":[107.88]},{\"type\":\"bar\",\"x\":[0.5394],\"y\":[92.12]},{\"type\":\"bar\",\"x\":[0.42765000000000003],\"y\":[342.12]},{\"type\":\"bar\",\"x\":[0.42765000000000003],\"y\":[457.87999999999994]},{\"type\":\"bar\",\"x\":[0.57],\"y\":[513.0]},{\"type\":\"bar\",\"x\":[0.57],\"y\":[387.00000000000006]},{\"type\":\"bar\",\"x\":[0.37],\"y\":[37.0]},{\"type\":\"bar\",\"x\":[0.37],\"y\":[63.0]}],\"layout\":{\"annotations\":[{\"align\":\"center\",\"showarrow\":false,\"text\":\"p<sub>A</sub> < p<sub>B</sub>\",\"x\":0.94,\"xref\":\"x2\",\"y\":850,\"yref\":\"y2\"},{\"align\":\"center\",\"font\":{\"color\":\"darkslategrey\"},\"showarrow\":false,\"text\":\"p<sub>Ar</sub> < p<sub>Br</sub>\",\"x\":0.94,\"xref\":\"x2\",\"y\":750,\"yref\":\"y2\"},{\"align\":\"center\",\"font\":{\"color\":\"red\"},\"showarrow\":false,\"text\":\"p<sub>Al</sub> > p<sub>Bl</sub>\",\"x\":0.94,\"xref\":\"x2\",\"y\":650,\"yref\":\"y2\"}]},\"traces\":[0,1,2,3,4,5,6,7,8,9,10,11]},{\"data\":[{\"type\":\"bar\",\"visible\":true},{\"type\":\"bar\",\"visible\":true},{\"type\":\"bar\",\"visible\":true},{\"type\":\"bar\",\"visible\":true},{\"type\":\"bar\",\"x\":[0.5293],\"y\":[105.86]},{\"type\":\"bar\",\"x\":[0.5293],\"y\":[94.14]},{\"type\":\"bar\",\"x\":[0.430175],\"y\":[344.14]},{\"type\":\"bar\",\"x\":[0.430175],\"y\":[455.86]},{\"type\":\"bar\",\"x\":[0.57],\"y\":[513.0]},{\"type\":\"bar\",\"x\":[0.57],\"y\":[387.00000000000006]},{\"type\":\"bar\",\"x\":[0.37],\"y\":[37.0]},{\"type\":\"bar\",\"x\":[0.37],\"y\":[63.0]}],\"layout\":{\"annotations\":[{\"align\":\"center\",\"showarrow\":false,\"text\":\"p<sub>A</sub> < p<sub>B</sub>\",\"x\":0.94,\"xref\":\"x2\",\"y\":850,\"yref\":\"y2\"},{\"align\":\"center\",\"font\":{\"color\":\"darkslategrey\"},\"showarrow\":false,\"text\":\"p<sub>Ar</sub> < p<sub>Br</sub>\",\"x\":0.94,\"xref\":\"x2\",\"y\":750,\"yref\":\"y2\"},{\"align\":\"center\",\"font\":{\"color\":\"red\"},\"showarrow\":false,\"text\":\"p<sub>Al</sub> > p<sub>Bl</sub>\",\"x\":0.94,\"xref\":\"x2\",\"y\":650,\"yref\":\"y2\"}]},\"traces\":[0,1,2,3,4,5,6,7,8,9,10,11]},{\"data\":[{\"type\":\"bar\",\"visible\":true},{\"type\":\"bar\",\"visible\":true},{\"type\":\"bar\",\"visible\":true},{\"type\":\"bar\",\"visible\":true},{\"type\":\"bar\",\"x\":[0.5192],\"y\":[103.84]},{\"type\":\"bar\",\"x\":[0.5192],\"y\":[96.16]},{\"type\":\"bar\",\"x\":[0.4327],\"y\":[346.15999999999997]},{\"type\":\"bar\",\"x\":[0.4327],\"y\":[453.84000000000003]},{\"type\":\"bar\",\"x\":[0.57],\"y\":[513.0]},{\"type\":\"bar\",\"x\":[0.57],\"y\":[387.00000000000006]},{\"type\":\"bar\",\"x\":[0.37],\"y\":[37.0]},{\"type\":\"bar\",\"x\":[0.37],\"y\":[63.0]}],\"layout\":{\"annotations\":[{\"align\":\"center\",\"showarrow\":false,\"text\":\"p<sub>A</sub> < p<sub>B</sub>\",\"x\":0.94,\"xref\":\"x2\",\"y\":850,\"yref\":\"y2\"},{\"align\":\"center\",\"font\":{\"color\":\"darkslategrey\"},\"showarrow\":false,\"text\":\"p<sub>Ar</sub> < p<sub>Br</sub>\",\"x\":0.94,\"xref\":\"x2\",\"y\":750,\"yref\":\"y2\"},{\"align\":\"center\",\"font\":{\"color\":\"red\"},\"showarrow\":false,\"text\":\"p<sub>Al</sub> > p<sub>Bl</sub>\",\"x\":0.94,\"xref\":\"x2\",\"y\":650,\"yref\":\"y2\"}]},\"traces\":[0,1,2,3,4,5,6,7,8,9,10,11]},{\"data\":[{\"type\":\"bar\",\"visible\":true},{\"type\":\"bar\",\"visible\":true},{\"type\":\"bar\",\"visible\":true},{\"type\":\"bar\",\"visible\":true},{\"type\":\"bar\",\"x\":[0.5091],\"y\":[101.82]},{\"type\":\"bar\",\"x\":[0.5091],\"y\":[98.18]},{\"type\":\"bar\",\"x\":[0.43522500000000003],\"y\":[348.18]},{\"type\":\"bar\",\"x\":[0.43522500000000003],\"y\":[451.82000000000005]},{\"type\":\"bar\",\"x\":[0.57],\"y\":[513.0]},{\"type\":\"bar\",\"x\":[0.57],\"y\":[387.00000000000006]},{\"type\":\"bar\",\"x\":[0.37],\"y\":[37.0]},{\"type\":\"bar\",\"x\":[0.37],\"y\":[63.0]}],\"layout\":{\"annotations\":[{\"align\":\"center\",\"showarrow\":false,\"text\":\"p<sub>A</sub> < p<sub>B</sub>\",\"x\":0.94,\"xref\":\"x2\",\"y\":850,\"yref\":\"y2\"},{\"align\":\"center\",\"font\":{\"color\":\"darkslategrey\"},\"showarrow\":false,\"text\":\"p<sub>Ar</sub> < p<sub>Br</sub>\",\"x\":0.94,\"xref\":\"x2\",\"y\":750,\"yref\":\"y2\"},{\"align\":\"center\",\"font\":{\"color\":\"red\"},\"showarrow\":false,\"text\":\"p<sub>Al</sub> > p<sub>Bl</sub>\",\"x\":0.94,\"xref\":\"x2\",\"y\":650,\"yref\":\"y2\"}]},\"traces\":[0,1,2,3,4,5,6,7,8,9,10,11]},{\"data\":[{\"type\":\"bar\",\"visible\":true},{\"type\":\"bar\",\"visible\":true},{\"type\":\"bar\",\"visible\":true},{\"type\":\"bar\",\"visible\":true},{\"type\":\"bar\",\"x\":[0.499],\"y\":[99.8]},{\"type\":\"bar\",\"x\":[0.499],\"y\":[100.2]},{\"type\":\"bar\",\"x\":[0.43775],\"y\":[350.2]},{\"type\":\"bar\",\"x\":[0.43775],\"y\":[449.8]},{\"type\":\"bar\",\"x\":[0.57],\"y\":[513.0]},{\"type\":\"bar\",\"x\":[0.57],\"y\":[387.00000000000006]},{\"type\":\"bar\",\"x\":[0.37],\"y\":[37.0]},{\"type\":\"bar\",\"x\":[0.37],\"y\":[63.0]}],\"layout\":{\"annotations\":[{\"align\":\"center\",\"showarrow\":false,\"text\":\"p<sub>A</sub> < p<sub>B</sub>\",\"x\":0.94,\"xref\":\"x2\",\"y\":850,\"yref\":\"y2\"},{\"align\":\"center\",\"font\":{\"color\":\"darkslategrey\"},\"showarrow\":false,\"text\":\"p<sub>Ar</sub> < p<sub>Br</sub>\",\"x\":0.94,\"xref\":\"x2\",\"y\":750,\"yref\":\"y2\"},{\"align\":\"center\",\"font\":{\"color\":\"red\"},\"showarrow\":false,\"text\":\"p<sub>Al</sub> > p<sub>Bl</sub>\",\"x\":0.94,\"xref\":\"x2\",\"y\":650,\"yref\":\"y2\"}]},\"traces\":[0,1,2,3,4,5,6,7,8,9,10,11]},{\"data\":[{\"type\":\"bar\",\"visible\":true},{\"type\":\"bar\",\"visible\":true},{\"type\":\"bar\",\"visible\":true},{\"type\":\"bar\",\"visible\":true},{\"type\":\"bar\",\"x\":[0.4889],\"y\":[97.78]},{\"type\":\"bar\",\"x\":[0.4889],\"y\":[102.22]},{\"type\":\"bar\",\"x\":[0.440275],\"y\":[352.22]},{\"type\":\"bar\",\"x\":[0.440275],\"y\":[447.78000000000003]},{\"type\":\"bar\",\"x\":[0.57],\"y\":[513.0]},{\"type\":\"bar\",\"x\":[0.57],\"y\":[387.00000000000006]},{\"type\":\"bar\",\"x\":[0.37],\"y\":[37.0]},{\"type\":\"bar\",\"x\":[0.37],\"y\":[63.0]}],\"layout\":{\"annotations\":[{\"align\":\"center\",\"showarrow\":false,\"text\":\"p<sub>A</sub> < p<sub>B</sub>\",\"x\":0.94,\"xref\":\"x2\",\"y\":850,\"yref\":\"y2\"},{\"align\":\"center\",\"font\":{\"color\":\"darkslategrey\"},\"showarrow\":false,\"text\":\"p<sub>Ar</sub> < p<sub>Br</sub>\",\"x\":0.94,\"xref\":\"x2\",\"y\":750,\"yref\":\"y2\"},{\"align\":\"center\",\"font\":{\"color\":\"red\"},\"showarrow\":false,\"text\":\"p<sub>Al</sub> > p<sub>Bl</sub>\",\"x\":0.94,\"xref\":\"x2\",\"y\":650,\"yref\":\"y2\"}]},\"traces\":[0,1,2,3,4,5,6,7,8,9,10,11]},{\"data\":[{\"type\":\"bar\",\"visible\":true},{\"type\":\"bar\",\"visible\":true},{\"type\":\"bar\",\"visible\":true},{\"type\":\"bar\",\"visible\":true},{\"type\":\"bar\",\"x\":[0.4788],\"y\":[95.76]},{\"type\":\"bar\",\"x\":[0.4788],\"y\":[104.24]},{\"type\":\"bar\",\"x\":[0.4428],\"y\":[354.24]},{\"type\":\"bar\",\"x\":[0.4428],\"y\":[445.75999999999993]},{\"type\":\"bar\",\"x\":[0.57],\"y\":[513.0]},{\"type\":\"bar\",\"x\":[0.57],\"y\":[387.00000000000006]},{\"type\":\"bar\",\"x\":[0.37],\"y\":[37.0]},{\"type\":\"bar\",\"x\":[0.37],\"y\":[63.0]}],\"layout\":{\"annotations\":[{\"align\":\"center\",\"showarrow\":false,\"text\":\"p<sub>A</sub> < p<sub>B</sub>\",\"x\":0.94,\"xref\":\"x2\",\"y\":850,\"yref\":\"y2\"},{\"align\":\"center\",\"font\":{\"color\":\"darkslategrey\"},\"showarrow\":false,\"text\":\"p<sub>Ar</sub> < p<sub>Br</sub>\",\"x\":0.94,\"xref\":\"x2\",\"y\":750,\"yref\":\"y2\"},{\"align\":\"center\",\"font\":{\"color\":\"red\"},\"showarrow\":false,\"text\":\"p<sub>Al</sub> > p<sub>Bl</sub>\",\"x\":0.94,\"xref\":\"x2\",\"y\":650,\"yref\":\"y2\"}]},\"traces\":[0,1,2,3,4,5,6,7,8,9,10,11]},{\"data\":[{\"type\":\"bar\",\"visible\":true},{\"type\":\"bar\",\"visible\":true},{\"type\":\"bar\",\"visible\":true},{\"type\":\"bar\",\"visible\":true},{\"type\":\"bar\",\"x\":[0.47],\"y\":[94.0]},{\"type\":\"bar\",\"x\":[0.47],\"y\":[106.0]},{\"type\":\"bar\",\"x\":[0.445],\"y\":[356.0]},{\"type\":\"bar\",\"x\":[0.445],\"y\":[443.99999999999994]},{\"type\":\"bar\",\"x\":[0.57],\"y\":[513.0]},{\"type\":\"bar\",\"x\":[0.57],\"y\":[387.00000000000006]},{\"type\":\"bar\",\"x\":[0.37],\"y\":[37.0]},{\"type\":\"bar\",\"x\":[0.37],\"y\":[63.0]}],\"layout\":{\"annotations\":[{\"align\":\"center\",\"showarrow\":false,\"text\":\"p<sub>A</sub> < p<sub>B</sub>\",\"x\":0.94,\"xref\":\"x2\",\"y\":850,\"yref\":\"y2\"},{\"align\":\"center\",\"font\":{\"color\":\"darkslategrey\"},\"showarrow\":false,\"text\":\"p<sub>Ar</sub> < p<sub>Br</sub>\",\"x\":0.94,\"xref\":\"x2\",\"y\":750,\"yref\":\"y2\"},{\"align\":\"center\",\"font\":{\"color\":\"red\"},\"showarrow\":false,\"text\":\"p<sub>Al</sub> > p<sub>Bl</sub>\",\"x\":0.94,\"xref\":\"x2\",\"y\":650,\"yref\":\"y2\"}]},\"traces\":[0,1,2,3,4,5,6,7,8,9,10,11]},{\"data\":[{\"type\":\"bar\",\"visible\":true},{\"type\":\"bar\",\"visible\":true},{\"type\":\"bar\",\"visible\":true},{\"type\":\"bar\",\"visible\":true},{\"type\":\"bar\",\"x\":[0.47],\"y\":[94.0]},{\"type\":\"bar\",\"x\":[0.47],\"y\":[106.0]},{\"type\":\"bar\",\"x\":[0.445],\"y\":[356.0]},{\"type\":\"bar\",\"x\":[0.445],\"y\":[443.99999999999994]},{\"type\":\"bar\",\"x\":[0.57],\"y\":[513.0]},{\"type\":\"bar\",\"x\":[0.57],\"y\":[387.00000000000006]},{\"type\":\"bar\",\"x\":[0.37],\"y\":[37.0]},{\"type\":\"bar\",\"x\":[0.37],\"y\":[63.0]}],\"layout\":{\"annotations\":[{\"align\":\"center\",\"showarrow\":false,\"text\":\"p<sub>A</sub> < p<sub>B</sub>\",\"x\":0.94,\"xref\":\"x2\",\"y\":850,\"yref\":\"y2\"},{\"align\":\"center\",\"font\":{\"color\":\"darkslategrey\"},\"showarrow\":false,\"text\":\"p<sub>Ar</sub> < p<sub>Br</sub>\",\"x\":0.94,\"xref\":\"x2\",\"y\":750,\"yref\":\"y2\"},{\"align\":\"center\",\"font\":{\"color\":\"red\"},\"showarrow\":false,\"text\":\"p<sub>Al</sub> > p<sub>Bl</sub>\",\"x\":0.94,\"xref\":\"x2\",\"y\":650,\"yref\":\"y2\"}]},\"traces\":[0,1,2,3,4,5,6,7,8,9,10,11]},{\"data\":[{\"type\":\"bar\",\"visible\":true},{\"type\":\"bar\",\"visible\":true},{\"type\":\"bar\",\"visible\":true},{\"type\":\"bar\",\"visible\":true},{\"type\":\"bar\",\"x\":[0.47],\"y\":[94.0]},{\"type\":\"bar\",\"x\":[0.47],\"y\":[106.0]},{\"type\":\"bar\",\"x\":[0.445],\"y\":[356.0]},{\"type\":\"bar\",\"x\":[0.445],\"y\":[443.99999999999994]},{\"type\":\"bar\",\"x\":[0.57],\"y\":[513.0]},{\"type\":\"bar\",\"x\":[0.57],\"y\":[387.00000000000006]},{\"type\":\"bar\",\"x\":[0.37],\"y\":[37.0]},{\"type\":\"bar\",\"x\":[0.37],\"y\":[63.0]}],\"layout\":{\"annotations\":[{\"align\":\"center\",\"showarrow\":false,\"text\":\"p<sub>A</sub> < p<sub>B</sub>\",\"x\":0.94,\"xref\":\"x2\",\"y\":850,\"yref\":\"y2\"},{\"align\":\"center\",\"font\":{\"color\":\"darkslategrey\"},\"showarrow\":false,\"text\":\"p<sub>Ar</sub> < p<sub>Br</sub>\",\"x\":0.94,\"xref\":\"x2\",\"y\":750,\"yref\":\"y2\"},{\"align\":\"center\",\"font\":{\"color\":\"red\"},\"showarrow\":false,\"text\":\"p<sub>Al</sub> > p<sub>Bl</sub>\",\"x\":0.94,\"xref\":\"x2\",\"y\":650,\"yref\":\"y2\"}]},\"traces\":[0,1,2,3,4,5,6,7,8,9,10,11]},{\"data\":[{\"type\":\"bar\",\"visible\":true},{\"type\":\"bar\",\"visible\":true},{\"type\":\"bar\",\"visible\":true},{\"type\":\"bar\",\"visible\":true},{\"type\":\"bar\",\"x\":[0.47],\"y\":[94.0]},{\"type\":\"bar\",\"x\":[0.47],\"y\":[106.0]},{\"type\":\"bar\",\"x\":[0.445],\"y\":[356.0]},{\"type\":\"bar\",\"x\":[0.445],\"y\":[443.99999999999994]},{\"type\":\"bar\",\"x\":[0.57],\"y\":[513.0]},{\"type\":\"bar\",\"x\":[0.57],\"y\":[387.00000000000006]},{\"type\":\"bar\",\"x\":[0.37],\"y\":[37.0]},{\"type\":\"bar\",\"x\":[0.37],\"y\":[63.0]}],\"layout\":{\"annotations\":[{\"align\":\"center\",\"showarrow\":false,\"text\":\"p<sub>A</sub> < p<sub>B</sub>\",\"x\":0.94,\"xref\":\"x2\",\"y\":850,\"yref\":\"y2\"},{\"align\":\"center\",\"font\":{\"color\":\"darkslategrey\"},\"showarrow\":false,\"text\":\"p<sub>Ar</sub> < p<sub>Br</sub>\",\"x\":0.94,\"xref\":\"x2\",\"y\":750,\"yref\":\"y2\"},{\"align\":\"center\",\"font\":{\"color\":\"red\"},\"showarrow\":false,\"text\":\"p<sub>Al</sub> > p<sub>Bl</sub>\",\"x\":0.94,\"xref\":\"x2\",\"y\":650,\"yref\":\"y2\"}]},\"traces\":[0,1,2,3,4,5,6,7,8,9,10,11]},{\"data\":[{\"type\":\"bar\",\"visible\":true},{\"type\":\"bar\",\"visible\":true},{\"type\":\"bar\",\"visible\":true},{\"type\":\"bar\",\"visible\":true},{\"type\":\"bar\",\"x\":[0.47],\"y\":[94.0]},{\"type\":\"bar\",\"x\":[0.47],\"y\":[106.0]},{\"type\":\"bar\",\"x\":[0.445],\"y\":[356.0]},{\"type\":\"bar\",\"x\":[0.445],\"y\":[443.99999999999994]},{\"type\":\"bar\",\"x\":[0.57],\"y\":[502.16999999999996]},{\"type\":\"bar\",\"x\":[0.57],\"y\":[378.83000000000004]},{\"type\":\"bar\",\"x\":[0.401932773109244],\"y\":[47.83000000000004]},{\"type\":\"bar\",\"x\":[0.401932773109244],\"y\":[71.16999999999996]}],\"layout\":{\"annotations\":[{\"align\":\"center\",\"showarrow\":false,\"text\":\"p<sub>A</sub> < p<sub>B</sub>\",\"x\":0.94,\"xref\":\"x2\",\"y\":850,\"yref\":\"y2\"},{\"align\":\"center\",\"font\":{\"color\":\"darkslategrey\"},\"showarrow\":false,\"text\":\"p<sub>Ar</sub> < p<sub>Br</sub>\",\"x\":0.94,\"xref\":\"x2\",\"y\":750,\"yref\":\"y2\"},{\"align\":\"center\",\"font\":{\"color\":\"red\"},\"showarrow\":false,\"text\":\"p<sub>Al</sub> > p<sub>Bl</sub>\",\"x\":0.94,\"xref\":\"x2\",\"y\":650,\"yref\":\"y2\"}]},\"traces\":[0,1,2,3,4,5,6,7,8,9,10,11]},{\"data\":[{\"type\":\"bar\",\"visible\":true},{\"type\":\"bar\",\"visible\":true},{\"type\":\"bar\",\"visible\":true},{\"type\":\"bar\",\"visible\":true},{\"type\":\"bar\",\"x\":[0.47],\"y\":[94.0]},{\"type\":\"bar\",\"x\":[0.47],\"y\":[106.0]},{\"type\":\"bar\",\"x\":[0.445],\"y\":[356.0]},{\"type\":\"bar\",\"x\":[0.445],\"y\":[443.99999999999994]},{\"type\":\"bar\",\"x\":[0.57],\"y\":[491.34]},{\"type\":\"bar\",\"x\":[0.57],\"y\":[370.66]},{\"type\":\"bar\",\"x\":[0.42507246376811614],\"y\":[58.660000000000025]},{\"type\":\"bar\",\"x\":[0.42507246376811614],\"y\":[79.33999999999997]}],\"layout\":{\"annotations\":[{\"align\":\"center\",\"showarrow\":false,\"text\":\"p<sub>A</sub> < p<sub>B</sub>\",\"x\":0.94,\"xref\":\"x2\",\"y\":850,\"yref\":\"y2\"},{\"align\":\"center\",\"font\":{\"color\":\"darkslategrey\"},\"showarrow\":false,\"text\":\"p<sub>Ar</sub> < p<sub>Br</sub>\",\"x\":0.94,\"xref\":\"x2\",\"y\":750,\"yref\":\"y2\"},{\"align\":\"center\",\"font\":{\"color\":\"red\"},\"showarrow\":false,\"text\":\"p<sub>Al</sub> > p<sub>Bl</sub>\",\"x\":0.94,\"xref\":\"x2\",\"y\":650,\"yref\":\"y2\"}]},\"traces\":[0,1,2,3,4,5,6,7,8,9,10,11]},{\"data\":[{\"type\":\"bar\",\"visible\":true},{\"type\":\"bar\",\"visible\":true},{\"type\":\"bar\",\"visible\":true},{\"type\":\"bar\",\"visible\":true},{\"type\":\"bar\",\"x\":[0.47],\"y\":[94.0]},{\"type\":\"bar\",\"x\":[0.47],\"y\":[106.0]},{\"type\":\"bar\",\"x\":[0.445],\"y\":[356.0]},{\"type\":\"bar\",\"x\":[0.445],\"y\":[443.99999999999994]},{\"type\":\"bar\",\"x\":[0.57],\"y\":[480.50999999999993]},{\"type\":\"bar\",\"x\":[0.57],\"y\":[362.49000000000007]},{\"type\":\"bar\",\"x\":[0.4426114649681533],\"y\":[69.49000000000007]},{\"type\":\"bar\",\"x\":[0.4426114649681533],\"y\":[87.50999999999993]}],\"layout\":{\"annotations\":[{\"align\":\"center\",\"showarrow\":false,\"text\":\"p<sub>A</sub> < p<sub>B</sub>\",\"x\":0.94,\"xref\":\"x2\",\"y\":850,\"yref\":\"y2\"},{\"align\":\"center\",\"font\":{\"color\":\"darkslategrey\"},\"showarrow\":false,\"text\":\"p<sub>Ar</sub> < p<sub>Br</sub>\",\"x\":0.94,\"xref\":\"x2\",\"y\":750,\"yref\":\"y2\"},{\"align\":\"center\",\"font\":{\"color\":\"red\"},\"showarrow\":false,\"text\":\"p<sub>Al</sub> > p<sub>Bl</sub>\",\"x\":0.94,\"xref\":\"x2\",\"y\":650,\"yref\":\"y2\"}]},\"traces\":[0,1,2,3,4,5,6,7,8,9,10,11]},{\"data\":[{\"type\":\"bar\",\"visible\":true},{\"type\":\"bar\",\"visible\":true},{\"type\":\"bar\",\"visible\":true},{\"type\":\"bar\",\"visible\":true},{\"type\":\"bar\",\"x\":[0.47],\"y\":[94.0]},{\"type\":\"bar\",\"x\":[0.47],\"y\":[106.0]},{\"type\":\"bar\",\"x\":[0.445],\"y\":[356.0]},{\"type\":\"bar\",\"x\":[0.445],\"y\":[443.99999999999994]},{\"type\":\"bar\",\"x\":[0.57],\"y\":[469.67999999999995]},{\"type\":\"bar\",\"x\":[0.57],\"y\":[354.32000000000005]},{\"type\":\"bar\",\"x\":[0.45636363636363664],\"y\":[80.32000000000005]},{\"type\":\"bar\",\"x\":[0.45636363636363664],\"y\":[95.67999999999995]}],\"layout\":{\"annotations\":[{\"align\":\"center\",\"showarrow\":false,\"text\":\"p<sub>A</sub> < p<sub>B</sub>\",\"x\":0.94,\"xref\":\"x2\",\"y\":850,\"yref\":\"y2\"},{\"align\":\"center\",\"font\":{\"color\":\"darkslategrey\"},\"showarrow\":false,\"text\":\"p<sub>Ar</sub> < p<sub>Br</sub>\",\"x\":0.94,\"xref\":\"x2\",\"y\":750,\"yref\":\"y2\"},{\"align\":\"center\",\"font\":{\"color\":\"darkslategrey\"},\"showarrow\":false,\"text\":\"p<sub>Al</sub> < p<sub>Bl</sub>\",\"x\":0.94,\"xref\":\"x2\",\"y\":650,\"yref\":\"y2\"}]},\"traces\":[0,1,2,3,4,5,6,7,8,9,10,11]},{\"data\":[{\"type\":\"bar\",\"visible\":true},{\"type\":\"bar\",\"visible\":true},{\"type\":\"bar\",\"visible\":true},{\"type\":\"bar\",\"visible\":true},{\"type\":\"bar\",\"x\":[0.47],\"y\":[94.0]},{\"type\":\"bar\",\"x\":[0.47],\"y\":[106.0]},{\"type\":\"bar\",\"x\":[0.445],\"y\":[356.0]},{\"type\":\"bar\",\"x\":[0.445],\"y\":[443.99999999999994]},{\"type\":\"bar\",\"x\":[0.57],\"y\":[458.84999999999997]},{\"type\":\"bar\",\"x\":[0.57],\"y\":[346.15000000000003]},{\"type\":\"bar\",\"x\":[0.4674358974358976],\"y\":[91.15000000000003]},{\"type\":\"bar\",\"x\":[0.4674358974358976],\"y\":[103.84999999999997]}],\"layout\":{\"annotations\":[{\"align\":\"center\",\"showarrow\":false,\"text\":\"p<sub>A</sub> < p<sub>B</sub>\",\"x\":0.94,\"xref\":\"x2\",\"y\":850,\"yref\":\"y2\"},{\"align\":\"center\",\"font\":{\"color\":\"darkslategrey\"},\"showarrow\":false,\"text\":\"p<sub>Ar</sub> < p<sub>Br</sub>\",\"x\":0.94,\"xref\":\"x2\",\"y\":750,\"yref\":\"y2\"},{\"align\":\"center\",\"font\":{\"color\":\"darkslategrey\"},\"showarrow\":false,\"text\":\"p<sub>Al</sub> < p<sub>Bl</sub>\",\"x\":0.94,\"xref\":\"x2\",\"y\":650,\"yref\":\"y2\"}]},\"traces\":[0,1,2,3,4,5,6,7,8,9,10,11]},{\"data\":[{\"type\":\"bar\",\"visible\":true},{\"type\":\"bar\",\"visible\":true},{\"type\":\"bar\",\"visible\":true},{\"type\":\"bar\",\"visible\":true},{\"type\":\"bar\",\"x\":[0.47],\"y\":[94.0]},{\"type\":\"bar\",\"x\":[0.47],\"y\":[106.0]},{\"type\":\"bar\",\"x\":[0.445],\"y\":[356.0]},{\"type\":\"bar\",\"x\":[0.445],\"y\":[443.99999999999994]},{\"type\":\"bar\",\"x\":[0.57],\"y\":[448.02]},{\"type\":\"bar\",\"x\":[0.57],\"y\":[337.98]},{\"type\":\"bar\",\"x\":[0.47654205607476646],\"y\":[101.98000000000002]},{\"type\":\"bar\",\"x\":[0.47654205607476646],\"y\":[112.01999999999998]}],\"layout\":{\"annotations\":[{\"align\":\"center\",\"showarrow\":false,\"text\":\"p<sub>A</sub> < p<sub>B</sub>\",\"x\":0.94,\"xref\":\"x2\",\"y\":850,\"yref\":\"y2\"},{\"align\":\"center\",\"font\":{\"color\":\"darkslategrey\"},\"showarrow\":false,\"text\":\"p<sub>Ar</sub> < p<sub>Br</sub>\",\"x\":0.94,\"xref\":\"x2\",\"y\":750,\"yref\":\"y2\"},{\"align\":\"center\",\"font\":{\"color\":\"darkslategrey\"},\"showarrow\":false,\"text\":\"p<sub>Al</sub> < p<sub>Bl</sub>\",\"x\":0.94,\"xref\":\"x2\",\"y\":650,\"yref\":\"y2\"}]},\"traces\":[0,1,2,3,4,5,6,7,8,9,10,11]},{\"data\":[{\"type\":\"bar\",\"visible\":true},{\"type\":\"bar\",\"visible\":true},{\"type\":\"bar\",\"visible\":true},{\"type\":\"bar\",\"visible\":true},{\"type\":\"bar\",\"x\":[0.47],\"y\":[94.0]},{\"type\":\"bar\",\"x\":[0.47],\"y\":[106.0]},{\"type\":\"bar\",\"x\":[0.445],\"y\":[356.0]},{\"type\":\"bar\",\"x\":[0.445],\"y\":[443.99999999999994]},{\"type\":\"bar\",\"x\":[0.57],\"y\":[437.18999999999994]},{\"type\":\"bar\",\"x\":[0.57],\"y\":[329.81000000000006]},{\"type\":\"bar\",\"x\":[0.48416309012875564],\"y\":[112.81000000000006]},{\"type\":\"bar\",\"x\":[0.48416309012875564],\"y\":[120.18999999999993]}],\"layout\":{\"annotations\":[{\"align\":\"center\",\"showarrow\":false,\"text\":\"p<sub>A</sub> < p<sub>B</sub>\",\"x\":0.94,\"xref\":\"x2\",\"y\":850,\"yref\":\"y2\"},{\"align\":\"center\",\"font\":{\"color\":\"darkslategrey\"},\"showarrow\":false,\"text\":\"p<sub>Ar</sub> < p<sub>Br</sub>\",\"x\":0.94,\"xref\":\"x2\",\"y\":750,\"yref\":\"y2\"},{\"align\":\"center\",\"font\":{\"color\":\"darkslategrey\"},\"showarrow\":false,\"text\":\"p<sub>Al</sub> < p<sub>Bl</sub>\",\"x\":0.94,\"xref\":\"x2\",\"y\":650,\"yref\":\"y2\"}]},\"traces\":[0,1,2,3,4,5,6,7,8,9,10,11]},{\"data\":[{\"type\":\"bar\",\"visible\":true},{\"type\":\"bar\",\"visible\":true},{\"type\":\"bar\",\"visible\":true},{\"type\":\"bar\",\"visible\":true},{\"type\":\"bar\",\"x\":[0.47],\"y\":[94.0]},{\"type\":\"bar\",\"x\":[0.47],\"y\":[106.0]},{\"type\":\"bar\",\"x\":[0.445],\"y\":[356.0]},{\"type\":\"bar\",\"x\":[0.445],\"y\":[443.99999999999994]},{\"type\":\"bar\",\"x\":[0.57],\"y\":[426.35999999999996]},{\"type\":\"bar\",\"x\":[0.57],\"y\":[321.64000000000004]},{\"type\":\"bar\",\"x\":[0.4906349206349208],\"y\":[123.64000000000004]},{\"type\":\"bar\",\"x\":[0.4906349206349208],\"y\":[128.35999999999996]}],\"layout\":{\"annotations\":[{\"align\":\"center\",\"showarrow\":false,\"text\":\"p<sub>A</sub> < p<sub>B</sub>\",\"x\":0.94,\"xref\":\"x2\",\"y\":850,\"yref\":\"y2\"},{\"align\":\"center\",\"font\":{\"color\":\"darkslategrey\"},\"showarrow\":false,\"text\":\"p<sub>Ar</sub> < p<sub>Br</sub>\",\"x\":0.94,\"xref\":\"x2\",\"y\":750,\"yref\":\"y2\"},{\"align\":\"center\",\"font\":{\"color\":\"darkslategrey\"},\"showarrow\":false,\"text\":\"p<sub>Al</sub> < p<sub>Bl</sub>\",\"x\":0.94,\"xref\":\"x2\",\"y\":650,\"yref\":\"y2\"}]},\"traces\":[0,1,2,3,4,5,6,7,8,9,10,11]},{\"data\":[{\"type\":\"bar\",\"visible\":true},{\"type\":\"bar\",\"visible\":true},{\"type\":\"bar\",\"visible\":true},{\"type\":\"bar\",\"visible\":true},{\"type\":\"bar\",\"x\":[0.47],\"y\":[94.0]},{\"type\":\"bar\",\"x\":[0.47],\"y\":[106.0]},{\"type\":\"bar\",\"x\":[0.445],\"y\":[356.0]},{\"type\":\"bar\",\"x\":[0.445],\"y\":[443.99999999999994]},{\"type\":\"bar\",\"x\":[0.57],\"y\":[415.53]},{\"type\":\"bar\",\"x\":[0.57],\"y\":[313.47]},{\"type\":\"bar\",\"x\":[0.49619926199262004],\"y\":[134.47000000000003]},{\"type\":\"bar\",\"x\":[0.49619926199262004],\"y\":[136.52999999999994]}],\"layout\":{\"annotations\":[{\"align\":\"center\",\"showarrow\":false,\"text\":\"p<sub>A</sub> < p<sub>B</sub>\",\"x\":0.94,\"xref\":\"x2\",\"y\":850,\"yref\":\"y2\"},{\"align\":\"center\",\"font\":{\"color\":\"darkslategrey\"},\"showarrow\":false,\"text\":\"p<sub>Ar</sub> < p<sub>Br</sub>\",\"x\":0.94,\"xref\":\"x2\",\"y\":750,\"yref\":\"y2\"},{\"align\":\"center\",\"font\":{\"color\":\"darkslategrey\"},\"showarrow\":false,\"text\":\"p<sub>Al</sub> < p<sub>Bl</sub>\",\"x\":0.94,\"xref\":\"x2\",\"y\":650,\"yref\":\"y2\"}]},\"traces\":[0,1,2,3,4,5,6,7,8,9,10,11]},{\"data\":[{\"type\":\"bar\",\"visible\":true},{\"type\":\"bar\",\"visible\":true},{\"type\":\"bar\",\"visible\":true},{\"type\":\"bar\",\"visible\":true},{\"type\":\"bar\",\"x\":[0.47],\"y\":[94.0]},{\"type\":\"bar\",\"x\":[0.47],\"y\":[106.0]},{\"type\":\"bar\",\"x\":[0.445],\"y\":[356.0]},{\"type\":\"bar\",\"x\":[0.445],\"y\":[443.99999999999994]},{\"type\":\"bar\",\"x\":[0.57],\"y\":[404.7]},{\"type\":\"bar\",\"x\":[0.57],\"y\":[305.3]},{\"type\":\"bar\",\"x\":[0.5010344827586207],\"y\":[145.3]},{\"type\":\"bar\",\"x\":[0.5010344827586207],\"y\":[144.7]}],\"layout\":{\"annotations\":[{\"align\":\"center\",\"showarrow\":false,\"text\":\"p<sub>A</sub> < p<sub>B</sub>\",\"x\":0.94,\"xref\":\"x2\",\"y\":850,\"yref\":\"y2\"},{\"align\":\"center\",\"font\":{\"color\":\"darkslategrey\"},\"showarrow\":false,\"text\":\"p<sub>Ar</sub> < p<sub>Br</sub>\",\"x\":0.94,\"xref\":\"x2\",\"y\":750,\"yref\":\"y2\"},{\"align\":\"center\",\"font\":{\"color\":\"darkslategrey\"},\"showarrow\":false,\"text\":\"p<sub>Al</sub> < p<sub>Bl</sub>\",\"x\":0.94,\"xref\":\"x2\",\"y\":650,\"yref\":\"y2\"}]},\"traces\":[0,1,2,3,4,5,6,7,8,9,10,11]},{\"data\":[{\"type\":\"bar\",\"visible\":true},{\"type\":\"bar\",\"visible\":true},{\"type\":\"bar\",\"visible\":true},{\"type\":\"bar\",\"visible\":true},{\"type\":\"bar\",\"x\":[0.47],\"y\":[94.0]},{\"type\":\"bar\",\"x\":[0.47],\"y\":[106.0]},{\"type\":\"bar\",\"x\":[0.445],\"y\":[356.0]},{\"type\":\"bar\",\"x\":[0.445],\"y\":[443.99999999999994]},{\"type\":\"bar\",\"x\":[0.57],\"y\":[393.86999999999995]},{\"type\":\"bar\",\"x\":[0.57],\"y\":[297.13000000000005]},{\"type\":\"bar\",\"x\":[0.505275080906149],\"y\":[156.13000000000005]},{\"type\":\"bar\",\"x\":[0.505275080906149],\"y\":[152.86999999999995]}],\"layout\":{\"annotations\":[{\"align\":\"center\",\"showarrow\":false,\"text\":\"p<sub>A</sub> < p<sub>B</sub>\",\"x\":0.94,\"xref\":\"x2\",\"y\":850,\"yref\":\"y2\"},{\"align\":\"center\",\"font\":{\"color\":\"darkslategrey\"},\"showarrow\":false,\"text\":\"p<sub>Ar</sub> < p<sub>Br</sub>\",\"x\":0.94,\"xref\":\"x2\",\"y\":750,\"yref\":\"y2\"},{\"align\":\"center\",\"font\":{\"color\":\"darkslategrey\"},\"showarrow\":false,\"text\":\"p<sub>Al</sub> < p<sub>Bl</sub>\",\"x\":0.94,\"xref\":\"x2\",\"y\":650,\"yref\":\"y2\"}]},\"traces\":[0,1,2,3,4,5,6,7,8,9,10,11]},{\"data\":[{\"type\":\"bar\",\"visible\":true},{\"type\":\"bar\",\"visible\":true},{\"type\":\"bar\",\"visible\":true},{\"type\":\"bar\",\"visible\":true},{\"type\":\"bar\",\"x\":[0.47],\"y\":[94.0]},{\"type\":\"bar\",\"x\":[0.47],\"y\":[106.0]},{\"type\":\"bar\",\"x\":[0.445],\"y\":[356.0]},{\"type\":\"bar\",\"x\":[0.445],\"y\":[443.99999999999994]},{\"type\":\"bar\",\"x\":[0.57],\"y\":[383.03999999999996]},{\"type\":\"bar\",\"x\":[0.57],\"y\":[288.96000000000004]},{\"type\":\"bar\",\"x\":[0.5090243902439026],\"y\":[166.96000000000004]},{\"type\":\"bar\",\"x\":[0.5090243902439026],\"y\":[161.03999999999996]}],\"layout\":{\"annotations\":[{\"align\":\"center\",\"showarrow\":false,\"text\":\"p<sub>A</sub> < p<sub>B</sub>\",\"x\":0.94,\"xref\":\"x2\",\"y\":850,\"yref\":\"y2\"},{\"align\":\"center\",\"font\":{\"color\":\"darkslategrey\"},\"showarrow\":false,\"text\":\"p<sub>Ar</sub> < p<sub>Br</sub>\",\"x\":0.94,\"xref\":\"x2\",\"y\":750,\"yref\":\"y2\"},{\"align\":\"center\",\"font\":{\"color\":\"darkslategrey\"},\"showarrow\":false,\"text\":\"p<sub>Al</sub> < p<sub>Bl</sub>\",\"x\":0.94,\"xref\":\"x2\",\"y\":650,\"yref\":\"y2\"}]},\"traces\":[0,1,2,3,4,5,6,7,8,9,10,11]},{\"data\":[{\"type\":\"bar\",\"visible\":true},{\"type\":\"bar\",\"visible\":true},{\"type\":\"bar\",\"visible\":true},{\"type\":\"bar\",\"visible\":true},{\"type\":\"bar\",\"x\":[0.47],\"y\":[94.0]},{\"type\":\"bar\",\"x\":[0.47],\"y\":[106.0]},{\"type\":\"bar\",\"x\":[0.445],\"y\":[356.0]},{\"type\":\"bar\",\"x\":[0.445],\"y\":[443.99999999999994]},{\"type\":\"bar\",\"x\":[0.57],\"y\":[372.21]},{\"type\":\"bar\",\"x\":[0.57],\"y\":[280.79]},{\"type\":\"bar\",\"x\":[0.5123631123919309],\"y\":[177.79000000000002]},{\"type\":\"bar\",\"x\":[0.5123631123919309],\"y\":[169.20999999999998]}],\"layout\":{\"annotations\":[{\"align\":\"center\",\"showarrow\":false,\"text\":\"p<sub>A</sub> < p<sub>B</sub>\",\"x\":0.94,\"xref\":\"x2\",\"y\":850,\"yref\":\"y2\"},{\"align\":\"center\",\"font\":{\"color\":\"darkslategrey\"},\"showarrow\":false,\"text\":\"p<sub>Ar</sub> < p<sub>Br</sub>\",\"x\":0.94,\"xref\":\"x2\",\"y\":750,\"yref\":\"y2\"},{\"align\":\"center\",\"font\":{\"color\":\"darkslategrey\"},\"showarrow\":false,\"text\":\"p<sub>Al</sub> < p<sub>Bl</sub>\",\"x\":0.94,\"xref\":\"x2\",\"y\":650,\"yref\":\"y2\"}]},\"traces\":[0,1,2,3,4,5,6,7,8,9,10,11]},{\"data\":[{\"type\":\"bar\",\"visible\":true},{\"type\":\"bar\",\"visible\":true},{\"type\":\"bar\",\"visible\":true},{\"type\":\"bar\",\"visible\":true},{\"type\":\"bar\",\"x\":[0.47],\"y\":[94.0]},{\"type\":\"bar\",\"x\":[0.47],\"y\":[106.0]},{\"type\":\"bar\",\"x\":[0.445],\"y\":[356.0]},{\"type\":\"bar\",\"x\":[0.445],\"y\":[443.99999999999994]},{\"type\":\"bar\",\"x\":[0.57],\"y\":[361.38]},{\"type\":\"bar\",\"x\":[0.57],\"y\":[272.62]},{\"type\":\"bar\",\"x\":[0.5153551912568306],\"y\":[188.62]},{\"type\":\"bar\",\"x\":[0.5153551912568306],\"y\":[177.38]}],\"layout\":{\"annotations\":[{\"align\":\"center\",\"showarrow\":false,\"text\":\"p<sub>A</sub> < p<sub>B</sub>\",\"x\":0.94,\"xref\":\"x2\",\"y\":850,\"yref\":\"y2\"},{\"align\":\"center\",\"font\":{\"color\":\"darkslategrey\"},\"showarrow\":false,\"text\":\"p<sub>Ar</sub> < p<sub>Br</sub>\",\"x\":0.94,\"xref\":\"x2\",\"y\":750,\"yref\":\"y2\"},{\"align\":\"center\",\"font\":{\"color\":\"darkslategrey\"},\"showarrow\":false,\"text\":\"p<sub>Al</sub> < p<sub>Bl</sub>\",\"x\":0.94,\"xref\":\"x2\",\"y\":650,\"yref\":\"y2\"}]},\"traces\":[0,1,2,3,4,5,6,7,8,9,10,11]},{\"data\":[{\"type\":\"bar\",\"visible\":true},{\"type\":\"bar\",\"visible\":true},{\"type\":\"bar\",\"visible\":true},{\"type\":\"bar\",\"visible\":true},{\"type\":\"bar\",\"x\":[0.47],\"y\":[94.0]},{\"type\":\"bar\",\"x\":[0.47],\"y\":[106.0]},{\"type\":\"bar\",\"x\":[0.445],\"y\":[356.0]},{\"type\":\"bar\",\"x\":[0.445],\"y\":[443.99999999999994]},{\"type\":\"bar\",\"x\":[0.57],\"y\":[350.54999999999995]},{\"type\":\"bar\",\"x\":[0.57],\"y\":[264.45000000000005]},{\"type\":\"bar\",\"x\":[0.5180519480519482],\"y\":[199.45000000000007]},{\"type\":\"bar\",\"x\":[0.5180519480519482],\"y\":[185.54999999999993]}],\"layout\":{\"annotations\":[{\"align\":\"center\",\"showarrow\":false,\"text\":\"p<sub>A</sub> < p<sub>B</sub>\",\"x\":0.94,\"xref\":\"x2\",\"y\":850,\"yref\":\"y2\"},{\"align\":\"center\",\"font\":{\"color\":\"darkslategrey\"},\"showarrow\":false,\"text\":\"p<sub>Ar</sub> < p<sub>Br</sub>\",\"x\":0.94,\"xref\":\"x2\",\"y\":750,\"yref\":\"y2\"},{\"align\":\"center\",\"font\":{\"color\":\"darkslategrey\"},\"showarrow\":false,\"text\":\"p<sub>Al</sub> < p<sub>Bl</sub>\",\"x\":0.94,\"xref\":\"x2\",\"y\":650,\"yref\":\"y2\"}]},\"traces\":[0,1,2,3,4,5,6,7,8,9,10,11]},{\"data\":[{\"type\":\"bar\",\"visible\":true},{\"type\":\"bar\",\"visible\":true},{\"type\":\"bar\",\"visible\":true},{\"type\":\"bar\",\"visible\":true},{\"type\":\"bar\",\"x\":[0.47],\"y\":[94.0]},{\"type\":\"bar\",\"x\":[0.47],\"y\":[106.0]},{\"type\":\"bar\",\"x\":[0.445],\"y\":[356.0]},{\"type\":\"bar\",\"x\":[0.445],\"y\":[443.99999999999994]},{\"type\":\"bar\",\"x\":[0.57],\"y\":[339.71999999999997]},{\"type\":\"bar\",\"x\":[0.57],\"y\":[256.28000000000003]},{\"type\":\"bar\",\"x\":[0.5204950495049505],\"y\":[210.28]},{\"type\":\"bar\",\"x\":[0.5204950495049505],\"y\":[193.72]}],\"layout\":{\"annotations\":[{\"align\":\"center\",\"showarrow\":false,\"text\":\"p<sub>A</sub> < p<sub>B</sub>\",\"x\":0.94,\"xref\":\"x2\",\"y\":850,\"yref\":\"y2\"},{\"align\":\"center\",\"font\":{\"color\":\"darkslategrey\"},\"showarrow\":false,\"text\":\"p<sub>Ar</sub> < p<sub>Br</sub>\",\"x\":0.94,\"xref\":\"x2\",\"y\":750,\"yref\":\"y2\"},{\"align\":\"center\",\"font\":{\"color\":\"darkslategrey\"},\"showarrow\":false,\"text\":\"p<sub>Al</sub> < p<sub>Bl</sub>\",\"x\":0.94,\"xref\":\"x2\",\"y\":650,\"yref\":\"y2\"}]},\"traces\":[0,1,2,3,4,5,6,7,8,9,10,11]},{\"data\":[{\"type\":\"bar\",\"visible\":true},{\"type\":\"bar\",\"visible\":true},{\"type\":\"bar\",\"visible\":true},{\"type\":\"bar\",\"visible\":true},{\"type\":\"bar\",\"x\":[0.47],\"y\":[94.0]},{\"type\":\"bar\",\"x\":[0.47],\"y\":[106.0]},{\"type\":\"bar\",\"x\":[0.445],\"y\":[356.0]},{\"type\":\"bar\",\"x\":[0.445],\"y\":[443.99999999999994]},{\"type\":\"bar\",\"x\":[0.57],\"y\":[328.89]},{\"type\":\"bar\",\"x\":[0.57],\"y\":[248.11000000000004]},{\"type\":\"bar\",\"x\":[0.5227186761229314],\"y\":[221.10999999999999]},{\"type\":\"bar\",\"x\":[0.5227186761229314],\"y\":[201.89000000000001]}],\"layout\":{\"annotations\":[{\"align\":\"center\",\"showarrow\":false,\"text\":\"p<sub>A</sub> < p<sub>B</sub>\",\"x\":0.94,\"xref\":\"x2\",\"y\":850,\"yref\":\"y2\"},{\"align\":\"center\",\"font\":{\"color\":\"darkslategrey\"},\"showarrow\":false,\"text\":\"p<sub>Ar</sub> < p<sub>Br</sub>\",\"x\":0.94,\"xref\":\"x2\",\"y\":750,\"yref\":\"y2\"},{\"align\":\"center\",\"font\":{\"color\":\"darkslategrey\"},\"showarrow\":false,\"text\":\"p<sub>Al</sub> < p<sub>Bl</sub>\",\"x\":0.94,\"xref\":\"x2\",\"y\":650,\"yref\":\"y2\"}]},\"traces\":[0,1,2,3,4,5,6,7,8,9,10,11]},{\"data\":[{\"type\":\"bar\",\"visible\":true},{\"type\":\"bar\",\"visible\":true},{\"type\":\"bar\",\"visible\":true},{\"type\":\"bar\",\"visible\":true},{\"type\":\"bar\",\"x\":[0.47],\"y\":[94.0]},{\"type\":\"bar\",\"x\":[0.47],\"y\":[106.0]},{\"type\":\"bar\",\"x\":[0.445],\"y\":[356.0]},{\"type\":\"bar\",\"x\":[0.445],\"y\":[443.99999999999994]},{\"type\":\"bar\",\"x\":[0.57],\"y\":[318.05999999999995]},{\"type\":\"bar\",\"x\":[0.57],\"y\":[239.94000000000003]},{\"type\":\"bar\",\"x\":[0.5247511312217196],\"y\":[231.94000000000005]},{\"type\":\"bar\",\"x\":[0.5247511312217196],\"y\":[210.05999999999995]}],\"layout\":{\"annotations\":[{\"align\":\"center\",\"showarrow\":false,\"text\":\"p<sub>A</sub> < p<sub>B</sub>\",\"x\":0.94,\"xref\":\"x2\",\"y\":850,\"yref\":\"y2\"},{\"align\":\"center\",\"font\":{\"color\":\"darkslategrey\"},\"showarrow\":false,\"text\":\"p<sub>Ar</sub> < p<sub>Br</sub>\",\"x\":0.94,\"xref\":\"x2\",\"y\":750,\"yref\":\"y2\"},{\"align\":\"center\",\"font\":{\"color\":\"darkslategrey\"},\"showarrow\":false,\"text\":\"p<sub>Al</sub> < p<sub>Bl</sub>\",\"x\":0.94,\"xref\":\"x2\",\"y\":650,\"yref\":\"y2\"}]},\"traces\":[0,1,2,3,4,5,6,7,8,9,10,11]},{\"data\":[{\"type\":\"bar\",\"visible\":true},{\"type\":\"bar\",\"visible\":true},{\"type\":\"bar\",\"visible\":true},{\"type\":\"bar\",\"visible\":true},{\"type\":\"bar\",\"x\":[0.47],\"y\":[94.0]},{\"type\":\"bar\",\"x\":[0.47],\"y\":[106.0]},{\"type\":\"bar\",\"x\":[0.445],\"y\":[356.0]},{\"type\":\"bar\",\"x\":[0.445],\"y\":[443.99999999999994]},{\"type\":\"bar\",\"x\":[0.57],\"y\":[307.22999999999996]},{\"type\":\"bar\",\"x\":[0.57],\"y\":[231.77000000000004]},{\"type\":\"bar\",\"x\":[0.5266160520607376],\"y\":[242.77000000000004]},{\"type\":\"bar\",\"x\":[0.5266160520607376],\"y\":[218.22999999999996]}],\"layout\":{\"annotations\":[{\"align\":\"center\",\"showarrow\":false,\"text\":\"p<sub>A</sub> < p<sub>B</sub>\",\"x\":0.94,\"xref\":\"x2\",\"y\":850,\"yref\":\"y2\"},{\"align\":\"center\",\"font\":{\"color\":\"darkslategrey\"},\"showarrow\":false,\"text\":\"p<sub>Ar</sub> < p<sub>Br</sub>\",\"x\":0.94,\"xref\":\"x2\",\"y\":750,\"yref\":\"y2\"},{\"align\":\"center\",\"font\":{\"color\":\"darkslategrey\"},\"showarrow\":false,\"text\":\"p<sub>Al</sub> < p<sub>Bl</sub>\",\"x\":0.94,\"xref\":\"x2\",\"y\":650,\"yref\":\"y2\"}]},\"traces\":[0,1,2,3,4,5,6,7,8,9,10,11]},{\"data\":[{\"type\":\"bar\",\"visible\":true},{\"type\":\"bar\",\"visible\":true},{\"type\":\"bar\",\"visible\":true},{\"type\":\"bar\",\"visible\":true},{\"type\":\"bar\",\"x\":[0.47],\"y\":[94.0]},{\"type\":\"bar\",\"x\":[0.47],\"y\":[106.0]},{\"type\":\"bar\",\"x\":[0.445],\"y\":[356.0]},{\"type\":\"bar\",\"x\":[0.445],\"y\":[443.99999999999994]},{\"type\":\"bar\",\"x\":[0.57],\"y\":[296.4]},{\"type\":\"bar\",\"x\":[0.57],\"y\":[223.60000000000002]},{\"type\":\"bar\",\"x\":[0.5283333333333334],\"y\":[253.60000000000005]},{\"type\":\"bar\",\"x\":[0.5283333333333334],\"y\":[226.39999999999995]}],\"layout\":{\"annotations\":[{\"align\":\"center\",\"showarrow\":false,\"text\":\"p<sub>A</sub> < p<sub>B</sub>\",\"x\":0.94,\"xref\":\"x2\",\"y\":850,\"yref\":\"y2\"},{\"align\":\"center\",\"font\":{\"color\":\"darkslategrey\"},\"showarrow\":false,\"text\":\"p<sub>Ar</sub> < p<sub>Br</sub>\",\"x\":0.94,\"xref\":\"x2\",\"y\":750,\"yref\":\"y2\"},{\"align\":\"center\",\"font\":{\"color\":\"darkslategrey\"},\"showarrow\":false,\"text\":\"p<sub>Al</sub> < p<sub>Bl</sub>\",\"x\":0.94,\"xref\":\"x2\",\"y\":650,\"yref\":\"y2\"}]},\"traces\":[0,1,2,3,4,5,6,7,8,9,10,11]},{\"data\":[{\"type\":\"bar\",\"visible\":true},{\"type\":\"bar\",\"visible\":true},{\"type\":\"bar\",\"visible\":true},{\"type\":\"bar\",\"visible\":true},{\"type\":\"bar\",\"x\":[0.47],\"y\":[94.0]},{\"type\":\"bar\",\"x\":[0.47],\"y\":[106.0]},{\"type\":\"bar\",\"x\":[0.445],\"y\":[356.0]},{\"type\":\"bar\",\"x\":[0.445],\"y\":[443.99999999999994]},{\"type\":\"bar\",\"x\":[0.57],\"y\":[285.57]},{\"type\":\"bar\",\"x\":[0.57],\"y\":[215.43000000000004]},{\"type\":\"bar\",\"x\":[0.5299198396793587],\"y\":[264.43]},{\"type\":\"bar\",\"x\":[0.5299198396793587],\"y\":[234.57]}],\"layout\":{\"annotations\":[{\"align\":\"center\",\"showarrow\":false,\"text\":\"p<sub>A</sub> < p<sub>B</sub>\",\"x\":0.94,\"xref\":\"x2\",\"y\":850,\"yref\":\"y2\"},{\"align\":\"center\",\"font\":{\"color\":\"darkslategrey\"},\"showarrow\":false,\"text\":\"p<sub>Ar</sub> < p<sub>Br</sub>\",\"x\":0.94,\"xref\":\"x2\",\"y\":750,\"yref\":\"y2\"},{\"align\":\"center\",\"font\":{\"color\":\"darkslategrey\"},\"showarrow\":false,\"text\":\"p<sub>Al</sub> < p<sub>Bl</sub>\",\"x\":0.94,\"xref\":\"x2\",\"y\":650,\"yref\":\"y2\"}]},\"traces\":[0,1,2,3,4,5,6,7,8,9,10,11]},{\"data\":[{\"type\":\"bar\",\"visible\":true},{\"type\":\"bar\",\"visible\":true},{\"type\":\"bar\",\"visible\":true},{\"type\":\"bar\",\"visible\":true},{\"type\":\"bar\",\"x\":[0.47],\"y\":[94.0]},{\"type\":\"bar\",\"x\":[0.47],\"y\":[106.0]},{\"type\":\"bar\",\"x\":[0.445],\"y\":[356.0]},{\"type\":\"bar\",\"x\":[0.445],\"y\":[443.99999999999994]},{\"type\":\"bar\",\"x\":[0.57],\"y\":[285.0]},{\"type\":\"bar\",\"x\":[0.57],\"y\":[215.00000000000003]},{\"type\":\"bar\",\"x\":[0.53],\"y\":[265.0]},{\"type\":\"bar\",\"x\":[0.53],\"y\":[235.0]}],\"layout\":{\"annotations\":[{\"align\":\"center\",\"showarrow\":false,\"text\":\"p<sub>A</sub> < p<sub>B</sub>\",\"x\":0.94,\"xref\":\"x2\",\"y\":850,\"yref\":\"y2\"},{\"align\":\"center\",\"font\":{\"color\":\"darkslategrey\"},\"showarrow\":false,\"text\":\"p<sub>Ar</sub> < p<sub>Br</sub>\",\"x\":0.94,\"xref\":\"x2\",\"y\":750,\"yref\":\"y2\"},{\"align\":\"center\",\"font\":{\"color\":\"darkslategrey\"},\"showarrow\":false,\"text\":\"p<sub>Al</sub> < p<sub>Bl</sub>\",\"x\":0.94,\"xref\":\"x2\",\"y\":650,\"yref\":\"y2\"}]},\"traces\":[0,1,2,3,4,5,6,7,8,9,10,11]},{\"data\":[{\"type\":\"bar\",\"visible\":true},{\"type\":\"bar\",\"visible\":true},{\"type\":\"bar\",\"visible\":true},{\"type\":\"bar\",\"visible\":true},{\"type\":\"bar\",\"x\":[0.47],\"y\":[94.0]},{\"type\":\"bar\",\"x\":[0.47],\"y\":[106.0]},{\"type\":\"bar\",\"x\":[0.445],\"y\":[356.0]},{\"type\":\"bar\",\"x\":[0.445],\"y\":[443.99999999999994]},{\"type\":\"bar\",\"x\":[0.57],\"y\":[285.0]},{\"type\":\"bar\",\"x\":[0.57],\"y\":[215.00000000000003]},{\"type\":\"bar\",\"x\":[0.53],\"y\":[265.0]},{\"type\":\"bar\",\"x\":[0.53],\"y\":[235.0]}],\"layout\":{\"annotations\":[{\"align\":\"center\",\"showarrow\":false,\"text\":\"p<sub>A</sub> < p<sub>B</sub>\",\"x\":0.94,\"xref\":\"x2\",\"y\":850,\"yref\":\"y2\"},{\"align\":\"center\",\"font\":{\"color\":\"darkslategrey\"},\"showarrow\":false,\"text\":\"p<sub>Ar</sub> < p<sub>Br</sub>\",\"x\":0.94,\"xref\":\"x2\",\"y\":750,\"yref\":\"y2\"},{\"align\":\"center\",\"font\":{\"color\":\"darkslategrey\"},\"showarrow\":false,\"text\":\"p<sub>Al</sub> < p<sub>Bl</sub>\",\"x\":0.94,\"xref\":\"x2\",\"y\":650,\"yref\":\"y2\"}]},\"traces\":[0,1,2,3,4,5,6,7,8,9,10,11]},{\"data\":[{\"type\":\"bar\",\"visible\":true},{\"type\":\"bar\",\"visible\":true},{\"type\":\"bar\",\"visible\":true},{\"type\":\"bar\",\"visible\":true},{\"type\":\"bar\",\"x\":[0.47],\"y\":[94.0]},{\"type\":\"bar\",\"x\":[0.47],\"y\":[106.0]},{\"type\":\"bar\",\"x\":[0.445],\"y\":[356.0]},{\"type\":\"bar\",\"x\":[0.445],\"y\":[443.99999999999994]},{\"type\":\"bar\",\"x\":[0.57],\"y\":[285.0]},{\"type\":\"bar\",\"x\":[0.57],\"y\":[215.00000000000003]},{\"type\":\"bar\",\"x\":[0.53],\"y\":[265.0]},{\"type\":\"bar\",\"x\":[0.53],\"y\":[235.0]}],\"layout\":{\"annotations\":[{\"align\":\"center\",\"showarrow\":false,\"text\":\"p<sub>A</sub> < p<sub>B</sub>\",\"x\":0.94,\"xref\":\"x2\",\"y\":850,\"yref\":\"y2\"},{\"align\":\"center\",\"font\":{\"color\":\"darkslategrey\"},\"showarrow\":false,\"text\":\"p<sub>Ar</sub> < p<sub>Br</sub>\",\"x\":0.94,\"xref\":\"x2\",\"y\":750,\"yref\":\"y2\"},{\"align\":\"center\",\"font\":{\"color\":\"darkslategrey\"},\"showarrow\":false,\"text\":\"p<sub>Al</sub> < p<sub>Bl</sub>\",\"x\":0.94,\"xref\":\"x2\",\"y\":650,\"yref\":\"y2\"}]},\"traces\":[0,1,2,3,4,5,6,7,8,9,10,11]},{\"data\":[{\"type\":\"bar\",\"visible\":true},{\"type\":\"bar\",\"visible\":true},{\"type\":\"bar\",\"visible\":true},{\"type\":\"bar\",\"visible\":true},{\"type\":\"bar\",\"x\":[0.47],\"y\":[94.0]},{\"type\":\"bar\",\"x\":[0.47],\"y\":[106.0]},{\"type\":\"bar\",\"x\":[0.445],\"y\":[356.0]},{\"type\":\"bar\",\"x\":[0.445],\"y\":[443.99999999999994]},{\"type\":\"bar\",\"x\":[0.57],\"y\":[285.0]},{\"type\":\"bar\",\"x\":[0.57],\"y\":[215.00000000000003]},{\"type\":\"bar\",\"x\":[0.53],\"y\":[265.0]},{\"type\":\"bar\",\"x\":[0.53],\"y\":[235.0]}],\"layout\":{\"annotations\":[{\"align\":\"center\",\"showarrow\":false,\"text\":\"p<sub>A</sub> < p<sub>B</sub>\",\"x\":0.94,\"xref\":\"x2\",\"y\":850,\"yref\":\"y2\"},{\"align\":\"center\",\"font\":{\"color\":\"darkslategrey\"},\"showarrow\":false,\"text\":\"p<sub>Ar</sub> < p<sub>Br</sub>\",\"x\":0.94,\"xref\":\"x2\",\"y\":750,\"yref\":\"y2\"},{\"align\":\"center\",\"font\":{\"color\":\"darkslategrey\"},\"showarrow\":false,\"text\":\"p<sub>Al</sub> < p<sub>Bl</sub>\",\"x\":0.94,\"xref\":\"x2\",\"y\":650,\"yref\":\"y2\"}]},\"traces\":[0,1,2,3,4,5,6,7,8,9,10,11]},{\"data\":[{\"type\":\"bar\",\"visible\":true},{\"type\":\"bar\",\"visible\":true},{\"type\":\"bar\",\"visible\":true},{\"type\":\"bar\",\"visible\":true},{\"type\":\"bar\",\"x\":[0.47],\"y\":[103.39999999999999]},{\"type\":\"bar\",\"x\":[0.47],\"y\":[116.60000000000001]},{\"type\":\"bar\",\"x\":[0.44435897435897437],\"y\":[346.6]},{\"type\":\"bar\",\"x\":[0.44435897435897437],\"y\":[433.4]},{\"type\":\"bar\",\"x\":[0.57],\"y\":[285.0]},{\"type\":\"bar\",\"x\":[0.57],\"y\":[215.00000000000003]},{\"type\":\"bar\",\"x\":[0.53],\"y\":[265.0]},{\"type\":\"bar\",\"x\":[0.53],\"y\":[235.0]}],\"layout\":{\"annotations\":[{\"align\":\"center\",\"showarrow\":false,\"text\":\"p<sub>A</sub> < p<sub>B</sub>\",\"x\":0.94,\"xref\":\"x2\",\"y\":850,\"yref\":\"y2\"},{\"align\":\"center\",\"font\":{\"color\":\"darkslategrey\"},\"showarrow\":false,\"text\":\"p<sub>Ar</sub> < p<sub>Br</sub>\",\"x\":0.94,\"xref\":\"x2\",\"y\":750,\"yref\":\"y2\"},{\"align\":\"center\",\"font\":{\"color\":\"darkslategrey\"},\"showarrow\":false,\"text\":\"p<sub>Al</sub> < p<sub>Bl</sub>\",\"x\":0.94,\"xref\":\"x2\",\"y\":650,\"yref\":\"y2\"}]},\"traces\":[0,1,2,3,4,5,6,7,8,9,10,11]},{\"data\":[{\"type\":\"bar\",\"visible\":true},{\"type\":\"bar\",\"visible\":true},{\"type\":\"bar\",\"visible\":true},{\"type\":\"bar\",\"visible\":true},{\"type\":\"bar\",\"x\":[0.47],\"y\":[112.8]},{\"type\":\"bar\",\"x\":[0.47],\"y\":[127.2]},{\"type\":\"bar\",\"x\":[0.4436842105263158],\"y\":[337.2]},{\"type\":\"bar\",\"x\":[0.4436842105263158],\"y\":[422.8]},{\"type\":\"bar\",\"x\":[0.57],\"y\":[285.0]},{\"type\":\"bar\",\"x\":[0.57],\"y\":[215.00000000000003]},{\"type\":\"bar\",\"x\":[0.53],\"y\":[265.0]},{\"type\":\"bar\",\"x\":[0.53],\"y\":[235.0]}],\"layout\":{\"annotations\":[{\"align\":\"center\",\"showarrow\":false,\"text\":\"p<sub>A</sub> < p<sub>B</sub>\",\"x\":0.94,\"xref\":\"x2\",\"y\":850,\"yref\":\"y2\"},{\"align\":\"center\",\"font\":{\"color\":\"darkslategrey\"},\"showarrow\":false,\"text\":\"p<sub>Ar</sub> < p<sub>Br</sub>\",\"x\":0.94,\"xref\":\"x2\",\"y\":750,\"yref\":\"y2\"},{\"align\":\"center\",\"font\":{\"color\":\"darkslategrey\"},\"showarrow\":false,\"text\":\"p<sub>Al</sub> < p<sub>Bl</sub>\",\"x\":0.94,\"xref\":\"x2\",\"y\":650,\"yref\":\"y2\"}]},\"traces\":[0,1,2,3,4,5,6,7,8,9,10,11]},{\"data\":[{\"type\":\"bar\",\"visible\":true},{\"type\":\"bar\",\"visible\":true},{\"type\":\"bar\",\"visible\":true},{\"type\":\"bar\",\"visible\":true},{\"type\":\"bar\",\"x\":[0.47],\"y\":[122.19999999999999]},{\"type\":\"bar\",\"x\":[0.47],\"y\":[137.8]},{\"type\":\"bar\",\"x\":[0.442972972972973],\"y\":[327.8]},{\"type\":\"bar\",\"x\":[0.442972972972973],\"y\":[412.2]},{\"type\":\"bar\",\"x\":[0.57],\"y\":[285.0]},{\"type\":\"bar\",\"x\":[0.57],\"y\":[215.00000000000003]},{\"type\":\"bar\",\"x\":[0.53],\"y\":[265.0]},{\"type\":\"bar\",\"x\":[0.53],\"y\":[235.0]}],\"layout\":{\"annotations\":[{\"align\":\"center\",\"showarrow\":false,\"text\":\"p<sub>A</sub> < p<sub>B</sub>\",\"x\":0.94,\"xref\":\"x2\",\"y\":850,\"yref\":\"y2\"},{\"align\":\"center\",\"font\":{\"color\":\"darkslategrey\"},\"showarrow\":false,\"text\":\"p<sub>Ar</sub> < p<sub>Br</sub>\",\"x\":0.94,\"xref\":\"x2\",\"y\":750,\"yref\":\"y2\"},{\"align\":\"center\",\"font\":{\"color\":\"darkslategrey\"},\"showarrow\":false,\"text\":\"p<sub>Al</sub> < p<sub>Bl</sub>\",\"x\":0.94,\"xref\":\"x2\",\"y\":650,\"yref\":\"y2\"}]},\"traces\":[0,1,2,3,4,5,6,7,8,9,10,11]},{\"data\":[{\"type\":\"bar\",\"visible\":true},{\"type\":\"bar\",\"visible\":true},{\"type\":\"bar\",\"visible\":true},{\"type\":\"bar\",\"visible\":true},{\"type\":\"bar\",\"x\":[0.47],\"y\":[131.6]},{\"type\":\"bar\",\"x\":[0.47],\"y\":[148.4]},{\"type\":\"bar\",\"x\":[0.4422222222222222],\"y\":[318.4]},{\"type\":\"bar\",\"x\":[0.4422222222222222],\"y\":[401.6]},{\"type\":\"bar\",\"x\":[0.57],\"y\":[285.0]},{\"type\":\"bar\",\"x\":[0.57],\"y\":[215.00000000000003]},{\"type\":\"bar\",\"x\":[0.53],\"y\":[265.0]},{\"type\":\"bar\",\"x\":[0.53],\"y\":[235.0]}],\"layout\":{\"annotations\":[{\"align\":\"center\",\"showarrow\":false,\"text\":\"p<sub>A</sub> < p<sub>B</sub>\",\"x\":0.94,\"xref\":\"x2\",\"y\":850,\"yref\":\"y2\"},{\"align\":\"center\",\"font\":{\"color\":\"darkslategrey\"},\"showarrow\":false,\"text\":\"p<sub>Ar</sub> < p<sub>Br</sub>\",\"x\":0.94,\"xref\":\"x2\",\"y\":750,\"yref\":\"y2\"},{\"align\":\"center\",\"font\":{\"color\":\"darkslategrey\"},\"showarrow\":false,\"text\":\"p<sub>Al</sub> < p<sub>Bl</sub>\",\"x\":0.94,\"xref\":\"x2\",\"y\":650,\"yref\":\"y2\"}]},\"traces\":[0,1,2,3,4,5,6,7,8,9,10,11]},{\"data\":[{\"type\":\"bar\",\"visible\":true},{\"type\":\"bar\",\"visible\":true},{\"type\":\"bar\",\"visible\":true},{\"type\":\"bar\",\"visible\":true},{\"type\":\"bar\",\"x\":[0.47],\"y\":[141.0]},{\"type\":\"bar\",\"x\":[0.47],\"y\":[159.0]},{\"type\":\"bar\",\"x\":[0.44142857142857145],\"y\":[309.0]},{\"type\":\"bar\",\"x\":[0.44142857142857145],\"y\":[390.99999999999994]},{\"type\":\"bar\",\"x\":[0.57],\"y\":[285.0]},{\"type\":\"bar\",\"x\":[0.57],\"y\":[215.00000000000003]},{\"type\":\"bar\",\"x\":[0.53],\"y\":[265.0]},{\"type\":\"bar\",\"x\":[0.53],\"y\":[235.0]}],\"layout\":{\"annotations\":[{\"align\":\"center\",\"showarrow\":false,\"text\":\"p<sub>A</sub> < p<sub>B</sub>\",\"x\":0.94,\"xref\":\"x2\",\"y\":850,\"yref\":\"y2\"},{\"align\":\"center\",\"font\":{\"color\":\"darkslategrey\"},\"showarrow\":false,\"text\":\"p<sub>Ar</sub> < p<sub>Br</sub>\",\"x\":0.94,\"xref\":\"x2\",\"y\":750,\"yref\":\"y2\"},{\"align\":\"center\",\"font\":{\"color\":\"darkslategrey\"},\"showarrow\":false,\"text\":\"p<sub>Al</sub> < p<sub>Bl</sub>\",\"x\":0.94,\"xref\":\"x2\",\"y\":650,\"yref\":\"y2\"}]},\"traces\":[0,1,2,3,4,5,6,7,8,9,10,11]},{\"data\":[{\"type\":\"bar\",\"visible\":true},{\"type\":\"bar\",\"visible\":true},{\"type\":\"bar\",\"visible\":true},{\"type\":\"bar\",\"visible\":true},{\"type\":\"bar\",\"x\":[0.47],\"y\":[150.39999999999998]},{\"type\":\"bar\",\"x\":[0.47],\"y\":[169.60000000000002]},{\"type\":\"bar\",\"x\":[0.44058823529411767],\"y\":[299.6]},{\"type\":\"bar\",\"x\":[0.44058823529411767],\"y\":[380.3999999999999]},{\"type\":\"bar\",\"x\":[0.57],\"y\":[285.0]},{\"type\":\"bar\",\"x\":[0.57],\"y\":[215.00000000000003]},{\"type\":\"bar\",\"x\":[0.53],\"y\":[265.0]},{\"type\":\"bar\",\"x\":[0.53],\"y\":[235.0]}],\"layout\":{\"annotations\":[{\"align\":\"center\",\"showarrow\":false,\"text\":\"p<sub>A</sub> < p<sub>B</sub>\",\"x\":0.94,\"xref\":\"x2\",\"y\":850,\"yref\":\"y2\"},{\"align\":\"center\",\"font\":{\"color\":\"darkslategrey\"},\"showarrow\":false,\"text\":\"p<sub>Ar</sub> < p<sub>Br</sub>\",\"x\":0.94,\"xref\":\"x2\",\"y\":750,\"yref\":\"y2\"},{\"align\":\"center\",\"font\":{\"color\":\"darkslategrey\"},\"showarrow\":false,\"text\":\"p<sub>Al</sub> < p<sub>Bl</sub>\",\"x\":0.94,\"xref\":\"x2\",\"y\":650,\"yref\":\"y2\"}]},\"traces\":[0,1,2,3,4,5,6,7,8,9,10,11]},{\"data\":[{\"type\":\"bar\",\"visible\":true},{\"type\":\"bar\",\"visible\":true},{\"type\":\"bar\",\"visible\":true},{\"type\":\"bar\",\"visible\":true},{\"type\":\"bar\",\"x\":[0.47],\"y\":[159.79999999999998]},{\"type\":\"bar\",\"x\":[0.47],\"y\":[180.20000000000002]},{\"type\":\"bar\",\"x\":[0.43969696969696975],\"y\":[290.20000000000005]},{\"type\":\"bar\",\"x\":[0.43969696969696975],\"y\":[369.8]},{\"type\":\"bar\",\"x\":[0.57],\"y\":[285.0]},{\"type\":\"bar\",\"x\":[0.57],\"y\":[215.00000000000003]},{\"type\":\"bar\",\"x\":[0.53],\"y\":[265.0]},{\"type\":\"bar\",\"x\":[0.53],\"y\":[235.0]}],\"layout\":{\"annotations\":[{\"align\":\"center\",\"showarrow\":false,\"text\":\"p<sub>A</sub> < p<sub>B</sub>\",\"x\":0.94,\"xref\":\"x2\",\"y\":850,\"yref\":\"y2\"},{\"align\":\"center\",\"font\":{\"color\":\"darkslategrey\"},\"showarrow\":false,\"text\":\"p<sub>Ar</sub> < p<sub>Br</sub>\",\"x\":0.94,\"xref\":\"x2\",\"y\":750,\"yref\":\"y2\"},{\"align\":\"center\",\"font\":{\"color\":\"darkslategrey\"},\"showarrow\":false,\"text\":\"p<sub>Al</sub> < p<sub>Bl</sub>\",\"x\":0.94,\"xref\":\"x2\",\"y\":650,\"yref\":\"y2\"}]},\"traces\":[0,1,2,3,4,5,6,7,8,9,10,11]},{\"data\":[{\"type\":\"bar\",\"visible\":true},{\"type\":\"bar\",\"visible\":true},{\"type\":\"bar\",\"visible\":true},{\"type\":\"bar\",\"visible\":true},{\"type\":\"bar\",\"x\":[0.47],\"y\":[169.2]},{\"type\":\"bar\",\"x\":[0.47],\"y\":[190.8]},{\"type\":\"bar\",\"x\":[0.43875000000000003],\"y\":[280.8]},{\"type\":\"bar\",\"x\":[0.43875000000000003],\"y\":[359.20000000000005]},{\"type\":\"bar\",\"x\":[0.57],\"y\":[285.0]},{\"type\":\"bar\",\"x\":[0.57],\"y\":[215.00000000000003]},{\"type\":\"bar\",\"x\":[0.53],\"y\":[265.0]},{\"type\":\"bar\",\"x\":[0.53],\"y\":[235.0]}],\"layout\":{\"annotations\":[{\"align\":\"center\",\"showarrow\":false,\"text\":\"p<sub>A</sub> < p<sub>B</sub>\",\"x\":0.94,\"xref\":\"x2\",\"y\":850,\"yref\":\"y2\"},{\"align\":\"center\",\"font\":{\"color\":\"darkslategrey\"},\"showarrow\":false,\"text\":\"p<sub>Ar</sub> < p<sub>Br</sub>\",\"x\":0.94,\"xref\":\"x2\",\"y\":750,\"yref\":\"y2\"},{\"align\":\"center\",\"font\":{\"color\":\"darkslategrey\"},\"showarrow\":false,\"text\":\"p<sub>Al</sub> < p<sub>Bl</sub>\",\"x\":0.94,\"xref\":\"x2\",\"y\":650,\"yref\":\"y2\"}]},\"traces\":[0,1,2,3,4,5,6,7,8,9,10,11]},{\"data\":[{\"type\":\"bar\",\"visible\":true},{\"type\":\"bar\",\"visible\":true},{\"type\":\"bar\",\"visible\":true},{\"type\":\"bar\",\"visible\":true},{\"type\":\"bar\",\"x\":[0.47],\"y\":[178.6]},{\"type\":\"bar\",\"x\":[0.47],\"y\":[201.4]},{\"type\":\"bar\",\"x\":[0.4377419354838709],\"y\":[271.4]},{\"type\":\"bar\",\"x\":[0.4377419354838709],\"y\":[348.6]},{\"type\":\"bar\",\"x\":[0.57],\"y\":[285.0]},{\"type\":\"bar\",\"x\":[0.57],\"y\":[215.00000000000003]},{\"type\":\"bar\",\"x\":[0.53],\"y\":[265.0]},{\"type\":\"bar\",\"x\":[0.53],\"y\":[235.0]}],\"layout\":{\"annotations\":[{\"align\":\"center\",\"showarrow\":false,\"text\":\"p<sub>A</sub> < p<sub>B</sub>\",\"x\":0.94,\"xref\":\"x2\",\"y\":850,\"yref\":\"y2\"},{\"align\":\"center\",\"font\":{\"color\":\"darkslategrey\"},\"showarrow\":false,\"text\":\"p<sub>Ar</sub> < p<sub>Br</sub>\",\"x\":0.94,\"xref\":\"x2\",\"y\":750,\"yref\":\"y2\"},{\"align\":\"center\",\"font\":{\"color\":\"darkslategrey\"},\"showarrow\":false,\"text\":\"p<sub>Al</sub> < p<sub>Bl</sub>\",\"x\":0.94,\"xref\":\"x2\",\"y\":650,\"yref\":\"y2\"}]},\"traces\":[0,1,2,3,4,5,6,7,8,9,10,11]},{\"data\":[{\"type\":\"bar\",\"visible\":true},{\"type\":\"bar\",\"visible\":true},{\"type\":\"bar\",\"visible\":true},{\"type\":\"bar\",\"visible\":true},{\"type\":\"bar\",\"x\":[0.47],\"y\":[188.0]},{\"type\":\"bar\",\"x\":[0.47],\"y\":[212.0]},{\"type\":\"bar\",\"x\":[0.43666666666666665],\"y\":[262.0]},{\"type\":\"bar\",\"x\":[0.43666666666666665],\"y\":[338.0]},{\"type\":\"bar\",\"x\":[0.57],\"y\":[285.0]},{\"type\":\"bar\",\"x\":[0.57],\"y\":[215.00000000000003]},{\"type\":\"bar\",\"x\":[0.53],\"y\":[265.0]},{\"type\":\"bar\",\"x\":[0.53],\"y\":[235.0]}],\"layout\":{\"annotations\":[{\"align\":\"center\",\"showarrow\":false,\"text\":\"p<sub>A</sub> < p<sub>B</sub>\",\"x\":0.94,\"xref\":\"x2\",\"y\":850,\"yref\":\"y2\"},{\"align\":\"center\",\"font\":{\"color\":\"darkslategrey\"},\"showarrow\":false,\"text\":\"p<sub>Ar</sub> < p<sub>Br</sub>\",\"x\":0.94,\"xref\":\"x2\",\"y\":750,\"yref\":\"y2\"},{\"align\":\"center\",\"font\":{\"color\":\"darkslategrey\"},\"showarrow\":false,\"text\":\"p<sub>Al</sub> < p<sub>Bl</sub>\",\"x\":0.94,\"xref\":\"x2\",\"y\":650,\"yref\":\"y2\"}]},\"traces\":[0,1,2,3,4,5,6,7,8,9,10,11]},{\"data\":[{\"type\":\"bar\",\"visible\":true},{\"type\":\"bar\",\"visible\":true},{\"type\":\"bar\",\"visible\":true},{\"type\":\"bar\",\"visible\":true},{\"type\":\"bar\",\"x\":[0.47],\"y\":[197.39999999999998]},{\"type\":\"bar\",\"x\":[0.47],\"y\":[222.60000000000002]},{\"type\":\"bar\",\"x\":[0.43551724137931036],\"y\":[252.60000000000002]},{\"type\":\"bar\",\"x\":[0.43551724137931036],\"y\":[327.4]},{\"type\":\"bar\",\"x\":[0.57],\"y\":[285.0]},{\"type\":\"bar\",\"x\":[0.57],\"y\":[215.00000000000003]},{\"type\":\"bar\",\"x\":[0.53],\"y\":[265.0]},{\"type\":\"bar\",\"x\":[0.53],\"y\":[235.0]}],\"layout\":{\"annotations\":[{\"align\":\"center\",\"showarrow\":false,\"text\":\"p<sub>A</sub> < p<sub>B</sub>\",\"x\":0.94,\"xref\":\"x2\",\"y\":850,\"yref\":\"y2\"},{\"align\":\"center\",\"font\":{\"color\":\"darkslategrey\"},\"showarrow\":false,\"text\":\"p<sub>Ar</sub> < p<sub>Br</sub>\",\"x\":0.94,\"xref\":\"x2\",\"y\":750,\"yref\":\"y2\"},{\"align\":\"center\",\"font\":{\"color\":\"darkslategrey\"},\"showarrow\":false,\"text\":\"p<sub>Al</sub> < p<sub>Bl</sub>\",\"x\":0.94,\"xref\":\"x2\",\"y\":650,\"yref\":\"y2\"}]},\"traces\":[0,1,2,3,4,5,6,7,8,9,10,11]},{\"data\":[{\"type\":\"bar\",\"visible\":true},{\"type\":\"bar\",\"visible\":true},{\"type\":\"bar\",\"visible\":true},{\"type\":\"bar\",\"visible\":true},{\"type\":\"bar\",\"x\":[0.47],\"y\":[206.79999999999998]},{\"type\":\"bar\",\"x\":[0.47],\"y\":[233.20000000000002]},{\"type\":\"bar\",\"x\":[0.43428571428571433],\"y\":[243.20000000000002]},{\"type\":\"bar\",\"x\":[0.43428571428571433],\"y\":[316.79999999999995]},{\"type\":\"bar\",\"x\":[0.57],\"y\":[285.0]},{\"type\":\"bar\",\"x\":[0.57],\"y\":[215.00000000000003]},{\"type\":\"bar\",\"x\":[0.53],\"y\":[265.0]},{\"type\":\"bar\",\"x\":[0.53],\"y\":[235.0]}],\"layout\":{\"annotations\":[{\"align\":\"center\",\"showarrow\":false,\"text\":\"p<sub>A</sub> < p<sub>B</sub>\",\"x\":0.94,\"xref\":\"x2\",\"y\":850,\"yref\":\"y2\"},{\"align\":\"center\",\"font\":{\"color\":\"darkslategrey\"},\"showarrow\":false,\"text\":\"p<sub>Ar</sub> < p<sub>Br</sub>\",\"x\":0.94,\"xref\":\"x2\",\"y\":750,\"yref\":\"y2\"},{\"align\":\"center\",\"font\":{\"color\":\"darkslategrey\"},\"showarrow\":false,\"text\":\"p<sub>Al</sub> < p<sub>Bl</sub>\",\"x\":0.94,\"xref\":\"x2\",\"y\":650,\"yref\":\"y2\"}]},\"traces\":[0,1,2,3,4,5,6,7,8,9,10,11]},{\"data\":[{\"type\":\"bar\",\"visible\":true},{\"type\":\"bar\",\"visible\":true},{\"type\":\"bar\",\"visible\":true},{\"type\":\"bar\",\"visible\":true},{\"type\":\"bar\",\"x\":[0.47],\"y\":[216.2]},{\"type\":\"bar\",\"x\":[0.47],\"y\":[243.8]},{\"type\":\"bar\",\"x\":[0.432962962962963],\"y\":[233.8]},{\"type\":\"bar\",\"x\":[0.432962962962963],\"y\":[306.2]},{\"type\":\"bar\",\"x\":[0.57],\"y\":[285.0]},{\"type\":\"bar\",\"x\":[0.57],\"y\":[215.00000000000003]},{\"type\":\"bar\",\"x\":[0.53],\"y\":[265.0]},{\"type\":\"bar\",\"x\":[0.53],\"y\":[235.0]}],\"layout\":{\"annotations\":[{\"align\":\"center\",\"showarrow\":false,\"text\":\"p<sub>A</sub> < p<sub>B</sub>\",\"x\":0.94,\"xref\":\"x2\",\"y\":850,\"yref\":\"y2\"},{\"align\":\"center\",\"font\":{\"color\":\"darkslategrey\"},\"showarrow\":false,\"text\":\"p<sub>Ar</sub> < p<sub>Br</sub>\",\"x\":0.94,\"xref\":\"x2\",\"y\":750,\"yref\":\"y2\"},{\"align\":\"center\",\"font\":{\"color\":\"darkslategrey\"},\"showarrow\":false,\"text\":\"p<sub>Al</sub> < p<sub>Bl</sub>\",\"x\":0.94,\"xref\":\"x2\",\"y\":650,\"yref\":\"y2\"}]},\"traces\":[0,1,2,3,4,5,6,7,8,9,10,11]},{\"data\":[{\"type\":\"bar\",\"visible\":true},{\"type\":\"bar\",\"visible\":true},{\"type\":\"bar\",\"visible\":true},{\"type\":\"bar\",\"visible\":true},{\"type\":\"bar\",\"x\":[0.47],\"y\":[225.6]},{\"type\":\"bar\",\"x\":[0.47],\"y\":[254.4]},{\"type\":\"bar\",\"x\":[0.43153846153846154],\"y\":[224.4]},{\"type\":\"bar\",\"x\":[0.43153846153846154],\"y\":[295.6]},{\"type\":\"bar\",\"x\":[0.57],\"y\":[285.0]},{\"type\":\"bar\",\"x\":[0.57],\"y\":[215.00000000000003]},{\"type\":\"bar\",\"x\":[0.53],\"y\":[265.0]},{\"type\":\"bar\",\"x\":[0.53],\"y\":[235.0]}],\"layout\":{\"annotations\":[{\"align\":\"center\",\"showarrow\":false,\"text\":\"p<sub>A</sub> < p<sub>B</sub>\",\"x\":0.94,\"xref\":\"x2\",\"y\":850,\"yref\":\"y2\"},{\"align\":\"center\",\"font\":{\"color\":\"darkslategrey\"},\"showarrow\":false,\"text\":\"p<sub>Ar</sub> < p<sub>Br</sub>\",\"x\":0.94,\"xref\":\"x2\",\"y\":750,\"yref\":\"y2\"},{\"align\":\"center\",\"font\":{\"color\":\"darkslategrey\"},\"showarrow\":false,\"text\":\"p<sub>Al</sub> < p<sub>Bl</sub>\",\"x\":0.94,\"xref\":\"x2\",\"y\":650,\"yref\":\"y2\"}]},\"traces\":[0,1,2,3,4,5,6,7,8,9,10,11]},{\"data\":[{\"type\":\"bar\",\"visible\":true},{\"type\":\"bar\",\"visible\":true},{\"type\":\"bar\",\"visible\":true},{\"type\":\"bar\",\"visible\":true},{\"type\":\"bar\",\"x\":[0.47],\"y\":[235.0]},{\"type\":\"bar\",\"x\":[0.47],\"y\":[265.0]},{\"type\":\"bar\",\"x\":[0.43],\"y\":[215.0]},{\"type\":\"bar\",\"x\":[0.43],\"y\":[285.00000000000006]},{\"type\":\"bar\",\"x\":[0.57],\"y\":[285.0]},{\"type\":\"bar\",\"x\":[0.57],\"y\":[215.00000000000003]},{\"type\":\"bar\",\"x\":[0.53],\"y\":[265.0]},{\"type\":\"bar\",\"x\":[0.53],\"y\":[235.0]}],\"layout\":{\"annotations\":[{\"align\":\"center\",\"showarrow\":false,\"text\":\"p<sub>A</sub> < p<sub>B</sub>\",\"x\":0.94,\"xref\":\"x2\",\"y\":850,\"yref\":\"y2\"},{\"align\":\"center\",\"font\":{\"color\":\"darkslategrey\"},\"showarrow\":false,\"text\":\"p<sub>Ar</sub> < p<sub>Br</sub>\",\"x\":0.94,\"xref\":\"x2\",\"y\":750,\"yref\":\"y2\"},{\"align\":\"center\",\"font\":{\"color\":\"darkslategrey\"},\"showarrow\":false,\"text\":\"p<sub>Al</sub> < p<sub>Bl</sub>\",\"x\":0.94,\"xref\":\"x2\",\"y\":650,\"yref\":\"y2\"}]},\"traces\":[0,1,2,3,4,5,6,7,8,9,10,11]}]);\n",
       "                        }).then(function(){\n",
       "                            \n",
       "var gd = document.getElementById('b147a64c-5a5d-400f-9f45-dca80703ae04');\n",
       "var x = new MutationObserver(function (mutations, observer) {{\n",
       "        var display = window.getComputedStyle(gd).display;\n",
       "        if (!display || display === 'none') {{\n",
       "            console.log([gd, 'removed!']);\n",
       "            Plotly.purge(gd);\n",
       "            observer.disconnect();\n",
       "        }}\n",
       "}});\n",
       "\n",
       "// Listen for the removal of the full notebook cells\n",
       "var notebookContainer = gd.closest('#notebook-container');\n",
       "if (notebookContainer) {{\n",
       "    x.observe(notebookContainer, {childList: true});\n",
       "}}\n",
       "\n",
       "// Listen for the clearing of the current output cell\n",
       "var outputEl = gd.closest('.output');\n",
       "if (outputEl) {{\n",
       "    x.observe(outputEl, {childList: true});\n",
       "}}\n",
       "\n",
       "                        })                };                });            </script>        </div>"
      ]
     },
     "metadata": {},
     "output_type": "display_data"
    }
   ],
   "source": [
    "p_ar, n_ar, p_al, n_al, p_br, n_br, p_bl, n_bl = frames[0]\n",
    "\n",
    "fig = make_subplots(\n",
    "    rows=2, cols=1,\n",
    "    vertical_spacing=0.051\n",
    ")\n",
    "\n",
    "fig.add_trace(go.Bar(x=[p_a], y=[p_a * n_a], width=0.01, name='A, Al, Ar', marker_color='red'), row=1, col=1)\n",
    "fig.add_trace(go.Bar(x=[p_b], y=[p_b * n_b], width=0.01, name='B, Bl, Br', marker_color='blue'), row=1, col=1)\n",
    "fig.add_trace(go.Bar(x=[p_a], y=[(1 - p_a) * n_a], width=0.01, name='Not Converted', marker_color='whitesmoke'), row=1, col=1)\n",
    "fig.add_trace(go.Bar(x=[p_b], y=[(1 - p_b) * n_b], width=0.01, name='Not Converted', showlegend=False, marker_color='whitesmoke'), row=1, col=1)\n",
    "fig.add_trace(go.Bar(x=[p_ar], y=[p_ar * n_ar], width=0.005, name='Ar', showlegend=False, marker_color='red'), row=2, col=1)\n",
    "fig.add_trace(go.Bar(x=[p_ar], y=[(1 - p_ar) * n_ar], width=0.005, name='Not Converted', showlegend=False, marker_color='whitesmoke'), row=2, col=1)\n",
    "fig.add_trace(go.Bar(x=[p_al], y=[p_al * n_al], width=0.005, name='Al', showlegend=False, marker_color='red'), row=2, col=1)\n",
    "fig.add_trace(go.Bar(x=[p_al], y=[(1 - p_al) * n_al], width=0.005, name='Not Converted', showlegend=False, marker_color='whitesmoke'), row=2, col=1)\n",
    "fig.add_trace(go.Bar(x=[p_br], y=[p_br * n_br], width=0.005, name='Br', showlegend=False, marker_color='blue'), row=2, col=1)\n",
    "fig.add_trace(go.Bar(x=[p_br], y=[(1 - p_br) * n_br], width=0.005, name='Not Converted', showlegend=False, marker_color='whitesmoke'), row=2, col=1)\n",
    "fig.add_trace(go.Bar(x=[p_bl], y=[p_bl * n_bl], width=0.005, name='Bl', showlegend=False, marker_color='blue'), row=2, col=1)\n",
    "fig.add_trace(go.Bar(x=[p_bl], y=[(1 - p_bl) * n_bl], width=0.005, name='Not Converted', showlegend=False, marker_color='whitesmoke'), row=2, col=1)\n",
    "fig.update_layout(barmode='stack')\n",
    "fig.update_layout(legend_traceorder='normal')\n",
    "\n",
    "antext = f\"p<sub>A</sub> {'>' if p_a > p_b else '<'} p<sub>B</sub>\"\n",
    "antext_r = f\"p<sub>Ar</sub> {'>' if p_ar > p_br else '<'} p<sub>Br</sub>\"\n",
    "anc_r = 'red' if p_ar > p_br else 'darkslategrey'\n",
    "antext_l = f\"p<sub>Al</sub> {'>' if p_al > p_bl else '<'} p<sub>Bl</sub>\"\n",
    "anc_l = 'red' if p_al > p_bl else 'darkslategrey'\n",
    "fig.add_annotation(x=0.94, y=850,\n",
    "                   xref='x2', yref='y2',\n",
    "                   text=antext,\n",
    "                   align='center',\n",
    "                   showarrow=False)\n",
    "fig.add_annotation(x=0.94, y=750,\n",
    "                   xref='x2', yref='y2',\n",
    "                   text=antext_r,\n",
    "                   font_color=anc_r,\n",
    "                   align='center',\n",
    "                   showarrow=False)\n",
    "fig.add_annotation(x=0.94, y=650,\n",
    "                   xref='x2', yref='y2',\n",
    "                   text=antext_l,\n",
    "                   font_color=anc_l,\n",
    "                   align='center',\n",
    "                   showarrow=False)\n",
    "\n",
    "fig_frames = []\n",
    "for (p_ar, n_ar, p_al, n_al, p_br, n_br, p_bl, n_bl) in frames:\n",
    "    antext = f\"p<sub>A</sub> {'>' if p_a > p_b else '<'} p<sub>B</sub>\"\n",
    "    antext_r = f\"p<sub>Ar</sub> {'>' if p_ar > p_br else '<'} p<sub>Br</sub>\"\n",
    "    anc_r = 'red' if p_ar > p_br else 'darkslategrey'\n",
    "    antext_l = f\"p<sub>Al</sub> {'>' if p_al > p_bl else '<'} p<sub>Bl</sub>\"\n",
    "    anc_l = 'red' if p_al > p_bl else 'darkslategrey'\n",
    "\n",
    "    layout_i = go.Layout(annotations=[\n",
    "        go.layout.Annotation(x=0.94, y=850,\n",
    "                             xref='x2', yref='y2',\n",
    "                             text=antext,\n",
    "                             align='center',\n",
    "                             showarrow=False),\n",
    "        go.layout.Annotation(x=0.94, y=750,\n",
    "                             xref='x2', yref='y2',\n",
    "                             text=antext_r,\n",
    "                             font_color=anc_r,\n",
    "                             align='center',\n",
    "                             showarrow=False),\n",
    "        go.layout.Annotation(x=0.94, y=650,\n",
    "                             xref='x2', yref='y2',\n",
    "                             text=antext_l,\n",
    "                             font_color=anc_l,\n",
    "                             align='center',\n",
    "                             showarrow=False)\n",
    "    ])\n",
    "\n",
    "    fig_frames.append(go.Frame(data=[go.Bar(visible=True),\n",
    "                                     go.Bar(visible=True),\n",
    "                                     go.Bar(visible=True),\n",
    "                                     go.Bar(visible=True),\n",
    "                                     go.Bar(x=[p_ar], y=[p_ar * n_ar]),\n",
    "                                     go.Bar(x=[p_ar], y=[(1 - p_ar) * n_ar]),\n",
    "                                     go.Bar(x=[p_al], y=[p_al * n_al]),\n",
    "                                     go.Bar(x=[p_al], y=[(1 - p_al) * n_al]),\n",
    "                                     go.Bar(x=[p_br], y=[p_br * n_br]),\n",
    "                                     go.Bar(x=[p_br], y=[(1 - p_br) * n_br]),\n",
    "                                     go.Bar(x=[p_bl], y=[p_bl * n_bl]),\n",
    "                                     go.Bar(x=[p_bl], y=[(1 - p_bl) * n_bl])],\n",
    "                               traces=[0,1,2,3,4,5,6,7,8,9,10,11],\n",
    "                               layout=layout_i))\n",
    "\n",
    "fig.frames=fig_frames\n",
    "button = dict(\n",
    "             label='Play',\n",
    "             method='animate',\n",
    "             args=[None, dict(frame=dict(duration=50, redraw=False), \n",
    "                              transition=dict(duration=0),\n",
    "                              fromcurrent=True,\n",
    "                              mode='immediate')])\n",
    "fig.update_layout(updatemenus=[dict(type='buttons',\n",
    "                              showactive=False,\n",
    "                              y=0,\n",
    "                              x=1.05,\n",
    "                              xanchor='left',\n",
    "                              yanchor='bottom',\n",
    "                              buttons=[button])])\n",
    "\n",
    "fig.update_layout(xaxis_range=[0,1],\n",
    "                  xaxis2_range=[0,1],\n",
    "                  yaxis_range=[0,1100],\n",
    "                  yaxis2_range=[0,1000],\n",
    "                  xaxis2_title='p',\n",
    "                  yaxis_title='N',\n",
    "                  yaxis2_title='N',\n",
    "                  height=600)"
   ]
  },
  {
   "cell_type": "code",
   "execution_count": null,
   "metadata": {},
   "outputs": [],
   "source": []
  },
  {
   "cell_type": "code",
   "execution_count": null,
   "metadata": {},
   "outputs": [],
   "source": []
  }
 ],
 "metadata": {
  "kernelspec": {
   "display_name": "Python 3",
   "language": "python",
   "name": "python3"
  },
  "language_info": {
   "codemirror_mode": {
    "name": "ipython",
    "version": 3
   },
   "file_extension": ".py",
   "mimetype": "text/x-python",
   "name": "python",
   "nbconvert_exporter": "python",
   "pygments_lexer": "ipython3",
   "version": "3.7.3"
  }
 },
 "nbformat": 4,
 "nbformat_minor": 4
}
